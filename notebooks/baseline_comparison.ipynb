{
 "cells": [
  {
   "cell_type": "code",
   "execution_count": 1,
   "id": "22da71f0",
   "metadata": {
    "scrolled": false
   },
   "outputs": [
    {
     "name": "stdout",
     "output_type": "stream",
     "text": [
      "/rds/user/am3052/hpc-work/thesis/elk/elk/utils/gpu_utils.py:77: UserWarning: Smart GPU selection not supported when CUDA_VISIBLE_DEVICES is set. Will use all visible devices.\n",
      "  warnings.warn(\n",
      "\u001b[36mimdb\u001b[0m using 'train' for training and 'test' for validation\n",
      "Found cached dataset generator (/home/am3052/.cache/huggingface/datasets/generator/default-267ed79ee8b46ace/0.0.0)\n",
      "Downloading and preparing dataset generator/default to /home/am3052/.cache/huggingface/datasets/generator/default-27378eaa5823211a/0.0.0...\n",
      "Generating test split:   0%|                    | 0/1000 [00:00<?, ? examples/s]Weights seem to be fp32, but bf16 is available. Loading in bf16.\n",
      "Model has language model head, will store predictions.\n",
      "Found cached dataset imdb (/home/am3052/.cache/huggingface/datasets/imdb/plain_text/1.0.0/d613c88cf8fa3bab83b4ded3713f1f74830d1100e171db75bbddb80b3345c9c0)\n",
      "\n",
      "  0%|                                                     | 0/3 [00:00<?, ?it/s]\u001b[A\n",
      "100%|█████████████████████████████████████████████| 3/3 [00:00<00:00, 12.38it/s]\u001b[A\n",
      "Loading cached shuffled indices for dataset at /home/am3052/.cache/huggingface/datasets/imdb/plain_text/1.0.0/d613c88cf8fa3bab83b4ded3713f1f74830d1100e171db75bbddb80b3345c9c0/cache-c1eaa46e94dfbfd3.arrow\n",
      "Using 13 variants of each prompt\n",
      "OSError: [Errno 28] No space left on device                                     \n",
      "\n",
      "During handling of the above exception, another exception occurred:\n",
      "\n",
      "Traceback (most recent call last):\n",
      "  File \"/home/am3052/.conda/envs/elk/lib/python3.10/site-packages/datasets/builder.py\", line 1635, in _prepare_split_single\n",
      "    num_examples, num_bytes = writer.finalize()\n",
      "  File \"/home/am3052/.conda/envs/elk/lib/python3.10/site-packages/datasets/arrow_writer.py\", line 590, in finalize\n",
      "    self.stream.close()\n",
      "  File \"/home/am3052/.conda/envs/elk/lib/python3.10/site-packages/fsspec/implementations/local.py\", line 399, in close\n",
      "    return self.f.close()\n",
      "OSError: [Errno 28] No space left on device\n",
      "\n",
      "The above exception was the direct cause of the following exception:\n",
      "\n",
      "Traceback (most recent call last):\n",
      "  File \"/home/am3052/.conda/envs/elk/bin/elk\", line 8, in <module>\n",
      "    sys.exit(run())\n",
      "  File \"/rds/user/am3052/hpc-work/thesis/elk/elk/__main__.py\", line 27, in run\n",
      "    run.execute()\n",
      "  File \"/rds/user/am3052/hpc-work/thesis/elk/elk/__main__.py\", line 19, in execute\n",
      "    return self.command.execute()\n",
      "  File \"/rds/user/am3052/hpc-work/thesis/elk/elk/run.py\", line 58, in execute\n",
      "    self.datasets = [\n",
      "  File \"/rds/user/am3052/hpc-work/thesis/elk/elk/run.py\", line 59, in <listcomp>\n",
      "    extract(\n",
      "  File \"/rds/user/am3052/hpc-work/thesis/elk/elk/extraction/extraction.py\", line 463, in extract\n",
      "    builder.download_and_prepare(\n",
      "  File \"/home/am3052/.conda/envs/elk/lib/python3.10/site-packages/datasets/builder.py\", line 890, in download_and_prepare\n",
      "    self._download_and_prepare(\n",
      "  File \"/home/am3052/.conda/envs/elk/lib/python3.10/site-packages/datasets/builder.py\", line 1649, in _download_and_prepare\n",
      "    super()._download_and_prepare(\n",
      "  File \"/home/am3052/.conda/envs/elk/lib/python3.10/site-packages/datasets/builder.py\", line 985, in _download_and_prepare\n",
      "    self._prepare_split(split_generator, **prepare_split_kwargs)\n",
      "  File \"/home/am3052/.conda/envs/elk/lib/python3.10/site-packages/datasets/builder.py\", line 1487, in _prepare_split\n",
      "    for job_id, done, content in self._prepare_split_single(\n",
      "  File \"/home/am3052/.conda/envs/elk/lib/python3.10/site-packages/datasets/builder.py\", line 1644, in _prepare_split_single\n",
      "    raise DatasetGenerationError(\"An error occurred while generating the dataset\") from e\n",
      "datasets.builder.DatasetGenerationError: An error occurred while generating the dataset\n"
     ]
    }
   ],
   "source": [
    "!cd elk\n",
    "!elk elicit EleutherAI/gpt-j-6b imdb"
   ]
  },
  {
   "cell_type": "code",
   "execution_count": null,
   "id": "84dd8599",
   "metadata": {},
   "outputs": [],
   "source": []
  }
 ],
 "metadata": {
  "kernelspec": {
   "display_name": "Python 3 (ipykernel)",
   "language": "python",
   "name": "python3"
  },
  "language_info": {
   "codemirror_mode": {
    "name": "ipython",
    "version": 3
   },
   "file_extension": ".py",
   "mimetype": "text/x-python",
   "name": "python",
   "nbconvert_exporter": "python",
   "pygments_lexer": "ipython3",
   "version": "3.10.4"
  }
 },
 "nbformat": 4,
 "nbformat_minor": 5
}
