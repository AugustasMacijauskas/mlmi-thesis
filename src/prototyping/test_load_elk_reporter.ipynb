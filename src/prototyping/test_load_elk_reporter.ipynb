{
 "cells": [
  {
   "cell_type": "code",
   "execution_count": 1,
   "metadata": {},
   "outputs": [],
   "source": [
    "%load_ext autoreload\n",
    "%autoreload 2"
   ]
  },
  {
   "attachments": {},
   "cell_type": "markdown",
   "metadata": {},
   "source": [
    "## Imports\n"
   ]
  },
  {
   "cell_type": "code",
   "execution_count": 2,
   "metadata": {},
   "outputs": [],
   "source": [
    "from pathlib import Path\n",
    "\n",
    "import torch"
   ]
  },
  {
   "cell_type": "code",
   "execution_count": 21,
   "metadata": {},
   "outputs": [
    {
     "data": {
      "text/plain": [
       "PosixPath('../../../elk-reporters/gpt2/imdb/gracious-jennings')"
      ]
     },
     "execution_count": 21,
     "metadata": {},
     "output_type": "execute_result"
    }
   ],
   "source": [
    "DATA_DIR = Path(\"../../../elk-reporters/gpt2/imdb/gracious-jennings/\")\n",
    "DATA_DIR"
   ]
  },
  {
   "cell_type": "code",
   "execution_count": 22,
   "metadata": {},
   "outputs": [
    {
     "name": "stdout",
     "output_type": "stream",
     "text": [
      "cfg.yaml  fingerprints.yaml  lr_eval.csv  reporters\t  train_lm_eval.csv\n",
      "eval.csv  lm_eval.csv\t     lr_models\t  train_eval.csv\n"
     ]
    }
   ],
   "source": [
    "!ls {DATA_DIR}"
   ]
  },
  {
   "attachments": {},
   "cell_type": "markdown",
   "metadata": {},
   "source": [
    "## Load VINC model"
   ]
  },
  {
   "cell_type": "code",
   "execution_count": 23,
   "metadata": {},
   "outputs": [
    {
     "data": {
      "text/plain": [
       "(1,\n",
       " [PosixPath('../../../elk-reporters/gpt2/imdb/gracious-jennings/reporters/layer_12.pt')])"
      ]
     },
     "execution_count": 23,
     "metadata": {},
     "output_type": "execute_result"
    }
   ],
   "source": [
    "files = [f for f in (DATA_DIR / \"reporters\").iterdir() if f.suffix == \".pt\"]\n",
    "files = sorted(files, key=lambda x: int(x.stem.split(\"_\")[-1]))\n",
    "len(files), files[:5]"
   ]
  },
  {
   "cell_type": "code",
   "execution_count": 24,
   "metadata": {},
   "outputs": [
    {
     "name": "stdout",
     "output_type": "stream",
     "text": [
      "layer_12.pt\n",
      "2\n",
      "768\n",
      "bias torch.Size([1])\n",
      "scale torch.Size([1])\n",
      "weight torch.Size([1, 768])\n",
      "norm.mean_x torch.Size([768])\n",
      "norm.mean_y torch.Size([2])\n",
      "norm.xcov_M2 torch.Size([768, 2])\n",
      "norm.n torch.Size([])\n",
      "-------------\n",
      "\n"
     ]
    }
   ],
   "source": [
    "for f in files[:2]:\n",
    "    print(f.name)\n",
    "    tns = torch.load(f)\n",
    "    print(tns[\"num_classes\"])\n",
    "    print(tns[\"in_features\"])\n",
    "\n",
    "    for k, v in tns.items():\n",
    "        if isinstance(v, torch.Tensor):\n",
    "            print(k, v.shape)\n",
    "    \n",
    "    print(\"-------------\\n\")"
   ]
  },
  {
   "attachments": {},
   "cell_type": "markdown",
   "metadata": {},
   "source": [
    "## Try and load a VINC probe"
   ]
  },
  {
   "cell_type": "code",
   "execution_count": 25,
   "metadata": {},
   "outputs": [
    {
     "data": {
      "text/plain": [
       "PosixPath('/rds/user/am3052/hpc-work/elk')"
      ]
     },
     "execution_count": 25,
     "metadata": {},
     "output_type": "execute_result"
    }
   ],
   "source": [
    "ELK_PATH = Path(\"../../../elk/\")\n",
    "ELK_PATH.resolve()"
   ]
  },
  {
   "cell_type": "code",
   "execution_count": 26,
   "metadata": {},
   "outputs": [
    {
     "data": {
      "text/plain": [
       "['/rds/user/am3052/hpc-work/elk/elk/training',\n",
       " '/rds/user/am3052/hpc-work/elk',\n",
       " '/rds/user/am3052/hpc-work/elk-rlhf/elk/elk/training',\n",
       " '/rds/user/am3052/hpc-work/elk-rlhf/elk',\n",
       " '/rds/user/am3052/hpc-work/elk-rlhf/src/prototyping',\n",
       " '/home/am3052/.conda/envs/elk/lib/python310.zip',\n",
       " '/home/am3052/.conda/envs/elk/lib/python3.10',\n",
       " '/home/am3052/.conda/envs/elk/lib/python3.10/lib-dynload',\n",
       " '',\n",
       " '/home/am3052/.conda/envs/elk/lib/python3.10/site-packages',\n",
       " '__editable__.eleuther_elk-0.1.1.finder.__path_hook__']"
      ]
     },
     "execution_count": 26,
     "metadata": {},
     "output_type": "execute_result"
    }
   ],
   "source": [
    "import sys\n",
    "sys.path"
   ]
  },
  {
   "cell_type": "code",
   "execution_count": 27,
   "metadata": {},
   "outputs": [
    {
     "data": {
      "text/plain": [
       "['/rds/user/am3052/hpc-work/elk/elk/training',\n",
       " '/rds/user/am3052/hpc-work/elk',\n",
       " '/rds/user/am3052/hpc-work/elk/elk/training',\n",
       " '/rds/user/am3052/hpc-work/elk',\n",
       " '/rds/user/am3052/hpc-work/elk-rlhf/elk/elk/training',\n",
       " '/rds/user/am3052/hpc-work/elk-rlhf/elk',\n",
       " '/rds/user/am3052/hpc-work/elk-rlhf/src/prototyping',\n",
       " '/home/am3052/.conda/envs/elk/lib/python310.zip',\n",
       " '/home/am3052/.conda/envs/elk/lib/python3.10',\n",
       " '/home/am3052/.conda/envs/elk/lib/python3.10/lib-dynload',\n",
       " '',\n",
       " '/home/am3052/.conda/envs/elk/lib/python3.10/site-packages',\n",
       " '__editable__.eleuther_elk-0.1.1.finder.__path_hook__']"
      ]
     },
     "execution_count": 27,
     "metadata": {},
     "output_type": "execute_result"
    }
   ],
   "source": [
    "modules = [ELK_PATH, ELK_PATH / \"elk\" / \"training\"]\n",
    "\n",
    "for module in modules:\n",
    "    if not str(module) in sys.path:\n",
    "        sys.path.insert(0, str(module.resolve()))\n",
    "\n",
    "sys.path"
   ]
  },
  {
   "cell_type": "code",
   "execution_count": 28,
   "metadata": {},
   "outputs": [],
   "source": [
    "from reporter import Reporter"
   ]
  },
  {
   "cell_type": "code",
   "execution_count": 29,
   "metadata": {},
   "outputs": [
    {
     "data": {
      "text/plain": [
       "PosixPath('/rds/user/am3052/hpc-work/elk-reporters/gpt2/imdb/gracious-jennings/reporters/layer_12.pt')"
      ]
     },
     "execution_count": 29,
     "metadata": {},
     "output_type": "execute_result"
    }
   ],
   "source": [
    "reporter_path = files[-1]\n",
    "reporter_path.resolve()"
   ]
  },
  {
   "cell_type": "code",
   "execution_count": 30,
   "metadata": {},
   "outputs": [
    {
     "data": {
      "text/plain": [
       "EigenReporter(\n",
       "  (norm): ConceptEraser()\n",
       ")"
      ]
     },
     "execution_count": 30,
     "metadata": {},
     "output_type": "execute_result"
    }
   ],
   "source": [
    "reporter = Reporter.load(reporter_path)\n",
    "reporter"
   ]
  },
  {
   "cell_type": "code",
   "execution_count": 31,
   "metadata": {},
   "outputs": [
    {
     "data": {
      "text/plain": [
       "torch.Size([1, 768])"
      ]
     },
     "execution_count": 31,
     "metadata": {},
     "output_type": "execute_result"
    }
   ],
   "source": [
    "reporter.weight.shape"
   ]
  },
  {
   "cell_type": "code",
   "execution_count": 32,
   "metadata": {},
   "outputs": [
    {
     "data": {
      "text/plain": [
       "(Parameter containing:\n",
       " tensor([5.9876], requires_grad=True),\n",
       " Parameter containing:\n",
       " tensor([-0.0002], requires_grad=True))"
      ]
     },
     "execution_count": 32,
     "metadata": {},
     "output_type": "execute_result"
    }
   ],
   "source": [
    "reporter.scale, reporter.bias"
   ]
  },
  {
   "cell_type": "code",
   "execution_count": null,
   "metadata": {},
   "outputs": [],
   "source": []
  }
 ],
 "metadata": {
  "kernelspec": {
   "display_name": "elk",
   "language": "python",
   "name": "python3"
  },
  "language_info": {
   "codemirror_mode": {
    "name": "ipython",
    "version": 3
   },
   "file_extension": ".py",
   "mimetype": "text/x-python",
   "name": "python",
   "nbconvert_exporter": "python",
   "pygments_lexer": "ipython3",
   "version": "3.10.4"
  },
  "orig_nbformat": 4
 },
 "nbformat": 4,
 "nbformat_minor": 2
}
