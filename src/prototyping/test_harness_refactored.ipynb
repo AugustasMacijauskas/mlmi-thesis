{
 "cells": [
  {
   "cell_type": "code",
   "execution_count": 7,
   "metadata": {},
   "outputs": [],
   "source": [
    "# import datasets\n",
    "\n",
    "# datasets.logging.set_verbosity_error()"
   ]
  },
  {
   "cell_type": "code",
   "execution_count": 16,
   "metadata": {},
   "outputs": [
    {
     "name": "stdout",
     "output_type": "stream",
     "text": [
      "\n",
      "» WARNING: `--limit` SHOULD ONLY BE USED FOR TESTING. REAL METRICS SHOULD NOT BE COMPUTED USING LIMIT.\n",
      "\n",
      "['GPT-3 style']\n",
      "Found cached dataset super_glue (/admin/home-augustas/.cache/huggingface/datasets/super_glue/rte/1.0.3/bb9675f958ebfee0d5d6dc5476fafe38c79123727a7258d515c450873dbdbbed)\n",
      "100%|████████████████████████████████████████████| 3/3 [00:00<00:00, 687.37it/s]\n",
      "len(tasks)=1\n",
      "\n",
      "» Assigning unique IDs to 'superglue_rte+GPT-3 style' docs\n",
      "Loading cached processed dataset at /admin/home-augustas/.cache/huggingface/datasets/super_glue/rte/1.0.3/bb9675f958ebfee0d5d6dc5476fafe38c79123727a7258d515c450873dbdbbed/cache-3a2fd95bd2837bcc.arrow\n",
      "\n",
      "» Filtering invalid docs from 'superglue_rte+GPT-3 style'\n",
      "Loading cached processed dataset at /admin/home-augustas/.cache/huggingface/datasets/super_glue/rte/1.0.3/bb9675f958ebfee0d5d6dc5476fafe38c79123727a7258d515c450873dbdbbed/cache-8086d81ab045383e.arrow\n",
      "Loading cached shuffled indices for dataset at /admin/home-augustas/.cache/huggingface/datasets/super_glue/rte/1.0.3/bb9675f958ebfee0d5d6dc5476fafe38c79123727a7258d515c450873dbdbbed/cache-ca251b5f265146c4.arrow\n",
      "\n",
      "» Constructing 'superglue_rte+GPT-3 style' contexts and requests\n",
      "100%|████████████████████████████████████████████| 3/3 [00:00<00:00, 301.94it/s]\n",
      "[Req_loglikelihood('The Federal Bureau of Investigation started an independent probe of the circumstances shortly after the White House made plain that President Bill Clinton considered industrial espionage a particular threat to US economic interests.\\nQuestion: A US probe of the investigation started at the instigation of the Commerce Department. True or False?', ' True')[0]\n",
      ", Req_loglikelihood('The Federal Bureau of Investigation started an independent probe of the circumstances shortly after the White House made plain that President Bill Clinton considered industrial espionage a particular threat to US economic interests.\\nQuestion: A US probe of the investigation started at the instigation of the Commerce Department. True or False?', ' False')[0]\n",
      "]\n",
      "\n",
      "» Running all `loglikelihood` requests\n",
      "100%|█████████████████████████████████████████████| 6/6 [00:01<00:00,  4.39it/s]\n",
      "\n",
      "|    Task     |  Prompt   |Version| Metric |Value |   |Stderr|\n",
      "|-------------|-----------|------:|--------|-----:|---|-----:|\n",
      "|superglue_rte|GPT-3 style|      0|acc     |0.6667|±  |0.3333|\n",
      "|superglue_rte|GPT-3 style|       |acc_norm|0.3333|±  |0.3333|\n",
      "\n"
     ]
    }
   ],
   "source": [
    "!python ../../../lm_evaluation_harness_promptsource/lm-evaluation-harness/main.py \\\n",
    "    --model_api_name 'hf-causal' \\\n",
    "    --model_args pretrained='gpt2-xl' \\\n",
    "    --task_name 'superglue_rte' \\\n",
    "    --template_names \"all_templates\" \\\n",
    "    --limit 3 \\\n",
    "    --device cuda \\\n",
    "    --template_idx 0 \\\n",
    "    --no_tracking"
   ]
  },
  {
   "cell_type": "code",
   "execution_count": 10,
   "metadata": {},
   "outputs": [],
   "source": [
    "# !python ../../../lm_evaluation_harness_promptsource/lm-evaluation-harness/main.py \\\n",
    "#     --model_api_name 'hf-causal' \\\n",
    "#     --model_args pretrained='/fsx/home-augustas/ppo_logs/gpt2-xl_unifiedqa_3b_20230708_234722_29602/checkpoints/model_step_10' \\\n",
    "#     --task_name 'rte' \\\n",
    "#     --limit 3 \\\n",
    "#     --device cuda"
   ]
  },
  {
   "cell_type": "code",
   "execution_count": 9,
   "metadata": {},
   "outputs": [],
   "source": [
    "# !python ../../../lm_evaluation_harness_promptsource/lm-evaluation-harness/main.py \\\n",
    "#     --model_api_name 'hf-causal' \\\n",
    "#     --model_args pretrained='gpt2-xl' \\\n",
    "#     --task_name 'qnli' \\\n",
    "#     --limit 3 \\\n",
    "#     --device cuda"
   ]
  },
  {
   "cell_type": "code",
   "execution_count": null,
   "metadata": {},
   "outputs": [],
   "source": [
    "# !python ../../../lm_evaluation_harness_promptsource/lm-evaluation-harness/main.py \\\n",
    "#     --model_api_name 'hf-causal' \\\n",
    "#     --model_args pretrained='gpt2-xl' \\\n",
    "#     --task_name 'piqa' \\\n",
    "#     --device cuda"
   ]
  },
  {
   "cell_type": "code",
   "execution_count": null,
   "metadata": {},
   "outputs": [],
   "source": [
    "# !python ../../../lm_evaluation_harness_promptsource/lm-evaluation-harness/main.py \\\n",
    "#     --model_api_name 'hf-causal' \\\n",
    "#     --model_args pretrained='gpt2-xl' \\\n",
    "#     --task_name 'qnli' \\\n",
    "#     --device cuda"
   ]
  }
 ],
 "metadata": {
  "kernelspec": {
   "display_name": "elk",
   "language": "python",
   "name": "python3"
  },
  "language_info": {
   "codemirror_mode": {
    "name": "ipython",
    "version": 3
   },
   "file_extension": ".py",
   "mimetype": "text/x-python",
   "name": "python",
   "nbconvert_exporter": "python",
   "pygments_lexer": "ipython3",
   "version": "3.8.17"
  },
  "orig_nbformat": 4
 },
 "nbformat": 4,
 "nbformat_minor": 2
}
