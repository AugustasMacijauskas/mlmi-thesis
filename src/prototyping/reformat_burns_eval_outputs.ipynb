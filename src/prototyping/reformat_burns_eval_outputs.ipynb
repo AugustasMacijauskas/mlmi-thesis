{
 "cells": [
  {
   "cell_type": "code",
   "execution_count": 27,
   "metadata": {},
   "outputs": [],
   "source": [
    "# Autoreload modules\n",
    "%load_ext autoreload\n",
    "%autoreload 2"
   ]
  },
  {
   "cell_type": "code",
   "execution_count": 1,
   "metadata": {},
   "outputs": [],
   "source": [
    "from pathlib import Path"
   ]
  },
  {
   "cell_type": "code",
   "execution_count": 114,
   "metadata": {},
   "outputs": [
    {
     "name": "stdout",
     "output_type": "stream",
     "text": [
      "6\n"
     ]
    },
    {
     "ename": "IndexError",
     "evalue": "list index out of range",
     "output_type": "error",
     "traceback": [
      "\u001b[0;31m---------------------------------------------------------------------------\u001b[0m",
      "\u001b[0;31mIndexError\u001b[0m                                Traceback (most recent call last)",
      "Cell \u001b[0;32mIn[114], line 6\u001b[0m\n\u001b[1;32m      3\u001b[0m \u001b[39m# assert len(file_paths) == 9\u001b[39;00m\n\u001b[1;32m      4\u001b[0m \u001b[39mprint\u001b[39m(\u001b[39mlen\u001b[39m(file_paths))\n\u001b[0;32m----> 6\u001b[0m file_path \u001b[39m=\u001b[39m file_paths[\u001b[39m6\u001b[39;49m]\n\u001b[1;32m      7\u001b[0m suffix \u001b[39m=\u001b[39m file_path\u001b[39m.\u001b[39mstem\u001b[39m.\u001b[39msplit(\u001b[39m\"\u001b[39m\u001b[39m-\u001b[39m\u001b[39m\"\u001b[39m)[\u001b[39m1\u001b[39m]\n\u001b[1;32m      8\u001b[0m suffix\n",
      "\u001b[0;31mIndexError\u001b[0m: list index out of range"
     ]
    }
   ],
   "source": [
    "folder = Path(\"../../../logs_eval_burns/gpt2-xl_rlhfed_20230712_142603_33061\")\n",
    "file_paths = list(folder.glob(\"out-*.out\"))\n",
    "# assert len(file_paths) == 9\n",
    "print(len(file_paths))\n",
    "\n",
    "file_path = file_paths[6]\n",
    "suffix = file_path.stem.split(\"-\")[1]\n",
    "suffix"
   ]
  },
  {
   "cell_type": "code",
   "execution_count": 115,
   "metadata": {},
   "outputs": [
    {
     "name": "stdout",
     "output_type": "stream",
     "text": [
      "# Accuracy\n",
      "52.86%\n",
      "\n",
      "# AUROC\n",
      "0.5355\n",
      "\n",
      "# Calibrated accuracy\n",
      "51.43%\n",
      "\n",
      "\n"
     ]
    }
   ],
   "source": [
    "# !python ../utils/get_results_burns.py --file_path={file_path} --suffix={suffix}"
   ]
  },
  {
   "cell_type": "code",
   "execution_count": null,
   "metadata": {},
   "outputs": [],
   "source": []
  }
 ],
 "metadata": {
  "kernelspec": {
   "display_name": "elk",
   "language": "python",
   "name": "python3"
  },
  "language_info": {
   "codemirror_mode": {
    "name": "ipython",
    "version": 3
   },
   "file_extension": ".py",
   "mimetype": "text/x-python",
   "name": "python",
   "nbconvert_exporter": "python",
   "pygments_lexer": "ipython3",
   "version": "3.10.11"
  },
  "orig_nbformat": 4
 },
 "nbformat": 4,
 "nbformat_minor": 2
}
