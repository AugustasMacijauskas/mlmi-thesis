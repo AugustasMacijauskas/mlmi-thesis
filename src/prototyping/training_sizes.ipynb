{
 "cells": [
  {
   "cell_type": "code",
   "execution_count": 2,
   "metadata": {},
   "outputs": [],
   "source": [
    "# Autoreload\n",
    "%load_ext autoreload\n",
    "%autoreload 2"
   ]
  },
  {
   "cell_type": "code",
   "execution_count": 3,
   "metadata": {},
   "outputs": [],
   "source": [
    "import matplotlib.pyplot as plt\n",
    "import numpy as np"
   ]
  },
  {
   "cell_type": "code",
   "execution_count": null,
   "metadata": {},
   "outputs": [],
   "source": [
    "# Define the font sizes for the axis labels and tick marks\n",
    "label_font_size = 32\n",
    "tick_font_size = 24\n",
    "\n",
    "x = np.array([1000, 2000, 5000, 10000, 20000])\n",
    "y1 = np.array([0.9182, 0.9166, 0.9168, 0.9171, 0.9168])\n",
    "y2 = np.array([0.9657, 0.9705, 0.9723, 0.9733, 0.9732])\n",
    "\n",
    "fig, axs = plt.subplots(1, 2, figsize=(21, 8))\n",
    "\n",
    "# Plot y1\n",
    "axs[0].plot(x, y1, marker='o', label='y1', linewidth=3, markersize=10)\n",
    "axs[0].set_xscale('log')\n",
    "axs[0].set_xlabel('amount of training data (log scale)', fontsize=label_font_size)\n",
    "axs[0].set_ylabel('AUROC', fontsize=label_font_size)\n",
    "axs[0].set_title('VINC', fontsize=label_font_size)\n",
    "axs[0].tick_params(axis='both', which='major', labelsize=tick_font_size)\n",
    "axs[0].grid(True)\n",
    "\n",
    "# Plot y2\n",
    "axs[1].plot(x, y2, marker='o', label='y2', color='orange', linewidth=3, markersize=10)\n",
    "axs[1].set_xscale('log')\n",
    "axs[1].set_xlabel('amount of training data (log scale)', fontsize=label_font_size)\n",
    "axs[1].set_ylabel('AUROC', fontsize=label_font_size)\n",
    "axs[1].set_title('logistic regression', fontsize=label_font_size)\n",
    "axs[1].tick_params(axis='both', which='major', labelsize=tick_font_size)\n",
    "axs[1].grid(True)\n",
    "\n",
    "plt.tight_layout()\n",
    "# plt.show()\n",
    "# plt.savefig('outputs/training_sizes.png', dpi=300)"
   ]
  },
  {
   "cell_type": "code",
   "execution_count": 11,
   "metadata": {},
   "outputs": [],
   "source": [
    "# # Define the font sizes for the axis labels and tick marks\n",
    "# label_fontsize = 16\n",
    "# tick_fontsize = 12\n",
    "# linewidth = 2\n",
    "\n",
    "# x = np.array([1000, 2000, 5000, 10000, 20000])\n",
    "# y1 = np.array([0.9182, 0.9166, 0.9168, 0.9171, 0.9168])\n",
    "# y2 = np.array([0.9657, 0.9705, 0.9723, 0.9733, 0.9732])\n",
    "\n",
    "# # Plot y1\n",
    "# plt.plot(x, y1, marker='o', label='y1', linewidth=linewidth, markersize=linewidth*3)\n",
    "# plt.xscale('log')\n",
    "# plt.xlabel('amount of training data (log scale)', fontsize=label_fontsize)\n",
    "# plt.ylabel('AUROC', fontsize=label_fontsize)\n",
    "# # plt.title('VINC', fontsize=label_font_size)\n",
    "# plt.tick_params(axis='both', which='major', labelsize=tick_fontsize)\n",
    "# plt.grid(True)\n",
    "\n",
    "# plt.show()\n",
    "# # plt.savefig('outputs/training_sizes.png', dpi=300)"
   ]
  }
 ],
 "metadata": {
  "kernelspec": {
   "display_name": "elk",
   "language": "python",
   "name": "python3"
  },
  "language_info": {
   "codemirror_mode": {
    "name": "ipython",
    "version": 3
   },
   "file_extension": ".py",
   "mimetype": "text/x-python",
   "name": "python",
   "nbconvert_exporter": "python",
   "pygments_lexer": "ipython3",
   "version": "3.10.11"
  },
  "orig_nbformat": 4
 },
 "nbformat": 4,
 "nbformat_minor": 2
}
