{
 "cells": [
  {
   "attachments": {},
   "cell_type": "markdown",
   "metadata": {},
   "source": [
    "## Imports\n"
   ]
  },
  {
   "cell_type": "code",
   "execution_count": 2,
   "metadata": {},
   "outputs": [],
   "source": [
    "import torch\n",
    "from torch import nn\n",
    "\n",
    "from datasets import load_dataset\n",
    "from transformers import AutoModelForCausalLM, AutoTokenizer\n",
    "\n",
    "from reporter import Reporter"
   ]
  },
  {
   "attachments": {},
   "cell_type": "markdown",
   "metadata": {},
   "source": [
    "## Data"
   ]
  },
  {
   "cell_type": "code",
   "execution_count": null,
   "metadata": {},
   "outputs": [],
   "source": [
    "# Tokenizer\n",
    "tokenizer = AutoTokenizer.from_pretrained(\"gpt2\")\n",
    "tokenizer.pad_token = tokenizer.eos_token\n",
    "\n",
    "# Dataset (just 4 rows for prototyping)\n",
    "dataset = load_dataset(\"amazon_polarity\", split=\"test[:4]\")"
   ]
  },
  {
   "cell_type": "code",
   "execution_count": 4,
   "metadata": {},
   "outputs": [],
   "source": [
    "# Will be used to form the prompt\n",
    "def get_prompt(text, label):\n",
    "    sentiment = [\"negative\", \"positive\"][label]\n",
    "    return f\"\"\"Below is a movie review in triple backticks: \\\n",
    "        \\n```\\n{text}\\n``` \\\n",
    "        \\n\\nThe sentiment of the review is {sentiment}\n",
    "    \"\"\""
   ]
  },
  {
   "cell_type": "code",
   "execution_count": null,
   "metadata": {},
   "outputs": [],
   "source": [
    "# Get input texts\n",
    "pos_input_texts = [get_prompt(text, label=1) + tokenizer.eos_token for text in dataset[\"content\"]]\n",
    "neg_input_texts = [get_prompt(text, label=0) + tokenizer.eos_token for text in dataset[\"content\"]]\n",
    "\n",
    "# Get the inputs (input_ids and attention_masks) for the positive and negative texts\n",
    "pos_inputs = tokenizer(pos_input_texts, return_tensors=\"pt\", padding=True)\n",
    "neg_inputs = tokenizer(neg_input_texts, return_tensors=\"pt\", padding=True)\n",
    "\n",
    "pos_inputs[\"input_ids\"].shape, neg_inputs[\"input_ids\"].shape"
   ]
  },
  {
   "attachments": {},
   "cell_type": "markdown",
   "metadata": {},
   "source": [
    "## Combine the reporter with a language model"
   ]
  },
  {
   "cell_type": "code",
   "execution_count": 55,
   "metadata": {},
   "outputs": [],
   "source": [
    "class MyRewardModel(nn.Module):\n",
    "    def __init__(self, language_model, reporter, layer=-1):\n",
    "        super().__init__()\n",
    "        \n",
    "        self.language_model = language_model # e.g. GPT-2\n",
    "        self.reporter = reporter # EigenReporter, loaded using Reporter.load(path)\n",
    "        self.layer = layer # which layer to extract\n",
    "\n",
    "    \n",
    "    def forward(self, pos_inputs, neg_inputs):\n",
    "        # Get the hidden states\n",
    "        pos_hidden_states = self.language_model(\n",
    "            **pos_inputs, output_hidden_states=True,\n",
    "        ).hidden_states[self.layer]\n",
    "        neg_hidden_states = self.language_model(\n",
    "            **neg_inputs, output_hidden_states=True,\n",
    "        ).hidden_states[self.layer]\n",
    "        \n",
    "        # Find the index of the last non-padding token\n",
    "        pos_last_token_index = torch.sum(pos_inputs[\"attention_mask\"], dim=1) - 1\n",
    "        neg_last_token_index = torch.sum(neg_inputs[\"attention_mask\"], dim=1) - 1\n",
    "\n",
    "        # Get the last token's output\n",
    "        pos_last_tokens = pos_hidden_states[range(len(pos_last_token_index)), pos_last_token_index]\n",
    "        neg_last_tokens = neg_hidden_states[range(len(neg_last_token_index)), neg_last_token_index]\n",
    "\n",
    "        # Get the logits for the two classes\n",
    "        pos_logits = self.reporter(pos_last_tokens)\n",
    "        neg_logits = self.reporter(neg_last_tokens)\n",
    "\n",
    "        # Return the difference in logits which will later be\n",
    "        # passed through a sigmoid function\n",
    "        return pos_logits - neg_logits\n"
   ]
  },
  {
   "cell_type": "code",
   "execution_count": 56,
   "metadata": {},
   "outputs": [],
   "source": [
    "# Config\n",
    "LAYER = 12\n",
    "reporter_path = f\"elk-reporters/gpt2/reporters/layer_{LAYER}.pt\"\n",
    "\n",
    "# Load the models\n",
    "language_model = AutoModelForCausalLM.from_pretrained(\"gpt2\")\n",
    "reporter = Reporter.load(reporter_path)\n",
    "\n",
    "# Combine the models\n",
    "my_reward_model = MyRewardModel(language_model, reporter)"
   ]
  },
  {
   "cell_type": "code",
   "execution_count": 57,
   "metadata": {},
   "outputs": [
    {
     "data": {
      "text/plain": [
       "tensor([0.5005, 0.5015, 0.4993, 0.5002])"
      ]
     },
     "execution_count": 57,
     "metadata": {},
     "output_type": "execute_result"
    }
   ],
   "source": [
    "# Run the forward pass\n",
    "with torch.no_grad():\n",
    "    credences = my_reward_model(pos_inputs, neg_inputs)\n",
    "\n",
    "outputs = torch.sigmoid(credences)\n",
    "outputs"
   ]
  },
  {
   "cell_type": "code",
   "execution_count": 58,
   "metadata": {},
   "outputs": [
    {
     "data": {
      "text/plain": [
       "([1, 1, 0, 1], [1, 1, 0, 1])"
      ]
     },
     "execution_count": 58,
     "metadata": {},
     "output_type": "execute_result"
    }
   ],
   "source": [
    "# Compare ground-truth with predictions\n",
    "dataset[\"label\"], (outputs > 0.5).int().tolist()"
   ]
  }
 ],
 "metadata": {
  "kernelspec": {
   "display_name": "elk",
   "language": "python",
   "name": "python3"
  },
  "language_info": {
   "codemirror_mode": {
    "name": "ipython",
    "version": 3
   },
   "file_extension": ".py",
   "mimetype": "text/x-python",
   "name": "python",
   "nbconvert_exporter": "python",
   "pygments_lexer": "ipython3",
   "version": "3.10.4"
  },
  "orig_nbformat": 4
 },
 "nbformat": 4,
 "nbformat_minor": 2
}
