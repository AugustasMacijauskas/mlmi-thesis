{
 "cells": [
  {
   "cell_type": "code",
   "execution_count": 2,
   "metadata": {},
   "outputs": [],
   "source": [
    "# Autoreload\n",
    "%load_ext autoreload\n",
    "%autoreload 2"
   ]
  },
  {
   "cell_type": "code",
   "execution_count": 3,
   "metadata": {},
   "outputs": [],
   "source": [
    "from collections import Counter\n",
    "\n",
    "from datasets import load_dataset\n",
    "import datasets\n",
    "datasets.logging.set_verbosity_error()\n",
    "datasets.disable_progress_bar()"
   ]
  },
  {
   "cell_type": "code",
   "execution_count": 11,
   "metadata": {},
   "outputs": [
    {
     "data": {
      "text/plain": [
       "DatasetDict({\n",
       "    train: Dataset({\n",
       "        features: ['original_dataset', 'template_name', 'prompt', 'best_response'],\n",
       "        num_rows: 15000\n",
       "    })\n",
       "})"
      ]
     },
     "execution_count": 11,
     "metadata": {},
     "output_type": "execute_result"
    }
   ],
   "source": [
    "# dataset_name = \"AugustasM/burns-datasets-VINC-v4\"\n",
    "# dataset_name = \"AugustasM/burns-datasets-VINC-ppo-training-v4\"\n",
    "# dataset_name = \"AugustasM/burns-datasets-VINC-imdb-v2\"\n",
    "dataset_name = \"AugustasM/burns-datasets-VINC-imdb-ppo-training-v2\"\n",
    "# dataset_name = \"AugustasM/qnli-vicuna-v1\"\n",
    "\n",
    "dataset = load_dataset(dataset_name)\n",
    "dataset"
   ]
  },
  {
   "cell_type": "code",
   "execution_count": 5,
   "metadata": {},
   "outputs": [
    {
     "data": {
      "text/plain": [
       "Counter({'imdb': 10000})"
      ]
     },
     "execution_count": 5,
     "metadata": {},
     "output_type": "execute_result"
    }
   ],
   "source": [
    "Counter(dataset[\"train\"][\"original_dataset\"])"
   ]
  },
  {
   "cell_type": "code",
   "execution_count": 6,
   "metadata": {},
   "outputs": [
    {
     "data": {
      "text/plain": [
       "Counter({'imdb': 1500})"
      ]
     },
     "execution_count": 6,
     "metadata": {},
     "output_type": "execute_result"
    }
   ],
   "source": [
    "Counter(dataset[\"validation\"][\"original_dataset\"])"
   ]
  },
  {
   "cell_type": "code",
   "execution_count": 12,
   "metadata": {},
   "outputs": [
    {
     "data": {
      "text/plain": [
       "Counter({'burns_1': 3787,\n",
       "         'burns_2': 3781,\n",
       "         'Reviewer Opinion bad good choices': 3742,\n",
       "         'Sentiment with choices ': 3690})"
      ]
     },
     "execution_count": 12,
     "metadata": {},
     "output_type": "execute_result"
    }
   ],
   "source": [
    "Counter(dataset[\"train\"][\"template_name\"])"
   ]
  },
  {
   "cell_type": "markdown",
   "metadata": {},
   "source": [
    "## Individual wrapped datasets"
   ]
  },
  {
   "cell_type": "code",
   "execution_count": 14,
   "metadata": {},
   "outputs": [
    {
     "name": "stdout",
     "output_type": "stream",
     "text": [
      "ag_news\n"
     ]
    },
    {
     "name": "stdout",
     "output_type": "stream",
     "text": [
      "1500\n",
      "1500\n",
      "--------------------\n",
      "amazon_polarity\n",
      "1500\n",
      "1500\n",
      "--------------------\n",
      "boolq\n",
      "1500\n",
      "1500\n",
      "--------------------\n",
      "copa\n",
      "400\n",
      "100\n",
      "--------------------\n",
      "dbpedia_14\n",
      "1500\n",
      "1500\n",
      "--------------------\n",
      "imdb\n",
      "1500\n",
      "1500\n",
      "--------------------\n",
      "piqa\n",
      "1500\n",
      "1500\n",
      "--------------------\n",
      "qnli\n",
      "1500\n",
      "1500\n",
      "--------------------\n",
      "rte\n",
      "1500\n",
      "277\n",
      "--------------------\n"
     ]
    }
   ],
   "source": [
    "names = [\"ag_news\", \"amazon_polarity\", \"boolq\", \"copa\", \"dbpedia_14\", \"imdb\", \"piqa\", \"qnli\", \"rte\"]\n",
    "\n",
    "for ds_name in names:\n",
    "    print(ds_name)\n",
    "    formatted_ds_name = f\"AugustasM/burns-datasets-VINC-individual-{ds_name}\"\n",
    "    dataset = load_dataset(formatted_ds_name)\n",
    "\n",
    "    print(dataset[\"train\"].num_rows)\n",
    "    print(dataset[\"validation\"].num_rows)\n",
    "\n",
    "    print(\"-\" * 20)"
   ]
  }
 ],
 "metadata": {
  "kernelspec": {
   "display_name": "elk",
   "language": "python",
   "name": "python3"
  },
  "language_info": {
   "codemirror_mode": {
    "name": "ipython",
    "version": 3
   },
   "file_extension": ".py",
   "mimetype": "text/x-python",
   "name": "python",
   "nbconvert_exporter": "python",
   "pygments_lexer": "ipython3",
   "version": "3.10.11"
  },
  "orig_nbformat": 4
 },
 "nbformat": 4,
 "nbformat_minor": 2
}
