{
 "cells": [
  {
   "cell_type": "code",
   "execution_count": 1,
   "metadata": {},
   "outputs": [],
   "source": [
    "import torch\n",
    "\n",
    "from transformers import AutoModelForCausalLM"
   ]
  },
  {
   "cell_type": "code",
   "execution_count": 2,
   "metadata": {},
   "outputs": [
    {
     "name": "stderr",
     "output_type": "stream",
     "text": [
      "Some weights of the model checkpoint at Dahoas/gpt2-rm-static were not used when initializing GPT2LMHeadModel: ['score.weight']\n",
      "- This IS expected if you are initializing GPT2LMHeadModel from the checkpoint of a model trained on another task or with another architecture (e.g. initializing a BertForSequenceClassification model from a BertForPreTraining model).\n",
      "- This IS NOT expected if you are initializing GPT2LMHeadModel from the checkpoint of a model that you expect to be exactly identical (initializing a BertForSequenceClassification model from a BertForSequenceClassification model).\n"
     ]
    },
    {
     "data": {
      "text/plain": [
       "GPT2LMHeadModel(\n",
       "  (transformer): GPT2Model(\n",
       "    (wte): Embedding(50257, 768)\n",
       "    (wpe): Embedding(1024, 768)\n",
       "    (drop): Dropout(p=0.1, inplace=False)\n",
       "    (h): ModuleList(\n",
       "      (0-11): 12 x GPT2Block(\n",
       "        (ln_1): LayerNorm((768,), eps=1e-05, elementwise_affine=True)\n",
       "        (attn): GPT2Attention(\n",
       "          (c_attn): Conv1D()\n",
       "          (c_proj): Conv1D()\n",
       "          (attn_dropout): Dropout(p=0.1, inplace=False)\n",
       "          (resid_dropout): Dropout(p=0.1, inplace=False)\n",
       "        )\n",
       "        (ln_2): LayerNorm((768,), eps=1e-05, elementwise_affine=True)\n",
       "        (mlp): GPT2MLP(\n",
       "          (c_fc): Conv1D()\n",
       "          (c_proj): Conv1D()\n",
       "          (act): NewGELUActivation()\n",
       "          (dropout): Dropout(p=0.1, inplace=False)\n",
       "        )\n",
       "      )\n",
       "    )\n",
       "    (ln_f): LayerNorm((768,), eps=1e-05, elementwise_affine=True)\n",
       "  )\n",
       "  (lm_head): Linear(in_features=768, out_features=50257, bias=False)\n",
       ")"
      ]
     },
     "execution_count": 2,
     "metadata": {},
     "output_type": "execute_result"
    }
   ],
   "source": [
    "model = AutoModelForCausalLM.from_pretrained(\"Dahoas/gpt2-rm-static\")\n",
    "model"
   ]
  },
  {
   "cell_type": "code",
   "execution_count": 9,
   "metadata": {},
   "outputs": [
    {
     "name": "stdout",
     "output_type": "stream",
     "text": [
      "124.4 M trainable params\n",
      "124.4 M params\n"
     ]
    }
   ],
   "source": [
    "n_params = sum(p.numel() for p in model.parameters() if p.requires_grad)\n",
    "print(f\"{n_params/1e6:.1f} M trainable params\")\n",
    "n_params = sum(p.numel() for p in model.parameters())\n",
    "print(f\"{n_params/1e6:.1f} M params\")"
   ]
  },
  {
   "attachments": {},
   "cell_type": "markdown",
   "metadata": {},
   "source": [
    "## Check how keys match"
   ]
  },
  {
   "cell_type": "code",
   "execution_count": 10,
   "metadata": {},
   "outputs": [
    {
     "data": {
      "text/plain": [
       "(148,\n",
       " ['transformer.wte.weight',\n",
       "  'transformer.wpe.weight',\n",
       "  'transformer.h.0.ln_1.weight',\n",
       "  'transformer.h.0.ln_1.bias',\n",
       "  'transformer.h.0.attn.c_attn.weight'])"
      ]
     },
     "execution_count": 10,
     "metadata": {},
     "output_type": "execute_result"
    }
   ],
   "source": [
    "tmp_1 = [name for name, _ in model.named_parameters()]\n",
    "len(tmp_1), tmp_1[:5]"
   ]
  },
  {
   "cell_type": "code",
   "execution_count": 14,
   "metadata": {},
   "outputs": [
    {
     "data": {
      "text/plain": [
       "(dict,\n",
       " ['transformer.wte.weight',\n",
       "  'transformer.wpe.weight',\n",
       "  'transformer.h.0.ln_1.weight',\n",
       "  'transformer.h.0.ln_1.bias',\n",
       "  'transformer.h.0.attn.bias'])"
      ]
     },
     "execution_count": 14,
     "metadata": {},
     "output_type": "execute_result"
    }
   ],
   "source": [
    "weights_path = (\n",
    "    \"../../../.hf_cache/hub/models--Dahoas--gpt2-rm-static/\"\n",
    "    \"snapshots/07d6ffc61e51b28864878a2a97c2788c846e63d8/pytorch_model.bin\"\n",
    ")\n",
    "\n",
    "state_dict = torch.load(weights_path)\n",
    "type(state_dict), list(state_dict.keys())[:5]"
   ]
  },
  {
   "cell_type": "code",
   "execution_count": 15,
   "metadata": {},
   "outputs": [
    {
     "data": {
      "text/plain": [
       "(173,\n",
       " ['transformer.wte.weight',\n",
       "  'transformer.wpe.weight',\n",
       "  'transformer.h.0.ln_1.weight',\n",
       "  'transformer.h.0.ln_1.bias',\n",
       "  'transformer.h.0.attn.bias'])"
      ]
     },
     "execution_count": 15,
     "metadata": {},
     "output_type": "execute_result"
    }
   ],
   "source": [
    "tmp_2 = list(state_dict.keys())\n",
    "len(tmp_2), tmp_2[:5]"
   ]
  },
  {
   "cell_type": "code",
   "execution_count": 16,
   "metadata": {},
   "outputs": [
    {
     "data": {
      "text/plain": [
       "[]"
      ]
     },
     "execution_count": 16,
     "metadata": {},
     "output_type": "execute_result"
    }
   ],
   "source": [
    "list(set(tmp_1) - set(tmp_2)) # all model keys are in the loaded state_dict"
   ]
  },
  {
   "cell_type": "code",
   "execution_count": 17,
   "metadata": {},
   "outputs": [
    {
     "data": {
      "text/plain": [
       "['score.weight',\n",
       " 'transformer.h.0.attn.bias',\n",
       " 'transformer.h.0.attn.masked_bias',\n",
       " 'transformer.h.1.attn.bias',\n",
       " 'transformer.h.1.attn.masked_bias',\n",
       " 'transformer.h.10.attn.bias',\n",
       " 'transformer.h.10.attn.masked_bias',\n",
       " 'transformer.h.11.attn.bias',\n",
       " 'transformer.h.11.attn.masked_bias',\n",
       " 'transformer.h.2.attn.bias',\n",
       " 'transformer.h.2.attn.masked_bias',\n",
       " 'transformer.h.3.attn.bias',\n",
       " 'transformer.h.3.attn.masked_bias',\n",
       " 'transformer.h.4.attn.bias',\n",
       " 'transformer.h.4.attn.masked_bias',\n",
       " 'transformer.h.5.attn.bias',\n",
       " 'transformer.h.5.attn.masked_bias',\n",
       " 'transformer.h.6.attn.bias',\n",
       " 'transformer.h.6.attn.masked_bias',\n",
       " 'transformer.h.7.attn.bias',\n",
       " 'transformer.h.7.attn.masked_bias',\n",
       " 'transformer.h.8.attn.bias',\n",
       " 'transformer.h.8.attn.masked_bias',\n",
       " 'transformer.h.9.attn.bias',\n",
       " 'transformer.h.9.attn.masked_bias']"
      ]
     },
     "execution_count": 17,
     "metadata": {},
     "output_type": "execute_result"
    }
   ],
   "source": [
    "# Some state dict keys are not in the model\n",
    "tmp_3 = sorted(set(tmp_2) - set(tmp_1))\n",
    "tmp_3"
   ]
  },
  {
   "cell_type": "code",
   "execution_count": 20,
   "metadata": {},
   "outputs": [
    {
     "name": "stdout",
     "output_type": "stream",
     "text": [
      "transformer.h.0.attn.bias torch.Size([1, 1, 1024, 1024])\n",
      "transformer.h.0.attn.masked_bias torch.Size([])\n",
      "transformer.h.1.attn.bias torch.Size([1, 1, 1024, 1024])\n",
      "transformer.h.1.attn.masked_bias torch.Size([])\n",
      "transformer.h.2.attn.bias torch.Size([1, 1, 1024, 1024])\n",
      "transformer.h.2.attn.masked_bias torch.Size([])\n",
      "transformer.h.3.attn.bias torch.Size([1, 1, 1024, 1024])\n",
      "transformer.h.3.attn.masked_bias torch.Size([])\n",
      "transformer.h.4.attn.bias torch.Size([1, 1, 1024, 1024])\n",
      "transformer.h.4.attn.masked_bias torch.Size([])\n",
      "transformer.h.5.attn.bias torch.Size([1, 1, 1024, 1024])\n",
      "transformer.h.5.attn.masked_bias torch.Size([])\n",
      "transformer.h.6.attn.bias torch.Size([1, 1, 1024, 1024])\n",
      "transformer.h.6.attn.masked_bias torch.Size([])\n",
      "transformer.h.7.attn.bias torch.Size([1, 1, 1024, 1024])\n",
      "transformer.h.7.attn.masked_bias torch.Size([])\n",
      "transformer.h.8.attn.bias torch.Size([1, 1, 1024, 1024])\n",
      "transformer.h.8.attn.masked_bias torch.Size([])\n",
      "transformer.h.9.attn.bias torch.Size([1, 1, 1024, 1024])\n",
      "transformer.h.9.attn.masked_bias torch.Size([])\n",
      "transformer.h.10.attn.bias torch.Size([1, 1, 1024, 1024])\n",
      "transformer.h.10.attn.masked_bias torch.Size([])\n",
      "transformer.h.11.attn.bias torch.Size([1, 1, 1024, 1024])\n",
      "transformer.h.11.attn.masked_bias torch.Size([])\n",
      "score.weight torch.Size([1, 768])\n"
     ]
    },
    {
     "data": {
      "text/plain": [
       "12.583692"
      ]
     },
     "execution_count": 20,
     "metadata": {},
     "output_type": "execute_result"
    }
   ],
   "source": [
    "count = 0\n",
    "\n",
    "for name, param in state_dict.items():\n",
    "    if name in tmp_3:\n",
    "        print(name, param.shape)\n",
    "        count += param.numel()\n",
    "\n",
    "count / 1e6 # 12M params are not in the model"
   ]
  },
  {
   "attachments": {},
   "cell_type": "markdown",
   "metadata": {},
   "source": [
    "I think they are just buffers and can safely be ignored."
   ]
  }
 ],
 "metadata": {
  "kernelspec": {
   "display_name": "elk",
   "language": "python",
   "name": "python3"
  },
  "language_info": {
   "codemirror_mode": {
    "name": "ipython",
    "version": 3
   },
   "file_extension": ".py",
   "mimetype": "text/x-python",
   "name": "python",
   "nbconvert_exporter": "python",
   "pygments_lexer": "ipython3",
   "version": "3.10.4"
  },
  "orig_nbformat": 4
 },
 "nbformat": 4,
 "nbformat_minor": 2
}
