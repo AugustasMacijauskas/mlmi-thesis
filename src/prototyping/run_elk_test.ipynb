{
 "cells": [
  {
   "cell_type": "code",
   "execution_count": 2,
   "metadata": {},
   "outputs": [
    {
     "data": {
      "text/plain": [
       "('EleutherAI/gpt-j-6b', 'AugustasM/burns-datasets-VINC')"
      ]
     },
     "execution_count": 2,
     "metadata": {},
     "output_type": "execute_result"
    }
   ],
   "source": [
    "model = \"EleutherAI/gpt-j-6b\"\n",
    "dataset = \"AugustasM/burns-datasets-VINC\"\n",
    "model, dataset"
   ]
  },
  {
   "cell_type": "code",
   "execution_count": 3,
   "metadata": {},
   "outputs": [
    {
     "name": "stdout",
     "output_type": "stream",
     "text": [
      "/fsx/home-augustas/VINC-logs\n"
     ]
    }
   ],
   "source": [
    "import os\n",
    "os.environ[\"ELK_DIR\"] = \"/fsx/home-augustas/VINC-logs\"\n",
    "\n",
    "!echo $ELK_DIR"
   ]
  },
  {
   "cell_type": "code",
   "execution_count": 4,
   "metadata": {},
   "outputs": [
    {
     "name": "stdout",
     "output_type": "stream",
     "text": [
      "Using 1 of 8 GPUs: [1]\n",
      "\u001b[36mAugustasM/burns-datasets-VINC\u001b[0m using 'train' for training and 'validation' for validation\n",
      "Found cached dataset generator (/admin/home-augustas/.cache/huggingface/datasets/generator/default-8f8ecb1f6627c929/0.0.0)\n",
      "Found cached dataset generator (/admin/home-augustas/.cache/huggingface/datasets/generator/default-8b2602b7287e7e34/0.0.0)\n",
      "Output directory at \u001b[1m/fsx/home-augustas/VINC-logs/EleutherAI/gpt-j-6b/AugustasM/burns-datasets-VINC/reverent-kare\u001b[0m\n",
      "100%|███████████████████████████████████████████| 29/29 [00:45<00:00,  1.58s/it]\n"
     ]
    }
   ],
   "source": [
    "!cd ../elk\n",
    "!elk elicit {model} {dataset} --num_gpus=1 --template_path=AugustasM/burns-datasets-VINC/all --max_examples 100 100"
   ]
  },
  {
   "cell_type": "code",
   "execution_count": null,
   "metadata": {},
   "outputs": [],
   "source": []
  }
 ],
 "metadata": {
  "kernelspec": {
   "display_name": "elk",
   "language": "python",
   "name": "python3"
  },
  "language_info": {
   "codemirror_mode": {
    "name": "ipython",
    "version": 3
   },
   "file_extension": ".py",
   "mimetype": "text/x-python",
   "name": "python",
   "nbconvert_exporter": "python",
   "pygments_lexer": "ipython3",
   "version": "3.10.11"
  },
  "orig_nbformat": 4
 },
 "nbformat": 4,
 "nbformat_minor": 2
}
