{
 "cells": [
  {
   "cell_type": "code",
   "execution_count": 8,
   "metadata": {},
   "outputs": [
    {
     "name": "stdout",
     "output_type": "stream",
     "text": [
      "The autoreload extension is already loaded. To reload it, use:\n",
      "  %reload_ext autoreload\n"
     ]
    }
   ],
   "source": [
    "# Autoreload\n",
    "%load_ext autoreload\n",
    "%autoreload 2"
   ]
  },
  {
   "cell_type": "code",
   "execution_count": 19,
   "metadata": {},
   "outputs": [
    {
     "name": "stdout",
     "output_type": "stream",
     "text": [
      "Using 1 of 8 GPUs: [1]\n",
      "\u001b[36mAugustasM/burns-datasets-VINC-imdb-v2\u001b[0m using 'train' for training and 'validation' for validation\n",
      "Found cached dataset generator (/admin/home-augustas/.cache/huggingface/datasets/generator/default-1a0651cf4dc5174a/0.0.0)\n",
      "Found cached dataset generator (/admin/home-augustas/.cache/huggingface/datasets/generator/default-8ba6f4f0599a6ca9/0.0.0)\n",
      "Output directory at \u001b[1m/admin/home-augustas/elk-reporters/gpt2/AugustasM/burns-datasets-VINC-imdb-v2/elated-euclid\u001b[0m\n",
      "  0%|                                                     | 0/1 [00:00<?, ?it/s]train_h.shape=torch.Size([20, 1, 2, 768])\n",
      "train_h[0, 0]=tensor([[ 0.2266,  2.0312, -1.9219,  ...,  0.8008,  0.1074, -1.0156],\n",
      "        [-1.3281,  2.2344, -0.6953,  ...,  0.9531, -1.4453, -0.5547]],\n",
      "       device='cuda:1')\n",
      "/fsx/home-augustas/tmp/train_h_1.pt\n",
      "100%|█████████████████████████████████████████████| 1/1 [00:05<00:00,  5.50s/it]\n"
     ]
    }
   ],
   "source": [
    "!cd /fsx/home-augustas/elk\n",
    "!elk elicit gpt2 AugustasM/burns-datasets-VINC-imdb-v2 \\\n",
    "    --num_gpus=1 \\\n",
    "    --max_examples 20 20 \\\n",
    "    --template_path AugustasM/burns-datasets-VINC/all \\\n",
    "    --supervised single \\\n",
    "    --prompt_indices 1 \\\n",
    "    --layers 1"
   ]
  },
  {
   "cell_type": "code",
   "execution_count": 20,
   "metadata": {},
   "outputs": [
    {
     "name": "stdout",
     "output_type": "stream",
     "text": [
      "Using 1 of 8 GPUs: [1]\n",
      "\u001b[36mAugustasM/burns-datasets-VINC-imdb-v2\u001b[0m using 'train' for training and 'validation' for validation\n",
      "Found cached dataset generator (/admin/home-augustas/.cache/huggingface/datasets/generator/default-338aeb256380d49d/0.0.0)\n",
      "Found cached dataset generator (/admin/home-augustas/.cache/huggingface/datasets/generator/default-2812b7e728d70cdf/0.0.0)\n",
      "Output directory at \u001b[1m/admin/home-augustas/elk-reporters/gpt2/AugustasM/burns-datasets-VINC-imdb-v2/vibrant-stonebraker\u001b[0m\n",
      "  0%|                                                     | 0/1 [00:00<?, ?it/s]train_h.shape=torch.Size([20, 1, 2, 768])\n",
      "train_h[0, 0]=tensor([[ 0.2266,  2.0312, -1.9219,  ...,  0.8008,  0.1074, -1.0156],\n",
      "        [-1.3281,  2.2344, -0.6953,  ...,  0.9531, -1.4453, -0.5547]],\n",
      "       device='cuda:1')\n",
      "/fsx/home-augustas/tmp/train_h_2.pt\n",
      "100%|█████████████████████████████████████████████| 1/1 [00:02<00:00,  2.12s/it]\n"
     ]
    }
   ],
   "source": [
    "!cd /fsx/home-augustas/elk\n",
    "!elk elicit gpt2 AugustasM/burns-datasets-VINC-imdb-v2 \\\n",
    "    --num_gpus=1 \\\n",
    "    --max_examples 20 20 \\\n",
    "    --template_path AugustasM/burns-datasets-VINC \\\n",
    "    --supervised single \\\n",
    "    --layers 1"
   ]
  },
  {
   "cell_type": "code",
   "execution_count": 21,
   "metadata": {},
   "outputs": [
    {
     "name": "stdout",
     "output_type": "stream",
     "text": [
      "train_h_1.pt  train_h_2.pt\n"
     ]
    }
   ],
   "source": [
    "!ls /fsx/home-augustas/tmp"
   ]
  },
  {
   "cell_type": "code",
   "execution_count": 22,
   "metadata": {},
   "outputs": [],
   "source": [
    "import torch\n",
    "\n",
    "var1 = torch.load(\"/fsx/home-augustas/tmp/train_h_1.pt\")\n",
    "var2 = torch.load(\"/fsx/home-augustas/tmp/train_h_2.pt\")\n",
    "\n",
    "assert torch.allclose(var1, var2)"
   ]
  },
  {
   "cell_type": "code",
   "execution_count": 13,
   "metadata": {},
   "outputs": [
    {
     "name": "stdout",
     "output_type": "stream",
     "text": [
      "Using 1 of 8 GPUs: [0]\n",
      "\u001b[36mimdb\u001b[0m using 'train' for training and 'test' for validation\n",
      "Found cached dataset generator (/admin/home-augustas/.cache/huggingface/datasets/generator/default-15a63af77eaf2833/0.0.0)\n",
      "Found cached dataset generator (/admin/home-augustas/.cache/huggingface/datasets/generator/default-827cda21af9b7feb/0.0.0)\n",
      "Output directory at \u001b[1m/admin/home-augustas/elk-reporters/gpt2/imdb/nice-gagarin\u001b[0m\n",
      "100%|███████████████████████████████████████████| 13/13 [00:15<00:00,  1.16s/it]\n"
     ]
    }
   ],
   "source": [
    "# !cd /fsx/home-augustas/elk\n",
    "# !elk elicit gpt2 imdb \\\n",
    "#     --num_gpus=1 \\\n",
    "#     --max_examples 20 20 \\\n",
    "#     --supervised single \\\n",
    "#     --prompt_indices 0 1 2"
   ]
  },
  {
   "cell_type": "code",
   "execution_count": 16,
   "metadata": {},
   "outputs": [
    {
     "name": "stdout",
     "output_type": "stream",
     "text": [
      "Using 1 of 8 GPUs: [0]\n",
      "\u001b[36mimdb\u001b[0m using 'test' for validation\n",
      "Found cached dataset generator (/admin/home-augustas/.cache/huggingface/datasets/generator/default-827cda21af9b7feb/0.0.0)\n",
      "Output directory at \u001b[1m/fsx/home-augustas/elk-reporters/gpt2/imdb/nice-gagarin/transfer/imdb\u001b[0m\n",
      "100%|███████████████████████████████████████████| 13/13 [00:01<00:00,  6.97it/s]\n"
     ]
    }
   ],
   "source": [
    "# !cd /fsx/home-augustas/elk\n",
    "# !elk eval /fsx/home-augustas/elk-reporters/gpt2/imdb/nice-gagarin gpt2 imdb \\\n",
    "#     --num_gpus=1 \\\n",
    "#     --max_examples 20 20 \\"
   ]
  }
 ],
 "metadata": {
  "kernelspec": {
   "display_name": "elk",
   "language": "python",
   "name": "python3"
  },
  "language_info": {
   "codemirror_mode": {
    "name": "ipython",
    "version": 3
   },
   "file_extension": ".py",
   "mimetype": "text/x-python",
   "name": "python",
   "nbconvert_exporter": "python",
   "pygments_lexer": "ipython3",
   "version": "3.10.11"
  },
  "orig_nbformat": 4
 },
 "nbformat": 4,
 "nbformat_minor": 2
}
