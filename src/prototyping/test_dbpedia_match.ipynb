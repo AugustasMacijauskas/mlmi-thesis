{
 "cells": [
  {
   "cell_type": "code",
   "execution_count": 1,
   "metadata": {},
   "outputs": [],
   "source": [
    "# Autoreload\n",
    "%load_ext autoreload\n",
    "%autoreload 2"
   ]
  },
  {
   "cell_type": "code",
   "execution_count": 5,
   "metadata": {},
   "outputs": [
    {
     "name": "stdout",
     "output_type": "stream",
     "text": [
      "Mismatch found:\n",
      "File 1: Melanchiton is a genus of beetles in the family Carabidae containing the following species: Melanchiton abacetoides (Burgeon 1935) Melanchiton aberrans (Chaudoir In Oberthur 1883) Melanchiton aethiops Straneo 1950 Melanchiton aterrimus (Laferte-Senectere 1853) Melanchiton atratus (Klug 1833) Melanchiton basilewskyi Straneo 1950 Melanchiton brevipennis Jeannel 1948 Melanchiton burgeoni Straneo 1950 Melanchiton camerunus Straneo 1978 Melanchiton carbonatus Straneo 1950 Melanchiton clarkei Straneo 1978 Melanchiton congoensis Straneo 1950 Melanchiton decorsei (Alluaud 1916) Melanchiton ebeninus (Erichson 1843) Melanchiton elongatus Straneo 1950 Melanchiton guineensis Straneo 1950 Melanchiton hulstaerti (Burgeon 1935) Melanchiton impressifrons Straneo 1950 Melanchiton intermedius (Peringuey 1896) Melanchiton iridescens (Chaudoir 1876) Melanchiton kenyensis Straneo 1950 Melanchiton kivuensis (Burgeon 1935) Melanchiton laevisulcis Straneo 1950 Melanchiton latithorax Straneo 1950 Melanchiton leleupi Straneo 1978 Melanchiton longelytratus Straneo 1950 Melanchiton longulus Straneo 1950 Melanchiton lucidulus (Boheman 1848) Melanchiton mandibularis (Burgeon 1935) Melanchiton marginatus Straneo 1950 Melanchiton mecynonotus (Alluaud 1916) Melanchiton meridionalis Straneo 1950 Melanchiton motoensis (Burgeon 1935) Melanchiton nairobianus Straneo 1950 Melanchiton niloticus Straneo 1950 Melanchiton opacus Straneo 1950 Melanchiton orientalis Straneo 1950 Melanchiton parallelus (Chaudoir In Oberthur 1883) Melanchiton pinguis Straneo 1950 Melanchiton proximoides Straneo 1950 Melanchiton proximus (Peringuey 1926) Melanchiton pugnator (Peringuey 1899) Melanchiton quadraticollis Jeannel 1948 Melanchiton rectangulus (Chaudoir In Oberthur 1883) Melanchiton rhodesianus Straneo 1950 Melanchiton rufipes Straneo 1978 Melanchiton senegalensis (Straneo 1943) Melanchiton sjoestedti Straneo 1950 Melanchiton somalicus (Straneo 1943) Melanchiton transvaalensis Straneo 1950 Melanchiton trapezicollis Straneo 1950 Melanchiton vorax Straneo 1968... Given a list of categories: company, educational institution, artist, athlete, office holder, mean of transportation, building, natural place, village, animal, plant, album, film or written work, what category does the paragraph belong to?\n",
      "File 2:  Melanchiton is a genus of beetles in the family Carabidae containing the following species: Melanchiton abacetoides (Burgeon 1935) Melanchiton aberrans (Chaudoir In Oberthur 1883) Melanchiton aethiops Straneo 1950 Melanchiton aterrimus (Laferte-Senectere 1853) Melanchiton atratus (Klug 1833) Melanchiton basilewskyi Straneo 1950 Melanchiton brevipennis Jeannel 1948 Melanchiton burgeoni Straneo 1950 Melanchiton camerunus Straneo 1978 Melanchiton carbonatus Straneo 1950 Melanchiton clarkei Straneo 1978 Melanchiton congoensis Straneo 1950 Melanchiton decorsei (Alluaud 1916) Melanchiton ebeninus (Erichson 1843) Melanchiton elongatus Straneo 1950 Melanchiton guineensis Straneo 1950 Melanchiton hulstaerti (Burgeon 1935) Melanchiton impressifrons Straneo 1950 Melanchiton intermedius (Peringuey 1896) Melanchiton iridescens (Chaudoir 1876) Melanchiton kenyensis Straneo 1950 Melanchiton kivuensis (Burgeon 1935) Melanchiton laevisulcis Straneo 1950 Melanchiton latithorax Straneo 1950 Melanchiton leleupi Straneo 1978 Melanchiton longelytratus Straneo 1950 Melanchiton longulus Straneo 1950 Melanchiton lucidulus (Boheman 1848) Melanchiton mandibularis (Burgeon 1935) Melanchiton marginatus Straneo 1950 Melanchiton mecynonotus (Alluaud 1916) Melanchiton meridionalis Straneo 1950 Melanchiton motoensis (Burgeon 1935) Melanchiton nairobianus Straneo 1950 Melanchiton niloticus Straneo 1950 Melanchiton opacus Straneo 1950 Melanchiton orientalis Straneo 1950 Melanchiton parallelus (Chaudoir In Oberthur 1883) Melanchiton pinguis Straneo 1950 Melanchiton proximoides Straneo 1950 Melanchiton proximus (Peringuey 1926) Melanchiton pugnator (Peringuey 1899) Melanchiton quadraticollis Jeannel 1948 Melanchiton rectangulus (Chaudoir In Oberthur 1883) Melanchiton rhodesianus Straneo 1950 Melanchiton rufipes Straneo 1978 Melanchiton senegalensis (Straneo 1943) Melanchiton sjoestedti Straneo 1950 Melanchiton somalicus (Straneo 1943) Melanchiton transvaalensis Straneo 1950 Melanchiton trapezicollis Straneo 1950 Melanchiton vorax Straneo 1968 Melanchiton zanzibaricus Straneo 1950↑ Given a list of categories: company, educational institution, artist, athlete, office holder, mean of transportation, building, natural place, village, animal, plant, album, film or written work, what category does the paragraph belong to?\n"
     ]
    }
   ],
   "source": [
    "from pathlib import Path\n",
    "import jsonlines\n",
    "\n",
    "file1 = Path(\"/fsx/home-augustas/logs_eval_burns/gpt2-xl_test_dbpedia_14_20230713_235604_34042/outputs/pretrained=__fsx__home-augustas__ppo_logs__gpt2-xl_unifiedqa_3b_imdb_20230708_234722_29602__checkpoints__model_step_10_dbpedia_14.jsonl\")\n",
    "file2 = Path(\"/fsx/home-augustas/logs_eval_burns/gpt2-xl_test_updates_20230715_000925_34857/outputs/pretrained=__fsx__home-augustas__ppo_logs__gpt2-xl_unifiedqa_3b_imdb_20230708_234722_29602__checkpoints__model_step_10_dbpedia_14_binarized.jsonl\")\n",
    "\n",
    "# Open both files\n",
    "with jsonlines.open(file1) as reader1, jsonlines.open(file2) as reader2:\n",
    "    # Iterate over both files simultaneously\n",
    "    for obj1, obj2 in zip(reader1, reader2):\n",
    "        # Check if the fields are the same\n",
    "        if obj1[\"arguments\"][0] != obj2[\"arguments\"][0][0].lstrip():\n",
    "            # If not, print the objects and break the loop\n",
    "            print(f\"Mismatch found:\\nFile 1: {obj1['arguments'][0]}\\nFile 2: {obj2['arguments'][0][0]}\")\n",
    "            break\n",
    "    else:\n",
    "        # If we finish the loop without breaking, all fields were the same\n",
    "        print(\"True\")"
   ]
  },
  {
   "cell_type": "code",
   "execution_count": 16,
   "metadata": {},
   "outputs": [
    {
     "name": "stdout",
     "output_type": "stream",
     "text": [
      "True\n"
     ]
    }
   ],
   "source": [
    "import jsonlines\n",
    "\n",
    "def field_starts_with_one_space(filename):\n",
    "    with jsonlines.open(filename) as reader:\n",
    "        for i, obj in enumerate(reader, start=1):\n",
    "            field = obj[\"arguments\"][0][0]\n",
    "            if not field.startswith(' '):\n",
    "                print(f\"Line {i} does not start with exactly one space:\\n{field}\")\n",
    "                print(obj[\"doc\"][\"content\"])\n",
    "                return\n",
    "    print(\"True\")\n",
    "\n",
    "# replace 'file2.jsonl' with your filename\n",
    "field_starts_with_one_space(file2)"
   ]
  }
 ],
 "metadata": {
  "kernelspec": {
   "display_name": "elk",
   "language": "python",
   "name": "python3"
  },
  "language_info": {
   "codemirror_mode": {
    "name": "ipython",
    "version": 3
   },
   "file_extension": ".py",
   "mimetype": "text/x-python",
   "name": "python",
   "nbconvert_exporter": "python",
   "pygments_lexer": "ipython3",
   "version": "3.10.11"
  },
  "orig_nbformat": 4
 },
 "nbformat": 4,
 "nbformat_minor": 2
}
