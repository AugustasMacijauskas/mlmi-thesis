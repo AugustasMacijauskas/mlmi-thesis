{
 "cells": [
  {
   "cell_type": "code",
   "execution_count": null,
   "metadata": {},
   "outputs": [],
   "source": [
    "import pandas as pd\n",
    "import matplotlib.pyplot as plt\n",
    "\n",
    "# Load the CSV data into a pandas DataFrame\n",
    "df = pd.read_csv(\"/mnt/data/29602_tb.csv\")\n",
    "\n",
    "# Define baseline and std\n",
    "baseline = 0.4655\n",
    "std = 0.1193\n",
    "\n",
    "# Update EMA coefficient\n",
    "ts_factor = 0.8\n",
    "\n",
    "# Calculate EMA values using provided formula\n",
    "y_ema_updated = df['Value'].ewm(alpha=(1 - ts_factor)).mean()\n",
    "\n",
    "# Create the plot\n",
    "plt.figure(figsize=(10, 6))\n",
    "\n",
    "# Plot original data\n",
    "plt.plot(df['Step'], df['Value'], label='Original data')\n",
    "\n",
    "# Plot EMA data\n",
    "plt.plot(df['Step'], y_ema_updated, label=f'EMA data (coef: {ts_factor})')\n",
    "\n",
    "# Add baseline and std\n",
    "plt.axhline(y=baseline, color='r', linestyle='--', label=f'Baseline: {baseline}')\n",
    "plt.fill_between(df['Step'], (baseline - std), (baseline + std), color='grey', alpha=0.5, label=f'STD: {std}')\n",
    "\n",
    "# Add title and labels\n",
    "plt.title('TensorBoard Log Data')\n",
    "plt.xlabel('Step')\n",
    "plt.ylabel('Value')\n",
    "\n",
    "# Add legend\n",
    "plt.legend()\n",
    "\n",
    "# Display the plot\n",
    "plt.show()"
   ]
  }
 ],
 "metadata": {
  "language_info": {
   "name": "python"
  },
  "orig_nbformat": 4
 },
 "nbformat": 4,
 "nbformat_minor": 2
}
