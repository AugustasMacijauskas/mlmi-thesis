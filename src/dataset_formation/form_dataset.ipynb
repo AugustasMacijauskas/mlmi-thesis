{
 "cells": [
  {
   "attachments": {},
   "cell_type": "markdown",
   "metadata": {},
   "source": [
    "## Imports"
   ]
  },
  {
   "cell_type": "code",
   "execution_count": 88,
   "metadata": {},
   "outputs": [],
   "source": [
    "import sys\n",
    "import random\n",
    "from pathlib import Path\n",
    "from collections import Counter\n",
    "\n",
    "import datasets\n",
    "from datasets import load_dataset_builder, load_dataset\n",
    "\n",
    "from utils import replace_text_with_whitespace"
   ]
  },
  {
   "cell_type": "code",
   "execution_count": 2,
   "metadata": {},
   "outputs": [
    {
     "data": {
      "text/plain": [
       "PosixPath('/rds/user/am3052/hpc-work/elk')"
      ]
     },
     "execution_count": 2,
     "metadata": {},
     "output_type": "execute_result"
    }
   ],
   "source": [
    "ELK_PATH = Path(\"../../../elk/\")\n",
    "ELK_PATH.resolve()"
   ]
  },
  {
   "cell_type": "code",
   "execution_count": 3,
   "metadata": {},
   "outputs": [
    {
     "data": {
      "text/plain": [
       "['/rds/user/am3052/hpc-work/elk/elk/promptsource',\n",
       " '/rds/user/am3052/hpc-work/elk']"
      ]
     },
     "execution_count": 3,
     "metadata": {},
     "output_type": "execute_result"
    }
   ],
   "source": [
    "modules = [\n",
    "    ELK_PATH,\n",
    "    ELK_PATH / \"elk\" / \"promptsource\",\n",
    "]\n",
    "\n",
    "for module in modules:\n",
    "    if not str(module) in sys.path:\n",
    "        sys.path.insert(0, str(module.resolve()))\n",
    "\n",
    "sys.path[:2]"
   ]
  },
  {
   "cell_type": "code",
   "execution_count": 4,
   "metadata": {},
   "outputs": [],
   "source": [
    "from templates import DatasetTemplates"
   ]
  },
  {
   "cell_type": "code",
   "execution_count": 5,
   "metadata": {},
   "outputs": [],
   "source": [
    "# Disable the logging of the datasets library\n",
    "import datasets\n",
    "\n",
    "datasets.logging.set_verbosity_error()\n",
    "# logging.getLogger(\"transformers\").setLevel(logging.ERROR)"
   ]
  },
  {
   "attachments": {},
   "cell_type": "markdown",
   "metadata": {},
   "source": [
    "## Config"
   ]
  },
  {
   "cell_type": "code",
   "execution_count": 6,
   "metadata": {},
   "outputs": [],
   "source": [
    "SPLIT = \"train\""
   ]
  },
  {
   "attachments": {},
   "cell_type": "markdown",
   "metadata": {},
   "source": [
    "## Inspect the datasets"
   ]
  },
  {
   "cell_type": "code",
   "execution_count": 7,
   "metadata": {},
   "outputs": [],
   "source": [
    "# all datasets used in Burns et al. (2022)\n",
    "BURNS_DATASETS = [\n",
    "    \"ag_news\",\n",
    "    \"amazon_polarity\",\n",
    "    \"dbpedia_14\",\n",
    "    \"glue:qnli\",\n",
    "    \"imdb\",\n",
    "    \"piqa\",\n",
    "    \"super_glue:boolq\",\n",
    "    \"super_glue:copa\",\n",
    "    \"super_glue:rte\",\n",
    "]"
   ]
  },
  {
   "attachments": {},
   "cell_type": "markdown",
   "metadata": {},
   "source": [
    "Load in the datasets:"
   ]
  },
  {
   "cell_type": "code",
   "execution_count": 108,
   "metadata": {},
   "outputs": [
    {
     "name": "stdout",
     "output_type": "stream",
     "text": [
      "ag_news\n",
      "split='train'\n",
      "-----------------------------------\n",
      "amazon_polarity\n",
      "split='train'\n",
      "-----------------------------------\n",
      "dbpedia_14\n",
      "split='train'\n",
      "-----------------------------------\n",
      "glue:qnli\n",
      "split='train'\n",
      "-----------------------------------\n",
      "imdb\n",
      "split='train'\n",
      "-----------------------------------\n",
      "piqa\n",
      "split='train'\n",
      "-----------------------------------\n",
      "super_glue:boolq\n",
      "split='train'\n",
      "-----------------------------------\n",
      "super_glue:copa\n",
      "split='train'\n",
      "-----------------------------------\n",
      "super_glue:rte\n",
      "split='train'\n",
      "-----------------------------------\n"
     ]
    }
   ],
   "source": [
    "N_PER_DATASET = 100\n",
    "assert N_PER_DATASET <= 1800, \"N_PER_DATASET must be <= 1800\"\n",
    "\n",
    "dataset_dict = {}\n",
    "for dataset_path in BURNS_DATASETS:\n",
    "    print(dataset_path)\n",
    "\n",
    "    # Parse dataset name\n",
    "    dataset_name = None    \n",
    "    if \":\" in dataset_path:\n",
    "        dataset_path, dataset_name = dataset_path.split(\":\")\n",
    "    \n",
    "    \n",
    "    # Get the most validation-like split\n",
    "    available_splits = load_dataset_builder(\n",
    "        dataset_path, name=dataset_name\n",
    "    ).info.splits.keys()\n",
    "    split = \"validation\" if \"validation\" in available_splits else \"test\"\n",
    "    split = split if SPLIT != \"train\" else \"train\"\n",
    "    print(f\"{split=}\")\n",
    "\n",
    "    # Load the dataset\n",
    "    dataset = load_dataset(\n",
    "        dataset_path, name=dataset_name, split=split,\n",
    "    )\n",
    "\n",
    "    # Get a desired subset of the data\n",
    "    n = N_PER_DATASET if dataset.num_rows > N_PER_DATASET else dataset.num_rows\n",
    "    dataset = dataset.shuffle(seed=42).select(range(n))\n",
    "\n",
    "    key = f\"{dataset_path}/{dataset_name}\" if dataset_name else dataset_path\n",
    "    dataset_dict[key] = dataset\n",
    "\n",
    "    print(\"-----------------------------------\")"
   ]
  },
  {
   "cell_type": "code",
   "execution_count": 109,
   "metadata": {},
   "outputs": [],
   "source": [
    "assert all([len(Counter(dataset[\"label\"])) > 1 for dataset in dataset_dict.values()])"
   ]
  },
  {
   "cell_type": "code",
   "execution_count": 110,
   "metadata": {},
   "outputs": [
    {
     "name": "stdout",
     "output_type": "stream",
     "text": [
      "ag_news: 4\n",
      "amazon_polarity: 2\n",
      "dbpedia_14: 14\n",
      "glue/qnli: 2\n",
      "imdb: 2\n",
      "piqa: 2\n",
      "super_glue/boolq: 2\n",
      "super_glue/copa: 2\n",
      "super_glue/rte: 2\n"
     ]
    }
   ],
   "source": [
    "for dataset_name, dataset in dataset_dict.items():\n",
    "    print(f\"{dataset_name}: {len(Counter(dataset['label']))}\")"
   ]
  },
  {
   "cell_type": "code",
   "execution_count": 114,
   "metadata": {},
   "outputs": [],
   "source": [
    "dataset_template_dict = {}\n",
    "\n",
    "for dataset_path in dataset_dict.keys():\n",
    "    if \":\" in dataset_path:\n",
    "        print(\"Lol\")\n",
    "        dataset_path = dataset_path.replace(\":\", \"/\")\n",
    "\n",
    "    dataset_templates = DatasetTemplates(dataset_path)\n",
    "\n",
    "    dataset_templates.templates = {\n",
    "        x.name: x for x in dataset_templates.templates.values() if x.get_answer_choices_list(dataset_dict[dataset_path][0]) is not None\n",
    "    }\n",
    "\n",
    "    dataset_template_dict[dataset_path] = dataset_templates"
   ]
  },
  {
   "cell_type": "code",
   "execution_count": 115,
   "metadata": {},
   "outputs": [
    {
     "name": "stdout",
     "output_type": "stream",
     "text": [
      "ag_news: 15\n",
      "amazon_polarity: 11\n",
      "dbpedia_14: 11\n",
      "glue/qnli: 5\n",
      "imdb: 13\n",
      "piqa: 7\n",
      "super_glue/boolq: 10\n",
      "super_glue/copa: 9\n",
      "super_glue/rte: 11\n"
     ]
    }
   ],
   "source": [
    "for dataset_name, dataset_templates in dataset_template_dict.items():\n",
    "    print(f\"{dataset_name}: {len(dataset_templates.templates)}\")"
   ]
  },
  {
   "attachments": {},
   "cell_type": "markdown",
   "metadata": {},
   "source": [
    "## Inspect the prompts"
   ]
  },
  {
   "cell_type": "code",
   "execution_count": 116,
   "metadata": {},
   "outputs": [
    {
     "name": "stdout",
     "output_type": "stream",
     "text": [
      "What label best describes this news article?\n",
      "Bangladesh paralysed by strikes Opposition activists have brought many towns and cities in Bangladesh to a halt, the day after 18 people died in explosions at a political rally. \n",
      "World politics\n",
      "---------------------------------\n",
      "Is this a piece of news regarding world politics, sports, business, or science and technology?\n",
      "Bangladesh paralysed by strikes Opposition activists have brought many towns and cities in Bangladesh to a halt, the day after 18 people died in explosions at a political rally.\n",
      " \n",
      "World politics\n",
      "---------------------------------\n",
      "Would you recommend the following article to a politician, an athlete, a business executive, or a scientist?\n",
      "\n",
      "Bangladesh paralysed by strikes Opposition activists have brought many towns and cities in Bangladesh to a halt, the day after 18 people died in explosions at a political rally.\n",
      " \n",
      "Politician\n",
      "---------------------------------\n",
      "Bangladesh paralysed by strikes Opposition activists have brought many towns and cities in Bangladesh to a halt, the day after 18 people died in explosions at a political rally. \n",
      "\n",
      "Which of the following sections of a newspaper would this article likely appear in? World News, Sports, Business, or Science and Technology? \n",
      "World News\n",
      "---------------------------------\n",
      "Bangladesh paralysed by strikes Opposition activists have brought many towns and cities in Bangladesh to a halt, the day after 18 people died in explosions at a political rally. \n",
      "\n",
      "Which section of a newspaper would this article likely appear in? \n",
      "World News\n",
      "---------------------------------\n",
      "Consider the following example: ''' Bangladesh paralysed by strikes Opposition activists have brought many towns and cities in Bangladesh to a halt, the day after 18 people died in explosions at a political rally. ''' Choice 1: World politics. Choice 2: Sports.Between choice 1 and choice 2, the topic of this example is World politics\n",
      "---------------------------------\n",
      "Consider the following example: ''' Bangladesh paralysed by strikes Opposition activists have brought many towns and cities in Bangladesh to a halt, the day after 18 people died in explosions at a political rally. ''' Choice 1: World politics. Choice 2: Sports.Between choice 1 and choice 2, what is the topic of this example? World politics\n",
      "---------------------------------\n",
      "Consider the following example: ''' Bangladesh paralysed by strikes Opposition activists have brought many towns and cities in Bangladesh to a halt, the day after 18 people died in explosions at a political rally. ''' Which is the topic of this example, choice 1: World politics, or choice 2: Sports? World politics\n",
      "---------------------------------\n",
      "Bangladesh paralysed by strikes Opposition activists have brought many towns and cities in Bangladesh to a halt, the day after 18 people died in explosions at a political rally. Choice 1: World politics. Choice 2: Sports. Between choice 1 and choice 2, the topic of this example is World politics\n",
      "---------------------------------\n",
      "Bangladesh paralysed by strikes Opposition activists have brought many towns and cities in Bangladesh to a halt, the day after 18 people died in explosions at a political rally. Choice 1: World politics. Choice 2: Sports. Between choice 1 and choice 2, what is the topic of this example? World politics\n",
      "---------------------------------\n",
      "Bangladesh paralysed by strikes Opposition activists have brought many towns and cities in Bangladesh to a halt, the day after 18 people died in explosions at a political rally. Which is the topic of this example, choice 1: World politics, or choice 2: Sports? World politics\n",
      "---------------------------------\n",
      "Bangladesh paralysed by strikes Opposition activists have brought many towns and cities in Bangladesh to a halt, the day after 18 people died in explosions at a political rally. What label best describes this news article, choice 1: World politics, or choice 2: Sports? World politics\n",
      "---------------------------------\n",
      "Bangladesh paralysed by strikes Opposition activists have brought many towns and cities in Bangladesh to a halt, the day after 18 people died in explosions at a political rally. Which section of a newspaper would this article likely appear in, choice 1: World politics, or choice 2: Sports? World politics\n",
      "---------------------------------\n",
      "Bangladesh paralysed by strikes Opposition activists have brought many towns and cities in Bangladesh to a halt, the day after 18 people died in explosions at a political rally. \n",
      "Is this a piece of news regarding world politics, sports, business, or science and technology? \n",
      "World politics\n",
      "---------------------------------\n",
      "Bangladesh paralysed by strikes Opposition activists have brought many towns and cities in Bangladesh to a halt, the day after 18 people died in explosions at a political rally. \n",
      "What label best describes this news article? \n",
      "World politics\n",
      "---------------------------------\n"
     ]
    }
   ],
   "source": [
    "dataset_name = \"ag_news\"\n",
    "\n",
    "for template_name, template in dataset_template_dict[dataset_name].templates.items():\n",
    "    # print(template_name)\n",
    "    # print(dataset_dict[dataset_name][0])\n",
    "    q, a = template.apply(\n",
    "        dataset_dict[dataset_name][0]\n",
    "    )\n",
    "    # print(q == q.strip())\n",
    "    # print(a == a.strip())\n",
    "    # print(\" \".join([q, a.strip()]))\n",
    "    print(\" \".join([q, a]))\n",
    "    print(\"---------------------------------\")"
   ]
  },
  {
   "attachments": {},
   "cell_type": "markdown",
   "metadata": {},
   "source": [
    "## Form the dataset for the chosen split"
   ]
  },
  {
   "cell_type": "code",
   "execution_count": 122,
   "metadata": {},
   "outputs": [],
   "source": [
    "# for dataset_name, dataset_templates in dataset_template_dict.items():\n",
    "#     print(dataset_name)\n",
    "#     for template_name, template in dataset_templates.templates.items():\n",
    "#         print(f\"{template_name}: {template.get_fixed_answer_choices_list()}\")\n",
    "\n",
    "#     print(\"---------------------------------\")\n"
   ]
  },
  {
   "cell_type": "code",
   "execution_count": 119,
   "metadata": {},
   "outputs": [],
   "source": [
    "# for dataset_name, dataset_templates in dataset_template_dict.items():\n",
    "#     print(dataset_name)\n",
    "#     for template_name, template in dataset_templates.templates.items():\n",
    "#         print(f\"{template_name}: {template.get_answer_choices_list(dataset_dict[dataset_name][0])}\")\n",
    "\n",
    "#     print(\"---------------------------------\")"
   ]
  },
  {
   "cell_type": "code",
   "execution_count": 120,
   "metadata": {},
   "outputs": [
    {
     "name": "stdout",
     "output_type": "stream",
     "text": [
      "ag_news: 15\n",
      "amazon_polarity: 11\n",
      "dbpedia_14: 11\n",
      "glue/qnli: 5\n",
      "imdb: 13\n",
      "piqa: 7\n",
      "super_glue/boolq: 10\n",
      "super_glue/copa: 9\n",
      "super_glue/rte: 11\n"
     ]
    }
   ],
   "source": [
    "for dataset_name, dataset_templates in dataset_template_dict.items():\n",
    "    print(f\"{dataset_name}: {len(dataset_templates.templates)}\")"
   ]
  },
  {
   "cell_type": "code",
   "execution_count": 123,
   "metadata": {},
   "outputs": [
    {
     "name": "stdout",
     "output_type": "stream",
     "text": [
      "ag_news\n",
      "amazon_polarity\n",
      "dbpedia_14\n",
      "glue/qnli\n",
      "imdb\n",
      "piqa\n",
      "0\n",
      "is_truthful=False\n",
      "0 0\n",
      "1 1\n",
      "{'goal': 'Do cardio exercise without running.', 'sol1': 'Use a jump rope for 15 minutes.', 'sol2': 'Run around a chair for 15 minutes.', 'label': 0, 'original_dataset': 'piqa', 'text': 'Finish the following sentence with the best choice: Do cardio exercise without running.\\n\\nChoices:\\n- Use a jump rope for 15 minutes.\\n- Run around a chair for 15 minutes.\\n\\nAnswer:\\n\\n \\nRun around a chair for 15 minutes.'}\n",
      "---------------------------------\n",
      "1\n",
      "is_truthful=False\n",
      "1 1\n",
      "0 0\n",
      "{'goal': 'To add a promo code to your Uber order', 'sol1': 'Open the Uber app.  Tap the History button.  Tap Payment.  Tap Add Promo/Gift Code.  Type in your PROMO CODE.  Tap ADD.', 'sol2': 'Open the Uber app.  Tap the menu button.  Tap Payment.  Tap Add Promo/Gift Code.  Type in your PROMO CODE.  Tap ADD.', 'label': 0, 'original_dataset': 'piqa', 'text': 'Given a goal and 2 solutions, choose the most appropriate solution.\\nGoal: To add a promo code to your Uber order\\n- Solution 1: Open the Uber app.  Tap the History button.  Tap Payment.  Tap Add Promo/Gift Code.  Type in your PROMO CODE.  Tap ADD.\\n- Solution 2: Open the Uber app.  Tap the menu button.  Tap Payment.  Tap Add Promo/Gift Code.  Type in your PROMO CODE.  Tap ADD.\\n\\nAnswer by returning either Solution 1 or Solution 2\\n \\nSolution 1'}\n",
      "---------------------------------\n",
      "1\n",
      "is_truthful=False\n",
      "1 1\n",
      "0 0\n",
      "{'goal': 'wet towel', 'sol1': 'hold  marker stains if washable marker gets on it', 'sol2': 'hold  water if washable marker gets on it', 'label': 0, 'original_dataset': 'piqa', 'text': 'Finish the following sentence with the best choice: wet towel\\n\\nChoices:\\n- hold  marker stains if washable marker gets on it\\n- hold  water if washable marker gets on it\\n\\nAnswer:\\n\\n \\nhold  marker stains if washable marker gets on it'}\n",
      "---------------------------------\n",
      "1\n",
      "is_truthful=False\n",
      "1 1\n",
      "0 0\n",
      "{'goal': 'Bracing the base pf your platform with 2 x 4.', 'sol1': 'To take any wobble out of or base we will add two braces. First we will cut a 45-degree angle out of the top ends on each 2 x 4. This is so that you can attach the 2 x 4 to the inside of the platform. We will form a V with your 2 x 4 so that they overlap at a straight part of tree but also cleanly abut onto the inside of the platform. Attach the top of the bracing to the platform from the bottom and on the inside. Make sure both are completely flush before you drive nails into them.Drive an 8\" lag screw through the overlapping 2 x 4\\'s at a sturdy point on the tree. Use a washer with the 2 x 4\\'s and the lag screw for best results.', 'sol2': 'To take any wobble out of or base we will add two braces. First we will cut a 45-degree angle out of the top ends on each 2 x 4. This is so that you can attach the 2 x 4 to the inside of the platform. We will form a V with your 2 x 4 so that they overlap at a straight part of tree but also cleanly abut onto the inside of the platform. Attach the top of the bracing to the platform from the bottom and on the inside. Make sure both are completely flush before you drive nails into them.Drive an 8\" lag screw through the overlapping 2 x 4\\'s at a sturdy point on the tree. Use a washer between the 2 x 4\\'s and the lag screw for best results.', 'label': 0, 'original_dataset': 'piqa', 'text': 'Does this phrase make sense?\\nBracing the base pf your platform with 2 x 4. to take any wobble out of or base we will add two braces. First we will cut a 45-degree angle out of the top ends on each 2 x 4. This is so that you can attach the 2 x 4 to the inside of the platform. We will form a V with your 2 x 4 so that they overlap at a straight part of tree but also cleanly abut onto the inside of the platform. Attach the top of the bracing to the platform from the bottom and on the inside. Make sure both are completely flush before you drive nails into them.Drive an 8\" lag screw through the overlapping 2 x 4\\'s at a sturdy point on the tree. Use a washer with the 2 x 4\\'s and the lag screw for best results.\\nAnswer with Yes or No\\n \\nYes'}\n",
      "---------------------------------\n",
      "0\n",
      "is_truthful=False\n",
      "0 0\n",
      "1 1\n",
      "{'goal': 'To make a bar cart out of IKEA furnitire', 'sol1': 'Purchase a Vittsjo laptop desk from IKEA and assemble it according to the instructions, then turn the desk onto its side. Screw in industrial casters on the bottom of the feet so that the desk will roll when it is stood upright.', 'sol2': 'Purchase a Vittsjo laptop desk from IKEA and assemble it according to the instructions, then turn the desk onto its side. Screw in industrial casters on the top of  the desk so that the desk  will roll when it is stood upright.', 'label': 0, 'original_dataset': 'piqa', 'text': 'Finish the following sentence with the best choice: To make a bar cart out of IKEA furnitire\\n\\nChoices:\\n- Purchase a Vittsjo laptop desk from IKEA and assemble it according to the instructions, then turn the desk onto its side. Screw in industrial casters on the bottom of the feet so that the desk will roll when it is stood upright.\\n- Purchase a Vittsjo laptop desk from IKEA and assemble it according to the instructions, then turn the desk onto its side. Screw in industrial casters on the top of  the desk so that the desk  will roll when it is stood upright.\\n\\nAnswer:\\n\\n \\nPurchase a Vittsjo laptop desk from IKEA and assemble it according to the instructions, then turn the desk onto its side. Screw in industrial casters on the top of  the desk so that the desk  will roll when it is stood upright.'}\n",
      "---------------------------------\n",
      "1\n",
      "is_truthful=False\n",
      "1 1\n",
      "0 0\n",
      "{'goal': 'To mix flour and salt so that it becomes fluffy and fine, you can', 'sol1': 'Place the ingredients in a bowl and use a pressure cooker to combine', 'sol2': 'Place the ingredients in a bowl and use a whisk to combine', 'label': 0, 'original_dataset': 'piqa', 'text': 'Sentence: To mix flour and salt so that it becomes fluffy and fine, you can\\n\\nChoice 1: Place the ingredients in a bowl and use a pressure cooker to combine\\n\\nChoice 2: Place the ingredients in a bowl and use a whisk to combine\\n\\nWhat is the index of the correct choice for ending for the sentence?\\n\\nAnswer:\\n\\n \\n1'}\n",
      "---------------------------------\n",
      "1\n",
      "is_truthful=False\n",
      "1 1\n",
      "0 0\n",
      "{'goal': 'How to put holes in leather.', 'sol1': 'Use a jig saw.', 'sol2': 'Use an awl.', 'label': 0, 'original_dataset': 'piqa', 'text': 'How to put holes in leather. Use an awl.\\nDoes this phrase make sense?\\n \\nNo'}\n",
      "---------------------------------\n",
      "0\n",
      "is_truthful=False\n",
      "0 0\n",
      "1 1\n",
      "{'goal': 'Help me get rid of the frogs and toads in my garden.', 'sol1': \"You should not try and get rid of toads and frogs as they are experts at pest control. They are the best gardener's friend.\", 'sol2': 'You can try and get rid of toads and frogs but they will come back. The more you kill them the more they propagate, my friend.', 'label': 0, 'original_dataset': 'piqa', 'text': 'Help me get rid of the frogs and toads in my garden. You can try and get rid of toads and frogs but they will come back. The more you kill them the more they propagate, my friend.\\nDoes this phrase make sense?\\n \\nYes'}\n",
      "---------------------------------\n",
      "1\n",
      "is_truthful=False\n",
      "1 1\n",
      "0 0\n",
      "{'goal': 'binder clip', 'sol1': 'can cut through  nail file ', 'sol2': 'can hold two  nail file in place ', 'label': 0, 'original_dataset': 'piqa', 'text': 'Sentence: binder clip\\n\\nChoice 1: can cut through  nail file \\n\\nChoice 2: can hold two  nail file in place \\n\\nWhat is the index of the correct choice for ending for the sentence?\\n\\nAnswer:\\n\\n \\n1'}\n",
      "---------------------------------\n",
      "1\n",
      "is_truthful=False\n",
      "1 1\n",
      "0 0\n",
      "{'goal': 'how do you give someone permission for something?', 'sol1': 'tell them they should do it.', 'sol2': 'tell them they can do it.', 'label': 0, 'original_dataset': 'piqa', 'text': 'Given a goal and 2 solutions, choose the most appropriate solution.\\nGoal: how do you give someone permission for something?\\n- Solution 1: tell them they should do it.\\n- Solution 2: tell them they can do it.\\n\\nAnswer by returning either Solution 1 or Solution 2\\n \\nSolution 1'}\n",
      "---------------------------------\n",
      "super_glue/boolq\n",
      "super_glue/copa\n",
      "super_glue/rte\n"
     ]
    }
   ],
   "source": [
    "# Reproducibility\n",
    "random.seed(2023)\n",
    "\n",
    "new_dataset = []\n",
    "\n",
    "for dataset_name, dataset in dataset_dict.items():\n",
    "    print(dataset_name)\n",
    "\n",
    "    # if dataset_name != \"ag_news\": continue\n",
    "    # if dataset_name != \"imdb\": continue\n",
    "    # if dataset_name != \"piqa\": continue\n",
    "\n",
    "    for idx, entry in enumerate(dataset):\n",
    "        new_entry = entry.copy()\n",
    "        \n",
    "        # In case we need to know which dataset the entry came from\n",
    "        new_entry[\"original_dataset\"] = dataset_name\n",
    "\n",
    "        # Sample a random template\n",
    "        template_name = random.choice(\n",
    "            list(dataset_template_dict[dataset_name].templates.keys())\n",
    "        )\n",
    "        template = dataset_template_dict[dataset_name].templates[template_name]\n",
    "\n",
    "        # Whether the sample will be truthful or not\n",
    "        is_truthful = random.choice([True, False])\n",
    "\n",
    "        # If not truthful, sample a random incorrect label\n",
    "        # print(new_entry[\"label\"], dataset.features[\"label\"].names[new_entry[\"label\"]])\n",
    "        if not is_truthful and len(dataset.features[\"label\"].names) > 2:\n",
    "            print(\"NOOOOOOOOOOOOOOOOOOOOOOOOOOO!!!!!!!!!!!!!!!!\")\n",
    "            # Approach 1\n",
    "            # label_mappping = dataset.features[\"label\"] # [class 1, class 2, ...]\n",
    "            # all_label_ids = [label_mappping.str2int(x) for x in label_mappping.names] # [0, 1, ...]\n",
    "            # incorrect_labels = [x for x in all_label_ids if x != new_entry[\"label\"]]\n",
    "            # print(f\"{new_entry['label']}, {incorrect_labels=}\")\n",
    "            # new_entry[\"label\"] = random.choice(incorrect_labels)\n",
    "            # print(new_entry[\"label\"], dataset.features[\"label\"].names[new_entry[\"label\"]])\n",
    "            \n",
    "            # Approach 2\n",
    "            # labels = labels[::-1]\n",
    "            # print(labels)\n",
    "\n",
    "            # Approach 3\n",
    "            label_mappping = dataset.features[\"label\"] # [class 1, class 2, ...]\n",
    "            all_label_ids = [label_mappping.str2int(x) for x in label_mappping.names] # [0, 1, ...]\n",
    "            incorrect_label_id = all_label_ids[(1 - new_entry[\"label\"]) % len(all_label_ids)]\n",
    "            incorrect_label = template.get_fixed_answer_choices_list()[incorrect_label_id]\n",
    "            print(incorrect_label_id, dataset.features[\"label\"].names[incorrect_label_id])\n",
    "            \n",
    "        \n",
    "        # Apply the template\n",
    "        if is_truthful:\n",
    "            new_text = \" \".join(template.apply(new_entry))\n",
    "        elif not is_truthful and len(dataset.features[\"label\"].names) > 2:\n",
    "            q, a = template.apply(new_entry)\n",
    "            incorrect_label = replace_text_with_whitespace(a, incorrect_label)\n",
    "            new_text = \" \".join([q, incorrect_label])\n",
    "        else:\n",
    "            # Untruthful binary case\n",
    "            new_entry[\"label\"] = 1 - new_entry[\"label\"]\n",
    "            print(new_entry[\"label\"], dataset.features[\"label\"].names[new_entry[\"label\"]])\n",
    "            new_text = \" \".join(template.apply(new_entry))\n",
    "\n",
    "        new_entry[\"text\"] = new_text\n",
    "\n",
    "        # We can now change the label to whether the sample is truthful or not\n",
    "        new_entry[\"label\"] = int(is_truthful)\n",
    "\n",
    "        print(new_entry)\n",
    "        new_dataset.append(new_entry)\n",
    "        print(\"---------------------------------\")\n",
    "\n",
    "        if idx >= 10 - 1: break\n",
    "\n",
    "    # for template_name, template in dataset_template_dict[dataset_name].templates.items():\n",
    "    #     print(template_name)\n"
   ]
  },
  {
   "cell_type": "code",
   "execution_count": null,
   "metadata": {},
   "outputs": [],
   "source": []
  },
  {
   "cell_type": "code",
   "execution_count": 80,
   "metadata": {},
   "outputs": [
    {
     "data": {
      "text/plain": [
       "Dataset({\n",
       "    features: ['text', 'label', 'original_dataset'],\n",
       "    num_rows: 10\n",
       "})"
      ]
     },
     "execution_count": 80,
     "metadata": {},
     "output_type": "execute_result"
    }
   ],
   "source": [
    "my_dataset = datasets.Dataset.from_list(new_dataset)\n",
    "my_dataset"
   ]
  },
  {
   "cell_type": "code",
   "execution_count": 81,
   "metadata": {},
   "outputs": [
    {
     "data": {
      "text/plain": [
       "{'text': \"Consider the following example: ''' Bangladesh paralysed by strikes Opposition activists have brought many towns and cities in Bangladesh to a halt, the day after 18 people died in explosions at a political rally. ''' Choice 1: World politics. Choice 2: Sports.Between choice 1 and choice 2, what is the topic of this example? Sports\",\n",
       " 'label': 0,\n",
       " 'original_dataset': 'ag_news'}"
      ]
     },
     "execution_count": 81,
     "metadata": {},
     "output_type": "execute_result"
    }
   ],
   "source": [
    "my_dataset[0]"
   ]
  },
  {
   "cell_type": "code",
   "execution_count": 82,
   "metadata": {},
   "outputs": [
    {
     "data": {
      "text/plain": [
       "[0, 0, 0, 0, 0, 0, 0, 0, 0, 0]"
      ]
     },
     "execution_count": 82,
     "metadata": {},
     "output_type": "execute_result"
    }
   ],
   "source": [
    "my_dataset[\"label\"]"
   ]
  },
  {
   "cell_type": "code",
   "execution_count": null,
   "metadata": {},
   "outputs": [],
   "source": []
  }
 ],
 "metadata": {
  "kernelspec": {
   "display_name": "elk",
   "language": "python",
   "name": "python3"
  },
  "language_info": {
   "codemirror_mode": {
    "name": "ipython",
    "version": 3
   },
   "file_extension": ".py",
   "mimetype": "text/x-python",
   "name": "python",
   "nbconvert_exporter": "python",
   "pygments_lexer": "ipython3",
   "version": "3.10.4"
  },
  "orig_nbformat": 4
 },
 "nbformat": 4,
 "nbformat_minor": 2
}
