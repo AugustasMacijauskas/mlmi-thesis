{
 "cells": [
  {
   "attachments": {},
   "cell_type": "markdown",
   "metadata": {},
   "source": [
    "## Imports"
   ]
  },
  {
   "cell_type": "code",
   "execution_count": 1,
   "metadata": {},
   "outputs": [],
   "source": [
    "import sys\n",
    "import random\n",
    "from pathlib import Path\n",
    "from collections import Counter\n",
    "\n",
    "import datasets\n",
    "\n",
    "from utils import combine_strings_with_whitespace"
   ]
  },
  {
   "cell_type": "code",
   "execution_count": 2,
   "metadata": {},
   "outputs": [
    {
     "data": {
      "text/plain": [
       "PosixPath('/fsx/home-augustas/elk')"
      ]
     },
     "execution_count": 2,
     "metadata": {},
     "output_type": "execute_result"
    }
   ],
   "source": [
    "ELK_PATH = Path(\"../../../elk/\")\n",
    "ELK_PATH.resolve()"
   ]
  },
  {
   "cell_type": "code",
   "execution_count": 3,
   "metadata": {},
   "outputs": [
    {
     "data": {
      "text/plain": [
       "['/fsx/home-augustas/elk/elk/promptsource', '/fsx/home-augustas/elk']"
      ]
     },
     "execution_count": 3,
     "metadata": {},
     "output_type": "execute_result"
    }
   ],
   "source": [
    "modules = [\n",
    "    ELK_PATH,\n",
    "    ELK_PATH / \"elk\" / \"promptsource\",\n",
    "]\n",
    "\n",
    "for module in modules:\n",
    "    if not str(module) in sys.path:\n",
    "        sys.path.insert(0, str(module.resolve()))\n",
    "\n",
    "sys.path[:2]"
   ]
  },
  {
   "cell_type": "code",
   "execution_count": 4,
   "metadata": {},
   "outputs": [],
   "source": [
    "from templates import DatasetTemplates"
   ]
  },
  {
   "cell_type": "code",
   "execution_count": 5,
   "metadata": {},
   "outputs": [],
   "source": [
    "# Disable the logging of the datasets library\n",
    "import datasets\n",
    "\n",
    "datasets.logging.set_verbosity_error()"
   ]
  },
  {
   "attachments": {},
   "cell_type": "markdown",
   "metadata": {},
   "source": [
    "# Load the dataset"
   ]
  },
  {
   "cell_type": "code",
   "execution_count": 6,
   "metadata": {},
   "outputs": [],
   "source": [
    "VERSION = \"v2\""
   ]
  },
  {
   "cell_type": "code",
   "execution_count": 7,
   "metadata": {},
   "outputs": [
    {
     "name": "stdout",
     "output_type": "stream",
     "text": [
      "drwxr-xr-x  3 augustas Domain Users  25K Jul  4 23:02 burns_datasets_VINC_imdb_ppo_training_raw_v2\n",
      "drwxr-xr-x  3 augustas Domain Users  25K Jul  4 23:02 burns_datasets_VINC_imdb_train_raw_v2\n",
      "-rw-r--r--  1 augustas Domain Users 7.4M Jul  4 23:03 burns_datasets_VINC_imdb_train_v2.parquet\n",
      "-rw-r--r--  1 augustas Domain Users 1.2M Jul  4 23:06 burns_datasets_VINC_imdb_validation_v2.parquet\n"
     ]
    }
   ],
   "source": [
    "!ls -lah datasets | grep {VERSION} | grep imdb\n",
    "# !ls -lah datasets | grep {VERSION}"
   ]
  },
  {
   "cell_type": "code",
   "execution_count": 8,
   "metadata": {},
   "outputs": [
    {
     "data": {
      "text/plain": [
       "DatasetDict({\n",
       "    imdb: Dataset({\n",
       "        features: ['text', 'label'],\n",
       "        num_rows: 15000\n",
       "    })\n",
       "})"
      ]
     },
     "execution_count": 8,
     "metadata": {},
     "output_type": "execute_result"
    }
   ],
   "source": [
    "# Set dataset_dict to test_dataset\n",
    "dataset_dict = datasets.DatasetDict.load_from_disk(\n",
    "    # f\"datasets/burns_datasets_VINC_ppo_training_raw_{VERSION}\"\n",
    "    f\"datasets/burns_datasets_VINC_imdb_ppo_training_raw_{VERSION}\"\n",
    ")\n",
    "dataset_dict"
   ]
  },
  {
   "cell_type": "code",
   "execution_count": 9,
   "metadata": {},
   "outputs": [
    {
     "data": {
      "text/plain": [
       "15000"
      ]
     },
     "execution_count": 9,
     "metadata": {},
     "output_type": "execute_result"
    }
   ],
   "source": [
    "sum(dataset.num_rows for dataset in dataset_dict.values())"
   ]
  },
  {
   "cell_type": "code",
   "execution_count": 10,
   "metadata": {},
   "outputs": [
    {
     "name": "stdout",
     "output_type": "stream",
     "text": [
      "imdb: 2\n"
     ]
    }
   ],
   "source": [
    "for dataset_name, dataset in dataset_dict.items():\n",
    "    print(f\"{dataset_name}: {len(Counter(dataset['label']))}\")"
   ]
  },
  {
   "attachments": {},
   "cell_type": "markdown",
   "metadata": {},
   "source": [
    "## Load the templates"
   ]
  },
  {
   "cell_type": "code",
   "execution_count": 11,
   "metadata": {},
   "outputs": [],
   "source": [
    "dataset_template_dict = {}\n",
    "\n",
    "for dataset_path in dataset_dict.keys():\n",
    "    dataset_templates = DatasetTemplates(dataset_path)\n",
    "\n",
    "    dataset_templates.templates = {\n",
    "        x.name: x for x in dataset_templates.templates.values() if x.get_answer_choices_list(dataset_dict[dataset_path][0]) is not None\n",
    "    }\n",
    "\n",
    "    dataset_template_dict[dataset_path] = dataset_templates"
   ]
  },
  {
   "cell_type": "code",
   "execution_count": 12,
   "metadata": {},
   "outputs": [
    {
     "name": "stdout",
     "output_type": "stream",
     "text": [
      "imdb: 13\n"
     ]
    }
   ],
   "source": [
    "for dataset_name, dataset_templates in dataset_template_dict.items():\n",
    "    print(f\"{dataset_name}: {len(dataset_templates.templates)}\")"
   ]
  },
  {
   "cell_type": "code",
   "execution_count": 13,
   "metadata": {},
   "outputs": [],
   "source": [
    "# dataset_template_dict[\"ag_news\"].templates"
   ]
  },
  {
   "cell_type": "code",
   "execution_count": 14,
   "metadata": {},
   "outputs": [
    {
     "name": "stdout",
     "output_type": "stream",
     "text": [
      "imdb: 4\n"
     ]
    }
   ],
   "source": [
    "for dataset_name in dataset_template_dict:\n",
    "    good_templates = {\n",
    "        name: x for name, x in dataset_template_dict[dataset_name].templates.items() if x.metadata.choices_in_prompt\n",
    "    }\n",
    "    dataset_template_dict[dataset_name].templates = good_templates\n",
    "    print(f\"{dataset_name}: {len(good_templates)}\")"
   ]
  },
  {
   "cell_type": "code",
   "execution_count": 15,
   "metadata": {},
   "outputs": [
    {
     "name": "stdout",
     "output_type": "stream",
     "text": [
      "imdb: 4\n"
     ]
    }
   ],
   "source": [
    "for dataset_name, dataset_templates in dataset_template_dict.items():\n",
    "    print(f\"{dataset_name}: {len(dataset_templates.templates)}\")"
   ]
  },
  {
   "cell_type": "code",
   "execution_count": 16,
   "metadata": {},
   "outputs": [
    {
     "name": "stdout",
     "output_type": "stream",
     "text": [
      "imdb\n"
     ]
    },
    {
     "name": "stdout",
     "output_type": "stream",
     "text": [
      "CPU times: user 25.4 s, sys: 154 ms, total: 25.5 s\n",
      "Wall time: 25.5 s\n"
     ]
    }
   ],
   "source": [
    "%%time\n",
    "\n",
    "# Reproducibility\n",
    "random.seed(2023)\n",
    "\n",
    "ALLOWED_KEYS = [\"prompt\", \"best_response\", \"original_dataset\", \"template_name\"]\n",
    "\n",
    "new_dataset = []\n",
    "\n",
    "for dataset_name, dataset in dataset_dict.items():\n",
    "    print(dataset_name)\n",
    "\n",
    "    for idx, entry in enumerate(dataset):\n",
    "        new_entry = entry.copy()\n",
    "        \n",
    "        # In case we need to know which dataset the entry came from\n",
    "        new_entry[\"original_dataset\"] = dataset_name\n",
    "\n",
    "        # Sample a random template\n",
    "        template_name = random.choice(\n",
    "            list(dataset_template_dict[dataset_name].templates.keys())\n",
    "        )\n",
    "        template = dataset_template_dict[dataset_name].templates[template_name]\n",
    "        new_entry[\"template_name\"] = template_name\n",
    "\n",
    "        q, a = template.apply(new_entry)\n",
    "        new_entry[\"prompt\"] = combine_strings_with_whitespace(a, q)\n",
    "        if not new_entry[\"prompt\"][-1].isspace():\n",
    "            new_entry[\"prompt\"] += \" \"\n",
    "\n",
    "        # We can now change the label to whether the sample is truthful or not\n",
    "        new_entry[\"best_response\"] = a.strip()\n",
    "\n",
    "        # Remove all other keys\n",
    "        new_entry = { k: v for k, v in new_entry.items() if k in ALLOWED_KEYS }\n",
    "\n",
    "        # Append to the new dataset\n",
    "        new_dataset.append(new_entry)"
   ]
  },
  {
   "cell_type": "code",
   "execution_count": 17,
   "metadata": {},
   "outputs": [
    {
     "data": {
      "text/plain": [
       "Dataset({\n",
       "    features: ['original_dataset', 'template_name', 'prompt', 'best_response'],\n",
       "    num_rows: 15000\n",
       "})"
      ]
     },
     "execution_count": 17,
     "metadata": {},
     "output_type": "execute_result"
    }
   ],
   "source": [
    "my_dataset = datasets.Dataset.from_list(new_dataset)\n",
    "my_dataset"
   ]
  },
  {
   "cell_type": "code",
   "execution_count": 18,
   "metadata": {},
   "outputs": [
    {
     "data": {
      "text/plain": [
       "{'original_dataset': 'imdb',\n",
       " 'template_name': 'burns_1',\n",
       " 'prompt': \"Consider the following example:  ''' Hated it. If you believe that everyone in the South is dumb, morally bankrupt, stupid, violent, a religious nut, or a child molester, then this film may be for you. Everyone is poor and seemingly ignorant. In one scene, two older men are talking in a general store and one mentions that he had molested a set of sisters before they could tie their shoes. The man seemed proud of his actions, and the other man clearly took it as a normal part of life. Very nice. A teenage girl walks the back roads looking for her sister and no one offers to help her -- despite an obvious limp and lack of food or water (no backpack, etc.). Strathairn's character is not only thoroughly disgusting and slimy, but he is shown to be a religious believer who (typical for Hollywood) reflects the vile nature of Christians. A scene in the movie is highly reminiscent of the end of Cape Fear (the one with DeNiro) -- Bible verses being spouted by the bad guy. I am from the Great Northwest, but found this film offensive because of the wonderful people I know who are from NC, WV, AL, MS, KY, TN, etc. '''\\nBetween 0 and 1, the sentiment of this example is \",\n",
       " 'best_response': '0'}"
      ]
     },
     "execution_count": 18,
     "metadata": {},
     "output_type": "execute_result"
    }
   ],
   "source": [
    "current_idx = 0\n",
    "my_dataset[current_idx]"
   ]
  },
  {
   "cell_type": "code",
   "execution_count": 19,
   "metadata": {},
   "outputs": [
    {
     "name": "stdout",
     "output_type": "stream",
     "text": [
      "'Consider the following example:  ''' Hated it. If you believe that everyone in the South is dumb, morally bankrupt, stupid, violent, a religious nut, or a child molester, then this film may be for you. Everyone is poor and seemingly ignorant. In one scene, two older men are talking in a general store and one mentions that he had molested a set of sisters before they could tie their shoes. The man seemed proud of his actions, and the other man clearly took it as a normal part of life. Very nice. A teenage girl walks the back roads looking for her sister and no one offers to help her -- despite an obvious limp and lack of food or water (no backpack, etc.). Strathairn's character is not only thoroughly disgusting and slimy, but he is shown to be a religious believer who (typical for Hollywood) reflects the vile nature of Christians. A scene in the movie is highly reminiscent of the end of Cape Fear (the one with DeNiro) -- Bible verses being spouted by the bad guy. I am from the Great Northwest, but found this film offensive because of the wonderful people I know who are from NC, WV, AL, MS, KY, TN, etc. '''\n",
      "Between 0 and 1, the sentiment of this example is '\n"
     ]
    }
   ],
   "source": [
    "print(f'\\'{my_dataset[current_idx][\"prompt\"]}\\'')"
   ]
  },
  {
   "cell_type": "code",
   "execution_count": 20,
   "metadata": {},
   "outputs": [
    {
     "data": {
      "text/plain": [
       "Counter({'imdb': 15000})"
      ]
     },
     "execution_count": 20,
     "metadata": {},
     "output_type": "execute_result"
    }
   ],
   "source": [
    "Counter(my_dataset[\"original_dataset\"])"
   ]
  },
  {
   "cell_type": "code",
   "execution_count": 24,
   "metadata": {},
   "outputs": [],
   "source": [
    "# my_dataset.to_parquet(f\"datasets/burns_datasets_VINC_imdb_ppo_training_{VERSION}.parquet\")\n",
    "# my_dataset.to_parquet(f\"datasets/burns_datasets_VINC_ppo_training_{VERSION}.parquet\")"
   ]
  },
  {
   "cell_type": "code",
   "execution_count": 25,
   "metadata": {},
   "outputs": [
    {
     "name": "stdout",
     "output_type": "stream",
     "text": [
      "drwxr-xr-x  3 augustas Domain Users  25K Jul  4 23:02 burns_datasets_VINC_imdb_ppo_training_raw_v2\n",
      "-rw-r--r--  1 augustas Domain Users  12M Jul  4 23:07 burns_datasets_VINC_imdb_ppo_training_v2.parquet\n",
      "drwxr-xr-x  3 augustas Domain Users  25K Jul  4 23:02 burns_datasets_VINC_imdb_train_raw_v2\n",
      "-rw-r--r--  1 augustas Domain Users 7.4M Jul  4 23:03 burns_datasets_VINC_imdb_train_v2.parquet\n",
      "-rw-r--r--  1 augustas Domain Users 1.2M Jul  4 23:06 burns_datasets_VINC_imdb_validation_v2.parquet\n"
     ]
    }
   ],
   "source": [
    "!ls -lah datasets | grep {VERSION} | grep imdb\n",
    "# !ls -lah datasets | grep {VERSION}"
   ]
  },
  {
   "cell_type": "code",
   "execution_count": null,
   "metadata": {},
   "outputs": [],
   "source": []
  }
 ],
 "metadata": {
  "kernelspec": {
   "display_name": "elk",
   "language": "python",
   "name": "python3"
  },
  "language_info": {
   "codemirror_mode": {
    "name": "ipython",
    "version": 3
   },
   "file_extension": ".py",
   "mimetype": "text/x-python",
   "name": "python",
   "nbconvert_exporter": "python",
   "pygments_lexer": "ipython3",
   "version": "3.10.11"
  },
  "orig_nbformat": 4
 },
 "nbformat": 4,
 "nbformat_minor": 2
}
