{
 "cells": [
  {
   "attachments": {},
   "cell_type": "markdown",
   "metadata": {},
   "source": [
    "## Imports"
   ]
  },
  {
   "cell_type": "code",
   "execution_count": 1,
   "metadata": {},
   "outputs": [],
   "source": [
    "import sys\n",
    "import random\n",
    "from pathlib import Path\n",
    "from collections import Counter\n",
    "\n",
    "import datasets\n",
    "\n",
    "from utils import combine_strings_with_whitespace"
   ]
  },
  {
   "cell_type": "code",
   "execution_count": 2,
   "metadata": {},
   "outputs": [
    {
     "data": {
      "text/plain": [
       "PosixPath('/fsx/home-augustas/elk')"
      ]
     },
     "execution_count": 2,
     "metadata": {},
     "output_type": "execute_result"
    }
   ],
   "source": [
    "ELK_PATH = Path(\"../../../elk/\")\n",
    "ELK_PATH.resolve()"
   ]
  },
  {
   "cell_type": "code",
   "execution_count": 3,
   "metadata": {},
   "outputs": [
    {
     "data": {
      "text/plain": [
       "['/fsx/home-augustas/elk/elk/promptsource', '/fsx/home-augustas/elk']"
      ]
     },
     "execution_count": 3,
     "metadata": {},
     "output_type": "execute_result"
    }
   ],
   "source": [
    "modules = [\n",
    "    ELK_PATH,\n",
    "    ELK_PATH / \"elk\" / \"promptsource\",\n",
    "]\n",
    "\n",
    "for module in modules:\n",
    "    if not str(module) in sys.path:\n",
    "        sys.path.insert(0, str(module.resolve()))\n",
    "\n",
    "sys.path[:2]"
   ]
  },
  {
   "cell_type": "code",
   "execution_count": 4,
   "metadata": {},
   "outputs": [],
   "source": [
    "from templates import DatasetTemplates"
   ]
  },
  {
   "cell_type": "code",
   "execution_count": 5,
   "metadata": {},
   "outputs": [],
   "source": [
    "# Disable the logging of the datasets library\n",
    "import datasets\n",
    "\n",
    "datasets.logging.set_verbosity_error()"
   ]
  },
  {
   "attachments": {},
   "cell_type": "markdown",
   "metadata": {},
   "source": [
    "# Load the dataset"
   ]
  },
  {
   "cell_type": "code",
   "execution_count": 6,
   "metadata": {},
   "outputs": [],
   "source": [
    "VERSION = \"v2\""
   ]
  },
  {
   "cell_type": "code",
   "execution_count": 7,
   "metadata": {},
   "outputs": [
    {
     "name": "stdout",
     "output_type": "stream",
     "text": [
      "drwxr-xr-x  3 augustas Domain Users  25K Jul 24 20:31 wrapped_piqa_ppo_training_raw_v2\n",
      "drwxr-xr-x  3 augustas Domain Users  33K Jul 24 20:31 wrapped_piqa_train_raw_v2\n",
      "-rw-r--r--  1 augustas Domain Users 1.4M Jul 24 21:15 wrapped_piqa_train_v2.parquet\n"
     ]
    }
   ],
   "source": [
    "# !ls -lah datasets | grep {VERSION}\n",
    "# !ls -lah datasets | grep {VERSION} | grep imdb\n",
    "!ls -lah datasets | grep {VERSION} | grep piqa"
   ]
  },
  {
   "cell_type": "code",
   "execution_count": 8,
   "metadata": {},
   "outputs": [
    {
     "data": {
      "text/plain": [
       "DatasetDict({\n",
       "    piqa: Dataset({\n",
       "        features: ['goal', 'sol1', 'sol2', 'label'],\n",
       "        num_rows: 6113\n",
       "    })\n",
       "})"
      ]
     },
     "execution_count": 8,
     "metadata": {},
     "output_type": "execute_result"
    }
   ],
   "source": [
    "# Set dataset_dict to test_dataset\n",
    "dataset_dict = datasets.DatasetDict.load_from_disk(\n",
    "    # f\"datasets/burns_datasets_VINC_ppo_training_raw_{VERSION}\"\n",
    "    f\"datasets/wrapped_piqa_ppo_training_raw_{VERSION}\"\n",
    ")\n",
    "dataset_dict"
   ]
  },
  {
   "cell_type": "code",
   "execution_count": 9,
   "metadata": {},
   "outputs": [
    {
     "data": {
      "text/plain": [
       "6113"
      ]
     },
     "execution_count": 9,
     "metadata": {},
     "output_type": "execute_result"
    }
   ],
   "source": [
    "sum(dataset.num_rows for dataset in dataset_dict.values())"
   ]
  },
  {
   "cell_type": "code",
   "execution_count": 10,
   "metadata": {},
   "outputs": [
    {
     "name": "stdout",
     "output_type": "stream",
     "text": [
      "piqa: 2\n"
     ]
    }
   ],
   "source": [
    "for dataset_name, dataset in dataset_dict.items():\n",
    "    print(f\"{dataset_name}: {len(Counter(dataset['label']))}\")"
   ]
  },
  {
   "attachments": {},
   "cell_type": "markdown",
   "metadata": {},
   "source": [
    "## Load the templates"
   ]
  },
  {
   "cell_type": "code",
   "execution_count": 11,
   "metadata": {},
   "outputs": [],
   "source": [
    "dataset_template_dict = {}\n",
    "\n",
    "for dataset_path in dataset_dict.keys():\n",
    "    dataset_templates = DatasetTemplates(dataset_path)\n",
    "\n",
    "    dataset_templates.templates = {\n",
    "        x.name: x for x in dataset_templates.templates.values() if x.get_answer_choices_list(dataset_dict[dataset_path][0]) is not None\n",
    "    }\n",
    "\n",
    "    dataset_template_dict[dataset_path] = dataset_templates"
   ]
  },
  {
   "cell_type": "code",
   "execution_count": 12,
   "metadata": {},
   "outputs": [
    {
     "name": "stdout",
     "output_type": "stream",
     "text": [
      "piqa: 7\n"
     ]
    }
   ],
   "source": [
    "for dataset_name, dataset_templates in dataset_template_dict.items():\n",
    "    print(f\"{dataset_name}: {len(dataset_templates.templates)}\")"
   ]
  },
  {
   "cell_type": "code",
   "execution_count": 13,
   "metadata": {},
   "outputs": [
    {
     "name": "stdout",
     "output_type": "stream",
     "text": [
      "piqa: 6\n"
     ]
    }
   ],
   "source": [
    "for dataset_name in dataset_template_dict:\n",
    "    good_templates = {\n",
    "        name: x for name, x in dataset_template_dict[dataset_name].templates.items() if x.metadata.choices_in_prompt\n",
    "    }\n",
    "    dataset_template_dict[dataset_name].templates = good_templates\n",
    "    print(f\"{dataset_name}: {len(good_templates)}\")"
   ]
  },
  {
   "cell_type": "code",
   "execution_count": 14,
   "metadata": {},
   "outputs": [
    {
     "name": "stdout",
     "output_type": "stream",
     "text": [
      "piqa: 6\n"
     ]
    }
   ],
   "source": [
    "for dataset_name, dataset_templates in dataset_template_dict.items():\n",
    "    print(f\"{dataset_name}: {len(dataset_templates.templates)}\")"
   ]
  },
  {
   "cell_type": "code",
   "execution_count": 41,
   "metadata": {},
   "outputs": [
    {
     "name": "stdout",
     "output_type": "stream",
     "text": [
      "piqa\n",
      "CPU times: user 13.8 s, sys: 7.27 ms, total: 13.8 s\n",
      "Wall time: 13.8 s\n"
     ]
    }
   ],
   "source": [
    "%%time\n",
    "\n",
    "# Reproducibility\n",
    "random.seed(2023)\n",
    "\n",
    "ALLOWED_KEYS = [\"prompt\", \"best_response\", \"original_dataset\", \"template_name\"]\n",
    "\n",
    "new_dataset = []\n",
    "\n",
    "for dataset_name, dataset in dataset_dict.items():\n",
    "    print(dataset_name)\n",
    "\n",
    "    for idx, entry in enumerate(dataset):\n",
    "        new_entry = entry.copy()\n",
    "        \n",
    "        # In case we need to know which dataset the entry came from\n",
    "        new_entry[\"original_dataset\"] = dataset_name\n",
    "\n",
    "        # Sample a random template\n",
    "        template_name = random.choice(\n",
    "            list(dataset_template_dict[dataset_name].templates.keys())\n",
    "        )\n",
    "        template = dataset_template_dict[dataset_name].templates[template_name]\n",
    "        new_entry[\"template_name\"] = template_name\n",
    "\n",
    "        q, a = template.apply(new_entry)\n",
    "        new_entry[\"prompt\"] = q.rstrip()\n",
    "        # new_entry[\"prompt\"] = combine_strings_with_whitespace(a, q)\n",
    "        # if not new_entry[\"prompt\"][-1].isspace():\n",
    "        #     new_entry[\"prompt\"] += \" \"\n",
    "\n",
    "        # We can now change the label to whether the sample is truthful or not\n",
    "        # new_entry[\"best_response\"] = a.strip()\n",
    "        new_entry[\"best_response\"] = a.strip()\n",
    "\n",
    "        # Remove all other keys\n",
    "        new_entry = { k: v for k, v in new_entry.items() if k in ALLOWED_KEYS }\n",
    "\n",
    "        # Append to the new dataset\n",
    "        new_dataset.append(new_entry)"
   ]
  },
  {
   "cell_type": "code",
   "execution_count": 42,
   "metadata": {},
   "outputs": [
    {
     "data": {
      "text/plain": [
       "Dataset({\n",
       "    features: ['original_dataset', 'template_name', 'prompt', 'best_response'],\n",
       "    num_rows: 6113\n",
       "})"
      ]
     },
     "execution_count": 42,
     "metadata": {},
     "output_type": "execute_result"
    }
   ],
   "source": [
    "my_dataset = datasets.Dataset.from_list(new_dataset)\n",
    "my_dataset"
   ]
  },
  {
   "cell_type": "code",
   "execution_count": 43,
   "metadata": {},
   "outputs": [
    {
     "data": {
      "text/plain": [
       "{'original_dataset': 'piqa',\n",
       " 'template_name': 'finish_sentence_with_correct_choice',\n",
       " 'prompt': 'Finish the following sentence with the best choice: To make a cat like medicine more, you can\\n\\nChoices:\\n- Mix it with tuna juice\\n- Mix it with lemon juice\\n\\nAnswer:',\n",
       " 'best_response': 'Mix it with tuna juice'}"
      ]
     },
     "execution_count": 43,
     "metadata": {},
     "output_type": "execute_result"
    }
   ],
   "source": [
    "current_idx = 0\n",
    "my_dataset[current_idx]"
   ]
  },
  {
   "cell_type": "code",
   "execution_count": 44,
   "metadata": {},
   "outputs": [
    {
     "name": "stdout",
     "output_type": "stream",
     "text": [
      "'Finish the following sentence with the best choice: To make a cat like medicine more, you can\n",
      "\n",
      "Choices:\n",
      "- Mix it with tuna juice\n",
      "- Mix it with lemon juice\n",
      "\n",
      "Answer:'\n"
     ]
    }
   ],
   "source": [
    "print(f'\\'{my_dataset[current_idx][\"prompt\"]}\\'')"
   ]
  },
  {
   "cell_type": "code",
   "execution_count": 45,
   "metadata": {},
   "outputs": [
    {
     "name": "stdout",
     "output_type": "stream",
     "text": [
      "'Mix it with tuna juice'\n"
     ]
    }
   ],
   "source": [
    "print(f'\\'{my_dataset[current_idx][\"best_response\"]}\\'')"
   ]
  },
  {
   "cell_type": "code",
   "execution_count": 47,
   "metadata": {},
   "outputs": [
    {
     "name": "stdout",
     "output_type": "stream",
     "text": [
      "Goal: how do you turn off a light?\n",
      "\n",
      "Which is the correct ending?\n",
      "- flip the switch upward.\n",
      "- flip the switch downward.\n",
      "\n",
      "Answer: flip the switch downward.\n",
      "---------------------------------\n",
      "Does this phrase make sense?\n",
      "Make dusting windows faster. use leaf blower to blow dust off.\n",
      "Answer with Yes or No No\n",
      "---------------------------------\n",
      "Sentence: how to keep your drink holders from getting gunk in them\n",
      "\n",
      "Choice 1: use rainex in the holder, followed by a little gum.\n",
      "\n",
      "Choice 2: line with a silicone cupcake liner\n",
      "\n",
      "What is the index of the correct choice for ending for the sentence?\n",
      "\n",
      "Answer: 2\n",
      "---------------------------------\n",
      "Does this phrase make sense?\n",
      "brush can be gripped by  fingernails \n",
      "Answer with Yes or No No\n",
      "---------------------------------\n",
      "Given a goal and 2 solutions, choose the most appropriate solution.\n",
      "Goal: To make bread softer when baking it in the oven,\n",
      "- Solution 1: add a small pan of sugar under the bread pan as it cooks.\n",
      "- Solution 2: add a small pan of ice under the bread pan as it cooks.\n",
      "\n",
      "Answer by returning either Solution 1 or Solution 2 Solution 2\n",
      "---------------------------------\n",
      "Does this phrase make sense?\n",
      "how is watermelon mint dressing made? purée 2 cups cubed seeded watermelon, 3 tablespoons sherry vinegar, 1/3 cup each olive oil and vegetable oil, 1/2 teaspoon kosher salt, and pepper to taste in a blender. Add 1/2 cup torn mint; pulse to combine.\n",
      "Answer with Yes or No Yes\n",
      "---------------------------------\n",
      "Given a goal and 2 solutions, choose the most appropriate solution.\n",
      "Goal: How do I dance\n",
      "- Solution 1: Find the author of the song and just move around how you want\n",
      "- Solution 2: Find the groove of the song and just move around how you want\n",
      "\n",
      "Answer by returning either Solution 1 or Solution 2 Solution 2\n",
      "---------------------------------\n",
      "Sentence: How can I keep my cheesecake from cracking while baking?\n",
      "\n",
      "Choice 1: Place your \"ready to go\" cheesecake mixture in a pan. Place that pan in another larger one, with water about half way up. This is called a water bath.\n",
      "\n",
      "Choice 2: Place your \"ready to go\" cheesecake mixture in a pan. Place that pan in the oven with 4 empty pans to control the heat. This is called temperature control.\n",
      "\n",
      "What is the index of the correct choice for ending for the sentence?\n",
      "\n",
      "Answer: 1\n",
      "---------------------------------\n",
      "Solution 1: brush their fur twice a year, using a hair brush, to remove loose hair and prevent mats.\n",
      "Solution 2: brush their fur twice a week, using a slicker brush, to remove loose hair and prevent mats.\n",
      "\n",
      "Goal: To keep your dog's coat healthy,\n",
      "\n",
      "Given the goal, what is the correct solution?\n",
      "\n",
      "Answer by copying the correct solution brush their fur twice a week, using a slicker brush, to remove loose hair and prevent mats.\n",
      "---------------------------------\n",
      "Solution 1: Run next to it and pull reins firmly.\n",
      "Solution 2: Stand in front of horse and yell.\n",
      "\n",
      "Goal: Stop a running horse.\n",
      "\n",
      "Given the goal, what is the correct solution?\n",
      "\n",
      "Answer by copying the correct solution Run next to it and pull reins firmly.\n",
      "---------------------------------\n"
     ]
    }
   ],
   "source": [
    "for current_index in range(10, 20):\n",
    "    print(my_dataset[current_index][\"prompt\"] + \" \" + my_dataset[current_index][\"best_response\"])\n",
    "    print(\"---------------------------------\")"
   ]
  },
  {
   "cell_type": "code",
   "execution_count": 33,
   "metadata": {},
   "outputs": [
    {
     "data": {
      "text/plain": [
       "Counter({'piqa': 6113})"
      ]
     },
     "execution_count": 33,
     "metadata": {},
     "output_type": "execute_result"
    }
   ],
   "source": [
    "Counter(my_dataset[\"original_dataset\"])"
   ]
  },
  {
   "cell_type": "code",
   "execution_count": 49,
   "metadata": {},
   "outputs": [
    {
     "data": {
      "application/vnd.jupyter.widget-view+json": {
       "model_id": "816a53ebb86d472f96993a3e5d1349da",
       "version_major": 2,
       "version_minor": 0
      },
      "text/plain": [
       "Creating parquet from Arrow format:   0%|          | 0/7 [00:00<?, ?ba/s]"
      ]
     },
     "metadata": {},
     "output_type": "display_data"
    },
    {
     "data": {
      "text/plain": [
       "2532048"
      ]
     },
     "execution_count": 49,
     "metadata": {},
     "output_type": "execute_result"
    }
   ],
   "source": [
    "# my_dataset.to_parquet(f\"datasets/burns_datasets_VINC_imdb_ppo_training_{VERSION}.parquet\")\n",
    "# my_dataset.to_parquet(f\"datasets/burns_datasets_VINC_ppo_training_{VERSION}.parquet\")\n",
    "# my_dataset.to_parquet(f\"datasets/wrapped_piqa_ppo_training_{VERSION}.parquet\")"
   ]
  },
  {
   "cell_type": "code",
   "execution_count": 50,
   "metadata": {},
   "outputs": [
    {
     "name": "stdout",
     "output_type": "stream",
     "text": [
      "drwxr-xr-x  3 augustas Domain Users  25K Jul 24 20:31 wrapped_piqa_ppo_training_raw_v2\n",
      "-rw-r--r--  1 augustas Domain Users 972K Jul 24 21:26 wrapped_piqa_ppo_training_v2.parquet\n",
      "drwxr-xr-x  3 augustas Domain Users  33K Jul 24 20:31 wrapped_piqa_train_raw_v2\n",
      "-rw-r--r--  1 augustas Domain Users 1.4M Jul 24 21:15 wrapped_piqa_train_v2.parquet\n"
     ]
    }
   ],
   "source": [
    "# !ls -lah datasets | grep {VERSION}\n",
    "# !ls -lah datasets | grep {VERSION} | grep imdb\n",
    "!ls -lah datasets | grep {VERSION} | grep piqa"
   ]
  },
  {
   "cell_type": "code",
   "execution_count": null,
   "metadata": {},
   "outputs": [],
   "source": []
  }
 ],
 "metadata": {
  "kernelspec": {
   "display_name": "elk",
   "language": "python",
   "name": "python3"
  },
  "language_info": {
   "codemirror_mode": {
    "name": "ipython",
    "version": 3
   },
   "file_extension": ".py",
   "mimetype": "text/x-python",
   "name": "python",
   "nbconvert_exporter": "python",
   "pygments_lexer": "ipython3",
   "version": "3.10.11"
  },
  "orig_nbformat": 4
 },
 "nbformat": 4,
 "nbformat_minor": 2
}
