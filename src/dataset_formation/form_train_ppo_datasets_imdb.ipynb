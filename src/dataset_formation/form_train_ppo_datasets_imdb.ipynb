{
 "cells": [
  {
   "attachments": {},
   "cell_type": "markdown",
   "metadata": {},
   "source": [
    "## Imports"
   ]
  },
  {
   "cell_type": "code",
   "execution_count": 1,
   "metadata": {},
   "outputs": [],
   "source": [
    "import sys\n",
    "import random\n",
    "from pathlib import Path\n",
    "from collections import Counter\n",
    "\n",
    "import datasets\n",
    "from datasets import load_dataset_builder, load_dataset\n",
    "\n",
    "from utils import replace_text_with_whitespace"
   ]
  },
  {
   "cell_type": "code",
   "execution_count": 2,
   "metadata": {},
   "outputs": [
    {
     "data": {
      "text/plain": [
       "PosixPath('/fsx/home-augustas/elk')"
      ]
     },
     "execution_count": 2,
     "metadata": {},
     "output_type": "execute_result"
    }
   ],
   "source": [
    "ELK_PATH = Path(\"../../../elk/\")\n",
    "ELK_PATH.resolve()"
   ]
  },
  {
   "cell_type": "code",
   "execution_count": 3,
   "metadata": {},
   "outputs": [
    {
     "data": {
      "text/plain": [
       "['/fsx/home-augustas/elk/elk/promptsource', '/fsx/home-augustas/elk']"
      ]
     },
     "execution_count": 3,
     "metadata": {},
     "output_type": "execute_result"
    }
   ],
   "source": [
    "modules = [\n",
    "    ELK_PATH,\n",
    "    ELK_PATH / \"elk\" / \"promptsource\",\n",
    "]\n",
    "\n",
    "for module in modules:\n",
    "    if not str(module) in sys.path:\n",
    "        sys.path.insert(0, str(module.resolve()))\n",
    "\n",
    "sys.path[:2]"
   ]
  },
  {
   "cell_type": "code",
   "execution_count": 4,
   "metadata": {},
   "outputs": [],
   "source": [
    "from templates import DatasetTemplates"
   ]
  },
  {
   "cell_type": "code",
   "execution_count": 5,
   "metadata": {},
   "outputs": [],
   "source": [
    "# Disable the logging of the datasets library\n",
    "import datasets\n",
    "\n",
    "datasets.logging.set_verbosity_error()"
   ]
  },
  {
   "attachments": {},
   "cell_type": "markdown",
   "metadata": {},
   "source": [
    "## Config"
   ]
  },
  {
   "cell_type": "code",
   "execution_count": 6,
   "metadata": {},
   "outputs": [
    {
     "data": {
      "text/plain": [
       "42"
      ]
     },
     "execution_count": 6,
     "metadata": {},
     "output_type": "execute_result"
    }
   ],
   "source": [
    "BURNS_DATASETS = [\"imdb\"]\n",
    "\n",
    "VERSION = f\"v3\"\n",
    "\n",
    "# SPLIT = \"validation\"\n",
    "SPLIT = \"train\"\n",
    "\n",
    "N_PER_DATASET = 25000 if SPLIT == \"train\" else 1550\n",
    "\n",
    "SEED = 42 if SPLIT == \"train\" else 2023\n",
    "SEED"
   ]
  },
  {
   "attachments": {},
   "cell_type": "markdown",
   "metadata": {},
   "source": [
    "## Load and inspect the datasets"
   ]
  },
  {
   "cell_type": "code",
   "execution_count": 7,
   "metadata": {},
   "outputs": [
    {
     "name": "stdout",
     "output_type": "stream",
     "text": [
      "imdb\n"
     ]
    },
    {
     "name": "stdout",
     "output_type": "stream",
     "text": [
      "split='train'\n",
      "25000\n",
      "-----------------------------------\n"
     ]
    }
   ],
   "source": [
    "dataset_dict = {}\n",
    "for dataset_path in BURNS_DATASETS:\n",
    "    print(dataset_path)\n",
    "\n",
    "    # Parse dataset name\n",
    "    dataset_name = None    \n",
    "    if \":\" in dataset_path:\n",
    "        dataset_path, dataset_name = dataset_path.split(\":\")\n",
    "    \n",
    "    \n",
    "    # Get the most validation-like split\n",
    "    available_splits = load_dataset_builder(\n",
    "        dataset_path, name=dataset_name\n",
    "    ).info.splits.keys()\n",
    "    split = \"validation\" if \"validation\" in available_splits else \"test\"\n",
    "    split = split if SPLIT != \"train\" else \"train\"\n",
    "    print(f\"{split=}\")\n",
    "\n",
    "    # Load the dataset\n",
    "    dataset = load_dataset(\n",
    "        dataset_path, name=dataset_name, split=split,\n",
    "    )\n",
    "\n",
    "    # Get a desired subset of the data\n",
    "    n = N_PER_DATASET if dataset.num_rows > N_PER_DATASET else dataset.num_rows\n",
    "    dataset = dataset.shuffle(seed=SEED).select(range(n))\n",
    "\n",
    "    print(dataset.num_rows)\n",
    "\n",
    "    key = f\"{dataset_path}/{dataset_name}\" if dataset_name else dataset_path\n",
    "    dataset_dict[key] = dataset\n",
    "\n",
    "    print(\"-----------------------------------\")"
   ]
  },
  {
   "cell_type": "code",
   "execution_count": 8,
   "metadata": {},
   "outputs": [
    {
     "data": {
      "text/plain": [
       "25000"
      ]
     },
     "execution_count": 8,
     "metadata": {},
     "output_type": "execute_result"
    }
   ],
   "source": [
    "# Number of examples in total in all datasets\n",
    "sum([dataset.num_rows for dataset in dataset_dict.values()])\n"
   ]
  },
  {
   "cell_type": "code",
   "execution_count": 9,
   "metadata": {},
   "outputs": [],
   "source": [
    "assert all([len(Counter(dataset[\"label\"])) > 1 for dataset in dataset_dict.values()])"
   ]
  },
  {
   "cell_type": "code",
   "execution_count": 10,
   "metadata": {},
   "outputs": [
    {
     "name": "stdout",
     "output_type": "stream",
     "text": [
      "imdb: 25000\n"
     ]
    }
   ],
   "source": [
    "for dataset_name, dataset in dataset_dict.items():\n",
    "    print(f\"{dataset_name}: {dataset.num_rows}\")"
   ]
  },
  {
   "cell_type": "code",
   "execution_count": 11,
   "metadata": {},
   "outputs": [
    {
     "name": "stdout",
     "output_type": "stream",
     "text": [
      "imdb: 2\n"
     ]
    }
   ],
   "source": [
    "for dataset_name, dataset in dataset_dict.items():\n",
    "    print(f\"{dataset_name}: {len(Counter(dataset['label']))}\")"
   ]
  },
  {
   "attachments": {},
   "cell_type": "markdown",
   "metadata": {},
   "source": [
    "## Split into train and ppo"
   ]
  },
  {
   "cell_type": "code",
   "execution_count": 12,
   "metadata": {},
   "outputs": [
    {
     "name": "stdout",
     "output_type": "stream",
     "text": [
      "imdb\n",
      "10000 15000\n",
      "-----------------------------------\n"
     ]
    }
   ],
   "source": [
    "train_dataset_dict = {}\n",
    "ppo_dataset_dict = {}\n",
    "\n",
    "for dataset_name, dataset in dataset_dict.items():\n",
    "    print(dataset_name)\n",
    "    # test_size = 225 if dataset.num_rows > 225 else 10 # specialized for COPA\n",
    "    splits = dataset.train_test_split(test_size=0.6, seed=SEED)\n",
    "    # print(splits)\n",
    "    print(splits[\"train\"].num_rows, splits[\"test\"].num_rows)\n",
    "\n",
    "    train_dataset_dict[dataset_name] = splits[\"train\"]\n",
    "    ppo_dataset_dict[dataset_name] = splits[\"test\"]\n",
    "    print(\"-----------------------------------\")"
   ]
  },
  {
   "cell_type": "code",
   "execution_count": 13,
   "metadata": {},
   "outputs": [
    {
     "name": "stdout",
     "output_type": "stream",
     "text": [
      "10000\n",
      "15000\n"
     ]
    }
   ],
   "source": [
    "print(sum(dataset.num_rows for dataset in train_dataset_dict.values()))\n",
    "print(sum(dataset.num_rows for dataset in ppo_dataset_dict.values()))"
   ]
  },
  {
   "cell_type": "code",
   "execution_count": 15,
   "metadata": {},
   "outputs": [
    {
     "data": {
      "application/vnd.jupyter.widget-view+json": {
       "model_id": "595e4e30edf04fea844f784cd81f14db",
       "version_major": 2,
       "version_minor": 0
      },
      "text/plain": [
       "Saving the dataset (0/1 shards):   0%|          | 0/10000 [00:00<?, ? examples/s]"
      ]
     },
     "metadata": {},
     "output_type": "display_data"
    }
   ],
   "source": [
    "# datasets.DatasetDict(train_dataset_dict).save_to_disk(\n",
    "#     f\"datasets/burns_datasets_VINC_imdb_train_raw_{VERSION}\"\n",
    "# )"
   ]
  },
  {
   "cell_type": "code",
   "execution_count": 16,
   "metadata": {},
   "outputs": [
    {
     "data": {
      "application/vnd.jupyter.widget-view+json": {
       "model_id": "14be79afa1954fb1adf86275b9d53e8e",
       "version_major": 2,
       "version_minor": 0
      },
      "text/plain": [
       "Saving the dataset (0/1 shards):   0%|          | 0/15000 [00:00<?, ? examples/s]"
      ]
     },
     "metadata": {},
     "output_type": "display_data"
    }
   ],
   "source": [
    "# datasets.DatasetDict(ppo_dataset_dict).save_to_disk(\n",
    "#     f\"datasets/burns_datasets_VINC_imdb_ppo_training_raw_{VERSION}\"\n",
    "# )"
   ]
  },
  {
   "cell_type": "code",
   "execution_count": 17,
   "metadata": {},
   "outputs": [
    {
     "name": "stdout",
     "output_type": "stream",
     "text": [
      "drwxr-xr-x  3 augustas Domain Users 1.0K Jul 20 14:23 burns_datasets_VINC_imdb_ppo_training_raw_v3\n",
      "drwxr-xr-x  3 augustas Domain Users 1.0K Jul 20 14:23 burns_datasets_VINC_imdb_train_raw_v3\n"
     ]
    }
   ],
   "source": [
    "# !ls -lah datasets | grep {VERSION}\n",
    "!ls -lah datasets | grep {VERSION} | grep imdb"
   ]
  },
  {
   "attachments": {},
   "cell_type": "markdown",
   "metadata": {},
   "source": [
    "## Get the templates"
   ]
  },
  {
   "cell_type": "code",
   "execution_count": 18,
   "metadata": {},
   "outputs": [
    {
     "data": {
      "text/plain": [
       "DatasetDict({\n",
       "    imdb: Dataset({\n",
       "        features: ['text', 'label'],\n",
       "        num_rows: 10000\n",
       "    })\n",
       "})"
      ]
     },
     "execution_count": 18,
     "metadata": {},
     "output_type": "execute_result"
    }
   ],
   "source": [
    "# Set dataset_dict to test_dataset\n",
    "dataset_dict = datasets.DatasetDict.load_from_disk(\n",
    "    f\"datasets/burns_datasets_VINC_imdb_train_raw_{VERSION}\"\n",
    ")\n",
    "dataset_dict"
   ]
  },
  {
   "cell_type": "code",
   "execution_count": 19,
   "metadata": {},
   "outputs": [
    {
     "data": {
      "text/plain": [
       "10000"
      ]
     },
     "execution_count": 19,
     "metadata": {},
     "output_type": "execute_result"
    }
   ],
   "source": [
    "sum(dataset.num_rows for dataset in dataset_dict.values())"
   ]
  },
  {
   "cell_type": "code",
   "execution_count": 21,
   "metadata": {},
   "outputs": [],
   "source": [
    "dataset_template_dict = {}\n",
    "\n",
    "for dataset_path in dataset_dict.keys():\n",
    "    dataset_templates = DatasetTemplates(dataset_path + \"/custom\")\n",
    "\n",
    "    dataset_templates.templates = {\n",
    "        x.name: x for x in dataset_templates.templates.values() if x.get_answer_choices_list(dataset_dict[dataset_path][0]) is not None\n",
    "    }\n",
    "\n",
    "    dataset_template_dict[dataset_path] = dataset_templates"
   ]
  },
  {
   "cell_type": "code",
   "execution_count": 22,
   "metadata": {},
   "outputs": [
    {
     "name": "stdout",
     "output_type": "stream",
     "text": [
      "imdb: 5\n"
     ]
    }
   ],
   "source": [
    "for dataset_name, dataset_templates in dataset_template_dict.items():\n",
    "    print(f\"{dataset_name}: {len(dataset_templates.templates)}\")"
   ]
  },
  {
   "attachments": {},
   "cell_type": "markdown",
   "metadata": {},
   "source": [
    "## Inspect the prompts"
   ]
  },
  {
   "cell_type": "code",
   "execution_count": 24,
   "metadata": {},
   "outputs": [],
   "source": [
    "# dataset_name = \"imdb\"\n",
    "\n",
    "# for template_name, template in dataset_template_dict[dataset_name].templates.items():\n",
    "#     # print(template_name)\n",
    "#     q, a = template.apply(\n",
    "#         dataset_dict[dataset_name][0]\n",
    "#     )\n",
    "#     print(\" \".join([q, a]))\n",
    "#     print(\"---------------------------------\")"
   ]
  },
  {
   "attachments": {},
   "cell_type": "markdown",
   "metadata": {},
   "source": [
    "## Form the dataset for the chosen split"
   ]
  },
  {
   "cell_type": "code",
   "execution_count": 25,
   "metadata": {},
   "outputs": [],
   "source": [
    "# for dataset_name, dataset_templates in dataset_template_dict.items():\n",
    "#     print(dataset_name)\n",
    "#     for template_name, template in dataset_templates.templates.items():\n",
    "#         print(f\"{template_name}: {template.get_fixed_answer_choices_list()}\")\n",
    "\n",
    "#     print(\"---------------------------------\")\n"
   ]
  },
  {
   "cell_type": "code",
   "execution_count": 26,
   "metadata": {},
   "outputs": [],
   "source": [
    "# for dataset_name, dataset_templates in dataset_template_dict.items():\n",
    "#     print(dataset_name)\n",
    "#     for template_name, template in dataset_templates.templates.items():\n",
    "#         print(f\"{template_name}: {template.get_answer_choices_list(dataset_dict[dataset_name][0])}\")\n",
    "\n",
    "#     print(\"---------------------------------\")"
   ]
  },
  {
   "cell_type": "code",
   "execution_count": 25,
   "metadata": {},
   "outputs": [
    {
     "name": "stdout",
     "output_type": "stream",
     "text": [
      "imdb: 5\n"
     ]
    }
   ],
   "source": [
    "for dataset_name, dataset_templates in dataset_template_dict.items():\n",
    "    print(f\"{dataset_name}: {len(dataset_templates.templates)}\")"
   ]
  },
  {
   "cell_type": "code",
   "execution_count": 27,
   "metadata": {},
   "outputs": [
    {
     "name": "stdout",
     "output_type": "stream",
     "text": [
      "imdb\n"
     ]
    },
    {
     "name": "stdout",
     "output_type": "stream",
     "text": [
      "CPU times: user 15.9 s, sys: 70.3 ms, total: 15.9 s\n",
      "Wall time: 16 s\n"
     ]
    }
   ],
   "source": [
    "%%time\n",
    "\n",
    "# Reproducibility\n",
    "random.seed(SEED)\n",
    "\n",
    "ALLOWED_KEYS = [\"text\", \"label\", \"original_dataset\", \"template_name\"]\n",
    "\n",
    "new_dataset = []\n",
    "\n",
    "for dataset_name, dataset in dataset_dict.items():\n",
    "    print(dataset_name)\n",
    "\n",
    "    for idx, entry in enumerate(dataset):\n",
    "        new_entry = entry.copy()\n",
    "        \n",
    "        # In case we need to know which dataset the entry came from\n",
    "        new_entry[\"original_dataset\"] = dataset_name\n",
    "\n",
    "        # Sample a random template\n",
    "        template_name = random.choice(\n",
    "            list(dataset_template_dict[dataset_name].templates.keys())\n",
    "        )\n",
    "        template = dataset_template_dict[dataset_name].templates[template_name]\n",
    "        new_entry[\"template_name\"] = template_name\n",
    "\n",
    "        # Whether the sample will be truthful or not\n",
    "        is_truthful = random.choice([True, False])            \n",
    "        \n",
    "        # Apply the template\n",
    "        if not is_truthful:\n",
    "            # Untruthful binary case\n",
    "            new_entry[\"label\"] = 1 - new_entry[\"label\"]\n",
    "        new_text = \" \".join(template.apply(new_entry))\n",
    "\n",
    "        new_entry[\"text\"] = new_text\n",
    "\n",
    "        # We can now change the label to whether the sample is truthful or not\n",
    "        new_entry[\"label\"] = int(is_truthful)\n",
    "\n",
    "        # Remove all other keys\n",
    "        new_entry = { k: v for k, v in new_entry.items() if k in ALLOWED_KEYS }\n",
    "\n",
    "        # Append to the new dataset\n",
    "        new_dataset.append(new_entry)"
   ]
  },
  {
   "cell_type": "code",
   "execution_count": 28,
   "metadata": {},
   "outputs": [
    {
     "data": {
      "text/plain": [
       "Dataset({\n",
       "    features: ['text', 'label', 'original_dataset', 'template_name'],\n",
       "    num_rows: 10000\n",
       "})"
      ]
     },
     "execution_count": 28,
     "metadata": {},
     "output_type": "execute_result"
    }
   ],
   "source": [
    "my_dataset = datasets.Dataset.from_list(new_dataset)\n",
    "my_dataset"
   ]
  },
  {
   "cell_type": "code",
   "execution_count": 29,
   "metadata": {},
   "outputs": [
    {
     "data": {
      "text/plain": [
       "{'text': \"This movie i've loved since i was young! Its excellent. Although, it may be a bit much for the average movie watcher if one can't interpret certain subtleties in the film (for example, our hero's name is Achilles, and in the final battle between him and Alexander he's shot in the heel with a rocket, just as Achilles in mythology was shot in his heel). That's a just a little fact that is kind of amusing! Anyway, great movie, good story, it'd be neat to see it redone with today's special effects! Oddly enough, Gary Graham had average success, starring in the T.V. show Alien Nation. This movie is a fun watch and should be more appreciated!\\n\\nDid the reviewer find this movie good or bad? good\",\n",
       " 'label': 1,\n",
       " 'original_dataset': 'imdb',\n",
       " 'template_name': 'Reviewer Opinion bad good choices'}"
      ]
     },
     "execution_count": 29,
     "metadata": {},
     "output_type": "execute_result"
    }
   ],
   "source": [
    "current_idx = 0\n",
    "my_dataset[current_idx]"
   ]
  },
  {
   "cell_type": "code",
   "execution_count": 33,
   "metadata": {},
   "outputs": [
    {
     "name": "stdout",
     "output_type": "stream",
     "text": [
      "label=0\n",
      "This story was never among my favourites in Christie's works so I was pleasantly surprised to quite enjoy this adaptation. The mouse motif was effective if a little overdone, the bones of the story are there although more emphasis is placed on the 'crime in the past' subplot. The students were all pretty much as I imagined them although its a pity they weren't a more cosmopolitan bunch - perhaps the revised thirties setting didn't allow for that! I thought some very daring risks were taken with the filming; perhaps its because I've not long re-read the book but it seemed pretty obvious to me who the murderer was from their appearance in some reveal shots quite early on.<br /><br />Humour was much more prevalent in these early Poirots. Sometimes it works but I found a lot of it rather heavy handed in this episode (though I did smile at the 'Lemon sole' throwaway line). Altogether though, a solid entry in the series though not one of the best. \n",
      "Is this review positive or negative? negative\n",
      "---------------------------------\n",
      "label=0\n",
      "Question: is the movie review given below in triple backticks positive? Answer either yes or no. \n",
      "``` \n",
      "The 60´s is a well balanced mini series between historical facts and a good plot. In four deliveries, we follow a north American family, with 3 members. But we don't only see them. We also follow the story of several characters as a black reverend, an extremist student leader, and a soldier in Vietnam. The filmography is just extraordinary. In the first chapters, we see some shots of the Vietnam war, in between the scenes. The next chapter, doesn't start where the last one finished, it starts some time after, giving us a little mystery on what happened. In general, The 60´s mini series, is a must see, not only for hippies fanatics, but for everyone with little curiosity about the topic. \n",
      "``` \n",
      "Answer: no\n",
      "---------------------------------\n",
      "label=1\n",
      "Incredibly muddled, off-putting and ultimately ludicrous (\"the horses, oh my God, the horses!\") thriller. It's creepy at times, but it has one of the worst scripts ever written for a horror film. Watch how in the final 10 minutes everybody \"magically\" does exactly what the plot needs for the \"resolution\" to occur. Bland performances by the leads, a typically eccentric one by Richard Lynch. The video transfer is a real hack job, cutting scenes in half and making the movie even more difficult to understand. 0 out of 4 stars.\n",
      "\n",
      "Did the reviewer find this movie good or bad? bad\n",
      "---------------------------------\n",
      "label=0\n",
      "Consider the following example:  ''' how many minutes does it take to paint a poem? in this film much too long. <br /><br />it tells the story about the impact of a first love between two schoolboys. <br /><br />the boys can't withhold touching each other and making love. after a while one gets distracted by a brief encounter with a sensual guy in the disco and that raises doubt: exploration, fantasy, longing, lust and feelings of loosing grip on your love are themes that are all extensively painted with music, close-ups and silent scenes like telling a poem. but it really takes too long, annoying long, shame, the effort was promising '''\n",
      "\n",
      "Between 0 and 1, which is the sentiment of this example? 1\n",
      "---------------------------------\n",
      "label=1\n",
      "Consider the following example:  ''' This movie was terrible!I rented it not knowing what to expect.I watched the 1st 5 minutes and the movie and knew it was a bomb.The acting was bad and there was no plot.The monster is soooooo fake.It growls and its mouth doesnt move.Also why would they have a doctor playing a xylophone to kill the monster.Just plain bad don't even waste your time.(1 out of 10) '''\n",
      "Between 0 and 1, the sentiment of this example is 0\n",
      "---------------------------------\n",
      "label=0\n",
      "I am a big 1930's movie fan and will watch most anything that I see on Turner Classic Movies thats new for me. So I gave this a shot, after all it's the great Harold Lloyd who rivaled Chaplin as a great silent film comedian. I have watched much less of Lloyd's silent films then of Chaplins but I have to say I'm a much bigger Chaplin fan. Anyway this film fell so flat for me that I didn't finish it. I can understand why his sound career was so limited, he didn't get very good material to work with. After you've seen Chaplin, Abbott and Costello, The Three Stooges, Martin and Lewis, The Marx Brothers, and Laurel and Hardy do boxing spoofs (or violence in general), this one is very forgettable. I was also interested in watching Adolphe Menjou as I really enjoyed him in Paths Of Glory but his role here also did nothing special for me. Maybe they should have gotten into the boxing sooner because at least half the film (at least it seemed that way) is before he gets in a ring. I can tell there are a lot of Lloyd fans here and this wont be a popular review but I must rate this as compared to what else was out there at the time, 4 out of 10. Don't watch this with anyone your trying to get to like old movies as they may not watch another one with you again, very flat. For an alternative to anyone who really liked this or is looking for more little known comedies in general I recommend \"Kelly The Second\" made a few years earlier, another nobody becomes a boxer comedy with Patsy Kelly and in a supporting role Charles Chase. These have both been shown on the Turner Classic Movies channel. \n",
      "Is this review positive or negative? positive\n",
      "---------------------------------\n",
      "label=1\n",
      "Simply put: the movie is boring. Cliché upon cliché is confirmed and story lines never come together. It seems as if the director was unsure whether to make a movie or a documentary. The main plot is very thin (a CIA agent is ordered to kill an oil prince, gets caught and then warns the prince (why?)) and therefore some elements were added to make the movie more interesting. So, a kid dies, which results in the \"natural\" response of the father: freely advising the person indirectly responsible for his son's death. The lawyer has a drunk \"friend\" and keeps him around, why, no one knows. Some kids become suicide terrorists and blow up a ship.<br /><br />All in all, this is one of the worst movies I have seen in quite a while. I was neither entertained nor intellectually challenged. I neither laughed nor cried, I did not gain an understanding nor was I compelled to learn more or take up a cause. It meant nothing to me, which in my eyes is the worst one can say about a movie.\n",
      "\n",
      "Did the reviewer find this movie good or bad? bad\n",
      "---------------------------------\n",
      "label=1\n",
      "Consider the following example:  ''' Night of the Comet starts as the world prepares for a once in a lifetime event, the passing of a 65 million plus year old comet. Instead of watching the light show Regina Belmont (Catherine Mary Stewart) decides to spend the night with cinema projectionist Larry Dupree (Michael Bowen) in his booth... They awake the next morning & as Larry attempts to leave the cinema he is attacked & killed by a zombie, the same zombie attacks Regina but she manages to escape where upon she discovers that almost everyone on the entire planet has been turned into red dust. Almost everyone because by some amazing coincidence the only other person to survive happens to be her sister Samantha (Kelli Maroney), they desperately search for more survivors & meet up with a long distance trucker named Hector Gomez (Robert Beltran). Meanwhile an evil bunch of scientists need human blood to develop a serum to save themselves from turning into dust & they're on the look out for unwilling donors...<br /><br />Written & directed by Thom Eberhardt I found Night of the Comet a pretty rubbish viewing experience, I'm surprised at the amount of positive comments on IMDb about it because I just thought it was boring crap that never lived up to it's potential. The script starts off 100 miles an hour with the obliteration of the entire population of Earth & a zombie attack but then it goes absolutely nowhere & then eventually introduces the sinister blood stealing scientists towards the end of the film because by that time the slim story has run it's course. There are plot holes too, if these scientists want blood why shoot the three or four gang members & save the two sisters when the guys would have provided more blood for their experiments, killing them just seemed a totally bizarre & an almost suicidal thing to do considering they need blood to develop a cure, it just doesn't make sense I mean if your going to die & you need to experiment on human blood would rather have five or six donors providing blood or just two? I'm not having the fact... '''\n",
      "\n",
      "Between 0 and 1, which is the sentiment of this example? 0\n",
      "---------------------------------\n",
      "label=0\n",
      "Consider the following example:  ''' I haven't seen much German comedy, but if this film is anything to go by, I'm compelled to see more! The simple but effective storyline takes two very different people on a trip from Germany to Italy after Eva, an unemployed mother of two, discovers that her artist husband is having an affair with the wife of a wealthy lawyer. I won't reveal anything further, but what results is a very funny series of events with the perfect conclusion. My interest in international cinema has expanded since I first saw this film. I recommend it to anyone (any adult... don't let the inclusion of the young children fool you into thinking it's a family film) who love comedy - even those unfamiliar with the language. '''\n",
      "Between 0 and 1, the sentiment of this example is 0\n",
      "---------------------------------\n",
      "label=0\n",
      "Question: is the movie review given below in triple backticks positive? Answer either yes or no. \n",
      "``` \n",
      "Having read during many years about how great this film was, how it established Ruiz among the french critics (specially the snobbish Cahiers crowd), when I finally watched it about a year ago, I found it pretty disappointing (but then, I guess my expectations were sky-high). Shot in saturated black and white, this deliberately cerebral film (made for TV, and mercifully, only an hour long) is told in the form of a conversation between an art connoisseur and an off-screen narrator as they ponder through a series of paintings (which are shown in the style of tableaux vivants) and try to find if they hold some clues about a hidden political crime. (The awful Kate Beckinsale film Uncovered has a similar argument). Borgesian is a word I read a lot in reviews about this movie, but I would say almost any Borges story is more interesting than this film. \n",
      "``` \n",
      "Answer: yes\n",
      "---------------------------------\n"
     ]
    }
   ],
   "source": [
    "for current_index in range(10, 20):\n",
    "    print(f\"label={my_dataset[current_index]['label']}\")\n",
    "    print(my_dataset[current_index][\"text\"])\n",
    "    print(\"---------------------------------\")"
   ]
  },
  {
   "cell_type": "code",
   "execution_count": 34,
   "metadata": {},
   "outputs": [
    {
     "data": {
      "text/plain": [
       "(Counter({0: 5025, 1: 4975}), Counter({'imdb': 10000}))"
      ]
     },
     "execution_count": 34,
     "metadata": {},
     "output_type": "execute_result"
    }
   ],
   "source": [
    "Counter(my_dataset[\"label\"]), Counter(my_dataset[\"original_dataset\"])"
   ]
  },
  {
   "cell_type": "code",
   "execution_count": 37,
   "metadata": {},
   "outputs": [],
   "source": [
    "# my_dataset.to_parquet(f\"datasets/burns_datasets_VINC_imdb_{SPLIT}_{VERSION}.parquet\")"
   ]
  },
  {
   "cell_type": "code",
   "execution_count": 3,
   "metadata": {},
   "outputs": [
    {
     "name": "stdout",
     "output_type": "stream",
     "text": [
      "drwxr-xr-x  3 augustas Domain Users  25K Jul 20 14:23 burns_datasets_VINC_imdb_ppo_training_raw_v3\n",
      "drwxr-xr-x  3 augustas Domain Users  25K Jul 20 14:23 burns_datasets_VINC_imdb_train_raw_v3\n",
      "-rw-r--r--  1 augustas Domain Users 7.4M Jul 20 14:36 burns_datasets_VINC_imdb_train_v3.parquet\n"
     ]
    }
   ],
   "source": [
    "!ls -lah datasets | grep {VERSION} | grep imdb"
   ]
  },
  {
   "cell_type": "code",
   "execution_count": null,
   "metadata": {},
   "outputs": [],
   "source": []
  }
 ],
 "metadata": {
  "kernelspec": {
   "display_name": "elk",
   "language": "python",
   "name": "python3"
  },
  "language_info": {
   "codemirror_mode": {
    "name": "ipython",
    "version": 3
   },
   "file_extension": ".py",
   "mimetype": "text/x-python",
   "name": "python",
   "nbconvert_exporter": "python",
   "pygments_lexer": "ipython3",
   "version": "3.10.11"
  },
  "orig_nbformat": 4
 },
 "nbformat": 4,
 "nbformat_minor": 2
}
