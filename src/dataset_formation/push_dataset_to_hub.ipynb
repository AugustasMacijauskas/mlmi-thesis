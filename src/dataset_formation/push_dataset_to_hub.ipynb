{
 "cells": [
  {
   "attachments": {},
   "cell_type": "markdown",
   "metadata": {},
   "source": [
    "## Imports"
   ]
  },
  {
   "cell_type": "code",
   "execution_count": 1,
   "metadata": {},
   "outputs": [],
   "source": [
    "from datasets import load_dataset, ClassLabel"
   ]
  },
  {
   "cell_type": "code",
   "execution_count": 2,
   "metadata": {},
   "outputs": [
    {
     "name": "stdout",
     "output_type": "stream",
     "text": [
      "drwxr-xr-x  3 augustas Domain Users  25K Jul 24 20:31 wrapped_piqa_ppo_training_raw_v2\n",
      "-rw-r--r--  1 augustas Domain Users 972K Jul 24 21:26 wrapped_piqa_ppo_training_v2.parquet\n",
      "drwxr-xr-x  3 augustas Domain Users  33K Jul 24 20:31 wrapped_piqa_train_raw_v2\n",
      "-rw-r--r--  1 augustas Domain Users 1.4M Jul 24 21:36 wrapped_piqa_train_v2.parquet\n",
      "-rw-r--r--  1 augustas Domain Users 246K Jul 24 21:41 wrapped_piqa_validation_v2.parquet\n"
     ]
    }
   ],
   "source": [
    "VERSION = \"v2\"\n",
    "!ls -lah datasets | grep {VERSION} | grep piqa\n",
    "# !ls -lah datasets | grep {VERSION} | grep qnli\n",
    "# !ls -lah datasets | grep {VERSION} | grep imdb\n",
    "# !ls -lah datasets | grep {VERSION}"
   ]
  },
  {
   "cell_type": "code",
   "execution_count": 9,
   "metadata": {},
   "outputs": [
    {
     "name": "stdout",
     "output_type": "stream",
     "text": [
      "Downloading and preparing dataset parquet/default to /admin/home-augustas/.cache/huggingface/datasets/parquet/default-9dc0c8adbe89b2fc/0.0.0/14a00e99c0d15a23649d0db8944380ac81082d4b021f398733dd84f3a6c569a7...\n"
     ]
    },
    {
     "data": {
      "application/vnd.jupyter.widget-view+json": {
       "model_id": "699a8ef40154414592f8ca8952b2181b",
       "version_major": 2,
       "version_minor": 0
      },
      "text/plain": [
       "Downloading data files:   0%|          | 0/1 [00:00<?, ?it/s]"
      ]
     },
     "metadata": {},
     "output_type": "display_data"
    },
    {
     "data": {
      "application/vnd.jupyter.widget-view+json": {
       "model_id": "43df64fc91184777bbe75c3abeea5891",
       "version_major": 2,
       "version_minor": 0
      },
      "text/plain": [
       "Extracting data files:   0%|          | 0/1 [00:00<?, ?it/s]"
      ]
     },
     "metadata": {},
     "output_type": "display_data"
    },
    {
     "data": {
      "application/vnd.jupyter.widget-view+json": {
       "model_id": "59996bf37a79451c87c390c530841eb3",
       "version_major": 2,
       "version_minor": 0
      },
      "text/plain": [
       "Generating train split: 0 examples [00:00, ? examples/s]"
      ]
     },
     "metadata": {},
     "output_type": "display_data"
    },
    {
     "name": "stdout",
     "output_type": "stream",
     "text": [
      "Dataset parquet downloaded and prepared to /admin/home-augustas/.cache/huggingface/datasets/parquet/default-9dc0c8adbe89b2fc/0.0.0/14a00e99c0d15a23649d0db8944380ac81082d4b021f398733dd84f3a6c569a7. Subsequent calls will reuse this data.\n"
     ]
    },
    {
     "data": {
      "application/vnd.jupyter.widget-view+json": {
       "model_id": "4697cd576d0e4277a55558784bc73017",
       "version_major": 2,
       "version_minor": 0
      },
      "text/plain": [
       "  0%|          | 0/1 [00:00<?, ?it/s]"
      ]
     },
     "metadata": {},
     "output_type": "display_data"
    },
    {
     "data": {
      "text/plain": [
       "DatasetDict({\n",
       "    train: Dataset({\n",
       "        features: ['original_dataset', 'template_name', 'prompt', 'best_response'],\n",
       "        num_rows: 6113\n",
       "    })\n",
       "})"
      ]
     },
     "execution_count": 9,
     "metadata": {},
     "output_type": "execute_result"
    }
   ],
   "source": [
    "# parquet_data_files = {\n",
    "#     \"train\": f\"datasets/burns_datasets_VINC_train_{VERSION}.parquet\",\n",
    "#     \"validation\": f\"datasets/burns_datasets_VINC_validation_{VERSION}.parquet\",\n",
    "# }\n",
    "# parquet_data_files = {\n",
    "#     \"train\": f\"datasets/burns_datasets_VINC_imdb_train_{VERSION}.parquet\",\n",
    "#     \"validation\": f\"datasets/burns_datasets_VINC_imdb_validation_{VERSION}.parquet\",\n",
    "# }\n",
    "# parquet_data_files = {\n",
    "#     \"train\": f\"datasets/qnli_vicuna_train_{VERSION}.parquet\",\n",
    "#     \"validation\": f\"datasets/qnli_vicuna_validation_{VERSION}.parquet\",\n",
    "# }\n",
    "# parquet_data_files = {\n",
    "#     \"train\": f\"datasets/wrapped_piqa_train_{VERSION}.parquet\",\n",
    "#     \"validation\": f\"datasets/wrapped_piqa_validation_{VERSION}.parquet\",\n",
    "# }\n",
    "\n",
    "# parquet_data_files = {\n",
    "#     \"train\": f\"datasets/burns_datasets_VINC_ppo_training_{VERSION}.parquet\",\n",
    "# }\n",
    "# parquet_data_files = {\n",
    "#     \"train\": f\"datasets/burns_datasets_VINC_imdb_ppo_training_{VERSION}.parquet\",\n",
    "# }\n",
    "# parquet_data_files = {\n",
    "#     \"train\": f\"datasets/qnli_vicuna_ppo_training_{VERSION}.parquet\",\n",
    "# }\n",
    "parquet_data_files = {\n",
    "    \"train\": f\"datasets/wrapped_piqa_ppo_training_{VERSION}.parquet\",\n",
    "}\n",
    "\n",
    "my_dataset = load_dataset(\"parquet\", data_files=parquet_data_files)\n",
    "my_dataset"
   ]
  },
  {
   "cell_type": "code",
   "execution_count": 10,
   "metadata": {},
   "outputs": [
    {
     "name": "stdout",
     "output_type": "stream",
     "text": [
      "PPO dataset - only one split\n"
     ]
    }
   ],
   "source": [
    "if len(my_dataset.keys()) == 2:\n",
    "    for split in my_dataset:\n",
    "        print(split)\n",
    "        \n",
    "        features = my_dataset[split].features\n",
    "        names = [\"neg\", \"pos\"]\n",
    "        if \"qnli\" in parquet_data_files[\"train\"]: names = [\"entailment\", \"not_entailment\"]\n",
    "        \n",
    "        features[\"label\"] = ClassLabel(names=names)\n",
    "        my_dataset[split] = my_dataset[split].map(features=features, load_from_cache_file=False)\n",
    "        print(my_dataset[split].features[\"label\"])\n",
    "else:\n",
    "    print(\"PPO dataset - only one split\")"
   ]
  },
  {
   "cell_type": "code",
   "execution_count": 11,
   "metadata": {},
   "outputs": [
    {
     "name": "stderr",
     "output_type": "stream",
     "text": [
      "Pushing split train to the Hub.\n"
     ]
    },
    {
     "name": "stdout",
     "output_type": "stream",
     "text": [
      "PPO dataset\n"
     ]
    },
    {
     "data": {
      "application/vnd.jupyter.widget-view+json": {
       "model_id": "67334e7e19084de5a0cb2f2bfaa5b727",
       "version_major": 2,
       "version_minor": 0
      },
      "text/plain": [
       "Pushing dataset shards to the dataset hub:   0%|          | 0/1 [00:00<?, ?it/s]"
      ]
     },
     "metadata": {},
     "output_type": "display_data"
    },
    {
     "data": {
      "application/vnd.jupyter.widget-view+json": {
       "model_id": "5610740243174483be3d7754844873d2",
       "version_major": 2,
       "version_minor": 0
      },
      "text/plain": [
       "Creating parquet from Arrow format:   0%|          | 0/7 [00:00<?, ?ba/s]"
      ]
     },
     "metadata": {},
     "output_type": "display_data"
    },
    {
     "data": {
      "application/vnd.jupyter.widget-view+json": {
       "model_id": "0184ab0a68674173b39438cd30b7264f",
       "version_major": 2,
       "version_minor": 0
      },
      "text/plain": [
       "Upload 1 LFS files:   0%|          | 0/1 [00:00<?, ?it/s]"
      ]
     },
     "metadata": {},
     "output_type": "display_data"
    }
   ],
   "source": [
    "# if len(my_dataset.keys()) == 2:\n",
    "#     print(\"Train/validation dataset\")\n",
    "#     # my_dataset.push_to_hub(f\"AugustasM/burns-datasets-VINC-{VERSION}\", private=True)\n",
    "#     # my_dataset.push_to_hub(f\"AugustasM/burns-datasets-VINC-imdb-{VERSION}\", private=True)\n",
    "#     # my_dataset.push_to_hub(f\"AugustasM/qnli-vicuna-{VERSION}\", private=True)\n",
    "#     my_dataset.push_to_hub(f\"AugustasM/wrapped-piqa-{VERSION}\", private=True)\n",
    "# else:\n",
    "#     print(\"PPO dataset\")\n",
    "#     # my_dataset.push_to_hub(f\"AugustasM/burns-datasets-VINC-ppo-training-{VERSION}\", private=True)\n",
    "#     # my_dataset.push_to_hub(f\"AugustasM/burns-datasets-VINC-imdb-ppo-training-{VERSION}\", private=True)\n",
    "#     # my_dataset.push_to_hub(f\"AugustasM/qnli-vicuna-ppo-training-{VERSION}\", private=True)\n",
    "#     my_dataset.push_to_hub(f\"AugustasM/wrapped-piqa-ppo-training-{VERSION}\", private=True)"
   ]
  },
  {
   "attachments": {},
   "cell_type": "markdown",
   "metadata": {},
   "source": [
    "## Test"
   ]
  },
  {
   "cell_type": "code",
   "execution_count": 12,
   "metadata": {},
   "outputs": [
    {
     "data": {
      "application/vnd.jupyter.widget-view+json": {
       "model_id": "ce3dc50c759f409ab29aa7998ea39ead",
       "version_major": 2,
       "version_minor": 0
      },
      "text/plain": [
       "Downloading readme:   0%|          | 0.00/610 [00:00<?, ?B/s]"
      ]
     },
     "metadata": {},
     "output_type": "display_data"
    },
    {
     "name": "stdout",
     "output_type": "stream",
     "text": [
      "Downloading and preparing dataset None/None to /admin/home-augustas/.cache/huggingface/datasets/AugustasM___parquet/AugustasM--wrapped-piqa-v2-66c8bf361528121d/0.0.0/14a00e99c0d15a23649d0db8944380ac81082d4b021f398733dd84f3a6c569a7...\n"
     ]
    },
    {
     "data": {
      "application/vnd.jupyter.widget-view+json": {
       "model_id": "7a9b13f2efd74fefbcdc28829d8de1a3",
       "version_major": 2,
       "version_minor": 0
      },
      "text/plain": [
       "Downloading data files:   0%|          | 0/2 [00:00<?, ?it/s]"
      ]
     },
     "metadata": {},
     "output_type": "display_data"
    },
    {
     "data": {
      "application/vnd.jupyter.widget-view+json": {
       "model_id": "b67e7215a3b84c288cd8b85cf9f32cb8",
       "version_major": 2,
       "version_minor": 0
      },
      "text/plain": [
       "Downloading data:   0%|          | 0.00/1.37M [00:00<?, ?B/s]"
      ]
     },
     "metadata": {},
     "output_type": "display_data"
    },
    {
     "data": {
      "application/vnd.jupyter.widget-view+json": {
       "model_id": "37ecab2a8a6445d2849c499e9aae7002",
       "version_major": 2,
       "version_minor": 0
      },
      "text/plain": [
       "Downloading data:   0%|          | 0.00/251k [00:00<?, ?B/s]"
      ]
     },
     "metadata": {},
     "output_type": "display_data"
    },
    {
     "data": {
      "application/vnd.jupyter.widget-view+json": {
       "model_id": "737f55acc48e4db7ab2739ce7494a240",
       "version_major": 2,
       "version_minor": 0
      },
      "text/plain": [
       "Extracting data files:   0%|          | 0/2 [00:00<?, ?it/s]"
      ]
     },
     "metadata": {},
     "output_type": "display_data"
    },
    {
     "data": {
      "application/vnd.jupyter.widget-view+json": {
       "model_id": "1a20a5ffe5d34abab3a2da53c37b878b",
       "version_major": 2,
       "version_minor": 0
      },
      "text/plain": [
       "Generating train split:   0%|          | 0/10000 [00:00<?, ? examples/s]"
      ]
     },
     "metadata": {},
     "output_type": "display_data"
    },
    {
     "data": {
      "application/vnd.jupyter.widget-view+json": {
       "model_id": "c5eda05dfd6b45b183d113217966c2dc",
       "version_major": 2,
       "version_minor": 0
      },
      "text/plain": [
       "Generating validation split:   0%|          | 0/1838 [00:00<?, ? examples/s]"
      ]
     },
     "metadata": {},
     "output_type": "display_data"
    },
    {
     "name": "stdout",
     "output_type": "stream",
     "text": [
      "Dataset parquet downloaded and prepared to /admin/home-augustas/.cache/huggingface/datasets/AugustasM___parquet/AugustasM--wrapped-piqa-v2-66c8bf361528121d/0.0.0/14a00e99c0d15a23649d0db8944380ac81082d4b021f398733dd84f3a6c569a7. Subsequent calls will reuse this data.\n"
     ]
    },
    {
     "data": {
      "application/vnd.jupyter.widget-view+json": {
       "model_id": "d0943c0165604a179c18e76c9337e0a5",
       "version_major": 2,
       "version_minor": 0
      },
      "text/plain": [
       "  0%|          | 0/2 [00:00<?, ?it/s]"
      ]
     },
     "metadata": {},
     "output_type": "display_data"
    },
    {
     "data": {
      "text/plain": [
       "(ClassLabel(names=['neg', 'pos'], id=None),\n",
       " ClassLabel(names=['neg', 'pos'], id=None))"
      ]
     },
     "execution_count": 12,
     "metadata": {},
     "output_type": "execute_result"
    }
   ],
   "source": [
    "# tmp = load_dataset(f\"AugustasM/burns-datasets-VINC-{VERSION}\")\n",
    "# tmp = load_dataset(f\"AugustasM/burns-datasets-VINC-imdb-{VERSION}\")\n",
    "# tmp = load_dataset(f\"AugustasM/qnli-vicuna-{VERSION}\")\n",
    "tmp = load_dataset(f\"AugustasM/wrapped-piqa-{VERSION}\")\n",
    "\n",
    "tmp[\"train\"].features[\"label\"], tmp[\"validation\"].features[\"label\"]"
   ]
  },
  {
   "cell_type": "code",
   "execution_count": 13,
   "metadata": {},
   "outputs": [
    {
     "data": {
      "text/plain": [
       "DatasetDict({\n",
       "    train: Dataset({\n",
       "        features: ['label', 'original_dataset', 'template_name', 'text'],\n",
       "        num_rows: 10000\n",
       "    })\n",
       "    validation: Dataset({\n",
       "        features: ['label', 'original_dataset', 'template_name', 'text'],\n",
       "        num_rows: 1838\n",
       "    })\n",
       "})"
      ]
     },
     "execution_count": 13,
     "metadata": {},
     "output_type": "execute_result"
    }
   ],
   "source": [
    "tmp"
   ]
  },
  {
   "cell_type": "code",
   "execution_count": 14,
   "metadata": {},
   "outputs": [],
   "source": [
    "# import datasets\n",
    "# datasets.disable_progress_bar()\n",
    "# datasets.logging.set_verbosity_error()\n",
    "\n",
    "\n",
    "# for i in range(1, 6):\n",
    "#     tmp = load_dataset(f\"AugustasM/burns-datasets-VINC-imdb-v1{i}\")\n",
    "#     print(tmp[\"train\"][0][\"text\"][:100])\n",
    "#     print(tmp[\"validation\"][0][\"text\"][:100])\n",
    "#     print(\"-\" * 80)"
   ]
  },
  {
   "cell_type": "code",
   "execution_count": 15,
   "metadata": {},
   "outputs": [
    {
     "data": {
      "application/vnd.jupyter.widget-view+json": {
       "model_id": "df7f6b21fd144eef941a7491112ceeb9",
       "version_major": 2,
       "version_minor": 0
      },
      "text/plain": [
       "Downloading readme:   0%|          | 0.00/500 [00:00<?, ?B/s]"
      ]
     },
     "metadata": {},
     "output_type": "display_data"
    },
    {
     "name": "stdout",
     "output_type": "stream",
     "text": [
      "Downloading and preparing dataset None/None to /admin/home-augustas/.cache/huggingface/datasets/AugustasM___parquet/AugustasM--wrapped-piqa-ppo-training-v2-0db68068d06638e6/0.0.0/14a00e99c0d15a23649d0db8944380ac81082d4b021f398733dd84f3a6c569a7...\n"
     ]
    },
    {
     "data": {
      "application/vnd.jupyter.widget-view+json": {
       "model_id": "94ce9d12e4a44df1a7fafec14944f326",
       "version_major": 2,
       "version_minor": 0
      },
      "text/plain": [
       "Downloading data files:   0%|          | 0/1 [00:00<?, ?it/s]"
      ]
     },
     "metadata": {},
     "output_type": "display_data"
    },
    {
     "data": {
      "application/vnd.jupyter.widget-view+json": {
       "model_id": "740158a59c6b448e9e7434631af70548",
       "version_major": 2,
       "version_minor": 0
      },
      "text/plain": [
       "Downloading data:   0%|          | 0.00/995k [00:00<?, ?B/s]"
      ]
     },
     "metadata": {},
     "output_type": "display_data"
    },
    {
     "data": {
      "application/vnd.jupyter.widget-view+json": {
       "model_id": "7606939f89e84e6eb2e395245466dd19",
       "version_major": 2,
       "version_minor": 0
      },
      "text/plain": [
       "Extracting data files:   0%|          | 0/1 [00:00<?, ?it/s]"
      ]
     },
     "metadata": {},
     "output_type": "display_data"
    },
    {
     "data": {
      "application/vnd.jupyter.widget-view+json": {
       "model_id": "724b4c4134344333b2925aaff7ad2ca6",
       "version_major": 2,
       "version_minor": 0
      },
      "text/plain": [
       "Generating train split:   0%|          | 0/6113 [00:00<?, ? examples/s]"
      ]
     },
     "metadata": {},
     "output_type": "display_data"
    },
    {
     "name": "stdout",
     "output_type": "stream",
     "text": [
      "Dataset parquet downloaded and prepared to /admin/home-augustas/.cache/huggingface/datasets/AugustasM___parquet/AugustasM--wrapped-piqa-ppo-training-v2-0db68068d06638e6/0.0.0/14a00e99c0d15a23649d0db8944380ac81082d4b021f398733dd84f3a6c569a7. Subsequent calls will reuse this data.\n"
     ]
    },
    {
     "data": {
      "application/vnd.jupyter.widget-view+json": {
       "model_id": "fceb8f1f47864b87b79a3fbc72a7ada6",
       "version_major": 2,
       "version_minor": 0
      },
      "text/plain": [
       "  0%|          | 0/1 [00:00<?, ?it/s]"
      ]
     },
     "metadata": {},
     "output_type": "display_data"
    },
    {
     "data": {
      "text/plain": [
       "DatasetDict({\n",
       "    train: Dataset({\n",
       "        features: ['original_dataset', 'template_name', 'prompt', 'best_response'],\n",
       "        num_rows: 6113\n",
       "    })\n",
       "})"
      ]
     },
     "execution_count": 15,
     "metadata": {},
     "output_type": "execute_result"
    }
   ],
   "source": [
    "# tmp = load_dataset(f\"AugustasM/burns-datasets-VINC-ppo-training-{VERSION}\")\n",
    "# tmp = load_dataset(f\"AugustasM/burns-datasets-VINC-imdb-ppo-training-{VERSION}\")\n",
    "# tmp = load_dataset(f\"AugustasM/qnli-vicuna-ppo-training-{VERSION}\")\n",
    "tmp = load_dataset(f\"AugustasM/wrapped-piqa-ppo-training-{VERSION}\")\n",
    "tmp"
   ]
  },
  {
   "cell_type": "code",
   "execution_count": null,
   "metadata": {},
   "outputs": [],
   "source": []
  },
  {
   "cell_type": "code",
   "execution_count": null,
   "metadata": {},
   "outputs": [],
   "source": []
  }
 ],
 "metadata": {
  "kernelspec": {
   "display_name": "elk",
   "language": "python",
   "name": "python3"
  },
  "language_info": {
   "codemirror_mode": {
    "name": "ipython",
    "version": 3
   },
   "file_extension": ".py",
   "mimetype": "text/x-python",
   "name": "python",
   "nbconvert_exporter": "python",
   "pygments_lexer": "ipython3",
   "version": "3.10.11"
  },
  "orig_nbformat": 4
 },
 "nbformat": 4,
 "nbformat_minor": 2
}
