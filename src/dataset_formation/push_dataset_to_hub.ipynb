{
 "cells": [
  {
   "attachments": {},
   "cell_type": "markdown",
   "metadata": {},
   "source": [
    "## Imports"
   ]
  },
  {
   "cell_type": "code",
   "execution_count": 4,
   "metadata": {},
   "outputs": [],
   "source": [
    "from datasets import load_dataset, ClassLabel"
   ]
  },
  {
   "cell_type": "code",
   "execution_count": 5,
   "metadata": {},
   "outputs": [
    {
     "name": "stdout",
     "output_type": "stream",
     "text": [
      "drwxr-xr-x  3 augustas Domain Users  25K Jul 21 22:46 qnli_vicuna_ppo_training_raw_v1\n",
      "-rw-r--r--  1 augustas Domain Users  19M Jul 21 23:18 qnli_vicuna_ppo_training_v1.parquet\n",
      "drwxr-xr-x  3 augustas Domain Users  33K Jul 21 22:45 qnli_vicuna_train_raw_v1\n",
      "-rw-r--r--  1 augustas Domain Users 2.0M Jul 21 23:02 qnli_vicuna_train_v1.parquet\n",
      "-rw-r--r--  1 augustas Domain Users 1.1M Jul 21 23:26 qnli_vicuna_validation_v1.parquet\n"
     ]
    }
   ],
   "source": [
    "VERSION = \"v1\"\n",
    "!ls -lah datasets | grep {VERSION} | grep qnli\n",
    "# !ls -lah datasets | grep {VERSION} | grep imdb\n",
    "# !ls -lah datasets | grep {VERSION}"
   ]
  },
  {
   "cell_type": "code",
   "execution_count": 17,
   "metadata": {},
   "outputs": [
    {
     "name": "stderr",
     "output_type": "stream",
     "text": [
      "Found cached dataset parquet (/admin/home-augustas/.cache/huggingface/datasets/parquet/default-0422c8c7bd6c8c48/0.0.0/14a00e99c0d15a23649d0db8944380ac81082d4b021f398733dd84f3a6c569a7)\n"
     ]
    },
    {
     "data": {
      "application/vnd.jupyter.widget-view+json": {
       "model_id": "b07b001082e3416cbdbd923f7c251501",
       "version_major": 2,
       "version_minor": 0
      },
      "text/plain": [
       "  0%|          | 0/2 [00:00<?, ?it/s]"
      ]
     },
     "metadata": {},
     "output_type": "display_data"
    },
    {
     "data": {
      "text/plain": [
       "DatasetDict({\n",
       "    train: Dataset({\n",
       "        features: ['label', 'original_dataset', 'text'],\n",
       "        num_rows: 10000\n",
       "    })\n",
       "    validation: Dataset({\n",
       "        features: ['label', 'original_dataset', 'text'],\n",
       "        num_rows: 5463\n",
       "    })\n",
       "})"
      ]
     },
     "execution_count": 17,
     "metadata": {},
     "output_type": "execute_result"
    }
   ],
   "source": [
    "# parquet_data_files = {\n",
    "#     \"train\": f\"datasets/burns_datasets_VINC_train_{VERSION}.parquet\",\n",
    "#     \"validation\": f\"datasets/burns_datasets_VINC_validation_{VERSION}.parquet\",\n",
    "# }\n",
    "# parquet_data_files = {\n",
    "#     \"train\": f\"datasets/burns_datasets_VINC_imdb_train_{VERSION}.parquet\",\n",
    "#     \"validation\": f\"datasets/burns_datasets_VINC_imdb_validation_{VERSION}.parquet\",\n",
    "# }\n",
    "parquet_data_files = {\n",
    "    \"train\": f\"datasets/qnli_vicuna_train_{VERSION}.parquet\",\n",
    "    \"validation\": f\"datasets/qnli_vicuna_validation_{VERSION}.parquet\",\n",
    "}\n",
    "\n",
    "# parquet_data_files = {\n",
    "#     \"train\": f\"datasets/burns_datasets_VINC_ppo_training_{VERSION}.parquet\",\n",
    "# }\n",
    "# parquet_data_files = {\n",
    "#     \"train\": f\"datasets/burns_datasets_VINC_imdb_ppo_training_{VERSION}.parquet\",\n",
    "# }\n",
    "# parquet_data_files = {\n",
    "#     \"train\": f\"datasets/qnli_vicuna_ppo_training_{VERSION}.parquet\",\n",
    "# }\n",
    "\n",
    "my_dataset = load_dataset(\"parquet\", data_files=parquet_data_files)\n",
    "my_dataset"
   ]
  },
  {
   "cell_type": "code",
   "execution_count": 18,
   "metadata": {},
   "outputs": [
    {
     "name": "stdout",
     "output_type": "stream",
     "text": [
      "train\n"
     ]
    },
    {
     "data": {
      "application/vnd.jupyter.widget-view+json": {
       "model_id": "1522d3bed510425ca36819cfad308d88",
       "version_major": 2,
       "version_minor": 0
      },
      "text/plain": [
       "Map:   0%|          | 0/10000 [00:00<?, ? examples/s]"
      ]
     },
     "metadata": {},
     "output_type": "display_data"
    },
    {
     "name": "stdout",
     "output_type": "stream",
     "text": [
      "ClassLabel(names=['entailment', 'not_entailment'], id=None)\n",
      "validation\n"
     ]
    },
    {
     "data": {
      "application/vnd.jupyter.widget-view+json": {
       "model_id": "daab4662c3ea406fa32bb60291df1098",
       "version_major": 2,
       "version_minor": 0
      },
      "text/plain": [
       "Map:   0%|          | 0/5463 [00:00<?, ? examples/s]"
      ]
     },
     "metadata": {},
     "output_type": "display_data"
    },
    {
     "name": "stdout",
     "output_type": "stream",
     "text": [
      "ClassLabel(names=['entailment', 'not_entailment'], id=None)\n"
     ]
    }
   ],
   "source": [
    "if len(my_dataset.keys()) == 2:\n",
    "    for split in my_dataset:\n",
    "        print(split)\n",
    "        \n",
    "        features = my_dataset[split].features\n",
    "        names = [\"neg\", \"pos\"]\n",
    "        if \"qnli\" in parquet_data_files[\"train\"]: names = [\"entailment\", \"not_entailment\"]\n",
    "        \n",
    "        features[\"label\"] = ClassLabel(names=names)\n",
    "        my_dataset[split] = my_dataset[split].map(features=features, load_from_cache_file=False)\n",
    "        print(my_dataset[split].features[\"label\"])\n",
    "else:\n",
    "    print(\"PPO dataset - only one split\")"
   ]
  },
  {
   "cell_type": "code",
   "execution_count": 20,
   "metadata": {},
   "outputs": [],
   "source": [
    "# if len(my_dataset.keys()) == 2:\n",
    "#     print(\"Train/validation dataset\")\n",
    "#     # my_dataset.push_to_hub(f\"AugustasM/burns-datasets-VINC-{VERSION}\", private=True)\n",
    "#     # my_dataset.push_to_hub(f\"AugustasM/burns-datasets-VINC-imdb-{VERSION}\", private=True)\n",
    "#     my_dataset.push_to_hub(f\"AugustasM/qnli-vicuna-{VERSION}\", private=True)\n",
    "# else:\n",
    "#     print(\"PPO dataset\")\n",
    "#     # my_dataset.push_to_hub(f\"AugustasM/burns-datasets-VINC-ppo-training-{VERSION}\", private=True)\n",
    "#     # my_dataset.push_to_hub(f\"AugustasM/burns-datasets-VINC-imdb-ppo-training-{VERSION}\", private=True)\n",
    "#     my_dataset.push_to_hub(f\"AugustasM/qnli-vicuna-ppo-training-{VERSION}\", private=True)"
   ]
  },
  {
   "attachments": {},
   "cell_type": "markdown",
   "metadata": {},
   "source": [
    "## Test"
   ]
  },
  {
   "cell_type": "code",
   "execution_count": 21,
   "metadata": {},
   "outputs": [
    {
     "data": {
      "application/vnd.jupyter.widget-view+json": {
       "model_id": "3326a8a3827a4902a73cb670211fbe00",
       "version_major": 2,
       "version_minor": 0
      },
      "text/plain": [
       "Downloading readme:   0%|          | 0.00/587 [00:00<?, ?B/s]"
      ]
     },
     "metadata": {},
     "output_type": "display_data"
    },
    {
     "name": "stdout",
     "output_type": "stream",
     "text": [
      "Downloading and preparing dataset None/None to /admin/home-augustas/.cache/huggingface/datasets/AugustasM___parquet/AugustasM--qnli-vicuna-v1-aba457150f5153b4/0.0.0/14a00e99c0d15a23649d0db8944380ac81082d4b021f398733dd84f3a6c569a7...\n"
     ]
    },
    {
     "data": {
      "application/vnd.jupyter.widget-view+json": {
       "model_id": "758c241d8b2443c78958b2455ff38d2c",
       "version_major": 2,
       "version_minor": 0
      },
      "text/plain": [
       "Downloading data files:   0%|          | 0/2 [00:00<?, ?it/s]"
      ]
     },
     "metadata": {},
     "output_type": "display_data"
    },
    {
     "data": {
      "application/vnd.jupyter.widget-view+json": {
       "model_id": "1ef5f76667494117957bdcc7ec644751",
       "version_major": 2,
       "version_minor": 0
      },
      "text/plain": [
       "Downloading data:   0%|          | 0.00/2.03M [00:00<?, ?B/s]"
      ]
     },
     "metadata": {},
     "output_type": "display_data"
    },
    {
     "data": {
      "application/vnd.jupyter.widget-view+json": {
       "model_id": "ab46468e2e684166aeb6befbd5e9373e",
       "version_major": 2,
       "version_minor": 0
      },
      "text/plain": [
       "Downloading data:   0%|          | 0.00/1.12M [00:00<?, ?B/s]"
      ]
     },
     "metadata": {},
     "output_type": "display_data"
    },
    {
     "data": {
      "application/vnd.jupyter.widget-view+json": {
       "model_id": "52fd99d3cd3c421aa9aad023aefdb5aa",
       "version_major": 2,
       "version_minor": 0
      },
      "text/plain": [
       "Extracting data files:   0%|          | 0/2 [00:00<?, ?it/s]"
      ]
     },
     "metadata": {},
     "output_type": "display_data"
    },
    {
     "data": {
      "application/vnd.jupyter.widget-view+json": {
       "model_id": "766a28c3443e41aab20a336af7662865",
       "version_major": 2,
       "version_minor": 0
      },
      "text/plain": [
       "Generating train split:   0%|          | 0/10000 [00:00<?, ? examples/s]"
      ]
     },
     "metadata": {},
     "output_type": "display_data"
    },
    {
     "data": {
      "application/vnd.jupyter.widget-view+json": {
       "model_id": "3c4432978fbb4c67b8999119dee46cad",
       "version_major": 2,
       "version_minor": 0
      },
      "text/plain": [
       "Generating validation split:   0%|          | 0/5463 [00:00<?, ? examples/s]"
      ]
     },
     "metadata": {},
     "output_type": "display_data"
    },
    {
     "name": "stdout",
     "output_type": "stream",
     "text": [
      "Dataset parquet downloaded and prepared to /admin/home-augustas/.cache/huggingface/datasets/AugustasM___parquet/AugustasM--qnli-vicuna-v1-aba457150f5153b4/0.0.0/14a00e99c0d15a23649d0db8944380ac81082d4b021f398733dd84f3a6c569a7. Subsequent calls will reuse this data.\n"
     ]
    },
    {
     "data": {
      "application/vnd.jupyter.widget-view+json": {
       "model_id": "7fd572f42e1f44ad88a8b7775a240a7c",
       "version_major": 2,
       "version_minor": 0
      },
      "text/plain": [
       "  0%|          | 0/2 [00:00<?, ?it/s]"
      ]
     },
     "metadata": {},
     "output_type": "display_data"
    },
    {
     "data": {
      "text/plain": [
       "(ClassLabel(names=['entailment', 'not_entailment'], id=None),\n",
       " ClassLabel(names=['entailment', 'not_entailment'], id=None))"
      ]
     },
     "execution_count": 21,
     "metadata": {},
     "output_type": "execute_result"
    }
   ],
   "source": [
    "# tmp = load_dataset(f\"AugustasM/burns-datasets-VINC-{VERSION}\")\n",
    "# tmp = load_dataset(f\"AugustasM/burns-datasets-VINC-imdb-{VERSION}\")\n",
    "tmp = load_dataset(f\"AugustasM/qnli-vicuna-{VERSION}\")\n",
    "\n",
    "tmp[\"train\"].features[\"label\"], tmp[\"validation\"].features[\"label\"]"
   ]
  },
  {
   "cell_type": "code",
   "execution_count": 22,
   "metadata": {},
   "outputs": [
    {
     "data": {
      "text/plain": [
       "DatasetDict({\n",
       "    train: Dataset({\n",
       "        features: ['label', 'original_dataset', 'text'],\n",
       "        num_rows: 10000\n",
       "    })\n",
       "    validation: Dataset({\n",
       "        features: ['label', 'original_dataset', 'text'],\n",
       "        num_rows: 5463\n",
       "    })\n",
       "})"
      ]
     },
     "execution_count": 22,
     "metadata": {},
     "output_type": "execute_result"
    }
   ],
   "source": [
    "tmp"
   ]
  },
  {
   "cell_type": "code",
   "execution_count": 23,
   "metadata": {},
   "outputs": [],
   "source": [
    "# import datasets\n",
    "# datasets.disable_progress_bar()\n",
    "# datasets.logging.set_verbosity_error()\n",
    "\n",
    "\n",
    "# for i in range(1, 6):\n",
    "#     tmp = load_dataset(f\"AugustasM/burns-datasets-VINC-imdb-v1{i}\")\n",
    "#     print(tmp[\"train\"][0][\"text\"][:100])\n",
    "#     print(tmp[\"validation\"][0][\"text\"][:100])\n",
    "#     print(\"-\" * 80)"
   ]
  },
  {
   "cell_type": "code",
   "execution_count": 24,
   "metadata": {},
   "outputs": [
    {
     "name": "stderr",
     "output_type": "stream",
     "text": [
      "Found cached dataset parquet (/admin/home-augustas/.cache/huggingface/datasets/AugustasM___parquet/AugustasM--qnli-vicuna-ppo-training-v1-e9526ea8884b4bb3/0.0.0/14a00e99c0d15a23649d0db8944380ac81082d4b021f398733dd84f3a6c569a7)\n"
     ]
    },
    {
     "data": {
      "application/vnd.jupyter.widget-view+json": {
       "model_id": "b158eac05e2a4ad29a88fb173032b61a",
       "version_major": 2,
       "version_minor": 0
      },
      "text/plain": [
       "  0%|          | 0/1 [00:00<?, ?it/s]"
      ]
     },
     "metadata": {},
     "output_type": "display_data"
    },
    {
     "data": {
      "text/plain": [
       "DatasetDict({\n",
       "    train: Dataset({\n",
       "        features: ['original_dataset', 'prompt', 'best_response'],\n",
       "        num_rows: 94743\n",
       "    })\n",
       "})"
      ]
     },
     "execution_count": 24,
     "metadata": {},
     "output_type": "execute_result"
    }
   ],
   "source": [
    "# tmp = load_dataset(f\"AugustasM/burns-datasets-VINC-ppo-training-{VERSION}\")\n",
    "# tmp = load_dataset(f\"AugustasM/burns-datasets-VINC-imdb-ppo-training-{VERSION}\")\n",
    "tmp = load_dataset(f\"AugustasM/qnli-vicuna-ppo-training-{VERSION}\")\n",
    "tmp"
   ]
  },
  {
   "cell_type": "code",
   "execution_count": null,
   "metadata": {},
   "outputs": [],
   "source": []
  }
 ],
 "metadata": {
  "kernelspec": {
   "display_name": "elk",
   "language": "python",
   "name": "python3"
  },
  "language_info": {
   "codemirror_mode": {
    "name": "ipython",
    "version": 3
   },
   "file_extension": ".py",
   "mimetype": "text/x-python",
   "name": "python",
   "nbconvert_exporter": "python",
   "pygments_lexer": "ipython3",
   "version": "3.10.11"
  },
  "orig_nbformat": 4
 },
 "nbformat": 4,
 "nbformat_minor": 2
}
