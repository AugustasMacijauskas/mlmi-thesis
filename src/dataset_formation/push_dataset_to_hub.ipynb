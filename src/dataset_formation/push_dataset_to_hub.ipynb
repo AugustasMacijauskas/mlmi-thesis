{
 "cells": [
  {
   "attachments": {},
   "cell_type": "markdown",
   "metadata": {},
   "source": [
    "## Imports"
   ]
  },
  {
   "cell_type": "code",
   "execution_count": 1,
   "metadata": {},
   "outputs": [],
   "source": [
    "from datasets import load_dataset"
   ]
  },
  {
   "cell_type": "code",
   "execution_count": 4,
   "metadata": {},
   "outputs": [
    {
     "name": "stdout",
     "output_type": "stream",
     "text": [
      "total 6.7M\n",
      "drwxrwsr-x 4 am3052 am3052 4.0K Jun 14 23:54 .\n",
      "drwxrwsr-x 3 am3052 am3052 4.0K Jun 14 23:55 ..\n",
      "-rw-rw-r-- 1 am3052 am3052 2.8M Jun 14 16:08 burns_datasets_VINC_train.parquet\n",
      "-rw-rw-r-- 1 am3052 am3052 858K Jun 14 23:54 burns_datasets_VINC_validation.parquet\n",
      "drwxrwsr-x 9 am3052 am3052 4.0K Jun 14 22:18 ppo_dataset_raw\n",
      "-rw-rw-r-- 1 am3052 am3052 3.0M Jun 14 23:53 ppo_training_dataset.parquet\n",
      "drwxrwsr-x 9 am3052 am3052 4.0K Jun 14 22:18 test_dataset_raw\n"
     ]
    }
   ],
   "source": [
    "!ls -lah datasets"
   ]
  },
  {
   "cell_type": "code",
   "execution_count": 13,
   "metadata": {},
   "outputs": [
    {
     "name": "stdout",
     "output_type": "stream",
     "text": [
      "Downloading and preparing dataset parquet/default to /home/am3052/.cache/huggingface/datasets/parquet/default-069d4dfb5d344d67/0.0.0/2a3b91fbd88a2c90d1dbbb32b460cf621d31bd5b05b934492fdef7d8d6f236ec...\n"
     ]
    },
    {
     "data": {
      "application/vnd.jupyter.widget-view+json": {
       "model_id": "6406ea5674a54d79ac8929ad423d5614",
       "version_major": 2,
       "version_minor": 0
      },
      "text/plain": [
       "Downloading data files:   0%|          | 0/1 [00:00<?, ?it/s]"
      ]
     },
     "metadata": {},
     "output_type": "display_data"
    },
    {
     "data": {
      "application/vnd.jupyter.widget-view+json": {
       "model_id": "8779cf2d0204430cabe66f738be83c74",
       "version_major": 2,
       "version_minor": 0
      },
      "text/plain": [
       "Extracting data files:   0%|          | 0/1 [00:00<?, ?it/s]"
      ]
     },
     "metadata": {},
     "output_type": "display_data"
    },
    {
     "data": {
      "application/vnd.jupyter.widget-view+json": {
       "model_id": "ffee03c4a19d4ffe9449790cae1e5b79",
       "version_major": 2,
       "version_minor": 0
      },
      "text/plain": [
       "Generating train split: 0 examples [00:00, ? examples/s]"
      ]
     },
     "metadata": {},
     "output_type": "display_data"
    },
    {
     "name": "stdout",
     "output_type": "stream",
     "text": [
      "Dataset parquet downloaded and prepared to /home/am3052/.cache/huggingface/datasets/parquet/default-069d4dfb5d344d67/0.0.0/2a3b91fbd88a2c90d1dbbb32b460cf621d31bd5b05b934492fdef7d8d6f236ec. Subsequent calls will reuse this data.\n"
     ]
    },
    {
     "data": {
      "application/vnd.jupyter.widget-view+json": {
       "model_id": "de61bca2fb9641b09b4da139ca269992",
       "version_major": 2,
       "version_minor": 0
      },
      "text/plain": [
       "  0%|          | 0/1 [00:00<?, ?it/s]"
      ]
     },
     "metadata": {},
     "output_type": "display_data"
    },
    {
     "data": {
      "text/plain": [
       "DatasetDict({\n",
       "    train: Dataset({\n",
       "        features: ['original_dataset', 'template_name', 'prompt', 'best_response'],\n",
       "        num_rows: 10122\n",
       "    })\n",
       "})"
      ]
     },
     "execution_count": 13,
     "metadata": {},
     "output_type": "execute_result"
    }
   ],
   "source": [
    "# parquet_data_files = {\n",
    "#     \"train\": \"datasets/burns_datasets_VINC_train.parquet\",\n",
    "#     \"validation\": \"datasets/burns_datasets_VINC_validation.parquet\",\n",
    "# }\n",
    "\n",
    "parquet_data_files = {\n",
    "    \"train\": \"datasets/ppo_training_dataset.parquet\",\n",
    "}\n",
    "\n",
    "my_dataset = load_dataset(\"parquet\", data_files=parquet_data_files)\n",
    "my_dataset"
   ]
  },
  {
   "cell_type": "code",
   "execution_count": 14,
   "metadata": {},
   "outputs": [
    {
     "name": "stderr",
     "output_type": "stream",
     "text": [
      "Pushing split train to the Hub.\n"
     ]
    },
    {
     "data": {
      "application/vnd.jupyter.widget-view+json": {
       "model_id": "9e39bacccfc74aeb8acc30ddb976290e",
       "version_major": 2,
       "version_minor": 0
      },
      "text/plain": [
       "Pushing dataset shards to the dataset hub:   0%|          | 0/1 [00:00<?, ?it/s]"
      ]
     },
     "metadata": {},
     "output_type": "display_data"
    },
    {
     "data": {
      "application/vnd.jupyter.widget-view+json": {
       "model_id": "0f4593fe18c24e2baab116f8d03a3cb0",
       "version_major": 2,
       "version_minor": 0
      },
      "text/plain": [
       "Creating parquet from Arrow format:   0%|          | 0/11 [00:00<?, ?ba/s]"
      ]
     },
     "metadata": {},
     "output_type": "display_data"
    },
    {
     "data": {
      "application/vnd.jupyter.widget-view+json": {
       "model_id": "6ec54b3ea5ff40c08ff809ee32ed0bc1",
       "version_major": 2,
       "version_minor": 0
      },
      "text/plain": [
       "Upload 1 LFS files:   0%|          | 0/1 [00:00<?, ?it/s]"
      ]
     },
     "metadata": {},
     "output_type": "display_data"
    }
   ],
   "source": [
    "# my_dataset.push_to_hub(\"AugustasM/burns-ppo-training-dataset\", private=True)"
   ]
  },
  {
   "cell_type": "code",
   "execution_count": null,
   "metadata": {},
   "outputs": [],
   "source": []
  }
 ],
 "metadata": {
  "kernelspec": {
   "display_name": "elk",
   "language": "python",
   "name": "python3"
  },
  "language_info": {
   "codemirror_mode": {
    "name": "ipython",
    "version": 3
   },
   "file_extension": ".py",
   "mimetype": "text/x-python",
   "name": "python",
   "nbconvert_exporter": "python",
   "pygments_lexer": "ipython3",
   "version": "3.10.4"
  },
  "orig_nbformat": 4
 },
 "nbformat": 4,
 "nbformat_minor": 2
}
