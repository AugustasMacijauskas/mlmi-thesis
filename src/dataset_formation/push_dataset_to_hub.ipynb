{
 "cells": [
  {
   "attachments": {},
   "cell_type": "markdown",
   "metadata": {},
   "source": [
    "## Imports"
   ]
  },
  {
   "cell_type": "code",
   "execution_count": 39,
   "metadata": {},
   "outputs": [],
   "source": [
    "from datasets import load_dataset, ClassLabel"
   ]
  },
  {
   "cell_type": "code",
   "execution_count": 40,
   "metadata": {},
   "outputs": [
    {
     "name": "stdout",
     "output_type": "stream",
     "text": [
      "drwxr-xr-x  3 augustas Domain Users  25K Jul  4 23:02 burns_datasets_VINC_imdb_ppo_training_raw_v2\n",
      "-rw-r--r--  1 augustas Domain Users  12M Jul  4 23:07 burns_datasets_VINC_imdb_ppo_training_v2.parquet\n",
      "drwxr-xr-x  3 augustas Domain Users  25K Jul  4 23:02 burns_datasets_VINC_imdb_train_raw_v2\n",
      "-rw-r--r--  1 augustas Domain Users 7.4M Jul  4 23:03 burns_datasets_VINC_imdb_train_v2.parquet\n",
      "-rw-r--r--  1 augustas Domain Users 1.2M Jul  4 23:06 burns_datasets_VINC_imdb_validation_v2.parquet\n"
     ]
    }
   ],
   "source": [
    "VERSION = \"v2\"\n",
    "!ls -lah datasets | grep {VERSION} | grep imdb\n",
    "# !ls -lah datasets | grep {VERSION}"
   ]
  },
  {
   "cell_type": "code",
   "execution_count": 45,
   "metadata": {},
   "outputs": [
    {
     "name": "stdout",
     "output_type": "stream",
     "text": [
      "Downloading and preparing dataset parquet/default to /admin/home-augustas/.cache/huggingface/datasets/parquet/default-914f2b0a66156790/0.0.0/14a00e99c0d15a23649d0db8944380ac81082d4b021f398733dd84f3a6c569a7...\n",
      "Dataset parquet downloaded and prepared to /admin/home-augustas/.cache/huggingface/datasets/parquet/default-914f2b0a66156790/0.0.0/14a00e99c0d15a23649d0db8944380ac81082d4b021f398733dd84f3a6c569a7. Subsequent calls will reuse this data.\n"
     ]
    },
    {
     "data": {
      "text/plain": [
       "DatasetDict({\n",
       "    train: Dataset({\n",
       "        features: ['original_dataset', 'template_name', 'prompt', 'best_response'],\n",
       "        num_rows: 15000\n",
       "    })\n",
       "})"
      ]
     },
     "execution_count": 45,
     "metadata": {},
     "output_type": "execute_result"
    }
   ],
   "source": [
    "# parquet_data_files = {\n",
    "#     \"train\": f\"datasets/burns_datasets_VINC_train_{VERSION}.parquet\",\n",
    "#     \"validation\": f\"datasets/burns_datasets_VINC_validation_{VERSION}.parquet\",\n",
    "# }\n",
    "# parquet_data_files = {\n",
    "#     \"train\": f\"datasets/burns_datasets_VINC_imdb_train_{VERSION}.parquet\",\n",
    "#     \"validation\": f\"datasets/burns_datasets_VINC_imdb_validation_{VERSION}.parquet\",\n",
    "# }\n",
    "\n",
    "# parquet_data_files = {\n",
    "#     \"train\": f\"datasets/burns_datasets_VINC_ppo_training_{VERSION}.parquet\",\n",
    "# }\n",
    "parquet_data_files = {\n",
    "    \"train\": f\"datasets/burns_datasets_VINC_imdb_ppo_training_{VERSION}.parquet\",\n",
    "}\n",
    "\n",
    "my_dataset = load_dataset(\"parquet\", data_files=parquet_data_files)\n",
    "my_dataset"
   ]
  },
  {
   "cell_type": "code",
   "execution_count": 46,
   "metadata": {},
   "outputs": [
    {
     "name": "stdout",
     "output_type": "stream",
     "text": [
      "PPO dataset - only one split\n"
     ]
    }
   ],
   "source": [
    "if len(my_dataset.keys()) == 2:\n",
    "    for split in my_dataset:\n",
    "        print(split)\n",
    "        features = my_dataset[split].features\n",
    "        features[\"label\"] = ClassLabel(names=[\"neg\", \"pos\"])\n",
    "        my_dataset[split] = my_dataset[split].map(features=features, load_from_cache_file=False)\n",
    "        print(my_dataset[split].features[\"label\"])\n",
    "else:\n",
    "    print(\"PPO dataset - only one split\")"
   ]
  },
  {
   "cell_type": "code",
   "execution_count": 47,
   "metadata": {},
   "outputs": [
    {
     "name": "stdout",
     "output_type": "stream",
     "text": [
      "PPO dataset\n"
     ]
    },
    {
     "data": {
      "application/vnd.jupyter.widget-view+json": {
       "model_id": "5874866915624b57ad865d005784ab04",
       "version_major": 2,
       "version_minor": 0
      },
      "text/plain": [
       "Upload 1 LFS files:   0%|          | 0/1 [00:00<?, ?it/s]"
      ]
     },
     "metadata": {},
     "output_type": "display_data"
    }
   ],
   "source": [
    "# if len(my_dataset.keys()) == 2:\n",
    "#     print(\"Train/validation dataset\")\n",
    "#     # my_dataset.push_to_hub(f\"AugustasM/burns-datasets-VINC-{VERSION}\", private=True)\n",
    "#     my_dataset.push_to_hub(f\"AugustasM/burns-datasets-VINC-imdb-{VERSION}\", private=True)\n",
    "# else:\n",
    "#     print(\"PPO dataset\")\n",
    "#     # my_dataset.push_to_hub(f\"AugustasM/burns-datasets-VINC-ppo-training-{VERSION}\", private=True)\n",
    "#     my_dataset.push_to_hub(f\"AugustasM/burns-datasets-VINC-imdb-ppo-training-{VERSION}\", private=True)"
   ]
  },
  {
   "attachments": {},
   "cell_type": "markdown",
   "metadata": {},
   "source": [
    "## Test"
   ]
  },
  {
   "cell_type": "code",
   "execution_count": 48,
   "metadata": {},
   "outputs": [
    {
     "name": "stdout",
     "output_type": "stream",
     "text": [
      "Downloading and preparing dataset None/None to /admin/home-augustas/.cache/huggingface/datasets/AugustasM___parquet/AugustasM--burns-datasets-VINC-imdb-v2-d2721549d1400cbf/0.0.0/14a00e99c0d15a23649d0db8944380ac81082d4b021f398733dd84f3a6c569a7...\n",
      "Dataset parquet downloaded and prepared to /admin/home-augustas/.cache/huggingface/datasets/AugustasM___parquet/AugustasM--burns-datasets-VINC-imdb-v2-d2721549d1400cbf/0.0.0/14a00e99c0d15a23649d0db8944380ac81082d4b021f398733dd84f3a6c569a7. Subsequent calls will reuse this data.\n"
     ]
    },
    {
     "data": {
      "text/plain": [
       "(ClassLabel(names=['neg', 'pos'], id=None),\n",
       " ClassLabel(names=['neg', 'pos'], id=None))"
      ]
     },
     "execution_count": 48,
     "metadata": {},
     "output_type": "execute_result"
    }
   ],
   "source": [
    "# tmp = load_dataset(f\"AugustasM/burns-datasets-VINC-{VERSION}\")\n",
    "tmp = load_dataset(f\"AugustasM/burns-datasets-VINC-imdb-{VERSION}\")\n",
    "\n",
    "tmp[\"train\"].features[\"label\"], tmp[\"validation\"].features[\"label\"]"
   ]
  },
  {
   "cell_type": "code",
   "execution_count": 49,
   "metadata": {},
   "outputs": [
    {
     "data": {
      "text/plain": [
       "DatasetDict({\n",
       "    train: Dataset({\n",
       "        features: ['text', 'label', 'original_dataset', 'template_name'],\n",
       "        num_rows: 10000\n",
       "    })\n",
       "    validation: Dataset({\n",
       "        features: ['text', 'label', 'original_dataset', 'template_name'],\n",
       "        num_rows: 1500\n",
       "    })\n",
       "})"
      ]
     },
     "execution_count": 49,
     "metadata": {},
     "output_type": "execute_result"
    }
   ],
   "source": [
    "tmp"
   ]
  },
  {
   "cell_type": "code",
   "execution_count": 50,
   "metadata": {},
   "outputs": [],
   "source": [
    "# import datasets\n",
    "# datasets.disable_progress_bar()\n",
    "# datasets.logging.set_verbosity_error()\n",
    "\n",
    "\n",
    "# for i in range(1, 6):\n",
    "#     tmp = load_dataset(f\"AugustasM/burns-datasets-VINC-imdb-v1{i}\")\n",
    "#     print(tmp[\"train\"][0][\"text\"][:100])\n",
    "#     print(tmp[\"validation\"][0][\"text\"][:100])\n",
    "#     print(\"-\" * 80)"
   ]
  },
  {
   "cell_type": "code",
   "execution_count": 51,
   "metadata": {},
   "outputs": [
    {
     "name": "stdout",
     "output_type": "stream",
     "text": [
      "Downloading and preparing dataset None/None to /admin/home-augustas/.cache/huggingface/datasets/AugustasM___parquet/AugustasM--burns-datasets-VINC-imdb-ppo-training-v2-7a8c35d13838a0fc/0.0.0/14a00e99c0d15a23649d0db8944380ac81082d4b021f398733dd84f3a6c569a7...\n",
      "Dataset parquet downloaded and prepared to /admin/home-augustas/.cache/huggingface/datasets/AugustasM___parquet/AugustasM--burns-datasets-VINC-imdb-ppo-training-v2-7a8c35d13838a0fc/0.0.0/14a00e99c0d15a23649d0db8944380ac81082d4b021f398733dd84f3a6c569a7. Subsequent calls will reuse this data.\n"
     ]
    },
    {
     "data": {
      "text/plain": [
       "DatasetDict({\n",
       "    train: Dataset({\n",
       "        features: ['original_dataset', 'template_name', 'prompt', 'best_response'],\n",
       "        num_rows: 15000\n",
       "    })\n",
       "})"
      ]
     },
     "execution_count": 51,
     "metadata": {},
     "output_type": "execute_result"
    }
   ],
   "source": [
    "# tmp = load_dataset(f\"AugustasM/burns-datasets-VINC-ppo-training-{VERSION}\")\n",
    "tmp = load_dataset(f\"AugustasM/burns-datasets-VINC-imdb-ppo-training-{VERSION}\")\n",
    "tmp"
   ]
  },
  {
   "cell_type": "code",
   "execution_count": null,
   "metadata": {},
   "outputs": [],
   "source": []
  },
  {
   "cell_type": "code",
   "execution_count": null,
   "metadata": {},
   "outputs": [],
   "source": []
  }
 ],
 "metadata": {
  "kernelspec": {
   "display_name": "elk",
   "language": "python",
   "name": "python3"
  },
  "language_info": {
   "codemirror_mode": {
    "name": "ipython",
    "version": 3
   },
   "file_extension": ".py",
   "mimetype": "text/x-python",
   "name": "python",
   "nbconvert_exporter": "python",
   "pygments_lexer": "ipython3",
   "version": "3.10.11"
  },
  "orig_nbformat": 4
 },
 "nbformat": 4,
 "nbformat_minor": 2
}
