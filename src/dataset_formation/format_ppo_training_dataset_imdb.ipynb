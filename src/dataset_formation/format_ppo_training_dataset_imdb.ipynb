{
 "cells": [
  {
   "attachments": {},
   "cell_type": "markdown",
   "metadata": {},
   "source": [
    "## Imports"
   ]
  },
  {
   "cell_type": "code",
   "execution_count": 1,
   "metadata": {},
   "outputs": [],
   "source": [
    "import sys\n",
    "import random\n",
    "from pathlib import Path\n",
    "from collections import Counter\n",
    "\n",
    "import datasets\n",
    "\n",
    "from utils import combine_strings_with_whitespace"
   ]
  },
  {
   "cell_type": "code",
   "execution_count": 2,
   "metadata": {},
   "outputs": [
    {
     "data": {
      "text/plain": [
       "PosixPath('/fsx/home-augustas/elk')"
      ]
     },
     "execution_count": 2,
     "metadata": {},
     "output_type": "execute_result"
    }
   ],
   "source": [
    "ELK_PATH = Path(\"../../../elk/\")\n",
    "ELK_PATH.resolve()"
   ]
  },
  {
   "cell_type": "code",
   "execution_count": 3,
   "metadata": {},
   "outputs": [
    {
     "data": {
      "text/plain": [
       "['/fsx/home-augustas/elk/elk/promptsource', '/fsx/home-augustas/elk']"
      ]
     },
     "execution_count": 3,
     "metadata": {},
     "output_type": "execute_result"
    }
   ],
   "source": [
    "modules = [\n",
    "    ELK_PATH,\n",
    "    ELK_PATH / \"elk\" / \"promptsource\",\n",
    "]\n",
    "\n",
    "for module in modules:\n",
    "    if not str(module) in sys.path:\n",
    "        sys.path.insert(0, str(module.resolve()))\n",
    "\n",
    "sys.path[:2]"
   ]
  },
  {
   "cell_type": "code",
   "execution_count": 4,
   "metadata": {},
   "outputs": [],
   "source": [
    "from templates import DatasetTemplates"
   ]
  },
  {
   "cell_type": "code",
   "execution_count": 5,
   "metadata": {},
   "outputs": [],
   "source": [
    "# Disable the logging of the datasets library\n",
    "import datasets\n",
    "\n",
    "datasets.logging.set_verbosity_error()"
   ]
  },
  {
   "attachments": {},
   "cell_type": "markdown",
   "metadata": {},
   "source": [
    "# Load the dataset"
   ]
  },
  {
   "cell_type": "code",
   "execution_count": 10,
   "metadata": {},
   "outputs": [],
   "source": [
    "VERSION = \"v3\""
   ]
  },
  {
   "cell_type": "code",
   "execution_count": 11,
   "metadata": {},
   "outputs": [
    {
     "name": "stdout",
     "output_type": "stream",
     "text": [
      "drwxr-xr-x  3 augustas Domain Users  25K Jul 20 14:23 burns_datasets_VINC_imdb_ppo_training_raw_v3\n",
      "drwxr-xr-x  3 augustas Domain Users  25K Jul 20 14:23 burns_datasets_VINC_imdb_train_raw_v3\n",
      "-rw-r--r--  1 augustas Domain Users 7.4M Jul 20 14:36 burns_datasets_VINC_imdb_train_v3.parquet\n"
     ]
    }
   ],
   "source": [
    "!ls -lah datasets | grep {VERSION} | grep imdb"
   ]
  },
  {
   "cell_type": "code",
   "execution_count": 12,
   "metadata": {},
   "outputs": [
    {
     "data": {
      "text/plain": [
       "DatasetDict({\n",
       "    imdb: Dataset({\n",
       "        features: ['text', 'label'],\n",
       "        num_rows: 15000\n",
       "    })\n",
       "})"
      ]
     },
     "execution_count": 12,
     "metadata": {},
     "output_type": "execute_result"
    }
   ],
   "source": [
    "# Set dataset_dict to test_dataset\n",
    "dataset_dict = datasets.DatasetDict.load_from_disk(\n",
    "    f\"datasets/burns_datasets_VINC_imdb_ppo_training_raw_{VERSION}\"\n",
    ")\n",
    "dataset_dict"
   ]
  },
  {
   "cell_type": "code",
   "execution_count": 13,
   "metadata": {},
   "outputs": [
    {
     "data": {
      "text/plain": [
       "15000"
      ]
     },
     "execution_count": 13,
     "metadata": {},
     "output_type": "execute_result"
    }
   ],
   "source": [
    "sum(dataset.num_rows for dataset in dataset_dict.values())"
   ]
  },
  {
   "cell_type": "code",
   "execution_count": 14,
   "metadata": {},
   "outputs": [
    {
     "name": "stdout",
     "output_type": "stream",
     "text": [
      "imdb: 2\n"
     ]
    }
   ],
   "source": [
    "for dataset_name, dataset in dataset_dict.items():\n",
    "    print(f\"{dataset_name}: {len(Counter(dataset['label']))}\")"
   ]
  },
  {
   "attachments": {},
   "cell_type": "markdown",
   "metadata": {},
   "source": [
    "## Load the templates"
   ]
  },
  {
   "cell_type": "code",
   "execution_count": 15,
   "metadata": {},
   "outputs": [],
   "source": [
    "dataset_template_dict = {}\n",
    "\n",
    "for dataset_path in dataset_dict.keys():\n",
    "    dataset_templates = DatasetTemplates(dataset_path + \"/custom\")\n",
    "\n",
    "    dataset_templates.templates = {\n",
    "        x.name: x for x in dataset_templates.templates.values() if x.get_answer_choices_list(dataset_dict[dataset_path][0]) is not None\n",
    "    }\n",
    "\n",
    "    dataset_template_dict[dataset_path] = dataset_templates"
   ]
  },
  {
   "cell_type": "code",
   "execution_count": 16,
   "metadata": {},
   "outputs": [
    {
     "name": "stdout",
     "output_type": "stream",
     "text": [
      "imdb: 5\n"
     ]
    }
   ],
   "source": [
    "for dataset_name, dataset_templates in dataset_template_dict.items():\n",
    "    print(f\"{dataset_name}: {len(dataset_templates.templates)}\")"
   ]
  },
  {
   "cell_type": "code",
   "execution_count": 24,
   "metadata": {},
   "outputs": [
    {
     "name": "stdout",
     "output_type": "stream",
     "text": [
      "imdb\n"
     ]
    },
    {
     "name": "stdout",
     "output_type": "stream",
     "text": [
      "CPU times: user 23.3 s, sys: 9.78 ms, total: 23.3 s\n",
      "Wall time: 23.3 s\n"
     ]
    }
   ],
   "source": [
    "%%time\n",
    "\n",
    "# Reproducibility\n",
    "random.seed(2023)\n",
    "\n",
    "ALLOWED_KEYS = [\"prompt\", \"best_response\", \"original_dataset\", \"template_name\"]\n",
    "\n",
    "new_dataset = []\n",
    "\n",
    "for dataset_name, dataset in dataset_dict.items():\n",
    "    print(dataset_name)\n",
    "\n",
    "    for idx, entry in enumerate(dataset):\n",
    "        new_entry = entry.copy()\n",
    "        \n",
    "        # In case we need to know which dataset the entry came from\n",
    "        new_entry[\"original_dataset\"] = dataset_name\n",
    "\n",
    "        # Sample a random template\n",
    "        template_name = random.choice(\n",
    "            list(dataset_template_dict[dataset_name].templates.keys())\n",
    "        )\n",
    "        template = dataset_template_dict[dataset_name].templates[template_name]\n",
    "        new_entry[\"template_name\"] = template_name\n",
    "\n",
    "        q, a = template.apply(new_entry)\n",
    "        new_entry[\"prompt\"] = q\n",
    "\n",
    "        # We can now change the label to whether the sample is truthful or not\n",
    "        new_entry[\"best_response\"] = a.strip()\n",
    "\n",
    "        # Remove all other keys\n",
    "        new_entry = { k: v for k, v in new_entry.items() if k in ALLOWED_KEYS }\n",
    "\n",
    "        # Append to the new dataset\n",
    "        new_dataset.append(new_entry)"
   ]
  },
  {
   "cell_type": "code",
   "execution_count": 25,
   "metadata": {},
   "outputs": [
    {
     "data": {
      "text/plain": [
       "Dataset({\n",
       "    features: ['original_dataset', 'template_name', 'prompt', 'best_response'],\n",
       "    num_rows: 15000\n",
       "})"
      ]
     },
     "execution_count": 25,
     "metadata": {},
     "output_type": "execute_result"
    }
   ],
   "source": [
    "my_dataset = datasets.Dataset.from_list(new_dataset)\n",
    "my_dataset"
   ]
  },
  {
   "cell_type": "code",
   "execution_count": 26,
   "metadata": {},
   "outputs": [
    {
     "data": {
      "text/plain": [
       "{'original_dataset': 'imdb',\n",
       " 'template_name': 'burns_2',\n",
       " 'prompt': \"Consider the following example:  ''' Hated it. If you believe that everyone in the South is dumb, morally bankrupt, stupid, violent, a religious nut, or a child molester, then this film may be for you. Everyone is poor and seemingly ignorant. In one scene, two older men are talking in a general store and one mentions that he had molested a set of sisters before they could tie their shoes. The man seemed proud of his actions, and the other man clearly took it as a normal part of life. Very nice. A teenage girl walks the back roads looking for her sister and no one offers to help her -- despite an obvious limp and lack of food or water (no backpack, etc.). Strathairn's character is not only thoroughly disgusting and slimy, but he is shown to be a religious believer who (typical for Hollywood) reflects the vile nature of Christians. A scene in the movie is highly reminiscent of the end of Cape Fear (the one with DeNiro) -- Bible verses being spouted by the bad guy. I am from the Great Northwest, but found this film offensive because of the wonderful people I know who are from NC, WV, AL, MS, KY, TN, etc. '''\\n\\nBetween 0 and 1, which is the sentiment of this example?\",\n",
       " 'best_response': '0'}"
      ]
     },
     "execution_count": 26,
     "metadata": {},
     "output_type": "execute_result"
    }
   ],
   "source": [
    "current_idx = 0\n",
    "my_dataset[current_idx]"
   ]
  },
  {
   "cell_type": "code",
   "execution_count": 30,
   "metadata": {},
   "outputs": [
    {
     "name": "stdout",
     "output_type": "stream",
     "text": [
      "Index: 10\n",
      "custom_1\n",
      "Prompt:\n",
      "Question: is the movie review given below in triple backticks positive? Answer either yes or no. \n",
      "``` \n",
      "A very unique Sci-Fi animated film, and frankly I love uniqueness no matter which way it tends to be, better or worse. This French film is quite interesting to watch, the technique part is innovatory, like \"Waking Life\" I recently watched.<br /><br />It took me quite a long time to get used to the Black-White style, but eventually I love it, the sketchlike images are really fancy! The contracted future world is a symbol of human race's final destination which I adore it very much.<br /><br />The whole plot is fine for a Sci-Fi, not so intriguing but it's OK, like some Hollywood's products, a giant conspiracy about human's eternity, a little bit cliché and the twisted ending is not so convincing, some development is just too plain and insipid, and the whole movie is too long.<br /><br />So I think I'm just in love with the style this film shows, others are not so good.<br /><br />About the eternity of life, I think most people have come to a unanimousness that we don't want eternity because it demolishes the meaning of life, we treasure our lives because they are limited and meaningful, if everyone can live forever, thus the world world will become a disaster and chaos. Leaving someone you love is hard and heartbreaking, but that's also a way to show our lives are genuine and all the emotion fulfills one's life and make the world colorful and lively. \n",
      "``` \n",
      "Answer:'\n",
      "Best response: yes\n",
      "--------------------------------------------------\n",
      "Index: 11\n",
      "custom_1\n",
      "Prompt:\n",
      "Question: is the movie review given below in triple backticks positive? Answer either yes or no. \n",
      "``` \n",
      "This film is not even worth walking to the movie theatre. No jokes, but stupid and boring laughing on repeated disgusting stuff. The music and the girls are great, unfortunately you have to watch the whole movie to enjoy them. It was weak, very very weak. \n",
      "``` \n",
      "Answer:'\n",
      "Best response: no\n",
      "--------------------------------------------------\n",
      "Index: 12\n",
      "burns_1\n",
      "Prompt:\n",
      "Consider the following example:  ''' I was so looking forward to seeing this when it was in production.But it turned out to be the the biggest let down. A far cry from the whimsical world of Dr Seuss. It was vulgar and distasteful I don't think Dr Seuss would have approved.How the Grinch stole Christmas was much better. I understand it had some subtle adult jokes in it but my children have yet to catch on. Whereas The Cat in the Hat screamed vulgarity they caught a lot more than I would have liked.Growing up with Dr Seuss It really bothered me to see how this timeless classic got trashed on the big screen .Lets see what they do with Horton hears a who.I hope this one does Dr Seuss some justice. '''\n",
      "Between 0 and 1, the sentiment of this example is'\n",
      "Best response: 0\n",
      "--------------------------------------------------\n",
      "Index: 13\n",
      "Sentiment with choices \n",
      "Prompt:\n",
      "Detective Russell Logan(Lou Diamond Phillips)has a major problem on his hands. The serial killer, Patrick Channing(Jeff Kober), for whom psychic extraordinaire Tess(Tracy Griffith)helped him capture, has been resurrected with The First Power(..given to him by Satan after his execution in the gas chamber)and can possess the bodies of the weak. Somehow, Russell, who joins forces with Tess(..who has an understanding of what they are up against), will have to stop Channing or many women will continue to die at his bloody hands. They will seek help from Sister Marguerite(Elizabeth Arlen)who has tried to inform her superiors in the Catholic church of The First Power, but has been denied access to a weapon that can stop Channing..a cross with a blade that can penetrate the heart of Channing ridding the world of his evil. She'll take it anyway and lend a helping hand to Russell, who'll need all the help he can get when Channing kidnaps Tess preparing her for some sort of Satanic ritual/ceremony.<br /><br />In the film, Mykelti Williamson, always a reliable welcome supporting actor, gets the partner of Russell role..so you know what will happen to him. As in films of this type, everyone around Russell is dying, but when he attempts to kill Channing, he's merely murdering the weak host of some other poor soul he possesses.<br /><br />Pure occult rubbish..stupid from the gate to the finish line. Phillips and Griffith try, I'll give them that, but in a flick like this they don't stand a chance. Kober, who is normally often always effective as the heavy, is really handed nothing more than a goofy villain who leaps in the air and tosses rotten quips. \n",
      "Is this review positive or negative?'\n",
      "Best response: negative\n",
      "--------------------------------------------------\n",
      "Index: 14\n",
      "Sentiment with choices \n",
      "Prompt:\n",
      "When The Matrix appeared in 1999 and questioned existence and identity, it was expected that a lot of movies would use it as inspiration. That didn't really happen, surprisingly, and it took till 2002 for a movie of similar theme to appear. But to say Cypher is a clone would be to its discredit.<br /><br />The story is of a Morgan Sullivan, who applies for a job with a high-flying techno-company called Digicorp. His job is to be a spy and gain information about a rival company, while under an assumed and false identity. His home-life is perfectly normal but he has to lie to his wife about what he's actually doing. However, things start to take conspirital turns and before he knows what's going on, he starts to question who he actually is. This is not helped by a strange woman who turns up...<br /><br />Twists and turns at every direction keep you absolutely fascinated, and at no point does anything ever seem contrived or unbelievable.<br /><br />It's an enthralling journey through a not-too-distant future, and with good acting all round will keep you on the edge of your seat.<br /><br />Highly recommended. \n",
      "Is this review positive or negative?'\n",
      "Best response: positive\n",
      "--------------------------------------------------\n",
      "Index: 15\n",
      "Sentiment with choices \n",
      "Prompt:\n",
      "Audiences today will probably watch a film like Ossessione and not really consider how unprecedented it was during the time when it came out. The structure of the film really divorces from sap-happy Hollywood conventionsas well as other major theatrical elements. It relies more upon depicting reality in a very grim and sober light. Films of this naturethe neo-realist filmswere made to reflect the darkness felt during post-World War II times. Ossessione tackles some fairly provocative issues that were probably unseen on screen prior to the war, including: adultery, conspiracy, murder, pregnancy, etc. Aside from the one crane shot and certain musical swelling moments, the film aesthetic is very raw and gritty: shot on-location, uses natural lighting and most likely non-popular actors. All of these elements helped convey the issues explored in the film, yielding the following theme: Negative karmic repercussions will haunt those who deliberately act immorally.<br /><br />The two leadsGino and Giovannaare polar opposites, yet both carry the mentality: we're bored and we want to be entertained. Gino is a drifter; a lone traveler who embraces life and its constant fluctuations. Giovanna is a bored house-wife cemented in the familiarly of marital permanence: she doesn't want to leave her home and husband, but would rather remain where she is because it's safer. Gino's lifestyle represents the ideal lifestyle Giovanna craves; the only difference is that she's too afraid to live it herselfthat's why she falls in love with Gino: he represents everything she wants but doesn't have the courage to get. She wants to live in a world free from the monotony of living with her corpulent husbandGino is the perfect ticket into that world. The affair that ensues between the two most likely left audiences back in the 40's feeling somewhat uneasy. I mean, films prior to the neo-realist age never showed such scandalous behavior on screen before. To say the least it was probably a bit alarming.<br /><br />In conjunction with... \n",
      "Is this review positive or negative?'\n",
      "Best response: positive\n",
      "--------------------------------------------------\n",
      "Index: 16\n",
      "Reviewer Opinion bad good choices\n",
      "Prompt:\n",
      "How did this become a blockbuster? Dear God I don't know where to start why this movie sucked too much. The movie was predictable & there was no originality. The only thing I can admire is the acting of some characters. The movie was too bright, they should have done something with the lighting, eg. making the environment more darker. The make up on certain dead characters made this movie look like a 1970 horror flick. This is 2006! People don't get scared by other people wearing heavy make up. Most of the horror scenes we're taken from other Hollywood or Asian horror movies. Total rip off! This is why I don't watch tagalog movies. The only reason why so many people \"screamed\" while watching this movie is because of conformity. How many times do we have to copy scenes from The Ring and improvise it that instead of the girl coming out of the TV, its now coming from the window next door? No matter how you put it, ITS STILL A RIP OFF. If you want a good horror movie, go watch the 50 best horror movie listed on this website.\n",
      "\n",
      "Did the reviewer find this movie good or bad?'\n",
      "Best response: bad\n",
      "--------------------------------------------------\n",
      "Index: 17\n",
      "Sentiment with choices \n",
      "Prompt:\n",
      "Making a book into a movie by following the story page-by-page is NEVER a good idea. When people read the book, they automatically start making their own \"mental movie\" of who the characters look like, the places they exist in, how the situations progress. And everybody's mind's-eye opus is different, which is why when the 'REAL' movie finally comes out, you're always going to have a ticked-off segment of the movie-going audience who are disappointed that it just doesn't measure up.<br /><br />All a screenwriter and a director can hope to accomplish is whatever their own vision of the movie is, and hope that it comes as close as possible to what their audience is expecting to see.<br /><br />There is no better case for this situation than the movies based on the novels of Stephen King. When filmmakers capture at least the essence of his stories, the results can be breathtaking and truly terrifying (CARRIE, 'SALEM'S LOT, THE DEAD ZONE), or they can be what fans consider to be a gawd-awful mess (Kubrick's version of THE SHINING; the miniseries for IT and THE TOMMYKNOCKERS). <br /><br />Although it's not even close to being the perfect King adaptation, PET SEMATARY has so many moments of just skin-and-bone-deep unease that seemed to have bled onto the screen directly from the book, that you can pretty much forgive its shortcomings. For that, we have music video-turned-film director Mary Lambert to thank, (she also directed SIESTA, not exactly a horror movie, but another freaky-as-hell must-see you should put on your list), working from a screenplay by the 'Man-ster' Himself, and probably one of his better ones.<br /><br />Since the majority of you know the story, I won't put you to sleep with too many of the details. Dr. Louis Creed (Dale Midkiff) has moved his family out to the perfect house in the country. Well, almost perfect, except for two nasty little details: the dangerously busy stretch of interstate highway out in front, and the large pet cemetery in the woods out back. Since Louis is a veterinarian and... \n",
      "Is this review positive or negative?'\n",
      "Best response: positive\n",
      "--------------------------------------------------\n",
      "Index: 18\n",
      "burns_1\n",
      "Prompt:\n",
      "Consider the following example:  ''' This was one of the first CREEPY movies I ever saw...I was about 5 at the time. It scared me GOOD! But that night I put chewing gum in one eye to be like the monster...and my mom got very upset. She had to clean my eye with alcohol and the next day my eye smelled like DOUBLE MINT! NOW THAT'S A MOVIE! Hey for it's time it was a great movie. That Head sitting on the lab counter top was as real as it got back then. And IF your 5 it is VERY SCARY! Kids now a days are spoiled by special effects that show too much and leave NOTHING for your minds imagination. Your mind can imagine things more scarier than special effects! (IMO) '''\n",
      "Between 0 and 1, the sentiment of this example is'\n",
      "Best response: 1\n",
      "--------------------------------------------------\n",
      "Index: 19\n",
      "Reviewer Opinion bad good choices\n",
      "Prompt:\n",
      "Not one of the better pokemon movies.<br /><br />Two legendary pokemon come into the story. You do get to see how strong Celebi can be, though he turns evil first.<br /><br />Suicune also makes an appearance, he didn't seem that powerful.<br /><br />The Marauder didn't have many strong pokemon at all, except for that taranitar? Some fight scenes with his pokemon may have made it better.<br /><br />Ash and Pikachu meet the much younger Professor Oak, though they don't realise it. Misty I was thinking had it at the end but she didn't get close. I saw this in the credits.<br /><br />Don't expect much here, the worst of the series so far.\n",
      "\n",
      "Did the reviewer find this movie good or bad?'\n",
      "Best response: bad\n",
      "--------------------------------------------------\n"
     ]
    }
   ],
   "source": [
    "for current_index in range(10, 20):\n",
    "    print(f\"Index: {current_index}\")\n",
    "    print(f\"{my_dataset[current_index]['template_name']}\")\n",
    "    print(f\"Prompt:\\n{my_dataset[current_index]['prompt']}'\")\n",
    "    print(f\"Best response: {my_dataset[current_index]['best_response']}\")\n",
    "    print(\"-\" * 50)\n",
    "\n",
    "# print(f'\\'{my_dataset[current_idx][\"prompt\"]}\\'')"
   ]
  },
  {
   "cell_type": "code",
   "execution_count": 31,
   "metadata": {},
   "outputs": [
    {
     "data": {
      "text/plain": [
       "Counter({'imdb': 15000})"
      ]
     },
     "execution_count": 31,
     "metadata": {},
     "output_type": "execute_result"
    }
   ],
   "source": [
    "Counter(my_dataset[\"original_dataset\"])"
   ]
  },
  {
   "cell_type": "code",
   "execution_count": 34,
   "metadata": {},
   "outputs": [],
   "source": [
    "# my_dataset.to_parquet(f\"datasets/burns_datasets_VINC_imdb_ppo_training_{VERSION}.parquet\")"
   ]
  },
  {
   "cell_type": "code",
   "execution_count": 32,
   "metadata": {},
   "outputs": [
    {
     "name": "stdout",
     "output_type": "stream",
     "text": [
      "drwxr-xr-x  3 augustas Domain Users  25K Jul 20 14:23 burns_datasets_VINC_imdb_ppo_training_raw_v3\n",
      "drwxr-xr-x  3 augustas Domain Users  25K Jul 20 14:23 burns_datasets_VINC_imdb_train_raw_v3\n",
      "-rw-r--r--  1 augustas Domain Users 7.4M Jul 20 14:36 burns_datasets_VINC_imdb_train_v3.parquet\n"
     ]
    }
   ],
   "source": [
    "!ls -lah datasets | grep {VERSION} | grep imdb"
   ]
  },
  {
   "cell_type": "code",
   "execution_count": null,
   "metadata": {},
   "outputs": [],
   "source": []
  }
 ],
 "metadata": {
  "kernelspec": {
   "display_name": "elk",
   "language": "python",
   "name": "python3"
  },
  "language_info": {
   "codemirror_mode": {
    "name": "ipython",
    "version": 3
   },
   "file_extension": ".py",
   "mimetype": "text/x-python",
   "name": "python",
   "nbconvert_exporter": "python",
   "pygments_lexer": "ipython3",
   "version": "3.10.11"
  },
  "orig_nbformat": 4
 },
 "nbformat": 4,
 "nbformat_minor": 2
}
