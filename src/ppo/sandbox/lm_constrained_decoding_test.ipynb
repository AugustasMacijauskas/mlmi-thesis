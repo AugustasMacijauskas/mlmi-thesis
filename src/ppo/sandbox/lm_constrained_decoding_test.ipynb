{
 "cells": [
  {
   "cell_type": "code",
   "execution_count": 2,
   "metadata": {},
   "outputs": [],
   "source": [
    "# Autoreload\n",
    "%load_ext autoreload\n",
    "%autoreload 2"
   ]
  },
  {
   "cell_type": "code",
   "execution_count": 1,
   "metadata": {},
   "outputs": [],
   "source": [
    "from pathlib import Path\n",
    "\n",
    "from tqdm.notebook import tqdm\n",
    "\n",
    "import torch\n",
    "\n",
    "import datasets\n",
    "# Don't show progress datasets bars\n",
    "datasets.disable_progress_bar()\n",
    "from datasets import load_dataset\n",
    "\n",
    "from fastchat.model import get_conversation_template\n",
    "\n",
    "import sys\n",
    "sys.path.insert(0, str(Path.cwd().parent.resolve()))\n",
    "from model import get_model\n",
    "from utils import get_tokenizer"
   ]
  },
  {
   "cell_type": "code",
   "execution_count": 2,
   "metadata": {},
   "outputs": [
    {
     "data": {
      "text/plain": [
       "device(type='cuda', index=0)"
      ]
     },
     "execution_count": 2,
     "metadata": {},
     "output_type": "execute_result"
    }
   ],
   "source": [
    "device = torch.device(\n",
    "    f\"cuda:{torch.cuda.current_device()}\" if torch.cuda.is_available() else \"cpu\"\n",
    ")\n",
    "device"
   ]
  },
  {
   "cell_type": "code",
   "execution_count": 3,
   "metadata": {},
   "outputs": [],
   "source": [
    "# tokenizer_name = \"gpt2-xl\"\n",
    "# tokenizer_name = \"databricks/dolly-v2-3b\"\n",
    "# tokenizer_name = \"meta-llama/Llama-2-13b-hf\"\n",
    "tokenizer_name = \"lmsys/vicuna-7b-v1.3\"\n",
    "\n",
    "# dataset_name = \"AugustasM/burns-datasets-VINC-imdb-ppo-training-v2\"\n",
    "dataset_name = \"imdb\""
   ]
  },
  {
   "cell_type": "code",
   "execution_count": 4,
   "metadata": {},
   "outputs": [
    {
     "name": "stdout",
     "output_type": "stream",
     "text": [
      "Loading tokenizer lmsys/vicuna-7b-v1.3...\n"
     ]
    },
    {
     "name": "stdout",
     "output_type": "stream",
     "text": [
      "Loaded tokenizer.\n",
      "\n"
     ]
    }
   ],
   "source": [
    "# Tokenizer\n",
    "tokenizer = get_tokenizer(tokenizer_name)"
   ]
  },
  {
   "cell_type": "markdown",
   "metadata": {},
   "source": [
    "## Dataset"
   ]
  },
  {
   "cell_type": "code",
   "execution_count": 5,
   "metadata": {},
   "outputs": [
    {
     "name": "stderr",
     "output_type": "stream",
     "text": [
      "Found cached dataset imdb (/admin/home-augustas/.cache/huggingface/datasets/imdb/plain_text/1.0.0/d613c88cf8fa3bab83b4ded3713f1f74830d1100e171db75bbddb80b3345c9c0)\n",
      "Loading cached shuffled indices for dataset at /admin/home-augustas/.cache/huggingface/datasets/imdb/plain_text/1.0.0/d613c88cf8fa3bab83b4ded3713f1f74830d1100e171db75bbddb80b3345c9c0/cache-9c48ce5d173413c7.arrow\n",
      "Loading cached shuffled indices for dataset at /admin/home-augustas/.cache/huggingface/datasets/imdb/plain_text/1.0.0/d613c88cf8fa3bab83b4ded3713f1f74830d1100e171db75bbddb80b3345c9c0/cache-9c48ce5d173413c7.arrow\n"
     ]
    },
    {
     "name": "stdout",
     "output_type": "stream",
     "text": [
      "len(few_shot_examples_dataset)=5\n",
      "Dataset({\n",
      "    features: ['text', 'label'],\n",
      "    num_rows: 24995\n",
      "})\n"
     ]
    }
   ],
   "source": [
    "# Dataset for PPO training\n",
    "tmp_dataset = load_dataset(dataset_name, split=\"train\")\n",
    "\n",
    "few_shot_examples_dataset = tmp_dataset.shuffle(seed=42).select(range(5)).to_list()\n",
    "dataset = tmp_dataset.shuffle(seed=42).select(range(5, len(tmp_dataset)))\n",
    "\n",
    "print(f\"{len(few_shot_examples_dataset)=}\")\n",
    "print(dataset)"
   ]
  },
  {
   "cell_type": "code",
   "execution_count": 53,
   "metadata": {},
   "outputs": [
    {
     "name": "stdout",
     "output_type": "stream",
     "text": [
      "Classify the movie review as either positive or negative.\n",
      "Movie review: ```\n",
      "There is no relation at all between Fortier and Profiler but the fact that both are police series about violent crimes. Profiler looks crispy, Fortier looks classic. Profiler plots are quite simple. Fortier's plot are far more complicated... Fortier looks more like Prime Suspect, if we have to spot similarities... The main character is weak and weirdo, but have \"clairvoyance\". People like to compare, to judge, to evaluate. How about just enjoying? Funny thing too, people writing Fortier looks American but, on the other hand, arguing they prefer American series (!!!). Maybe it's the language, or the spirit, but I think this series is more English than American. By the way, the actors are really good and funny. The acting is not superficial at all...```\n",
      "Sentiment: positive\n",
      "Desired format:\n",
      "Sentiment: <identified_sentiment>\n",
      "Movie review: ```\n",
      "While this movie's style isn't as understated and realistic as a sound version probably would have been, this is still a very good film. In fact, it was seen as an excellent film in its day, as it was nominated for the first Best Picture Oscar (losing to WINGS). I still consider WINGS to be a superior film, but this one is excellent despite a little bit of overacting by the lead, Emil Jannings.<br /><br />Jannings is a general from Czarist Russia who is living out his final days making a few bucks in the 1920s by being a Hollywood extra. His luck appears to have changed as he gets a casting call--to play an Imperial Russian general fighting against the Communists during the revolution. Naturally this isn't much of a stretch acting-wise, but it also gets the old man to thinking about the old days and the revolution.<br /><br />Exactly what happens next I'll leave to you, but it's a pretty good film--particularly at the end. By the way, look for William Powell as the Russian director. Despite being made in 1928, with the makeup he doesn't look much younger than he did in many of his later films.\n",
      "```\n",
      "Sentiment:\n"
     ]
    }
   ],
   "source": [
    "# Dataset template\n",
    "def get_prompt_template(few_shot_examples_dataset):\n",
    "    def prompt_template(example, num_few_shot_examples=0):\n",
    "        few_shot_examples = \"\"\n",
    "        for i in range(num_few_shot_examples):\n",
    "            item = few_shot_examples_dataset[i]\n",
    "\n",
    "            sentiment = \"positive\" if item[\"label\"] else \"negative\"\n",
    "            few_shot_examples += (\n",
    "                f\"Movie review: ```\\n{item['text']}```\\n\"\n",
    "                f\"Sentiment: {sentiment}\\n\"\n",
    "            )\n",
    "\n",
    "        return (\n",
    "            \"Classify the movie review as either positive or negative.\\n\"\n",
    "            f\"{few_shot_examples}\"\n",
    "            \"Desired format:\\n\"\n",
    "            \"Sentiment: <identified_sentiment>\\n\"\n",
    "            f\"Movie review: ```\\n{example['text']}\\n```\\n\"\n",
    "            f\"Sentiment:\"\n",
    "        )\n",
    "\n",
    "    return prompt_template\n",
    "\n",
    "apply_template = get_prompt_template(few_shot_examples_dataset)\n",
    "input_text = apply_template(dataset[0], num_few_shot_examples=1)\n",
    "print(input_text)"
   ]
  },
  {
   "cell_type": "markdown",
   "metadata": {},
   "source": [
    "## Model"
   ]
  },
  {
   "cell_type": "code",
   "execution_count": 66,
   "metadata": {},
   "outputs": [
    {
     "name": "stdout",
     "output_type": "stream",
     "text": [
      "Loading policy model...\n",
      "\n"
     ]
    },
    {
     "name": "stdout",
     "output_type": "stream",
     "text": [
      "is_bf16_possible=False\n",
      "kwargs={'torch_dtype': 'auto'}\n"
     ]
    },
    {
     "data": {
      "application/vnd.jupyter.widget-view+json": {
       "model_id": "b7c7acd9333146499ebc5b76874271d1",
       "version_major": 2,
       "version_minor": 0
      },
      "text/plain": [
       "Loading checkpoint shards:   0%|          | 0/2 [00:00<?, ?it/s]"
      ]
     },
     "metadata": {},
     "output_type": "display_data"
    },
    {
     "name": "stdout",
     "output_type": "stream",
     "text": [
      "Loaded subject model with 6,738,419,713 parameters.\n",
      "Model dtype: torch.float32\n",
      "\n",
      "memory_usage=25.17 GB\n"
     ]
    }
   ],
   "source": [
    "# Model\n",
    "# model = get_model(tokenizer_name, device, load_in_8bit=True)\n",
    "model = get_model(tokenizer_name, device)\n",
    "\n",
    "memory_usage = model.pretrained_model.get_memory_footprint() / (1024 ** 3)\n",
    "print(f\"{memory_usage=:.2f} GB\")"
   ]
  },
  {
   "cell_type": "code",
   "execution_count": 56,
   "metadata": {},
   "outputs": [
    {
     "name": "stdout",
     "output_type": "stream",
     "text": [
      "label='positive'\n"
     ]
    },
    {
     "name": "stdout",
     "output_type": "stream",
     "text": [
      "outputs='sentiment: pos'\n",
      "----------------------------------------------------------------------------------------------------\n",
      "label='positive'\n",
      "outputs='sentiment: neg'\n",
      "----------------------------------------------------------------------------------------------------\n",
      "label='negative'\n",
      "outputs='sentiment: neg'\n",
      "----------------------------------------------------------------------------------------------------\n",
      "label='negative'\n",
      "outputs='negative'\n",
      "----------------------------------------------------------------------------------------------------\n",
      "label='positive'\n",
      "outputs='positive'\n",
      "----------------------------------------------------------------------------------------------------\n"
     ]
    }
   ],
   "source": [
    "# TODO: do I need to set the pad_token?\n",
    "generation_kwargs = {\n",
    "    \"top_k\": 0,\n",
    "    \"top_p\": 1.0,\n",
    "    \"do_sample\": True,\n",
    "    # \"pad_to_multiple_of\": 8,\n",
    "    \"pad_token_id\": tokenizer.pad_token_id,\n",
    "    \"eos_token_id\": 100_000, # why is this value like this?\n",
    "    \"max_new_tokens\": 4,\n",
    "    \"repetition_penalty\": 1.2,\n",
    "}\n",
    "\n",
    "for i, example in enumerate(dataset):\n",
    "    label = \"positive\" if example[\"label\"] else \"negative\"\n",
    "    print(f\"{label=}\")\n",
    "    label_ids = tokenizer([label])[\"input_ids\"][0]\n",
    "    generation_kwargs[\"max_new_tokens\"] = max(len(label_ids) + 1, 4)\n",
    "\n",
    "    input_text = apply_template(example, num_few_shot_examples=0)\n",
    "    \n",
    "    conv = get_conversation_template(tokenizer_name)\n",
    "    conv.append_message(conv.roles[0], input_text)\n",
    "    conv.append_message(conv.roles[1], None)\n",
    "    prompt = conv.get_prompt()\n",
    "\n",
    "    inputs = tokenizer([prompt], return_tensors=\"pt\").to(device)\n",
    "    inputs.pop(\"token_type_ids\")\n",
    "    output_ids = model.generate(\n",
    "        **inputs,\n",
    "        **generation_kwargs,\n",
    "    )\n",
    "    output_ids = output_ids[0][len(inputs[\"input_ids\"][0]):]\n",
    "    outputs = tokenizer.decode(\n",
    "        output_ids, skip_special_tokens=True, spaces_between_special_tokens=False\n",
    "    )\n",
    "    # outputs = outputs.strip().lower()\n",
    "    outputs = outputs.lower()\n",
    "    print(f\"{outputs=}\")\n",
    "    print(\"-\" * 100)\n",
    "\n",
    "    if i >= 4: break"
   ]
  },
  {
   "cell_type": "code",
   "execution_count": 52,
   "metadata": {},
   "outputs": [
    {
     "name": "stdout",
     "output_type": "stream",
     "text": [
      "USER: Classify the movie review as either positive or negative.\n",
      "Desired format:\n",
      "Sentiment: <identified_sentiment>\n",
      "Movie review: ```\n",
      "Home Room deals with a Columbine-like high-school shooting but rather than hashing over the occurrence itself the film portrays the aftermath and what happened to the survivors, their trauma, guilt and denial.<br /><br />*Spoilers* The shooting itself is treated as a foregone conclusion, with no action footage other than the reaction of an almost teenage SWAT commando after shooting the high school killer. The film has three protagonists; the detective investigating the crime of which no guilty parties are left to convict and two teenage girls surviving the incident, played by a very young Erika Christensen and Busy Philipps.<br /><br />The two girls having nothing in common besides the shooting are put together because of it and the drama ensues.<br /><br />Erika Christensen, though only 24 has been around the block so much that film viewers are pretty much acquainted with her solid and reliable style of acting. Busy Philipps, three years older than Christensen and altogether unknown to me, blew me away with her overwhelming dramatic strength and screen presence. This girl was the part.<br /><br />It's a great movie and it connects to you with its intimate focus on the fragile yet growing relationship between the two traumatized girls. Gus van Sant's Elephant (2003) though good, seems almost superficial and paltry compared to Home Room when it comes to dramatic flair and acting. What I can see this film got very little screen time and exposure - so much more a loss for an equally traumatized America.<br /><br />Ten out of Ten\n",
      "```\n",
      "Sentiment:\n",
      "ASSISTANT: positive\n"
     ]
    }
   ],
   "source": [
    "print(f\"{conv.roles[0]}: {input_text}\")\n",
    "print(f\"{conv.roles[1]}: {outputs}\")"
   ]
  },
  {
   "cell_type": "markdown",
   "metadata": {},
   "source": [
    "## Inspect the model"
   ]
  },
  {
   "cell_type": "code",
   "execution_count": 76,
   "metadata": {},
   "outputs": [
    {
     "data": {
      "text/plain": [
       "LlamaForCausalLM(\n",
       "  (model): LlamaModel(\n",
       "    (embed_tokens): Embedding(32000, 4096, padding_idx=0)\n",
       "    (layers): ModuleList(\n",
       "      (0-31): 32 x LlamaDecoderLayer(\n",
       "        (self_attn): LlamaAttention(\n",
       "          (q_proj): Linear(in_features=4096, out_features=4096, bias=False)\n",
       "          (k_proj): Linear(in_features=4096, out_features=4096, bias=False)\n",
       "          (v_proj): Linear(in_features=4096, out_features=4096, bias=False)\n",
       "          (o_proj): Linear(in_features=4096, out_features=4096, bias=False)\n",
       "          (rotary_emb): LlamaRotaryEmbedding()\n",
       "        )\n",
       "        (mlp): LlamaMLP(\n",
       "          (gate_proj): Linear(in_features=4096, out_features=11008, bias=False)\n",
       "          (down_proj): Linear(in_features=11008, out_features=4096, bias=False)\n",
       "          (up_proj): Linear(in_features=4096, out_features=11008, bias=False)\n",
       "          (act_fn): SiLUActivation()\n",
       "        )\n",
       "        (input_layernorm): LlamaRMSNorm()\n",
       "        (post_attention_layernorm): LlamaRMSNorm()\n",
       "      )\n",
       "    )\n",
       "    (norm): LlamaRMSNorm()\n",
       "  )\n",
       "  (lm_head): Linear(in_features=4096, out_features=32000, bias=False)\n",
       ")"
      ]
     },
     "execution_count": 76,
     "metadata": {},
     "output_type": "execute_result"
    }
   ],
   "source": [
    "model.pretrained_model"
   ]
  },
  {
   "cell_type": "code",
   "execution_count": 81,
   "metadata": {},
   "outputs": [],
   "source": [
    "# model.pretrained_model.requires_grad_(True)"
   ]
  },
  {
   "cell_type": "code",
   "execution_count": 82,
   "metadata": {},
   "outputs": [
    {
     "data": {
      "text/plain": [
       "6738415616"
      ]
     },
     "execution_count": 82,
     "metadata": {},
     "output_type": "execute_result"
    }
   ],
   "source": [
    "num_trainable_params = sum(p.numel() for p in model.pretrained_model.parameters() if p.requires_grad)\n",
    "num_trainable_params"
   ]
  },
  {
   "cell_type": "code",
   "execution_count": 71,
   "metadata": {},
   "outputs": [],
   "source": [
    "import functools\n",
    "from typing import Tuple, Union\n",
    "\n",
    "\n",
    "def rhasattr(obj, attr):\n",
    "    \"\"\"A chain-able attribute version of hasattr. For example, to check if\n",
    "    `obj` has the attribute `foo.bar.baz`, you can use:\n",
    "        `rhasattr(obj, \"foo.bar.baz\")`\n",
    "    Reference: https://stackoverflow.com/a/67303315\n",
    "    \"\"\"\n",
    "    _nested_attrs = attr.split(\".\")\n",
    "    _curr_obj = obj\n",
    "    for _a in _nested_attrs[:-1]:\n",
    "        if hasattr(_curr_obj, _a):\n",
    "            _curr_obj = getattr(_curr_obj, _a)\n",
    "        else:\n",
    "            return False\n",
    "    return hasattr(_curr_obj, _nested_attrs[-1])\n",
    "\n",
    "\n",
    "def rgetattr(obj, attr: str, *args) -> object:\n",
    "    \"\"\"A chain-able attribute version of getattr. For example, to get the\n",
    "    attribute `foo.bar.baz` from `obj`, you can use:\n",
    "        `rgetattr(obj, \"foo.bar.baz\")`\n",
    "    Reference: https://stackoverflow.com/a/31174427\n",
    "    \"\"\"\n",
    "\n",
    "    def _getattr(obj, attr):\n",
    "        return getattr(obj, attr, *args)\n",
    "\n",
    "    return functools.reduce(_getattr, [obj] + attr.split(\".\"))\n",
    "\n",
    "def findattr(obj, attrs: Tuple[str]) -> Union[object, None]:\n",
    "    for attr in attrs:\n",
    "        if rhasattr(obj, attr):\n",
    "            return rgetattr(obj, attr)\n",
    "    raise ValueError(f\"Could not find an attribute from `{attrs}` in `{obj}`\")\n",
    "\n",
    "def hf_get_decoder_blocks(model: torch.nn.Module) -> Tuple[torch.nn.Module]:\n",
    "    \"\"\"Returns the decoder hidden layers of the specified model.\n",
    "    NOTE: Different model configurations have different hidden layer attribute names.\n",
    "        - transformer.h: (BloomForCausalLM, GPT2LMHeadModel, GPTJForCausalLM)\n",
    "        - model.decoder.layers: (OPTForCausalLM)\n",
    "        - gpt_neox.layers: (GPTNeoXForCausalLM)\n",
    "        - decoder.block: (T5ForConditionalGeneration)\n",
    "    \"\"\"\n",
    "    hidden_layers_attrs = (\n",
    "        \"h\",\n",
    "        \"layers\",\n",
    "        \"model.layers\",\n",
    "        \"decoder.layers\",\n",
    "        \"transformer.h\",\n",
    "        \"model.decoder.layers\",\n",
    "        \"gpt_neox.layers\",\n",
    "        \"decoder.block\",\n",
    "    )\n",
    "    return findattr(model, hidden_layers_attrs)"
   ]
  },
  {
   "cell_type": "code",
   "execution_count": 73,
   "metadata": {},
   "outputs": [],
   "source": [
    "def freeze_bottom_causal_layers(model: torch.nn.Module, num_layers_unfrozen: int = 0):\n",
    "    \"\"\"Freezes the bottom transformer block layers of the specified model.\"\"\"\n",
    "    hidden_layers = hf_get_decoder_blocks(model)\n",
    "    if num_layers_unfrozen == 0:\n",
    "        hidden_layers_to_freeze = list(hidden_layers)\n",
    "    elif num_layers_unfrozen > 0:\n",
    "        hidden_layers_to_freeze = list(hidden_layers)[:-num_layers_unfrozen]\n",
    "    else:\n",
    "        hidden_layers_to_freeze = []\n",
    "    for layer in hidden_layers_to_freeze:\n",
    "        layer.requires_grad_(False)"
   ]
  },
  {
   "cell_type": "code",
   "execution_count": 85,
   "metadata": {},
   "outputs": [
    {
     "data": {
      "text/plain": [
       "869298176"
      ]
     },
     "execution_count": 85,
     "metadata": {},
     "output_type": "execute_result"
    }
   ],
   "source": [
    "model.pretrained_model.requires_grad_(True)\n",
    "\n",
    "freeze_bottom_causal_layers(model.pretrained_model, num_layers_unfrozen=3)\n",
    "\n",
    "num_trainable_params = sum(p.numel() for p in model.pretrained_model.parameters() if p.requires_grad)\n",
    "num_trainable_params"
   ]
  }
 ],
 "metadata": {
  "kernelspec": {
   "display_name": "trlx",
   "language": "python",
   "name": "python3"
  },
  "language_info": {
   "codemirror_mode": {
    "name": "ipython",
    "version": 3
   },
   "file_extension": ".py",
   "mimetype": "text/x-python",
   "name": "python",
   "nbconvert_exporter": "python",
   "pygments_lexer": "ipython3",
   "version": "3.10.11"
  },
  "orig_nbformat": 4
 },
 "nbformat": 4,
 "nbformat_minor": 2
}
