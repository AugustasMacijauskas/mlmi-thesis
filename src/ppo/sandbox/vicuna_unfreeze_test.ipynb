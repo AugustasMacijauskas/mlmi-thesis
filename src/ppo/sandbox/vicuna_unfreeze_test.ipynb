{
 "cells": [
  {
   "cell_type": "markdown",
   "metadata": {},
   "source": [
    "## Imports"
   ]
  },
  {
   "cell_type": "code",
   "execution_count": 1,
   "metadata": {},
   "outputs": [],
   "source": [
    "# Enable automatic extension autoreloading\n",
    "%load_ext autoreload\n",
    "%autoreload 2"
   ]
  },
  {
   "cell_type": "code",
   "execution_count": 2,
   "metadata": {},
   "outputs": [],
   "source": [
    "import torch\n",
    "\n",
    "import sys\n",
    "from pathlib import Path\n",
    "sys.path.insert(0, str(Path.cwd().parent.resolve()))\n",
    "from model import get_model_with_unfrozen_layers"
   ]
  },
  {
   "attachments": {},
   "cell_type": "markdown",
   "metadata": {},
   "source": [
    "## Config"
   ]
  },
  {
   "cell_type": "code",
   "execution_count": 3,
   "metadata": {},
   "outputs": [
    {
     "data": {
      "text/plain": [
       "device(type='cuda', index=4)"
      ]
     },
     "execution_count": 3,
     "metadata": {},
     "output_type": "execute_result"
    }
   ],
   "source": [
    "device = 4\n",
    "device = torch.device(\n",
    "    # f\"cuda:{torch.cuda.current_device()}\" if torch.cuda.is_available() else \"cpu\"\n",
    "    f\"cuda:{device}\" if torch.cuda.is_available() else \"cpu\"\n",
    ")\n",
    "device"
   ]
  },
  {
   "cell_type": "code",
   "execution_count": 9,
   "metadata": {},
   "outputs": [
    {
     "name": "stdout",
     "output_type": "stream",
     "text": [
      "Loading policy model...\n",
      "\n",
      "kwargs={'low_cpu_mem_usage': True, 'torch_dtype': torch.float16}\n"
     ]
    },
    {
     "data": {
      "application/vnd.jupyter.widget-view+json": {
       "model_id": "0d5707f2cb194dbeb635f8d1d68c4e15",
       "version_major": 2,
       "version_minor": 0
      },
      "text/plain": [
       "Loading checkpoint shards:   0%|          | 0/2 [00:00<?, ?it/s]"
      ]
     },
     "metadata": {},
     "output_type": "display_data"
    },
    {
     "name": "stdout",
     "output_type": "stream",
     "text": [
      "Unfreezing bottom 4 layers...\n",
      "Loaded subject model with 6,738,419,713 parameters.\n",
      "Number of trainable params 940,613,633 parameters.\n",
      "Model dtype: torch.float16\n",
      "\n",
      "memory_usage=12.61 GB\n"
     ]
    }
   ],
   "source": [
    "# Model\n",
    "model_name = \"lmsys/vicuna-7b-v1.3\"\n",
    "\n",
    "model = get_model_with_unfrozen_layers(\n",
    "    model_name, device, num_layers_unfrozen=4,\n",
    "    low_cpu_mem_usage=True,\n",
    "    torch_dtype=torch.float16,\n",
    ")\n",
    "# model.eval()\n",
    "\n",
    "memory_usage = model.pretrained_model.get_memory_footprint() / (1024 ** 3)\n",
    "print(f\"{memory_usage=:.2f} GB\")"
   ]
  },
  {
   "cell_type": "code",
   "execution_count": 10,
   "metadata": {},
   "outputs": [
    {
     "data": {
      "text/plain": [
       "True"
      ]
     },
     "execution_count": 10,
     "metadata": {},
     "output_type": "execute_result"
    }
   ],
   "source": [
    "model.training"
   ]
  },
  {
   "cell_type": "code",
   "execution_count": 11,
   "metadata": {},
   "outputs": [
    {
     "name": "stdout",
     "output_type": "stream",
     "text": [
      "940,613,633\n"
     ]
    }
   ],
   "source": [
    "# Num trainable parameters\n",
    "num_trainable_params = sum(p.numel() for p in model.parameters() if p.requires_grad)\n",
    "print(f\"{num_trainable_params:,d}\")"
   ]
  },
  {
   "cell_type": "code",
   "execution_count": 12,
   "metadata": {},
   "outputs": [],
   "source": [
    "# model.pretrained_model"
   ]
  },
  {
   "cell_type": "code",
   "execution_count": 25,
   "metadata": {},
   "outputs": [
    {
     "name": "stdout",
     "output_type": "stream",
     "text": [
      "model.layers.28.self_attn.q_proj.weight:      16,777,216\n",
      "model.layers.28.self_attn.k_proj.weight:      16,777,216\n",
      "model.layers.28.self_attn.v_proj.weight:      16,777,216\n",
      "model.layers.28.self_attn.o_proj.weight:      16,777,216\n",
      "model.layers.28.mlp.gate_proj.weight:      45,088,768\n",
      "model.layers.28.mlp.down_proj.weight:      45,088,768\n",
      "model.layers.28.mlp.up_proj.weight:      45,088,768\n",
      "model.layers.28.input_layernorm.weight:      4,096\n",
      "model.layers.28.post_attention_layernorm.weight:      4,096\n",
      "model.layers.29.self_attn.q_proj.weight:      16,777,216\n",
      "model.layers.29.self_attn.k_proj.weight:      16,777,216\n",
      "model.layers.29.self_attn.v_proj.weight:      16,777,216\n",
      "model.layers.29.self_attn.o_proj.weight:      16,777,216\n",
      "model.layers.29.mlp.gate_proj.weight:      45,088,768\n",
      "model.layers.29.mlp.down_proj.weight:      45,088,768\n",
      "model.layers.29.mlp.up_proj.weight:      45,088,768\n",
      "model.layers.29.input_layernorm.weight:      4,096\n",
      "model.layers.29.post_attention_layernorm.weight:      4,096\n",
      "model.layers.30.self_attn.q_proj.weight:      16,777,216\n",
      "model.layers.30.self_attn.k_proj.weight:      16,777,216\n",
      "model.layers.30.self_attn.v_proj.weight:      16,777,216\n",
      "model.layers.30.self_attn.o_proj.weight:      16,777,216\n",
      "model.layers.30.mlp.gate_proj.weight:      45,088,768\n",
      "model.layers.30.mlp.down_proj.weight:      45,088,768\n",
      "model.layers.30.mlp.up_proj.weight:      45,088,768\n",
      "model.layers.30.input_layernorm.weight:      4,096\n",
      "model.layers.30.post_attention_layernorm.weight:      4,096\n",
      "model.layers.31.self_attn.q_proj.weight:      16,777,216\n",
      "model.layers.31.self_attn.k_proj.weight:      16,777,216\n",
      "model.layers.31.self_attn.v_proj.weight:      16,777,216\n",
      "model.layers.31.self_attn.o_proj.weight:      16,777,216\n",
      "model.layers.31.mlp.gate_proj.weight:      45,088,768\n",
      "model.layers.31.mlp.down_proj.weight:      45,088,768\n",
      "model.layers.31.mlp.up_proj.weight:      45,088,768\n",
      "model.layers.31.input_layernorm.weight:      4,096\n",
      "model.layers.31.post_attention_layernorm.weight:      4,096\n",
      "model.norm.weight:      4,096\n",
      "lm_head.weight:      131,072,000\n"
     ]
    }
   ],
   "source": [
    "for name, p in model.pretrained_model.named_parameters():\n",
    "    if p.requires_grad:\n",
    "        print(f\"{name}:      {p.numel():,d}\")"
   ]
  },
  {
   "cell_type": "code",
   "execution_count": 21,
   "metadata": {},
   "outputs": [
    {
     "name": "stdout",
     "output_type": "stream",
     "text": [
      "131,072,000\n"
     ]
    }
   ],
   "source": [
    "print(f\"{sum(p.numel() for p in model.pretrained_model.lm_head.parameters() if p.requires_grad):,d}\")"
   ]
  },
  {
   "cell_type": "code",
   "execution_count": null,
   "metadata": {},
   "outputs": [],
   "source": [
    "print(f\"{sum(p.numel() for p in model.pretrained_model.model.layers[30].parameters() if p.requires_grad):,d}\")"
   ]
  }
 ],
 "metadata": {
  "kernelspec": {
   "display_name": "elk",
   "language": "python",
   "name": "python3"
  },
  "language_info": {
   "codemirror_mode": {
    "name": "ipython",
    "version": 3
   },
   "file_extension": ".py",
   "mimetype": "text/x-python",
   "name": "python",
   "nbconvert_exporter": "python",
   "pygments_lexer": "ipython3",
   "version": "3.10.11"
  },
  "orig_nbformat": 4
 },
 "nbformat": 4,
 "nbformat_minor": 2
}
