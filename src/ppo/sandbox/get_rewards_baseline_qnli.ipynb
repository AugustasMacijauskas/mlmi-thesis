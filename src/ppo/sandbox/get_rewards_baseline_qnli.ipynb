{
 "cells": [
  {
   "attachments": {},
   "cell_type": "markdown",
   "metadata": {},
   "source": [
    "## Imports"
   ]
  },
  {
   "cell_type": "code",
   "execution_count": 1,
   "metadata": {},
   "outputs": [],
   "source": [
    "# Enable automatic extension autoreloading\n",
    "%load_ext autoreload\n",
    "%autoreload 2"
   ]
  },
  {
   "cell_type": "code",
   "execution_count": 3,
   "metadata": {},
   "outputs": [],
   "source": [
    "from pathlib import Path\n",
    "import string\n",
    "\n",
    "from tqdm.notebook import tqdm\n",
    "\n",
    "import matplotlib.pyplot as plt\n",
    "\n",
    "import torch\n",
    "\n",
    "import datasets\n",
    "# Don't show progress datasets bars\n",
    "datasets.disable_progress_bar()\n",
    "\n",
    "import sys\n",
    "sys.path.insert(0, str(Path.cwd().parent.resolve()))\n",
    "from dataset import get_dataset_qnli, collator\n",
    "from model import get_model\n",
    "from reward_model import get_template, get_reward_model, create_reward_fn\n",
    "from utils import get_tokenizer"
   ]
  },
  {
   "attachments": {},
   "cell_type": "markdown",
   "metadata": {},
   "source": [
    "## Config"
   ]
  },
  {
   "cell_type": "code",
   "execution_count": 4,
   "metadata": {},
   "outputs": [
    {
     "data": {
      "text/plain": [
       "device(type='cuda', index=5)"
      ]
     },
     "execution_count": 4,
     "metadata": {},
     "output_type": "execute_result"
    }
   ],
   "source": [
    "device = torch.device(\n",
    "    # f\"cuda:{torch.cuda.current_device()}\" if torch.cuda.is_available() else \"cpu\"\n",
    "    \"cuda:5\"\n",
    ")\n",
    "device"
   ]
  },
  {
   "cell_type": "code",
   "execution_count": 5,
   "metadata": {},
   "outputs": [],
   "source": [
    "tokenizer_name = \"lmsys/vicuna-7b-v1.3\"\n",
    "\n",
    "dataset_name = \"AugustasM/qnli-vicuna-ppo-training-v1\"\n",
    "\n",
    "# Large\n",
    "# reward_model_output_path = \"/fsx/home-augustas/logs/UQA-varied-custom_data_qnli_vicuna_v1_20230721_234029_40903\"\n",
    "# 3B\n",
    "# reward_model_output_path = \"/fsx/home-augustas/logs/UQA-varied-custom_data_qnli_vicuna_v1_20230721_234034_40904\"\n",
    "\n",
    "# 3B unsupervised\n",
    "reward_model_output_path = \"/fsx/home-augustas/logs_elk/UQA-3B-v2-qnli-vicuna-ccs_20230807_192315_55004\""
   ]
  },
  {
   "cell_type": "markdown",
   "metadata": {},
   "source": [
    "## Load things in"
   ]
  },
  {
   "cell_type": "code",
   "execution_count": 6,
   "metadata": {},
   "outputs": [
    {
     "name": "stdout",
     "output_type": "stream",
     "text": [
      "Loading tokenizer lmsys/vicuna-7b-v1.3...\n"
     ]
    },
    {
     "name": "stderr",
     "output_type": "stream",
     "text": [
      "You are using the legacy behaviour of the <class 'transformers.models.llama.tokenization_llama.LlamaTokenizer'>. This means that tokens that come after special tokens will not be properly handled. We recommend you to read the related pull request available at https://github.com/huggingface/transformers/pull/24565\n"
     ]
    },
    {
     "name": "stdout",
     "output_type": "stream",
     "text": [
      "Loaded tokenizer.\n",
      "\n"
     ]
    }
   ],
   "source": [
    "# Tokenizer\n",
    "tokenizer = get_tokenizer(tokenizer_name)\n",
    "\n",
    "# tokenizer = get_tokenizer(\"huggyllama/llama-7b\")\n",
    "# tokenizer.padding_side = \"right\"\n",
    "# tokenizer.pad_token = tokenizer.unk_token"
   ]
  },
  {
   "cell_type": "code",
   "execution_count": 18,
   "metadata": {},
   "outputs": [
    {
     "name": "stdout",
     "output_type": "stream",
     "text": [
      "Loading dataset...\n",
      "\n"
     ]
    },
    {
     "name": "stderr",
     "output_type": "stream",
     "text": [
      "Found cached dataset parquet (/admin/home-augustas/.cache/huggingface/datasets/AugustasM___parquet/AugustasM--qnli-vicuna-ppo-training-v1-e9526ea8884b4bb3/0.0.0/14a00e99c0d15a23649d0db8944380ac81082d4b021f398733dd84f3a6c569a7)\n",
      "Loading cached processed dataset at /admin/home-augustas/.cache/huggingface/datasets/AugustasM___parquet/AugustasM--qnli-vicuna-ppo-training-v1-e9526ea8884b4bb3/0.0.0/14a00e99c0d15a23649d0db8944380ac81082d4b021f398733dd84f3a6c569a7/cache-c195e88e8e56511b_*_of_00012.arrow\n",
      "Loading cached processed dataset at /admin/home-augustas/.cache/huggingface/datasets/AugustasM___parquet/AugustasM--qnli-vicuna-ppo-training-v1-e9526ea8884b4bb3/0.0.0/14a00e99c0d15a23649d0db8944380ac81082d4b021f398733dd84f3a6c569a7/cache-26b682285e2b5626_*_of_00012.arrow\n"
     ]
    },
    {
     "name": "stdout",
     "output_type": "stream",
     "text": [
      "Remaining columns: ['query', 'best_response', 'input_ids', 'attention_mask']\n",
      "\n",
      "Total number of examples: 8192\n",
      "\n",
      "Data preprocessing finished.\n",
      "\n",
      "Num templates: 1\n",
      "Is the given text truthful\n"
     ]
    }
   ],
   "source": [
    "# Dataset for PPO training\n",
    "train_dataset = get_dataset_qnli(dataset_name, tokenizer, margin=8)\n",
    "\n",
    "# Dataset templates\n",
    "dataset_template_path = \"AugustasM/burns-datasets-VINC\"\n",
    "template = get_template(dataset_template_path)"
   ]
  },
  {
   "cell_type": "code",
   "execution_count": 19,
   "metadata": {},
   "outputs": [
    {
     "data": {
      "text/plain": [
       "Dataset({\n",
       "    features: ['query', 'best_response', 'input_ids', 'attention_mask'],\n",
       "    num_rows: 8192\n",
       "})"
      ]
     },
     "execution_count": 19,
     "metadata": {},
     "output_type": "execute_result"
    }
   ],
   "source": [
    "train_dataset"
   ]
  },
  {
   "cell_type": "code",
   "execution_count": 20,
   "metadata": {},
   "outputs": [],
   "source": [
    "# from reward_model import get_probe\n",
    "\n",
    "# probe = get_probe(\n",
    "#     Path(reward_model_output_path), device,\n",
    "#     is_bf16_possible=True,\n",
    "#     supervised=False, metric=\"auroc_estimate\", ensembling=\"partial\",\n",
    "# )\n",
    "# probe"
   ]
  },
  {
   "cell_type": "code",
   "execution_count": 21,
   "metadata": {},
   "outputs": [
    {
     "name": "stdout",
     "output_type": "stream",
     "text": [
      "The current device is cuda:7.\n",
      "\n",
      "Loading reward model from allenai/unifiedqa-v2-t5-3b-1363200.\n",
      "is_bf16_possible=True\n",
      "Loaded reward model with 2,851,598,336 parameters.\n",
      "Number of trainable params 0 parameters.\n",
      "Reward model dtype: torch.bfloat16\n",
      "\n",
      "layer=15\n",
      "Loading the probe from /fsx/home-augustas/VINC-logs/allenai/unifiedqa-v2-t5-3b-1363200/AugustasM/qnli-vicuna-v1/elated-bohr/lr_models/layer_15.pt\n"
     ]
    },
    {
     "name": "stderr",
     "output_type": "stream",
     "text": [
      "You are using the legacy behaviour of the <class 'transformers.models.t5.tokenization_t5.T5Tokenizer'>. This means that tokens that come after special tokens will not be properly handled. We recommend you to read the related pull request available at https://github.com/huggingface/transformers/pull/24565\n"
     ]
    },
    {
     "name": "stdout",
     "output_type": "stream",
     "text": [
      "Finished loading the probe.\n",
      "\n",
      "Loading tokenizer allenai/unifiedqa-v2-t5-3b-1363200...\n",
      "Falling back to slow tokenizer; fast one failed: 'No such file or directory (os error 2)'\n",
      "Loaded tokenizer.\n",
      "\n"
     ]
    }
   ],
   "source": [
    "# Get the reward model\n",
    "reward_model, reward_model_name = get_reward_model(\n",
    "    reward_model_output_path, device,\n",
    "    supervised=True,\n",
    "    # supervised=False,\n",
    ")\n",
    "reward_model_tokenizer = get_tokenizer(reward_model_name)"
   ]
  },
  {
   "cell_type": "code",
   "execution_count": 33,
   "metadata": {},
   "outputs": [],
   "source": [
    "rm_batch_size = 16\n",
    "\n",
    "# Create reward function\n",
    "get_rewards = create_reward_fn(\n",
    "    reward_model=reward_model,\n",
    "    reward_model_tokenizer=reward_model_tokenizer,\n",
    "    rm_batch_size=rm_batch_size,\n",
    "    template=template,\n",
    "    device=device,\n",
    ")"
   ]
  },
  {
   "cell_type": "code",
   "execution_count": 34,
   "metadata": {},
   "outputs": [
    {
     "name": "stderr",
     "output_type": "stream",
     "text": [
      "Loading cached shuffled indices for dataset at /admin/home-augustas/.cache/huggingface/datasets/AugustasM___parquet/AugustasM--qnli-vicuna-ppo-training-v1-e9526ea8884b4bb3/0.0.0/14a00e99c0d15a23649d0db8944380ac81082d4b021f398733dd84f3a6c569a7/cache-3b70a650d7aa06b2.arrow\n"
     ]
    },
    {
     "name": "stdout",
     "output_type": "stream",
     "text": [
      "Dataloader length: 128\n"
     ]
    },
    {
     "data": {
      "application/vnd.jupyter.widget-view+json": {
       "model_id": "81e63f24c5ca4f5ab958ad9d545328f1",
       "version_major": 2,
       "version_minor": 0
      },
      "text/plain": [
       "  0%|          | 0/128 [00:00<?, ?it/s]"
      ]
     },
     "metadata": {},
     "output_type": "display_data"
    },
    {
     "data": {
      "text/plain": [
       "torch.Size([2048])"
      ]
     },
     "execution_count": 34,
     "metadata": {},
     "output_type": "execute_result"
    }
   ],
   "source": [
    "dataloader = torch.utils.data.DataLoader(\n",
    "    # train_dataset,\n",
    "    # train_dataset.shuffle(seed=0).select(range(1024)),\n",
    "    train_dataset.shuffle(seed=0).select(range(2048)),\n",
    "    batch_size=16, collate_fn=collator,\n",
    "    num_workers=12, shuffle=False,\n",
    ")\n",
    "print(f\"Dataloader length: {len(dataloader)}\")\n",
    "\n",
    "rewards = []\n",
    "\n",
    "for batch in tqdm(dataloader, total=len(dataloader), leave=False):\n",
    "    texts = [q + \" \" + r for q, r in zip(batch[\"query\"], batch[\"best_response\"])]\n",
    "\n",
    "    current_rewards = get_rewards(texts)\n",
    "    rewards.append(current_rewards.cpu())\n",
    "\n",
    "rewards = torch.cat(rewards, dim=0)\n",
    "rewards.shape"
   ]
  },
  {
   "cell_type": "code",
   "execution_count": 35,
   "metadata": {},
   "outputs": [
    {
     "data": {
      "text/plain": [
       "(tensor(0.8381), tensor(0.2774))"
      ]
     },
     "execution_count": 35,
     "metadata": {},
     "output_type": "execute_result"
    }
   ],
   "source": [
    "mean = rewards.mean()\n",
    "std = rewards.std()\n",
    "\n",
    "mean, std"
   ]
  },
  {
   "cell_type": "code",
   "execution_count": 36,
   "metadata": {},
   "outputs": [
    {
     "data": {
      "text/plain": [
       "(tensor(0.2832), tensor(1.3930))"
      ]
     },
     "execution_count": 36,
     "metadata": {},
     "output_type": "execute_result"
    }
   ],
   "source": [
    "mean - 2 * std, mean + 2 * std"
   ]
  },
  {
   "cell_type": "code",
   "execution_count": 37,
   "metadata": {},
   "outputs": [
    {
     "data": {
      "text/plain": [
       "(tensor(1.8925e-05), tensor(1.0000))"
      ]
     },
     "execution_count": 37,
     "metadata": {},
     "output_type": "execute_result"
    }
   ],
   "source": [
    "rewards.min(), rewards.max()"
   ]
  },
  {
   "cell_type": "code",
   "execution_count": 38,
   "metadata": {},
   "outputs": [],
   "source": [
    "def plot_histogram(rewards, bins=100, color=\"blue\", secondary_color=\"red\", alpha=1, xlim=None):\n",
    "    if xlim is None:\n",
    "        xlim = [0, 1]\n",
    "\n",
    "    median = rewards.median()\n",
    "    mean = rewards.mean()\n",
    "    std = rewards.std()\n",
    "\n",
    "    # Histogram of rewards with black borders\n",
    "    plt.hist(rewards, bins=bins, edgecolor=\"black\", color=color, alpha=alpha);\n",
    "\n",
    "    # Plot vertical lines for mean +- std\n",
    "    plt.axvline(median, color=secondary_color, label=f\"{median=:.4f}\")\n",
    "    plt.axvline(mean, color=secondary_color, label=f\"{mean=:.4f}\")\n",
    "    plt.axvline(mean + 2 * std, color=secondary_color, linestyle=\"--\", label=f\"upper={mean + 2 * std:.4f}\")\n",
    "    plt.axvline(mean - 2 * std, color=secondary_color, linestyle=\"--\", label=f\"lower={mean - 2 * std:.4f}\");\n",
    "\n",
    "    # Set xlim to 0-1\n",
    "    plt.xlim(xlim)\n",
    "\n",
    "    # Legend\n",
    "    plt.legend()"
   ]
  },
  {
   "cell_type": "code",
   "execution_count": 39,
   "metadata": {},
   "outputs": [
    {
     "data": {
      "image/png": "[encoded data removed]",
      "text/plain": [
       "<Figure size 640x480 with 1 Axes>"
      ]
     },
     "metadata": {},
     "output_type": "display_data"
    }
   ],
   "source": [
    "plot_histogram(rewards, bins=50)\n",
    "plt.grid();"
   ]
  },
  {
   "cell_type": "code",
   "execution_count": 40,
   "metadata": {},
   "outputs": [],
   "source": [
    "# plot_histogram(rewards[rewards >= 0.99975].float(), bins=50, xlim=(0.99975, 1.0))\n",
    "# plt.grid();"
   ]
  },
  {
   "cell_type": "code",
   "execution_count": 41,
   "metadata": {},
   "outputs": [],
   "source": [
    "# Save the rewards\n",
    "# torch.save(rewards, \"outputs/ppo_rewards_imdb_supervised_perfect_2.pt\")"
   ]
  },
  {
   "cell_type": "code",
   "execution_count": 42,
   "metadata": {},
   "outputs": [],
   "source": [
    "# tmp_rewards = torch.load(\"outputs/ppo_rewards_imdb_perfect.pt\")\n",
    "# tmp_rewards.dtype"
   ]
  },
  {
   "cell_type": "markdown",
   "metadata": {},
   "source": [
    "## Get rewards for the base model"
   ]
  },
  {
   "cell_type": "code",
   "execution_count": 43,
   "metadata": {},
   "outputs": [
    {
     "data": {
      "text/plain": [
       "'lmsys/vicuna-7b-v1.3'"
      ]
     },
     "execution_count": 43,
     "metadata": {},
     "output_type": "execute_result"
    }
   ],
   "source": [
    "tokenizer_name"
   ]
  },
  {
   "cell_type": "code",
   "execution_count": 44,
   "metadata": {},
   "outputs": [
    {
     "name": "stdout",
     "output_type": "stream",
     "text": [
      "Loading policy model...\n",
      "\n",
      "is_bf16_possible=False\n",
      "kwargs={'load_in_8bit': True, 'low_cpu_mem_usage': True, 'torch_dtype': None}\n"
     ]
    },
    {
     "data": {
      "application/vnd.jupyter.widget-view+json": {
       "model_id": "d9c3d561bb1a49d8bb4385de041fc7aa",
       "version_major": 2,
       "version_minor": 0
      },
      "text/plain": [
       "Loading checkpoint shards:   0%|          | 0/2 [00:00<?, ?it/s]"
      ]
     },
     "metadata": {},
     "output_type": "display_data"
    },
    {
     "name": "stdout",
     "output_type": "stream",
     "text": [
      "Loaded subject model with 6,738,419,713 parameters.\n",
      "Model dtype: torch.float16\n",
      "\n",
      "memory_usage=6.55 GB\n"
     ]
    }
   ],
   "source": [
    "# Model\n",
    "model = get_model(\n",
    "    tokenizer_name, device,\n",
    "    load_in_8bit=True, low_cpu_mem_usage=True,\n",
    "    torch_dtype=torch.float16,\n",
    ")\n",
    "model.eval()\n",
    "\n",
    "memory_usage = model.pretrained_model.get_memory_footprint() / (1024 ** 3)\n",
    "print(f\"{memory_usage=:.2f} GB\")"
   ]
  },
  {
   "cell_type": "code",
   "execution_count": 45,
   "metadata": {},
   "outputs": [],
   "source": [
    "from trl import PPOTrainer, PPOConfig\n",
    "\n",
    "config = PPOConfig()\n",
    "\n",
    "optimizer = None\n",
    "\n",
    "# We then build the PPOTrainer, passing the model, the reference model, the tokenizer\n",
    "ppo_trainer = PPOTrainer(\n",
    "    config,\n",
    "    model,\n",
    "    ref_model=None,\n",
    "    tokenizer=tokenizer,\n",
    "    dataset=train_dataset,\n",
    "    data_collator=collator,\n",
    "    optimizer=optimizer,\n",
    ")"
   ]
  },
  {
   "cell_type": "code",
   "execution_count": 46,
   "metadata": {},
   "outputs": [],
   "source": [
    "ALLOWED_ANSWERS = [\"Yes\", \"No\"]\n",
    "CHARACTERS_TO_FILTER = string.punctuation + \" \\n\"\n",
    "\n",
    "\n",
    "def is_answer_yes_no(answer):\n",
    "    return answer in ALLOWED_ANSWERS\n",
    "\n",
    "\n",
    "def postprocess_response(response):\n",
    "    while response and response[-1] in CHARACTERS_TO_FILTER:\n",
    "        response = response[:-1]\n",
    "    return response"
   ]
  },
  {
   "cell_type": "code",
   "execution_count": 47,
   "metadata": {},
   "outputs": [
    {
     "name": "stderr",
     "output_type": "stream",
     "text": [
      "Loading cached shuffled indices for dataset at /admin/home-augustas/.cache/huggingface/datasets/AugustasM___parquet/AugustasM--qnli-vicuna-ppo-training-v1-e9526ea8884b4bb3/0.0.0/14a00e99c0d15a23649d0db8944380ac81082d4b021f398733dd84f3a6c569a7/cache-3b70a650d7aa06b2.arrow\n"
     ]
    },
    {
     "name": "stdout",
     "output_type": "stream",
     "text": [
      "Dataloader length: 64\n"
     ]
    },
    {
     "data": {
      "application/vnd.jupyter.widget-view+json": {
       "model_id": "8cb55c705ab1443a96cfb4ba357c253e",
       "version_major": 2,
       "version_minor": 0
      },
      "text/plain": [
       "  0%|          | 0/64 [00:00<?, ?it/s]"
      ]
     },
     "metadata": {},
     "output_type": "display_data"
    },
    {
     "name": "stderr",
     "output_type": "stream",
     "text": [
      "You're using a LlamaTokenizerFast tokenizer. Please note that with a fast tokenizer, using the `__call__` method is faster than using a method to encode the text followed by a call to the `pad` method to get a padded encoding.\n"
     ]
    },
    {
     "name": "stdout",
     "output_type": "stream",
     "text": [
      "torch.Size([2048])\n"
     ]
    },
    {
     "data": {
      "text/plain": [
       "(2048, 2048)"
      ]
     },
     "execution_count": 47,
     "metadata": {},
     "output_type": "execute_result"
    }
   ],
   "source": [
    "dataloader = torch.utils.data.DataLoader(\n",
    "    # train_dataset,\n",
    "    # train_dataset.shuffle(seed=42).select(range(8)),\n",
    "    # train_dataset.shuffle(seed=0).select(range(1024)),\n",
    "    train_dataset.shuffle(seed=0).select(range(2048)),\n",
    "    batch_size=32, collate_fn=collator,\n",
    "    num_workers=12, shuffle=False,\n",
    ")\n",
    "print(f\"Dataloader length: {len(dataloader)}\")\n",
    "\n",
    "generation_kwargs = {\n",
    "    \"top_k\": 0,\n",
    "    \"top_p\": 1.0,\n",
    "    # \"do_sample\": False,\n",
    "    \"do_sample\": True,\n",
    "    \"pad_token_id\": tokenizer.pad_token_id,\n",
    "    \"eos_token_id\": 100_000, # why is this value like this?\n",
    "    \"pad_to_multiple_of\": 8, # TODO: double-check, but this seems to work and to be faster\n",
    "    \"max_new_tokens\": 2,\n",
    "}\n",
    "\n",
    "rewards = []\n",
    "gold_outputs = []\n",
    "outputs = []\n",
    "for batch in tqdm(dataloader, total=len(dataloader), leave=False):\n",
    "    batch_gold_outputs = batch[\"best_response\"]\n",
    "    gold_outputs.extend(batch_gold_outputs)\n",
    "\n",
    "    question_tensors = batch[\"input_ids\"]\n",
    "\n",
    "    response_tensors = ppo_trainer.generate(\n",
    "        question_tensors,\n",
    "        return_prompt=False,\n",
    "        batch_size=16, # TODO: generations are made in batches\n",
    "        **generation_kwargs,\n",
    "    )\n",
    "    responses = tokenizer.batch_decode(\n",
    "        response_tensors, skip_special_tokens=True,\n",
    "        spaces_between_special_tokens=False\n",
    "    )\n",
    "    responses = [postprocess_response(x) for x in responses]\n",
    "    batch[\"response\"] = responses\n",
    "    outputs.extend(batch[\"response\"])\n",
    "\n",
    "    # Compute sentiment score\n",
    "    texts = [q + \" \" + r for q, r in zip(batch[\"query\"], batch[\"response\"])]\n",
    "    current_rewards = get_rewards(texts)\n",
    "\n",
    "    # Replace reward for undesired answers to -1\n",
    "    # mask = [not is_answer_yes_no(x) for x in batch[\"response\"]]\n",
    "    # mask = torch.tensor(mask, dtype=torch.bool)\n",
    "    # current_rewards[mask] = -1\n",
    "\n",
    "    rewards.append(current_rewards.cpu())\n",
    "\n",
    "\n",
    "rewards = torch.cat(rewards, dim=0)\n",
    "print(rewards.shape)\n",
    "len(outputs), len(gold_outputs)"
   ]
  },
  {
   "cell_type": "code",
   "execution_count": 48,
   "metadata": {},
   "outputs": [],
   "source": [
    "# for output, golden_output in zip(outputs, gold_outputs):\n",
    "#     print(f\"{golden_output=}\\n{output=}\")\n",
    "#     print(\"-\" * 80)"
   ]
  },
  {
   "cell_type": "code",
   "execution_count": 49,
   "metadata": {},
   "outputs": [
    {
     "data": {
      "text/plain": [
       "Counter({'Yes': 1142,\n",
       "         'No': 706,\n",
       "         'yes': 43,\n",
       "         'Answer': 26,\n",
       "         'no': 23,\n",
       "         'The sentence': 9,\n",
       "         'NO': 9,\n",
       "         'Question': 8,\n",
       "         'YES': 4,\n",
       "         'Do you': 2,\n",
       "         'It is': 2,\n",
       "         'The answer': 2,\n",
       "         'Bell': 1,\n",
       "         'What was': 1,\n",
       "         'Required': 1,\n",
       "         'A': 1,\n",
       "         'ANS': 1,\n",
       "         'Ben': 1,\n",
       "         'Consequence': 1,\n",
       "         'Military leaders': 1,\n",
       "         'Kelvin': 1,\n",
       "         'Military cas': 1,\n",
       "         'What is': 1,\n",
       "         '**No': 1,\n",
       "         'Pope In': 1,\n",
       "         '': 1,\n",
       "         'logical sub': 1,\n",
       "         'Circad': 1,\n",
       "         'Adam Smith': 1,\n",
       "         'To what': 1,\n",
       "         'wood': 1,\n",
       "         'Wikipedia': 1,\n",
       "         'The Encyclop': 1,\n",
       "         'Cyrus': 1,\n",
       "         'Short Answer': 1,\n",
       "         'Yes For': 1,\n",
       "         'True': 1,\n",
       "         '1': 1,\n",
       "         'St': 1,\n",
       "         'Right': 1,\n",
       "         'Volunt': 1,\n",
       "         '\"Z': 1,\n",
       "         'Seth': 1,\n",
       "         'If you': 1,\n",
       "         'How old': 1,\n",
       "         'To answer': 1,\n",
       "         'Insu': 1,\n",
       "         'As the': 1,\n",
       "         'Parts': 1,\n",
       "         'Mexico': 1,\n",
       "         'Robert Dr': 1,\n",
       "         'the answer': 1,\n",
       "         'In the': 1,\n",
       "         'Gog': 1,\n",
       "         'I am': 1,\n",
       "         'microe': 1,\n",
       "         'De Hoff': 1,\n",
       "         'Pope P': 1,\n",
       "         'Bond p': 1,\n",
       "         'I would': 1,\n",
       "         'North Carolina': 1,\n",
       "         'anti': 1,\n",
       "         'Rough': 1,\n",
       "         'Does the': 1,\n",
       "         'SEAT': 1,\n",
       "         'Unlike': 1,\n",
       "         'Lord Sal': 1,\n",
       "         'Sir William': 1,\n",
       "         'I': 1,\n",
       "         'Experiment': 1,\n",
       "         'I can': 1,\n",
       "         'I cannot': 1,\n",
       "         'Comment': 1,\n",
       "         'Depends': 1,\n",
       "         '<Hint': 1,\n",
       "         'Bhask': 1,\n",
       "         'Hayek': 1,\n",
       "         'Primary school': 1,\n",
       "         'Queens is': 1,\n",
       "         'Number': 1,\n",
       "         'ja': 1,\n",
       "         'Jagu': 1,\n",
       "         'Her husband': 1,\n",
       "         '\"What': 1})"
      ]
     },
     "execution_count": 49,
     "metadata": {},
     "output_type": "execute_result"
    }
   ],
   "source": [
    "from collections import Counter\n",
    "\n",
    "Counter(outputs)"
   ]
  },
  {
   "cell_type": "code",
   "execution_count": 50,
   "metadata": {},
   "outputs": [
    {
     "data": {
      "text/plain": [
       "(tensor(1.4594e-06), tensor(1.0000))"
      ]
     },
     "execution_count": 50,
     "metadata": {},
     "output_type": "execute_result"
    }
   ],
   "source": [
    "rewards.min(), rewards.max()"
   ]
  },
  {
   "cell_type": "code",
   "execution_count": 51,
   "metadata": {},
   "outputs": [
    {
     "data": {
      "text/plain": [
       "(tensor(0.5621), tensor(0.4324))"
      ]
     },
     "execution_count": 51,
     "metadata": {},
     "output_type": "execute_result"
    }
   ],
   "source": [
    "rewards.mean(), rewards.std()"
   ]
  },
  {
   "cell_type": "code",
   "execution_count": 52,
   "metadata": {},
   "outputs": [
    {
     "data": {
      "text/plain": [
       "(tensor(0.1298), tensor(0.9945))"
      ]
     },
     "execution_count": 52,
     "metadata": {},
     "output_type": "execute_result"
    }
   ],
   "source": [
    "rewards.mean() - rewards.std(), rewards.mean() + rewards.std()"
   ]
  },
  {
   "cell_type": "code",
   "execution_count": 53,
   "metadata": {},
   "outputs": [
    {
     "data": {
      "image/png": "[encoded data removed]",
      "text/plain": [
       "<Figure size 640x480 with 1 Axes>"
      ]
     },
     "metadata": {},
     "output_type": "display_data"
    }
   ],
   "source": [
    "bins = 50\n",
    "plot_histogram(\n",
    "    rewards, bins=bins,\n",
    "    color=\"blue\", secondary_color=\"orange\",\n",
    "    alpha=0.5, xlim=[-1, 1],\n",
    ")\n",
    "plt.grid()"
   ]
  },
  {
   "cell_type": "code",
   "execution_count": 54,
   "metadata": {},
   "outputs": [
    {
     "name": "stdout",
     "output_type": "stream",
     "text": [
      "mask.float().mean()=tensor(0.9023)\n"
     ]
    },
    {
     "data": {
      "image/png": "[encoded data removed]",
      "text/plain": [
       "<Figure size 640x480 with 1 Axes>"
      ]
     },
     "metadata": {},
     "output_type": "display_data"
    }
   ],
   "source": [
    "mask = [is_answer_yes_no(x) for x in outputs]\n",
    "mask = torch.tensor(mask, dtype=torch.bool)\n",
    "\n",
    "print(f\"{mask.float().mean()=}\")\n",
    "\n",
    "bins = 50\n",
    "plot_histogram(rewards[mask], bins=bins, color=\"blue\", secondary_color=\"orange\", alpha=0.5)\n",
    "# Grid\n",
    "plt.grid()"
   ]
  },
  {
   "cell_type": "code",
   "execution_count": 55,
   "metadata": {},
   "outputs": [
    {
     "name": "stdout",
     "output_type": "stream",
     "text": [
      "mask.float().mean()=tensor(0.9023)\n",
      "correct_mask.float().mean()=tensor(0.4961)\n",
      "(mask & correct_mask).float().mean()=tensor(0.4961)\n"
     ]
    },
    {
     "data": {
      "image/png": "[encoded data removed]",
      "text/plain": [
       "<Figure size 640x480 with 1 Axes>"
      ]
     },
     "metadata": {},
     "output_type": "display_data"
    }
   ],
   "source": [
    "mask = [is_answer_yes_no(x) for x in outputs]\n",
    "mask = torch.tensor(mask, dtype=torch.bool)\n",
    "\n",
    "print(f\"{mask.float().mean()=}\")\n",
    "\n",
    "correct_mask = [g == o for g, o in zip(gold_outputs, outputs)]\n",
    "correct_mask = torch.tensor(correct_mask, dtype=torch.bool)\n",
    "\n",
    "print(f\"{correct_mask.float().mean()=}\")\n",
    "print(f\"{(mask & correct_mask).float().mean()=}\")\n",
    "\n",
    "bins = 50\n",
    "plot_histogram(rewards[correct_mask], bins=bins, color=\"blue\", secondary_color=\"orange\", alpha=0.5)\n",
    "plt.grid()"
   ]
  },
  {
   "cell_type": "code",
   "execution_count": 56,
   "metadata": {},
   "outputs": [
    {
     "name": "stdout",
     "output_type": "stream",
     "text": [
      "mask.float().mean()=tensor(0.9023)\n",
      "correct_mask.float().mean()=tensor(0.4961)\n",
      "(mask & correct_mask).float().mean()=tensor(0.4961)\n"
     ]
    },
    {
     "data": {
      "image/png": "[encoded data removed]",
      "text/plain": [
       "<Figure size 640x480 with 1 Axes>"
      ]
     },
     "metadata": {},
     "output_type": "display_data"
    }
   ],
   "source": [
    "mask = [is_answer_yes_no(x) for x in outputs]\n",
    "mask = torch.tensor(mask, dtype=torch.bool)\n",
    "\n",
    "print(f\"{mask.float().mean()=}\")\n",
    "\n",
    "correct_mask = [g == o for g, o in zip(gold_outputs, outputs)]\n",
    "correct_mask = torch.tensor(correct_mask, dtype=torch.bool)\n",
    "\n",
    "print(f\"{correct_mask.float().mean()=}\")\n",
    "print(f\"{(mask & correct_mask).float().mean()=}\")\n",
    "\n",
    "bins = 50\n",
    "plot_histogram(rewards[~correct_mask], bins=bins, color=\"blue\", secondary_color=\"orange\", alpha=0.5)\n",
    "plt.grid()"
   ]
  },
  {
   "cell_type": "code",
   "execution_count": 57,
   "metadata": {},
   "outputs": [
    {
     "name": "stdout",
     "output_type": "stream",
     "text": [
      "tensor(0.9023)\n"
     ]
    },
    {
     "data": {
      "text/plain": [
       "<matplotlib.legend.Legend at 0x7f53a680b910>"
      ]
     },
     "execution_count": 57,
     "metadata": {},
     "output_type": "execute_result"
    },
    {
     "data": {
      "image/png": "[encoded data removed]",
      "text/plain": [
       "<Figure size 640x480 with 1 Axes>"
      ]
     },
     "metadata": {},
     "output_type": "display_data"
    }
   ],
   "source": [
    "label_fontsize = 16\n",
    "tick_fontsize = 12\n",
    "\n",
    "# correct_mask = [g == o for g, o in zip(gold_outputs, outputs)]\n",
    "correct_mask = [is_answer_yes_no(o) and g == o for g, o in zip(gold_outputs, outputs)]\n",
    "correct_mask = torch.tensor(correct_mask, dtype=torch.bool)\n",
    "\n",
    "incorrect_mask = [is_answer_yes_no(o) and g != o for g, o in zip(gold_outputs, outputs)]\n",
    "incorrect_mask = torch.tensor(incorrect_mask, dtype=torch.bool)\n",
    "\n",
    "print((correct_mask.sum() + incorrect_mask.sum()) / len(correct_mask))\n",
    "\n",
    "bins=25; color=\"blue\"; secondary_color=\"orange\"; alpha=0.5; xlim=[0, 1]\n",
    "\n",
    "# median = rewards.median()\n",
    "# mean = rewards.mean()\n",
    "# std = rewards.std()\n",
    "\n",
    "# Histogram of rewards with black borders\n",
    "plt.hist(\n",
    "    rewards[correct_mask], bins=bins,\n",
    "    edgecolor=\"black\", color=color, alpha=alpha,\n",
    "    label=\"correct\",\n",
    ")\n",
    "plt.hist(\n",
    "    rewards[incorrect_mask], bins=bins, \n",
    "    edgecolor=\"black\", color=secondary_color, alpha=alpha,\n",
    "    label=\"incorrect\",\n",
    ")\n",
    "\n",
    "# Plot vertical lines for mean +- std\n",
    "# plt.axvline(median, color=secondary_color, label=f\"{median=:.4f}\")\n",
    "# plt.axvline(mean, color=secondary_color, label=f\"{mean=:.4f}\")\n",
    "# plt.axvline(mean + 2 * std, color=secondary_color, linestyle=\"--\", label=f\"upper={mean + 2 * std:.4f}\")\n",
    "# plt.axvline(mean - 2 * std, color=secondary_color, linestyle=\"--\", label=f\"lower={mean - 2 * std:.4f}\");\n",
    "\n",
    "# Set xlim to 0-1\n",
    "plt.xlim(xlim)\n",
    "\n",
    "plt.xlabel('reward', fontsize=label_fontsize)\n",
    "plt.ylabel('count', fontsize=label_fontsize)\n",
    "\n",
    "# Set the tick label font size\n",
    "plt.tick_params(axis='both', which='major', labelsize=tick_fontsize)\n",
    "\n",
    "# Grid\n",
    "plt.grid()\n",
    "\n",
    "# Legend\n",
    "plt.legend(fontsize=tick_fontsize)\n",
    "\n",
    "# plt.savefig(\"outputs/reward_distribution_qnli_vicuna_v13.png\", dpi=300)"
   ]
  },
  {
   "cell_type": "code",
   "execution_count": 70,
   "metadata": {},
   "outputs": [
    {
     "name": "stdout",
     "output_type": "stream",
     "text": [
      "tensor(1.)\n"
     ]
    },
    {
     "data": {
      "image/png": "[encoded data removed]",
      "text/plain": [
       "<Figure size 640x480 with 1 Axes>"
      ]
     },
     "metadata": {},
     "output_type": "display_data"
    }
   ],
   "source": [
    "label_fontsize = 16\n",
    "tick_fontsize = 12\n",
    "\n",
    "yes_no_mask = [is_answer_yes_no(o) for o in outputs]\n",
    "yes_no_mask = torch.tensor(yes_no_mask, dtype=torch.bool)\n",
    "\n",
    "print((correct_mask.sum() + incorrect_mask.sum() + (~yes_no_mask).sum()) / len(correct_mask))\n",
    "\n",
    "bins=25; color=\"blue\"; secondary_color=\"orange\"; alpha=0.5; xlim=[0, 1]\n",
    "\n",
    "# median = rewards.median()\n",
    "# mean = rewards.mean()\n",
    "# std = rewards.std()\n",
    "\n",
    "# Histogram of rewards with black borders\n",
    "plt.hist(\n",
    "    rewards[~yes_no_mask], bins=bins,\n",
    "    edgecolor=\"black\", color=color, alpha=alpha,\n",
    "    label=\"neither \\\"Yes\\\" nor \\\"No\\\"\",\n",
    ")\n",
    "\n",
    "# Set xlim to 0-1\n",
    "plt.xlim(xlim)\n",
    "\n",
    "plt.xlabel('reward', fontsize=label_fontsize)\n",
    "plt.ylabel('count', fontsize=label_fontsize)\n",
    "\n",
    "# Set the tick label font size\n",
    "plt.tick_params(axis='both', which='major', labelsize=tick_fontsize)\n",
    "\n",
    "# Grid\n",
    "plt.grid()\n",
    "\n",
    "# Legend\n",
    "plt.legend(fontsize=tick_fontsize)\n",
    "\n",
    "plt.savefig(\"outputs/reward_distribution_qnli_vicuna_v13_non_yes_no.png\", dpi=300)"
   ]
  },
  {
   "cell_type": "code",
   "execution_count": 59,
   "metadata": {},
   "outputs": [],
   "source": [
    "# allowed_outputs = [\"yes\", \"no\", \"Yes\", \"No\", \"YES\", \"NO\"]\n",
    "# mask = torch.tensor([output in allowed_outputs for output in outputs])\n",
    "\n",
    "# bins = 50\n",
    "# plot_histogram(rewards[~mask], bins=bins, color=\"blue\", secondary_color=\"orange\", alpha=0.5)\n",
    "# # Grid\n",
    "# plt.grid()"
   ]
  },
  {
   "cell_type": "code",
   "execution_count": 60,
   "metadata": {},
   "outputs": [],
   "source": [
    "# Save the rewards\n",
    "# torch.save(rewards, \"outputs/ppo_rewards_qnli_vicuna_supervised_3B_do_sample.pt\")"
   ]
  },
  {
   "cell_type": "code",
   "execution_count": 61,
   "metadata": {},
   "outputs": [
    {
     "data": {
      "image/png": "[encoded data removed]",
      "text/plain": [
       "<Figure size 640x480 with 1 Axes>"
      ]
     },
     "metadata": {},
     "output_type": "display_data"
    }
   ],
   "source": [
    "tmp_rewards = torch.load(\"outputs/ppo_rewards_qnli_vicuna_supervised_3B_do_sample.pt\")\n",
    "bins = 50\n",
    "plot_histogram(tmp_rewards, bins=bins, color=\"blue\", secondary_color=\"orange\", alpha=0.5)\n",
    "# Grid\n",
    "plt.grid()"
   ]
  },
  {
   "cell_type": "code",
   "execution_count": null,
   "metadata": {},
   "outputs": [],
   "source": []
  }
 ],
 "metadata": {
  "kernelspec": {
   "display_name": "elk",
   "language": "python",
   "name": "python3"
  },
  "language_info": {
   "codemirror_mode": {
    "name": "ipython",
    "version": 3
   },
   "file_extension": ".py",
   "mimetype": "text/x-python",
   "name": "python",
   "nbconvert_exporter": "python",
   "pygments_lexer": "ipython3",
   "version": "3.10.11"
  },
  "orig_nbformat": 4
 },
 "nbformat": 4,
 "nbformat_minor": 2
}
