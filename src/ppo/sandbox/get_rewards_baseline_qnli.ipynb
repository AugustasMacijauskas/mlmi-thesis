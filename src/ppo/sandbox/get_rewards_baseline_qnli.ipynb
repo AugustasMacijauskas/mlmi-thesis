{
 "cells": [
  {
   "attachments": {},
   "cell_type": "markdown",
   "metadata": {},
   "source": [
    "## Imports"
   ]
  },
  {
   "cell_type": "code",
   "execution_count": 1,
   "metadata": {},
   "outputs": [],
   "source": [
    "# Enable automatic extension autoreloading\n",
    "%load_ext autoreload\n",
    "%autoreload 2"
   ]
  },
  {
   "cell_type": "code",
   "execution_count": 2,
   "metadata": {},
   "outputs": [],
   "source": [
    "from pathlib import Path\n",
    "\n",
    "from tqdm.notebook import tqdm\n",
    "\n",
    "import matplotlib.pyplot as plt\n",
    "\n",
    "import torch\n",
    "\n",
    "import datasets\n",
    "# Don't show progress datasets bars\n",
    "datasets.disable_progress_bar()\n",
    "\n",
    "import sys\n",
    "sys.path.insert(0, str(Path.cwd().parent.resolve()))\n",
    "from dataset import get_dataset_qnli, collator\n",
    "from model import get_model\n",
    "from reward_model import get_template, get_reward_model, create_reward_fn\n",
    "from utils import get_tokenizer"
   ]
  },
  {
   "attachments": {},
   "cell_type": "markdown",
   "metadata": {},
   "source": [
    "## Config"
   ]
  },
  {
   "cell_type": "code",
   "execution_count": 3,
   "metadata": {},
   "outputs": [
    {
     "data": {
      "text/plain": [
       "device(type='cuda', index=0)"
      ]
     },
     "execution_count": 3,
     "metadata": {},
     "output_type": "execute_result"
    }
   ],
   "source": [
    "device = torch.device(\n",
    "    f\"cuda:{torch.cuda.current_device()}\" if torch.cuda.is_available() else \"cpu\"\n",
    ")\n",
    "device"
   ]
  },
  {
   "cell_type": "code",
   "execution_count": 4,
   "metadata": {},
   "outputs": [],
   "source": [
    "tokenizer_name = \"lmsys/vicuna-7b-v1.3\"\n",
    "\n",
    "dataset_name = \"AugustasM/qnli-vicuna-ppo-training-v1\"\n",
    "\n",
    "# Large\n",
    "# reward_model_output_path = \"/fsx/home-augustas/logs/UQA-varied-custom_data_qnli_vicuna_v1_20230721_234029_40903\"\n",
    "# 3B\n",
    "reward_model_output_path = \"/fsx/home-augustas/logs/UQA-varied-custom_data_qnli_vicuna_v1_20230721_234034_40904\""
   ]
  },
  {
   "cell_type": "markdown",
   "metadata": {},
   "source": [
    "## Load things in"
   ]
  },
  {
   "cell_type": "code",
   "execution_count": 5,
   "metadata": {},
   "outputs": [
    {
     "name": "stdout",
     "output_type": "stream",
     "text": [
      "Loading tokenizer huggyllama/llama-7b...\n"
     ]
    },
    {
     "name": "stderr",
     "output_type": "stream",
     "text": [
      "Using pad_token, but it is not set yet.\n"
     ]
    },
    {
     "name": "stdout",
     "output_type": "stream",
     "text": [
      "Loaded tokenizer.\n",
      "\n"
     ]
    }
   ],
   "source": [
    "# Tokenizer\n",
    "# tokenizer = get_tokenizer(tokenizer_name)\n",
    "\n",
    "tokenizer = get_tokenizer(\"huggyllama/llama-7b\")\n",
    "tokenizer.padding_side = \"right\"\n",
    "tokenizer.pad_token = tokenizer.unk_token"
   ]
  },
  {
   "cell_type": "code",
   "execution_count": 6,
   "metadata": {},
   "outputs": [
    {
     "name": "stdout",
     "output_type": "stream",
     "text": [
      "Loading dataset...\n",
      "\n"
     ]
    },
    {
     "name": "stderr",
     "output_type": "stream",
     "text": [
      "Found cached dataset parquet (/admin/home-augustas/.cache/huggingface/datasets/AugustasM___parquet/AugustasM--qnli-vicuna-ppo-training-v1-e9526ea8884b4bb3/0.0.0/14a00e99c0d15a23649d0db8944380ac81082d4b021f398733dd84f3a6c569a7)\n",
      "Loading cached processed dataset at /admin/home-augustas/.cache/huggingface/datasets/AugustasM___parquet/AugustasM--qnli-vicuna-ppo-training-v1-e9526ea8884b4bb3/0.0.0/14a00e99c0d15a23649d0db8944380ac81082d4b021f398733dd84f3a6c569a7/cache-224a3b83ec4505db_*_of_00012.arrow\n",
      "Loading cached processed dataset at /admin/home-augustas/.cache/huggingface/datasets/AugustasM___parquet/AugustasM--qnli-vicuna-ppo-training-v1-e9526ea8884b4bb3/0.0.0/14a00e99c0d15a23649d0db8944380ac81082d4b021f398733dd84f3a6c569a7/cache-1ad64e14d9d3ec94_*_of_00012.arrow\n",
      "Loading cached shuffled indices for dataset at /admin/home-augustas/.cache/huggingface/datasets/AugustasM___parquet/AugustasM--qnli-vicuna-ppo-training-v1-e9526ea8884b4bb3/0.0.0/14a00e99c0d15a23649d0db8944380ac81082d4b021f398733dd84f3a6c569a7/cache-271e62ab3cccf230.arrow\n"
     ]
    },
    {
     "name": "stdout",
     "output_type": "stream",
     "text": [
      "Remaining columns: ['query', 'best_response', 'input_ids', 'attention_mask']\n",
      "\n",
      "Total number of examples: 8192\n",
      "\n",
      "Data preprocessing finished.\n",
      "\n",
      "Num templates: 1\n",
      "Is the given text truthful\n"
     ]
    }
   ],
   "source": [
    "# Dataset for PPO training\n",
    "train_dataset = get_dataset_qnli(dataset_name, tokenizer, margin=8)\n",
    "\n",
    "# Dataset templates\n",
    "dataset_template_path = \"AugustasM/burns-datasets-VINC\"\n",
    "template = get_template(dataset_template_path)"
   ]
  },
  {
   "cell_type": "code",
   "execution_count": 7,
   "metadata": {},
   "outputs": [
    {
     "data": {
      "text/plain": [
       "Dataset({\n",
       "    features: ['query', 'best_response', 'input_ids', 'attention_mask'],\n",
       "    num_rows: 8192\n",
       "})"
      ]
     },
     "execution_count": 7,
     "metadata": {},
     "output_type": "execute_result"
    }
   ],
   "source": [
    "train_dataset"
   ]
  },
  {
   "cell_type": "code",
   "execution_count": 8,
   "metadata": {},
   "outputs": [
    {
     "name": "stdout",
     "output_type": "stream",
     "text": [
      "The current device is cuda:0.\n",
      "\n",
      "Loading reward model from allenai/unifiedqa-v2-t5-3b-1363200.\n",
      "is_bf16_possible=True\n"
     ]
    },
    {
     "name": "stdout",
     "output_type": "stream",
     "text": [
      "Loaded reward model with 2,851,598,336 parameters.\n",
      "Number of trainable params 0 parameters.\n",
      "Reward model dtype: torch.bfloat16\n",
      "\n",
      "layer=15\n",
      "Loading the probe from /fsx/home-augustas/VINC-logs/allenai/unifiedqa-v2-t5-3b-1363200/AugustasM/qnli-vicuna-v1/confident-sinoussi/lr_models/layer_15.pt\n",
      "Finished loading the probe.\n",
      "\n",
      "Loading tokenizer allenai/unifiedqa-v2-t5-3b-1363200...\n",
      "Falling back to slow tokenizer; fast one failed: 'No such file or directory (os error 2)'\n",
      "Loaded tokenizer.\n",
      "\n"
     ]
    }
   ],
   "source": [
    "# Get the reward model\n",
    "reward_model, reward_model_name = get_reward_model(\n",
    "    reward_model_output_path, device,\n",
    "    supervised=True,\n",
    ")\n",
    "reward_model_tokenizer = get_tokenizer(reward_model_name)"
   ]
  },
  {
   "cell_type": "code",
   "execution_count": 9,
   "metadata": {},
   "outputs": [],
   "source": [
    "rm_batch_size = 8\n",
    "\n",
    "# Create reward function\n",
    "get_rewards = create_reward_fn(\n",
    "    reward_model=reward_model,\n",
    "    reward_model_tokenizer=reward_model_tokenizer,\n",
    "    rm_batch_size=rm_batch_size,\n",
    "    template=template,\n",
    "    device=device,\n",
    ")"
   ]
  },
  {
   "cell_type": "code",
   "execution_count": 46,
   "metadata": {},
   "outputs": [
    {
     "name": "stderr",
     "output_type": "stream",
     "text": [
      "Loading cached shuffled indices for dataset at /admin/home-augustas/.cache/huggingface/datasets/AugustasM___parquet/AugustasM--qnli-vicuna-ppo-training-v1-e9526ea8884b4bb3/0.0.0/14a00e99c0d15a23649d0db8944380ac81082d4b021f398733dd84f3a6c569a7/cache-780fb22b96b4b982.arrow\n"
     ]
    },
    {
     "name": "stdout",
     "output_type": "stream",
     "text": [
      "Dataloader length: 32\n"
     ]
    },
    {
     "data": {
      "application/vnd.jupyter.widget-view+json": {
       "model_id": "b09bdbae8d064f199737c25468153b14",
       "version_major": 2,
       "version_minor": 0
      },
      "text/plain": [
       "  0%|          | 0/32 [00:00<?, ?it/s]"
      ]
     },
     "metadata": {},
     "output_type": "display_data"
    },
    {
     "data": {
      "text/plain": [
       "torch.Size([1024])"
      ]
     },
     "execution_count": 46,
     "metadata": {},
     "output_type": "execute_result"
    }
   ],
   "source": [
    "dataloader = torch.utils.data.DataLoader(\n",
    "    # train_dataset,\n",
    "    train_dataset.shuffle(seed=2023).select(range(1024)),\n",
    "    batch_size=32, collate_fn=collator,\n",
    "    num_workers=12, shuffle=False,\n",
    ")\n",
    "print(f\"Dataloader length: {len(dataloader)}\")\n",
    "\n",
    "rewards = []\n",
    "\n",
    "for batch in tqdm(dataloader, total=len(dataloader), leave=False):\n",
    "    texts = [q + \" \" + r for q, r in zip(batch[\"prompt\"], batch[\"best_response\"])]\n",
    "\n",
    "    current_rewards = get_rewards(texts)\n",
    "    rewards.append(current_rewards.cpu())\n",
    "\n",
    "rewards = torch.cat(rewards, dim=0)\n",
    "rewards.shape"
   ]
  },
  {
   "cell_type": "code",
   "execution_count": 47,
   "metadata": {},
   "outputs": [
    {
     "data": {
      "text/plain": [
       "(tensor(0.8216), tensor(0.2901))"
      ]
     },
     "execution_count": 47,
     "metadata": {},
     "output_type": "execute_result"
    }
   ],
   "source": [
    "mean = rewards.mean()\n",
    "std = rewards.std()\n",
    "\n",
    "mean, std"
   ]
  },
  {
   "cell_type": "code",
   "execution_count": 48,
   "metadata": {},
   "outputs": [
    {
     "data": {
      "text/plain": [
       "(tensor(0.2413), tensor(1.4018))"
      ]
     },
     "execution_count": 48,
     "metadata": {},
     "output_type": "execute_result"
    }
   ],
   "source": [
    "mean - 2 * std, mean + 2 * std"
   ]
  },
  {
   "cell_type": "code",
   "execution_count": 49,
   "metadata": {},
   "outputs": [
    {
     "data": {
      "text/plain": [
       "(tensor(1.0677e-06), tensor(1.0000))"
      ]
     },
     "execution_count": 49,
     "metadata": {},
     "output_type": "execute_result"
    }
   ],
   "source": [
    "rewards.min(), rewards.max()"
   ]
  },
  {
   "cell_type": "code",
   "execution_count": 10,
   "metadata": {},
   "outputs": [],
   "source": [
    "def plot_histogram(rewards, bins=100, color=\"blue\", secondary_color=\"red\", alpha=1, xlim=None):\n",
    "    if xlim is None:\n",
    "        xlim = [0, 1]\n",
    "\n",
    "    median = rewards.median()\n",
    "    mean = rewards.mean()\n",
    "    std = rewards.std()\n",
    "\n",
    "    # Histogram of rewards with black borders\n",
    "    plt.hist(rewards, bins=bins, edgecolor=\"black\", color=color, alpha=alpha);\n",
    "\n",
    "    # Plot vertical lines for mean +- std\n",
    "    plt.axvline(median, color=secondary_color, label=f\"{median=:.4f}\")\n",
    "    plt.axvline(mean, color=secondary_color, label=f\"{mean=:.4f}\")\n",
    "    plt.axvline(mean + 2 * std, color=secondary_color, linestyle=\"--\", label=f\"upper={mean + 2 * std:.4f}\")\n",
    "    plt.axvline(mean - 2 * std, color=secondary_color, linestyle=\"--\", label=f\"lower={mean - 2 * std:.4f}\");\n",
    "\n",
    "    # Set xlim to 0-1\n",
    "    plt.xlim(xlim)\n",
    "\n",
    "    # Legend\n",
    "    plt.legend()"
   ]
  },
  {
   "cell_type": "code",
   "execution_count": 51,
   "metadata": {},
   "outputs": [
    {
     "data": {
      "image/png": "[encoded data removed]",
      "text/plain": [
       "<Figure size 640x480 with 1 Axes>"
      ]
     },
     "metadata": {},
     "output_type": "display_data"
    }
   ],
   "source": [
    "plot_histogram(rewards, bins=50)\n",
    "plt.grid();"
   ]
  },
  {
   "cell_type": "code",
   "execution_count": 16,
   "metadata": {},
   "outputs": [],
   "source": [
    "# plot_histogram(rewards[rewards >= 0.99975].float(), bins=50, xlim=(0.99975, 1.0))\n",
    "# plt.grid();"
   ]
  },
  {
   "cell_type": "code",
   "execution_count": 19,
   "metadata": {},
   "outputs": [],
   "source": [
    "# Save the rewards\n",
    "# torch.save(rewards, \"outputs/ppo_rewards_imdb_supervised_perfect_2.pt\")"
   ]
  },
  {
   "cell_type": "code",
   "execution_count": 18,
   "metadata": {},
   "outputs": [],
   "source": [
    "# tmp_rewards = torch.load(\"outputs/ppo_rewards_imdb_perfect.pt\")\n",
    "# tmp_rewards.dtype"
   ]
  },
  {
   "cell_type": "markdown",
   "metadata": {},
   "source": [
    "## Get rewards for the base model"
   ]
  },
  {
   "cell_type": "code",
   "execution_count": 11,
   "metadata": {},
   "outputs": [
    {
     "name": "stdout",
     "output_type": "stream",
     "text": [
      "Loading policy model...\n",
      "\n",
      "is_bf16_possible=False\n",
      "kwargs={'load_in_8bit': True, 'low_cpu_mem_usage': True, 'torch_dtype': None}\n"
     ]
    },
    {
     "name": "stderr",
     "output_type": "stream",
     "text": [
      "Overriding torch_dtype=None with `torch_dtype=torch.float16` due to requirements of `bitsandbytes` to enable model loading in mixed int8. Either pass torch_dtype=torch.float16 or don't pass this argument at all to remove this warning.\n"
     ]
    },
    {
     "data": {
      "application/vnd.jupyter.widget-view+json": {
       "model_id": "e2a44e46f6bf47ccaee1f97c5d29197f",
       "version_major": 2,
       "version_minor": 0
      },
      "text/plain": [
       "Loading checkpoint shards:   0%|          | 0/2 [00:00<?, ?it/s]"
      ]
     },
     "metadata": {},
     "output_type": "display_data"
    },
    {
     "name": "stdout",
     "output_type": "stream",
     "text": [
      "Loaded subject model with 6,738,419,713 parameters.\n",
      "Model dtype: torch.float16\n",
      "\n",
      "memory_usage=6.58 GB\n"
     ]
    }
   ],
   "source": [
    "# Model\n",
    "model = get_model(\n",
    "    tokenizer_name, device,\n",
    "    load_in_8bit=True, low_cpu_mem_usage=True,\n",
    "    torch_dtype=torch.float16,\n",
    ")\n",
    "model.eval()\n",
    "\n",
    "memory_usage = model.pretrained_model.get_memory_footprint() / (1024 ** 3)\n",
    "print(f\"{memory_usage=:.2f} GB\")"
   ]
  },
  {
   "cell_type": "code",
   "execution_count": 12,
   "metadata": {},
   "outputs": [],
   "source": [
    "from trl import PPOTrainer, PPOConfig\n",
    "\n",
    "config = PPOConfig()\n",
    "\n",
    "optimizer = None\n",
    "\n",
    "# We then build the PPOTrainer, passing the model, the reference model, the tokenizer\n",
    "ppo_trainer = PPOTrainer(\n",
    "    config,\n",
    "    model,\n",
    "    ref_model=None,\n",
    "    tokenizer=tokenizer,\n",
    "    dataset=train_dataset,\n",
    "    data_collator=collator,\n",
    "    optimizer=optimizer,\n",
    ")"
   ]
  },
  {
   "cell_type": "code",
   "execution_count": 20,
   "metadata": {},
   "outputs": [
    {
     "name": "stderr",
     "output_type": "stream",
     "text": [
      "Loading cached shuffled indices for dataset at /admin/home-augustas/.cache/huggingface/datasets/AugustasM___parquet/AugustasM--qnli-vicuna-ppo-training-v1-e9526ea8884b4bb3/0.0.0/14a00e99c0d15a23649d0db8944380ac81082d4b021f398733dd84f3a6c569a7/cache-40f770ce402f764b.arrow\n"
     ]
    },
    {
     "name": "stdout",
     "output_type": "stream",
     "text": [
      "Dataloader length: 16\n"
     ]
    },
    {
     "data": {
      "application/vnd.jupyter.widget-view+json": {
       "model_id": "64113fbbcb7441f4be28e92b6e625b13",
       "version_major": 2,
       "version_minor": 0
      },
      "text/plain": [
       "  0%|          | 0/16 [00:00<?, ?it/s]"
      ]
     },
     "metadata": {},
     "output_type": "display_data"
    },
    {
     "name": "stdout",
     "output_type": "stream",
     "text": [
      "torch.Size([1024])\n"
     ]
    },
    {
     "data": {
      "text/plain": [
       "(1024, 1024)"
      ]
     },
     "execution_count": 20,
     "metadata": {},
     "output_type": "execute_result"
    }
   ],
   "source": [
    "dataloader = torch.utils.data.DataLoader(\n",
    "    # train_dataset,\n",
    "    # train_dataset.shuffle(seed=42).select(range(8)),\n",
    "    train_dataset.shuffle(seed=2023).select(range(1024)),\n",
    "    batch_size=64, collate_fn=collator,\n",
    "    num_workers=12, shuffle=False,\n",
    ")\n",
    "print(f\"Dataloader length: {len(dataloader)}\")\n",
    "\n",
    "generation_kwargs = {\n",
    "    \"top_k\": 0,\n",
    "    \"top_p\": 1.0,\n",
    "    # \"do_sample\": False,\n",
    "    \"do_sample\": True,\n",
    "    \"pad_token_id\": tokenizer.pad_token_id,\n",
    "    \"eos_token_id\": 100_000, # why is this value like this?\n",
    "    \"pad_to_multiple_of\": 8, # TODO: double-check, but this seems to work and to be faster\n",
    "    \"max_new_tokens\": 1,\n",
    "}\n",
    "\n",
    "rewards = []\n",
    "gold_outputs = []\n",
    "outputs = []\n",
    "for batch in tqdm(dataloader, total=len(dataloader), leave=False):\n",
    "    batch_gold_outputs = batch[\"best_response\"]\n",
    "    gold_outputs.extend(batch_gold_outputs)\n",
    "\n",
    "    question_tensors = batch[\"input_ids\"]\n",
    "\n",
    "    response_tensors = ppo_trainer.generate(\n",
    "        question_tensors,\n",
    "        return_prompt=False,\n",
    "        # length_sampler=output_length_sampler, # TODO: can be none\n",
    "        batch_size=8, # TODO: generations are made in batches\n",
    "        **generation_kwargs,\n",
    "    )\n",
    "    batch[\"response\"] = tokenizer.batch_decode(\n",
    "        response_tensors, skip_special_tokens=True, spaces_between_special_tokens=False\n",
    "    )\n",
    "    outputs.extend(batch[\"response\"])\n",
    "\n",
    "    # Compute sentiment score\n",
    "    texts = [q + \" \" + r for q, r in zip(batch[\"query\"], batch[\"response\"])]\n",
    "    current_rewards = get_rewards(texts)\n",
    "    rewards.append(current_rewards.cpu())\n",
    "\n",
    "\n",
    "rewards = torch.cat(rewards, dim=0)\n",
    "print(rewards.shape)\n",
    "len(outputs), len(gold_outputs)"
   ]
  },
  {
   "cell_type": "code",
   "execution_count": 14,
   "metadata": {},
   "outputs": [],
   "source": [
    "# for output, golden_output in zip(outputs, gold_outputs):\n",
    "#     print(f\"{golden_output=}\\n{output=}\")\n",
    "#     print(\"-\" * 80)"
   ]
  },
  {
   "cell_type": "code",
   "execution_count": 21,
   "metadata": {},
   "outputs": [
    {
     "data": {
      "text/plain": [
       "Counter({'Yes': 549,\n",
       "         'No': 354,\n",
       "         'yes': 24,\n",
       "         'Answer': 13,\n",
       "         'no': 11,\n",
       "         'The': 6,\n",
       "         'Question': 5,\n",
       "         '\"': 4,\n",
       "         'William': 3,\n",
       "         '': 3,\n",
       "         'NO': 3,\n",
       "         'A': 2,\n",
       "         'Universal': 2,\n",
       "         'Re': 1,\n",
       "         'Based': 1,\n",
       "         'As': 1,\n",
       "         'C': 1,\n",
       "         'Law': 1,\n",
       "         'roman': 1,\n",
       "         'Social': 1,\n",
       "         'Bishop': 1,\n",
       "         'N': 1,\n",
       "         'George': 1,\n",
       "         'Arts': 1,\n",
       "         'Ph': 1,\n",
       "         'Econom': 1,\n",
       "         'I': 1,\n",
       "         'n': 1,\n",
       "         'Your': 1,\n",
       "         'From': 1,\n",
       "         'Government': 1,\n",
       "         'Bible': 1,\n",
       "         'Factory': 1,\n",
       "         'Hotel': 1,\n",
       "         'Mexico': 1,\n",
       "         'It': 1,\n",
       "         'incon': 1,\n",
       "         'In': 1,\n",
       "         'St': 1,\n",
       "         'Do': 1,\n",
       "         'Option': 1,\n",
       "         'True': 1,\n",
       "         'For': 1,\n",
       "         'My': 1,\n",
       "         'Fire': 1,\n",
       "         'Arch': 1,\n",
       "         'While': 1,\n",
       "         'Right': 1,\n",
       "         'Pope': 1,\n",
       "         'Sir': 1,\n",
       "         'M': 1,\n",
       "         'Ther': 1,\n",
       "         'Hugh': 1,\n",
       "         'recording': 1,\n",
       "         'Pres': 1,\n",
       "         'Dig': 1,\n",
       "         'To': 1,\n",
       "         'S': 1})"
      ]
     },
     "execution_count": 21,
     "metadata": {},
     "output_type": "execute_result"
    }
   ],
   "source": [
    "from collections import Counter\n",
    "\n",
    "Counter(outputs)"
   ]
  },
  {
   "cell_type": "code",
   "execution_count": 22,
   "metadata": {},
   "outputs": [
    {
     "data": {
      "text/plain": [
       "(tensor(4.4509e-07), tensor(1.0000))"
      ]
     },
     "execution_count": 22,
     "metadata": {},
     "output_type": "execute_result"
    }
   ],
   "source": [
    "rewards.min(), rewards.max()"
   ]
  },
  {
   "cell_type": "code",
   "execution_count": 23,
   "metadata": {},
   "outputs": [
    {
     "data": {
      "text/plain": [
       "(tensor(0.5739), tensor(0.4253))"
      ]
     },
     "execution_count": 23,
     "metadata": {},
     "output_type": "execute_result"
    }
   ],
   "source": [
    "rewards.mean(), rewards.std()"
   ]
  },
  {
   "cell_type": "code",
   "execution_count": 24,
   "metadata": {},
   "outputs": [
    {
     "data": {
      "text/plain": [
       "(tensor(0.1486), tensor(0.9991))"
      ]
     },
     "execution_count": 24,
     "metadata": {},
     "output_type": "execute_result"
    }
   ],
   "source": [
    "rewards.mean() - rewards.std(), rewards.mean() + rewards.std()"
   ]
  },
  {
   "cell_type": "code",
   "execution_count": 25,
   "metadata": {},
   "outputs": [
    {
     "data": {
      "image/png": "[encoded data removed]",
      "text/plain": [
       "<Figure size 640x480 with 1 Axes>"
      ]
     },
     "metadata": {},
     "output_type": "display_data"
    }
   ],
   "source": [
    "bins = 50\n",
    "plot_histogram(rewards, bins=bins, color=\"blue\", secondary_color=\"orange\", alpha=0.5)\n",
    "# Grid\n",
    "plt.grid()"
   ]
  },
  {
   "cell_type": "code",
   "execution_count": 26,
   "metadata": {},
   "outputs": [
    {
     "data": {
      "image/png": "[encoded data removed]",
      "text/plain": [
       "<Figure size 640x480 with 1 Axes>"
      ]
     },
     "metadata": {},
     "output_type": "display_data"
    }
   ],
   "source": [
    "allowed_outputs = [\"yes\", \"no\", \"Yes\", \"No\", \"YES\", \"NO\"]\n",
    "mask = torch.tensor([output in allowed_outputs for output in outputs])\n",
    "\n",
    "bins = 50\n",
    "plot_histogram(rewards[~mask], bins=bins, color=\"blue\", secondary_color=\"orange\", alpha=0.5)\n",
    "# Grid\n",
    "plt.grid()"
   ]
  },
  {
   "cell_type": "code",
   "execution_count": 27,
   "metadata": {},
   "outputs": [],
   "source": [
    "# Save the rewards\n",
    "# torch.save(rewards, \"outputs/ppo_rewards_qnli_vicuna_supervised_3B_do_sample.pt\")"
   ]
  },
  {
   "cell_type": "code",
   "execution_count": 28,
   "metadata": {},
   "outputs": [
    {
     "data": {
      "image/png": "[encoded data removed]",
      "text/plain": [
       "<Figure size 640x480 with 1 Axes>"
      ]
     },
     "metadata": {},
     "output_type": "display_data"
    }
   ],
   "source": [
    "tmp_rewards = torch.load(\"outputs/ppo_rewards_qnli_vicuna_supervised_3B_do_sample.pt\")\n",
    "bins = 50\n",
    "plot_histogram(tmp_rewards, bins=bins, color=\"blue\", secondary_color=\"orange\", alpha=0.5)\n",
    "# Grid\n",
    "plt.grid()"
   ]
  },
  {
   "cell_type": "code",
   "execution_count": null,
   "metadata": {},
   "outputs": [],
   "source": []
  }
 ],
 "metadata": {
  "kernelspec": {
   "display_name": "elk",
   "language": "python",
   "name": "python3"
  },
  "language_info": {
   "codemirror_mode": {
    "name": "ipython",
    "version": 3
   },
   "file_extension": ".py",
   "mimetype": "text/x-python",
   "name": "python",
   "nbconvert_exporter": "python",
   "pygments_lexer": "ipython3",
   "version": "3.10.11"
  },
  "orig_nbformat": 4
 },
 "nbformat": 4,
 "nbformat_minor": 2
}
