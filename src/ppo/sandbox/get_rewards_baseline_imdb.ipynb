{
 "cells": [
  {
   "cell_type": "code",
   "execution_count": 1,
   "metadata": {},
   "outputs": [],
   "source": [
    "# Autoreload\n",
    "%load_ext autoreload\n",
    "%autoreload 2"
   ]
  },
  {
   "cell_type": "code",
   "execution_count": 2,
   "metadata": {},
   "outputs": [],
   "source": [
    "from collections import defaultdict\n",
    "import random\n",
    "\n",
    "from pathlib import Path\n",
    "\n",
    "from tqdm.notebook import tqdm\n",
    "\n",
    "import matplotlib.pyplot as plt\n",
    "\n",
    "import torch\n",
    "\n",
    "import datasets\n",
    "# Don't show progress datasets bars\n",
    "datasets.disable_progress_bar()\n",
    "\n",
    "import sys\n",
    "sys.path.insert(0, str(Path.cwd().parent.resolve()))\n",
    "from dataset import get_dataset, collator\n",
    "from reward_model import get_template, get_reward_model, create_reward_fn\n",
    "from model import get_model\n",
    "from utils import get_tokenizer"
   ]
  },
  {
   "cell_type": "code",
   "execution_count": 3,
   "metadata": {},
   "outputs": [
    {
     "data": {
      "text/plain": [
       "device(type='cuda', index=4)"
      ]
     },
     "execution_count": 3,
     "metadata": {},
     "output_type": "execute_result"
    }
   ],
   "source": [
    "device = torch.device(\n",
    "    # f\"cuda:{torch.cuda.current_device()}\" if torch.cuda.is_available() else \"cpu\"\n",
    "    \"cuda:4\"\n",
    ")\n",
    "device"
   ]
  },
  {
   "cell_type": "code",
   "execution_count": 4,
   "metadata": {},
   "outputs": [],
   "source": [
    "tokenizer_name = \"lmsys/vicuna-7b-v1.3\"\n",
    "\n",
    "dataset_name = \"AugustasM/burns-datasets-VINC-imdb-ppo-training-v2\"\n",
    "\n",
    "# 11B unsupervised VINC\n",
    "# reward_model_output_path = \"/fsx/home-augustas/logs_elk/UQA-varied-imdb_20230731_174049_49091\"\n",
    "\n",
    "# 11B unsupervised CCS\n",
    "reward_model_output_path = \"/fsx/home-augustas/logs_elk/UQA-11B-v2-custom-imdb-ccs_20230809_140421_56710\""
   ]
  },
  {
   "cell_type": "code",
   "execution_count": 5,
   "metadata": {},
   "outputs": [
    {
     "name": "stderr",
     "output_type": "stream",
     "text": [
      "You are using the legacy behaviour of the <class 'transformers.models.llama.tokenization_llama.LlamaTokenizer'>. This means that tokens that come after special tokens will not be properly handled. We recommend you to read the related pull request available at https://github.com/huggingface/transformers/pull/24565\n"
     ]
    },
    {
     "name": "stdout",
     "output_type": "stream",
     "text": [
      "Loading tokenizer lmsys/vicuna-7b-v1.3...\n"
     ]
    },
    {
     "name": "stdout",
     "output_type": "stream",
     "text": [
      "Loaded tokenizer.\n",
      "\n"
     ]
    }
   ],
   "source": [
    "# Tokenizer\n",
    "tokenizer = get_tokenizer(tokenizer_name)"
   ]
  },
  {
   "cell_type": "markdown",
   "metadata": {},
   "source": [
    "## Dataset"
   ]
  },
  {
   "cell_type": "code",
   "execution_count": 6,
   "metadata": {},
   "outputs": [
    {
     "name": "stdout",
     "output_type": "stream",
     "text": [
      "Loading dataset...\n",
      "\n"
     ]
    },
    {
     "name": "stderr",
     "output_type": "stream",
     "text": [
      "Found cached dataset parquet (/admin/home-augustas/.cache/huggingface/datasets/AugustasM___parquet/AugustasM--burns-datasets-VINC-imdb-ppo-training-v2-7a8c35d13838a0fc/0.0.0/14a00e99c0d15a23649d0db8944380ac81082d4b021f398733dd84f3a6c569a7)\n",
      "Loading cached processed dataset at /admin/home-augustas/.cache/huggingface/datasets/AugustasM___parquet/AugustasM--burns-datasets-VINC-imdb-ppo-training-v2-7a8c35d13838a0fc/0.0.0/14a00e99c0d15a23649d0db8944380ac81082d4b021f398733dd84f3a6c569a7/cache-b001604fcfe1e0f7_*_of_00012.arrow\n"
     ]
    },
    {
     "name": "stdout",
     "output_type": "stream",
     "text": [
      "\n",
      "Max prompt length: 721\n",
      "\n"
     ]
    },
    {
     "name": "stderr",
     "output_type": "stream",
     "text": [
      "Loading cached processed dataset at /admin/home-augustas/.cache/huggingface/datasets/AugustasM___parquet/AugustasM--burns-datasets-VINC-imdb-ppo-training-v2-7a8c35d13838a0fc/0.0.0/14a00e99c0d15a23649d0db8944380ac81082d4b021f398733dd84f3a6c569a7/cache-b3d77c60294a5fe0_*_of_00012.arrow\n",
      "Loading cached shuffled indices for dataset at /admin/home-augustas/.cache/huggingface/datasets/AugustasM___parquet/AugustasM--burns-datasets-VINC-imdb-ppo-training-v2-7a8c35d13838a0fc/0.0.0/14a00e99c0d15a23649d0db8944380ac81082d4b021f398733dd84f3a6c569a7/cache-4bbc36bdf5f672c0.arrow\n"
     ]
    },
    {
     "name": "stdout",
     "output_type": "stream",
     "text": [
      "Max response length: 3\n",
      "\n",
      "Remaining columns: ['prompt', 'best_response', 'input_ids', 'attention_mask', 'response_len']\n",
      "\n",
      "Total number of examples: 8192\n",
      "\n",
      "Processing finished.\n",
      "\n",
      "Dataset({\n",
      "    features: ['prompt', 'best_response', 'input_ids', 'attention_mask', 'response_len'],\n",
      "    num_rows: 8192\n",
      "})\n"
     ]
    }
   ],
   "source": [
    "# Dataset for PPO training\n",
    "dataset, _, _ = get_dataset(dataset_name, tokenizer=tokenizer)\n",
    "print(dataset)"
   ]
  },
  {
   "cell_type": "code",
   "execution_count": 7,
   "metadata": {},
   "outputs": [
    {
     "name": "stdout",
     "output_type": "stream",
     "text": [
      "Num templates: 1\n",
      "Is the given text truthful\n"
     ]
    }
   ],
   "source": [
    "# Dataset templates\n",
    "dataset_template_path = \"AugustasM/burns-datasets-VINC\"\n",
    "template = get_template(dataset_template_path)"
   ]
  },
  {
   "cell_type": "code",
   "execution_count": 8,
   "metadata": {},
   "outputs": [
    {
     "name": "stdout",
     "output_type": "stream",
     "text": [
      "The current device is cuda:4.\n",
      "\n",
      "Loading reward model from allenai/unifiedqa-v2-t5-11b-1363200.\n",
      "is_bf16_possible=True\n"
     ]
    },
    {
     "name": "stdout",
     "output_type": "stream",
     "text": [
      "Loaded reward model with 11,307,321,344 parameters.\n",
      "Number of trainable params 0 parameters.\n",
      "Reward model dtype: torch.bfloat16\n",
      "\n",
      "layer=21\n",
      "Loading the probe from /fsx/home-augustas/VINC-logs/allenai/unifiedqa-v2-t5-11b-1363200/AugustasM/burns-datasets-VINC-imdb-v2/hardcore-jepsen/reporters/layer_21.pt\n"
     ]
    },
    {
     "name": "stderr",
     "output_type": "stream",
     "text": [
      "You are using the legacy behaviour of the <class 'transformers.models.t5.tokenization_t5.T5Tokenizer'>. This means that tokens that come after special tokens will not be properly handled. We recommend you to read the related pull request available at https://github.com/huggingface/transformers/pull/24565\n"
     ]
    },
    {
     "name": "stdout",
     "output_type": "stream",
     "text": [
      "Finished loading the probe.\n",
      "\n",
      "Loading tokenizer allenai/unifiedqa-v2-t5-11b-1363200...\n",
      "Falling back to slow tokenizer; fast one failed: 'No such file or directory (os error 2)'\n",
      "Loaded tokenizer.\n",
      "\n"
     ]
    }
   ],
   "source": [
    "# Get the reward model\n",
    "reward_model, reward_model_name = get_reward_model(\n",
    "    reward_model_output_path, device,\n",
    "    # supervised=True,\n",
    "    supervised=False,\n",
    ")\n",
    "reward_model_tokenizer = get_tokenizer(reward_model_name)"
   ]
  },
  {
   "cell_type": "code",
   "execution_count": 9,
   "metadata": {},
   "outputs": [],
   "source": [
    "rm_batch_size = 4\n",
    "\n",
    "# Create reward function\n",
    "get_rewards = create_reward_fn(\n",
    "    reward_model=reward_model,\n",
    "    reward_model_tokenizer=reward_model_tokenizer,\n",
    "    rm_batch_size=rm_batch_size,\n",
    "    template=template,\n",
    "    device=device,\n",
    ")"
   ]
  },
  {
   "cell_type": "code",
   "execution_count": 10,
   "metadata": {},
   "outputs": [
    {
     "data": {
      "text/plain": [
       "{'0', '1', 'bad', 'good', 'negative', 'positive'}"
      ]
     },
     "execution_count": 10,
     "metadata": {},
     "output_type": "execute_result"
    }
   ],
   "source": [
    "set(dataset[\"best_response\"])"
   ]
  },
  {
   "cell_type": "code",
   "execution_count": 11,
   "metadata": {},
   "outputs": [],
   "source": [
    "opposite_response_dict = {\n",
    "    \"0\": \"1\",\n",
    "    \"1\": \"0\",\n",
    "    \"bad\": \"good\",\n",
    "    \"good\": \"bad\",\n",
    "    \"positive\": \"negative\",\n",
    "    \"negative\": \"positive\",\n",
    "}"
   ]
  },
  {
   "cell_type": "code",
   "execution_count": 12,
   "metadata": {},
   "outputs": [
    {
     "data": {
      "text/plain": [
       "Dataset({\n",
       "    features: ['prompt', 'best_response', 'input_ids', 'attention_mask', 'response_len'],\n",
       "    num_rows: 2048\n",
       "})"
      ]
     },
     "execution_count": 12,
     "metadata": {},
     "output_type": "execute_result"
    }
   ],
   "source": [
    "training_dataset = dataset.select(range(2048))\n",
    "training_dataset"
   ]
  },
  {
   "cell_type": "code",
   "execution_count": 13,
   "metadata": {},
   "outputs": [
    {
     "data": {
      "text/plain": [
       "['1', '0', '1', '0', '1', 'good', '1', '0', 'good', 'negative']"
      ]
     },
     "execution_count": 13,
     "metadata": {},
     "output_type": "execute_result"
    }
   ],
   "source": [
    "golden_responses = training_dataset[\"best_response\"]\n",
    "golden_responses[:10]"
   ]
  },
  {
   "cell_type": "code",
   "execution_count": 14,
   "metadata": {},
   "outputs": [
    {
     "name": "stdout",
     "output_type": "stream",
     "text": [
      "989\n"
     ]
    },
    {
     "data": {
      "text/plain": [
       "['1', '1', '0', '1', '1', 'good', '1', '1', 'bad', 'positive']"
      ]
     },
     "execution_count": 14,
     "metadata": {},
     "output_type": "execute_result"
    }
   ],
   "source": [
    "random.seed(42)\n",
    "\n",
    "responses = training_dataset[\"best_response\"]\n",
    "\n",
    "flip_mask = random.choices([True, False], k=len(responses))\n",
    "print(sum(flip_mask))\n",
    "\n",
    "responses = [\n",
    "    opposite_response_dict[x] if flip_mask[i] else x for i, x in enumerate(responses)\n",
    "]\n",
    "responses[:10]"
   ]
  },
  {
   "cell_type": "code",
   "execution_count": 15,
   "metadata": {},
   "outputs": [
    {
     "data": {
      "text/plain": [
       "989"
      ]
     },
     "execution_count": 15,
     "metadata": {},
     "output_type": "execute_result"
    }
   ],
   "source": [
    "sum(g != o for g, o in zip(golden_responses, responses))"
   ]
  },
  {
   "cell_type": "code",
   "execution_count": 16,
   "metadata": {},
   "outputs": [
    {
     "name": "stdout",
     "output_type": "stream",
     "text": [
      "Dataloader length: 128\n"
     ]
    },
    {
     "data": {
      "application/vnd.jupyter.widget-view+json": {
       "model_id": "44fc692eb99b4625bc159dfa6dfa6178",
       "version_major": 2,
       "version_minor": 0
      },
      "text/plain": [
       "  0%|          | 0/128 [00:00<?, ?it/s]"
      ]
     },
     "metadata": {},
     "output_type": "display_data"
    },
    {
     "name": "stderr",
     "output_type": "stream",
     "text": [
      "Token indices sequence length is longer than the specified maximum sequence length for this model (527 > 512). Running this sequence through the model will result in indexing errors\n"
     ]
    },
    {
     "data": {
      "text/plain": [
       "torch.Size([2048])"
      ]
     },
     "execution_count": 16,
     "metadata": {},
     "output_type": "execute_result"
    }
   ],
   "source": [
    "dataloader = torch.utils.data.DataLoader(\n",
    "    training_dataset,\n",
    "    batch_size=16, collate_fn=collator,\n",
    "    num_workers=12, shuffle=False,\n",
    ")\n",
    "print(f\"Dataloader length: {len(dataloader)}\")\n",
    "\n",
    "rewards = []\n",
    "\n",
    "for batch in tqdm(dataloader, total=len(dataloader), leave=False):\n",
    "    texts = [q + r for q, r in zip(batch[\"prompt\"], responses)]\n",
    "\n",
    "    current_rewards = get_rewards(texts)\n",
    "    rewards.append(current_rewards.cpu())\n",
    "\n",
    "rewards = torch.cat(rewards, dim=0)\n",
    "rewards.shape"
   ]
  },
  {
   "cell_type": "markdown",
   "metadata": {},
   "source": [
    "## Plots"
   ]
  },
  {
   "cell_type": "code",
   "execution_count": 17,
   "metadata": {},
   "outputs": [],
   "source": [
    "POSSIBLE_ANSWERS = list(opposite_response_dict.keys()) + list(opposite_response_dict.values())\n",
    "\n",
    "def is_desired_answer(answer):\n",
    "    return answer in POSSIBLE_ANSWERS"
   ]
  },
  {
   "cell_type": "code",
   "execution_count": 19,
   "metadata": {},
   "outputs": [
    {
     "name": "stdout",
     "output_type": "stream",
     "text": [
      "tensor(1.)\n"
     ]
    },
    {
     "data": {
      "image/png": "[encoded data removed]",
      "text/plain": [
       "<Figure size 640x480 with 1 Axes>"
      ]
     },
     "metadata": {},
     "output_type": "display_data"
    }
   ],
   "source": [
    "label_fontsize = 16\n",
    "tick_fontsize = 12\n",
    "\n",
    "correct_mask = [is_desired_answer(o) and g == o for g, o in zip(golden_responses, responses)]\n",
    "correct_mask = torch.tensor(correct_mask, dtype=torch.bool)\n",
    "\n",
    "incorrect_mask = [is_desired_answer(o) and g != o for g, o in zip(golden_responses, responses)]\n",
    "incorrect_mask = torch.tensor(incorrect_mask, dtype=torch.bool)\n",
    "\n",
    "print((correct_mask.sum() + incorrect_mask.sum()) / len(correct_mask))\n",
    "\n",
    "bins=25; color=\"blue\"; secondary_color=\"orange\"; alpha=0.5; xlim=[0, 1]\n",
    "\n",
    "# median = rewards.median()\n",
    "# mean = rewards.mean()\n",
    "# std = rewards.std()\n",
    "\n",
    "# Histogram of rewards with black borders\n",
    "plt.hist(\n",
    "    rewards[correct_mask], bins=bins,\n",
    "    edgecolor=\"black\", color=color, alpha=alpha,\n",
    "    label=\"correct\",\n",
    ")\n",
    "plt.hist(\n",
    "    rewards[incorrect_mask], bins=bins, \n",
    "    edgecolor=\"black\", color=secondary_color, alpha=alpha,\n",
    "    label=\"incorrect\",\n",
    ")\n",
    "\n",
    "# Set xlim to 0-1\n",
    "plt.xlim(xlim)\n",
    "\n",
    "plt.xlabel('reward', fontsize=label_fontsize)\n",
    "plt.ylabel('count', fontsize=label_fontsize)\n",
    "\n",
    "# Set the tick label font size\n",
    "plt.tick_params(axis='both', which='major', labelsize=tick_fontsize)\n",
    "\n",
    "# Grid\n",
    "plt.grid()\n",
    "\n",
    "# Legend\n",
    "plt.legend(fontsize=tick_fontsize)\n",
    "\n",
    "# plt.savefig(\"outputs/reward_distribution_CCS.png\", dpi=300)"
   ]
  }
 ],
 "metadata": {
  "kernelspec": {
   "display_name": "trlx",
   "language": "python",
   "name": "python3"
  },
  "language_info": {
   "codemirror_mode": {
    "name": "ipython",
    "version": 3
   },
   "file_extension": ".py",
   "mimetype": "text/x-python",
   "name": "python",
   "nbconvert_exporter": "python",
   "pygments_lexer": "ipython3",
   "version": "3.10.11"
  },
  "orig_nbformat": 4
 },
 "nbformat": 4,
 "nbformat_minor": 2
}
