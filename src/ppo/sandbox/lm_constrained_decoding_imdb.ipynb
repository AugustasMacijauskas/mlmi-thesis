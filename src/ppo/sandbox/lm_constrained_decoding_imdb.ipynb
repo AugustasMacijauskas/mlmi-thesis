{
 "cells": [
  {
   "cell_type": "code",
   "execution_count": 1,
   "metadata": {},
   "outputs": [],
   "source": [
    "# Autoreload\n",
    "%load_ext autoreload\n",
    "%autoreload 2"
   ]
  },
  {
   "cell_type": "code",
   "execution_count": 10,
   "metadata": {},
   "outputs": [],
   "source": [
    "from collections import defaultdict\n",
    "\n",
    "from pathlib import Path\n",
    "\n",
    "from tqdm.notebook import tqdm\n",
    "\n",
    "import torch\n",
    "\n",
    "import datasets\n",
    "# Don't show progress datasets bars\n",
    "datasets.disable_progress_bar()\n",
    "from datasets import load_dataset\n",
    "\n",
    "from fastchat.model import get_conversation_template\n",
    "\n",
    "import sys\n",
    "sys.path.insert(0, str(Path.cwd().parent.resolve()))\n",
    "from model import get_model\n",
    "from dataset import collator\n",
    "from utils import get_tokenizer"
   ]
  },
  {
   "cell_type": "code",
   "execution_count": 3,
   "metadata": {},
   "outputs": [
    {
     "data": {
      "text/plain": [
       "device(type='cuda', index=0)"
      ]
     },
     "execution_count": 3,
     "metadata": {},
     "output_type": "execute_result"
    }
   ],
   "source": [
    "device = torch.device(\n",
    "    f\"cuda:{torch.cuda.current_device()}\" if torch.cuda.is_available() else \"cpu\"\n",
    ")\n",
    "device"
   ]
  },
  {
   "cell_type": "code",
   "execution_count": 4,
   "metadata": {},
   "outputs": [],
   "source": [
    "tokenizer_name = \"lmsys/vicuna-7b-v1.3\"\n",
    "\n",
    "dataset_name = \"imdb\""
   ]
  },
  {
   "cell_type": "code",
   "execution_count": 5,
   "metadata": {},
   "outputs": [
    {
     "name": "stdout",
     "output_type": "stream",
     "text": [
      "Loading tokenizer lmsys/vicuna-7b-v1.3...\n"
     ]
    },
    {
     "name": "stdout",
     "output_type": "stream",
     "text": [
      "Loaded tokenizer.\n",
      "\n"
     ]
    }
   ],
   "source": [
    "# Tokenizer\n",
    "tokenizer = get_tokenizer(tokenizer_name)"
   ]
  },
  {
   "cell_type": "markdown",
   "metadata": {},
   "source": [
    "## Dataset"
   ]
  },
  {
   "cell_type": "code",
   "execution_count": 6,
   "metadata": {},
   "outputs": [
    {
     "name": "stderr",
     "output_type": "stream",
     "text": [
      "Found cached dataset imdb (/admin/home-augustas/.cache/huggingface/datasets/imdb/plain_text/1.0.0/d613c88cf8fa3bab83b4ded3713f1f74830d1100e171db75bbddb80b3345c9c0)\n"
     ]
    },
    {
     "name": "stdout",
     "output_type": "stream",
     "text": [
      "Dataset({\n",
      "    features: ['text', 'label'],\n",
      "    num_rows: 25000\n",
      "})\n"
     ]
    }
   ],
   "source": [
    "# Dataset for PPO training\n",
    "dataset = load_dataset(dataset_name, split=\"train\")\n",
    "print(dataset)"
   ]
  },
  {
   "cell_type": "code",
   "execution_count": 7,
   "metadata": {},
   "outputs": [
    {
     "name": "stdout",
     "output_type": "stream",
     "text": [
      "A chat between a curious user and an artificial intelligence assistant. The assistant gives helpful, detailed, and polite answers to the user's questions. USER: Classify the movie review as either positive or negative.\n",
      "\n",
      "Desired format:\n",
      "Sentiment: <identified_sentiment>\n",
      "Do not print \"Sentiment:\" again, just the sentiment.\n",
      "\n",
      "Movie review:\n",
      "```\n",
      "<movie review>\n",
      "```\n",
      "Sentiment: ASSISTANT:\n"
     ]
    }
   ],
   "source": [
    "def get_sentiment(label):\n",
    "    return \"Positive\" if label else \"Negative\"\n",
    "    # return \"positive\" if label else \"negative\"\n",
    "\n",
    "# Dataset template\n",
    "def create_get_prompt_fn(tokenizer_name):\n",
    "    def get_prompt(text, answer_prefix=\"Sentiment:\"):\n",
    "        conv = get_conversation_template(tokenizer_name)\n",
    "\n",
    "        message = (\n",
    "            \"Classify the movie review as either positive or negative.\\n\\n\"\n",
    "            \"Desired format:\\n\"\n",
    "            \"Sentiment: <identified_sentiment>\\n\"\n",
    "            f\"Do not print \\\"{answer_prefix}\\\" again, just the sentiment.\\n\\n\"\n",
    "            f\"Movie review:\\n```\\n{text}\\n```\\n\"\n",
    "            f\"{answer_prefix}\"\n",
    "        )\n",
    "\n",
    "        conv.append_message(conv.roles[0], message)\n",
    "        conv.append_message(conv.roles[1], None)\n",
    "\n",
    "        return conv.get_prompt()\n",
    "\n",
    "    return get_prompt\n",
    "\n",
    "get_prompt = create_get_prompt_fn(tokenizer_name)\n",
    "input_text = get_prompt(\"<movie review>\")\n",
    "print(input_text)"
   ]
  },
  {
   "cell_type": "markdown",
   "metadata": {},
   "source": [
    "## Model"
   ]
  },
  {
   "cell_type": "code",
   "execution_count": 9,
   "metadata": {},
   "outputs": [
    {
     "name": "stdout",
     "output_type": "stream",
     "text": [
      "Loading policy model...\n",
      "\n",
      "is_bf16_possible=False\n",
      "kwargs={'load_in_8bit': True, 'low_cpu_mem_usage': True, 'torch_dtype': None}\n"
     ]
    },
    {
     "data": {
      "application/vnd.jupyter.widget-view+json": {
       "model_id": "8887c189d6ee47beaca6b2c4f4b17733",
       "version_major": 2,
       "version_minor": 0
      },
      "text/plain": [
       "Loading checkpoint shards:   0%|          | 0/2 [00:00<?, ?it/s]"
      ]
     },
     "metadata": {},
     "output_type": "display_data"
    },
    {
     "name": "stdout",
     "output_type": "stream",
     "text": [
      "Loaded subject model with 6,738,419,713 parameters.\n",
      "Model dtype: torch.float16\n",
      "\n",
      "memory_usage=6.58 GB\n"
     ]
    }
   ],
   "source": [
    "# Model\n",
    "# model = get_model(tokenizer_name, device)\n",
    "model = get_model(tokenizer_name, device, load_in_8bit=True, low_cpu_mem_usage=True)\n",
    "\n",
    "memory_usage = model.pretrained_model.get_memory_footprint() / (1024 ** 3)\n",
    "print(f\"{memory_usage=:.2f} GB\")"
   ]
  },
  {
   "cell_type": "code",
   "execution_count": 21,
   "metadata": {},
   "outputs": [
    {
     "name": "stderr",
     "output_type": "stream",
     "text": [
      "Loading cached processed dataset at /admin/home-augustas/.cache/huggingface/datasets/imdb/plain_text/1.0.0/d613c88cf8fa3bab83b4ded3713f1f74830d1100e171db75bbddb80b3345c9c0/cache-707ac42cae4740a3_*_of_00012.arrow\n"
     ]
    },
    {
     "data": {
      "text/plain": [
       "Dataset({\n",
       "    features: ['text', 'label', 'prompt', 'input_ids', 'attention_mask'],\n",
       "    num_rows: 24989\n",
       "})"
      ]
     },
     "execution_count": 21,
     "metadata": {},
     "output_type": "execute_result"
    }
   ],
   "source": [
    "\n",
    "def apply_prompt(batch):\n",
    "    processed_batch = defaultdict(list)\n",
    "    for item in batch[\"text\"]:\n",
    "        processed_batch[\"prompt\"].append(get_prompt(item))\n",
    "    \n",
    "    return processed_batch\n",
    "\n",
    "def filter_too_long(batch):\n",
    "    # Substract a bit more to allow for generations to be processed\n",
    "    return [len(x) < tokenizer.model_max_length - 8 for x in batch[\"input_ids\"]]\n",
    "\n",
    "processed_dataset = dataset.map(\n",
    "    lambda batch: apply_prompt(batch), batched=True, num_proc=12\n",
    ")\n",
    "processed_dataset = processed_dataset.map(\n",
    "    lambda batch: tokenizer(batch[\"prompt\"]), batched=True, num_proc=12\n",
    ")\n",
    "processed_dataset = processed_dataset.filter(filter_too_long, batched=True, num_proc=12)\n",
    "\n",
    "# Remove some columns\n",
    "processed_dataset = processed_dataset.remove_columns([\"token_type_ids\"])\n",
    "\n",
    "processed_dataset.set_format(type=\"torch\", columns=[\"input_ids\", \"attention_mask\"], output_all_columns=True)\n",
    "processed_dataset"
   ]
  },
  {
   "cell_type": "code",
   "execution_count": 23,
   "metadata": {},
   "outputs": [],
   "source": [
    "# Push the processed dataset to hub\n",
    "# processed_dataset.push_to_hub(\"AugustasM/imdb_vicuna\", private=True)"
   ]
  },
  {
   "cell_type": "code",
   "execution_count": 12,
   "metadata": {},
   "outputs": [],
   "source": [
    "from trl import PPOTrainer, PPOConfig\n",
    "\n",
    "config = PPOConfig()\n",
    "\n",
    "optimizer = None\n",
    "\n",
    "# We then build the PPOTrainer, passing the model, the reference model, the tokenizer\n",
    "ppo_trainer = PPOTrainer(\n",
    "    config,\n",
    "    model,\n",
    "    ref_model=None,\n",
    "    tokenizer=tokenizer,\n",
    "    dataset=dataset,\n",
    "    data_collator=collator,\n",
    "    optimizer=optimizer,\n",
    ")"
   ]
  },
  {
   "cell_type": "code",
   "execution_count": 15,
   "metadata": {},
   "outputs": [
    {
     "name": "stdout",
     "output_type": "stream",
     "text": [
      "Dataloader length: 16\n"
     ]
    },
    {
     "data": {
      "application/vnd.jupyter.widget-view+json": {
       "model_id": "48e958f4bc154c4ea53f7e9ed06d3fac",
       "version_major": 2,
       "version_minor": 0
      },
      "text/plain": [
       "  0%|          | 0/16 [00:00<?, ?it/s]"
      ]
     },
     "metadata": {},
     "output_type": "display_data"
    },
    {
     "data": {
      "text/plain": [
       "(1024, 1024)"
      ]
     },
     "execution_count": 15,
     "metadata": {},
     "output_type": "execute_result"
    }
   ],
   "source": [
    "dataloader = torch.utils.data.DataLoader(\n",
    "    # processed_dataset,\n",
    "    processed_dataset.shuffle(seed=42).select(range(1024)),\n",
    "    batch_size=64, collate_fn=collator,\n",
    "    num_workers=12, shuffle=False,\n",
    ")\n",
    "print(f\"Dataloader length: {len(dataloader)}\")\n",
    "\n",
    "generation_kwargs = {\n",
    "    \"top_k\": 0,\n",
    "    \"top_p\": 1.0,\n",
    "    \"do_sample\": False,\n",
    "    \"pad_token_id\": tokenizer.pad_token_id,\n",
    "    \"eos_token_id\": 100_000, # why is this value like this?\n",
    "    \"pad_to_multiple_of\": 8, # TODO: double-check, but this seems to work and to be faster\n",
    "    \"max_new_tokens\": 4,\n",
    "}\n",
    "\n",
    "gold_outputs = []\n",
    "outputs = []\n",
    "for batch in tqdm(dataloader, total=len(dataloader), leave=False):\n",
    "    batch_gold_outputs = [get_sentiment(label) for label in batch[\"label\"]]\n",
    "    gold_outputs.extend(batch_gold_outputs)\n",
    "\n",
    "    question_tensors = batch[\"input_ids\"]\n",
    "\n",
    "    response_tensors = ppo_trainer.generate(\n",
    "        question_tensors,\n",
    "        return_prompt=False,\n",
    "        # length_sampler=output_length_sampler, # TODO: can be none\n",
    "        batch_size=8, # TODO: generations are made in batches\n",
    "        **generation_kwargs,\n",
    "    )\n",
    "    batch[\"response\"] = tokenizer.batch_decode(\n",
    "        response_tensors, skip_special_tokens=True, spaces_between_special_tokens=False\n",
    "    )\n",
    "\n",
    "    outputs.extend(batch[\"response\"])\n",
    "\n",
    "len(outputs), len(gold_outputs)"
   ]
  },
  {
   "cell_type": "code",
   "execution_count": 16,
   "metadata": {},
   "outputs": [
    {
     "name": "stdout",
     "output_type": "stream",
     "text": [
      "1024 1024\n",
      "Counter({'Negative': 531, 'Positive': 492, 'Neutral': 1})\n"
     ]
    }
   ],
   "source": [
    "from collections import Counter\n",
    "\n",
    "print(len(gold_outputs), len(outputs))\n",
    "print(Counter(outputs))"
   ]
  },
  {
   "cell_type": "code",
   "execution_count": 19,
   "metadata": {},
   "outputs": [
    {
     "data": {
      "text/plain": [
       "0.93359375"
      ]
     },
     "execution_count": 19,
     "metadata": {},
     "output_type": "execute_result"
    }
   ],
   "source": [
    "def get_accuracy(gold_outputs, outputs):\n",
    "    return sum([1 if gold == output else 0 for gold, output in zip(gold_outputs, outputs)]) / len(outputs)\n",
    "\n",
    "get_accuracy(gold_outputs, outputs)"
   ]
  },
  {
   "cell_type": "code",
   "execution_count": 20,
   "metadata": {},
   "outputs": [
    {
     "name": "stdout",
     "output_type": "stream",
     "text": [
      "golden_output='Negative'\n",
      "output='Positive'\n",
      "--------------------------------------------------------------------------------\n",
      "golden_output='Positive'\n",
      "output='Negative'\n",
      "--------------------------------------------------------------------------------\n",
      "golden_output='Negative'\n",
      "output='Positive'\n",
      "--------------------------------------------------------------------------------\n",
      "golden_output='Positive'\n",
      "output='Negative'\n",
      "--------------------------------------------------------------------------------\n",
      "golden_output='Positive'\n",
      "output='Negative'\n",
      "--------------------------------------------------------------------------------\n",
      "golden_output='Positive'\n",
      "output='Negative'\n",
      "--------------------------------------------------------------------------------\n",
      "golden_output='Positive'\n",
      "output='Negative'\n",
      "--------------------------------------------------------------------------------\n",
      "golden_output='Negative'\n",
      "output='Positive'\n",
      "--------------------------------------------------------------------------------\n",
      "golden_output='Positive'\n",
      "output='Negative'\n",
      "--------------------------------------------------------------------------------\n",
      "golden_output='Positive'\n",
      "output='Negative'\n",
      "--------------------------------------------------------------------------------\n",
      "golden_output='Positive'\n",
      "output='Negative'\n",
      "--------------------------------------------------------------------------------\n",
      "golden_output='Negative'\n",
      "output='Positive'\n",
      "--------------------------------------------------------------------------------\n",
      "golden_output='Positive'\n",
      "output='Neutral'\n",
      "--------------------------------------------------------------------------------\n",
      "golden_output='Negative'\n",
      "output='Positive'\n",
      "--------------------------------------------------------------------------------\n",
      "golden_output='Positive'\n",
      "output='Negative'\n",
      "--------------------------------------------------------------------------------\n",
      "golden_output='Negative'\n",
      "output='Positive'\n",
      "--------------------------------------------------------------------------------\n",
      "golden_output='Positive'\n",
      "output='Negative'\n",
      "--------------------------------------------------------------------------------\n",
      "golden_output='Negative'\n",
      "output='Positive'\n",
      "--------------------------------------------------------------------------------\n",
      "golden_output='Negative'\n",
      "output='Positive'\n",
      "--------------------------------------------------------------------------------\n",
      "golden_output='Negative'\n",
      "output='Positive'\n",
      "--------------------------------------------------------------------------------\n",
      "golden_output='Negative'\n",
      "output='Positive'\n",
      "--------------------------------------------------------------------------------\n",
      "golden_output='Positive'\n",
      "output='Negative'\n",
      "--------------------------------------------------------------------------------\n",
      "golden_output='Positive'\n",
      "output='Negative'\n",
      "--------------------------------------------------------------------------------\n",
      "golden_output='Negative'\n",
      "output='Positive'\n",
      "--------------------------------------------------------------------------------\n",
      "golden_output='Negative'\n",
      "output='Positive'\n",
      "--------------------------------------------------------------------------------\n",
      "golden_output='Negative'\n",
      "output='Positive'\n",
      "--------------------------------------------------------------------------------\n",
      "golden_output='Positive'\n",
      "output='Negative'\n",
      "--------------------------------------------------------------------------------\n",
      "golden_output='Negative'\n",
      "output='Positive'\n",
      "--------------------------------------------------------------------------------\n",
      "golden_output='Positive'\n",
      "output='Negative'\n",
      "--------------------------------------------------------------------------------\n",
      "golden_output='Negative'\n",
      "output='Positive'\n",
      "--------------------------------------------------------------------------------\n",
      "golden_output='Negative'\n",
      "output='Positive'\n",
      "--------------------------------------------------------------------------------\n",
      "golden_output='Negative'\n",
      "output='Positive'\n",
      "--------------------------------------------------------------------------------\n",
      "golden_output='Positive'\n",
      "output='Negative'\n",
      "--------------------------------------------------------------------------------\n",
      "golden_output='Positive'\n",
      "output='Negative'\n",
      "--------------------------------------------------------------------------------\n",
      "golden_output='Positive'\n",
      "output='Negative'\n",
      "--------------------------------------------------------------------------------\n",
      "golden_output='Positive'\n",
      "output='Negative'\n",
      "--------------------------------------------------------------------------------\n",
      "golden_output='Positive'\n",
      "output='Negative'\n",
      "--------------------------------------------------------------------------------\n",
      "golden_output='Negative'\n",
      "output='Positive'\n",
      "--------------------------------------------------------------------------------\n",
      "golden_output='Negative'\n",
      "output='Positive'\n",
      "--------------------------------------------------------------------------------\n",
      "golden_output='Positive'\n",
      "output='Negative'\n",
      "--------------------------------------------------------------------------------\n",
      "golden_output='Negative'\n",
      "output='Positive'\n",
      "--------------------------------------------------------------------------------\n",
      "golden_output='Negative'\n",
      "output='Positive'\n",
      "--------------------------------------------------------------------------------\n",
      "golden_output='Positive'\n",
      "output='Negative'\n",
      "--------------------------------------------------------------------------------\n",
      "golden_output='Positive'\n",
      "output='Negative'\n",
      "--------------------------------------------------------------------------------\n",
      "golden_output='Negative'\n",
      "output='Positive'\n",
      "--------------------------------------------------------------------------------\n",
      "golden_output='Positive'\n",
      "output='Negative'\n",
      "--------------------------------------------------------------------------------\n",
      "golden_output='Positive'\n",
      "output='Negative'\n",
      "--------------------------------------------------------------------------------\n",
      "golden_output='Positive'\n",
      "output='Negative'\n",
      "--------------------------------------------------------------------------------\n",
      "golden_output='Positive'\n",
      "output='Negative'\n",
      "--------------------------------------------------------------------------------\n",
      "golden_output='Positive'\n",
      "output='Negative'\n",
      "--------------------------------------------------------------------------------\n",
      "golden_output='Negative'\n",
      "output='Positive'\n",
      "--------------------------------------------------------------------------------\n",
      "golden_output='Negative'\n",
      "output='Positive'\n",
      "--------------------------------------------------------------------------------\n",
      "golden_output='Negative'\n",
      "output='Positive'\n",
      "--------------------------------------------------------------------------------\n",
      "golden_output='Positive'\n",
      "output='Negative'\n",
      "--------------------------------------------------------------------------------\n",
      "golden_output='Negative'\n",
      "output='Positive'\n",
      "--------------------------------------------------------------------------------\n",
      "golden_output='Positive'\n",
      "output='Negative'\n",
      "--------------------------------------------------------------------------------\n",
      "golden_output='Negative'\n",
      "output='Positive'\n",
      "--------------------------------------------------------------------------------\n",
      "golden_output='Positive'\n",
      "output='Negative'\n",
      "--------------------------------------------------------------------------------\n",
      "golden_output='Positive'\n",
      "output='Negative'\n",
      "--------------------------------------------------------------------------------\n",
      "golden_output='Negative'\n",
      "output='Positive'\n",
      "--------------------------------------------------------------------------------\n",
      "golden_output='Positive'\n",
      "output='Negative'\n",
      "--------------------------------------------------------------------------------\n",
      "golden_output='Negative'\n",
      "output='Positive'\n",
      "--------------------------------------------------------------------------------\n",
      "golden_output='Positive'\n",
      "output='Negative'\n",
      "--------------------------------------------------------------------------------\n",
      "golden_output='Positive'\n",
      "output='Negative'\n",
      "--------------------------------------------------------------------------------\n",
      "golden_output='Positive'\n",
      "output='Negative'\n",
      "--------------------------------------------------------------------------------\n",
      "golden_output='Negative'\n",
      "output='Positive'\n",
      "--------------------------------------------------------------------------------\n",
      "golden_output='Positive'\n",
      "output='Negative'\n",
      "--------------------------------------------------------------------------------\n",
      "golden_output='Positive'\n",
      "output='Negative'\n",
      "--------------------------------------------------------------------------------\n"
     ]
    }
   ],
   "source": [
    "for output, golden_output in zip(outputs, gold_outputs):\n",
    "    if output != golden_output:\n",
    "        print(f\"{golden_output=}\\n{output=}\")\n",
    "        print(\"-\" * 80)"
   ]
  }
 ],
 "metadata": {
  "kernelspec": {
   "display_name": "trlx",
   "language": "python",
   "name": "python3"
  },
  "language_info": {
   "codemirror_mode": {
    "name": "ipython",
    "version": 3
   },
   "file_extension": ".py",
   "mimetype": "text/x-python",
   "name": "python",
   "nbconvert_exporter": "python",
   "pygments_lexer": "ipython3",
   "version": "3.10.11"
  },
  "orig_nbformat": 4
 },
 "nbformat": 4,
 "nbformat_minor": 2
}
