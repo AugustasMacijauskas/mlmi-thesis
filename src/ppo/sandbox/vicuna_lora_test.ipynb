{
 "cells": [
  {
   "cell_type": "markdown",
   "metadata": {},
   "source": [
    "## Imports"
   ]
  },
  {
   "cell_type": "code",
   "execution_count": 1,
   "metadata": {},
   "outputs": [],
   "source": [
    "# Enable automatic extension autoreloading\n",
    "%load_ext autoreload\n",
    "%autoreload 2"
   ]
  },
  {
   "cell_type": "code",
   "execution_count": 13,
   "metadata": {},
   "outputs": [],
   "source": [
    "from pathlib import Path\n",
    "\n",
    "from tqdm.notebook import tqdm\n",
    "import matplotlib.pyplot as plt\n",
    "import torch\n",
    "import datasets\n",
    "datasets.disable_progress_bar() # Don't show progress datasets bars\n",
    "from peft import LoraConfig\n",
    "\n",
    "import sys\n",
    "sys.path.insert(0, str(Path.cwd().parent.resolve()))\n",
    "from model import get_model_with_lora"
   ]
  },
  {
   "attachments": {},
   "cell_type": "markdown",
   "metadata": {},
   "source": [
    "## Config"
   ]
  },
  {
   "cell_type": "code",
   "execution_count": 6,
   "metadata": {},
   "outputs": [
    {
     "data": {
      "text/plain": [
       "device(type='cuda', index=0)"
      ]
     },
     "execution_count": 6,
     "metadata": {},
     "output_type": "execute_result"
    }
   ],
   "source": [
    "device = torch.device(\n",
    "    f\"cuda:{torch.cuda.current_device()}\" if torch.cuda.is_available() else \"cpu\"\n",
    ")\n",
    "device"
   ]
  },
  {
   "cell_type": "code",
   "execution_count": 12,
   "metadata": {},
   "outputs": [
    {
     "name": "stdout",
     "output_type": "stream",
     "text": [
      "Loading policy model...\n",
      "\n",
      "kwargs={'low_cpu_mem_usage': True, 'torch_dtype': torch.float16}\n"
     ]
    },
    {
     "data": {
      "application/vnd.jupyter.widget-view+json": {
       "model_id": "792e9e26187d4c1182c559f660791837",
       "version_major": 2,
       "version_minor": 0
      },
      "text/plain": [
       "Loading checkpoint shards:   0%|          | 0/2 [00:00<?, ?it/s]"
      ]
     },
     "metadata": {},
     "output_type": "display_data"
    },
    {
     "name": "stderr",
     "output_type": "stream",
     "text": [
      "/fsx/home-augustas/anaconda3/envs/elk/lib/python3.10/site-packages/peft/utils/other.py:102: FutureWarning: prepare_model_for_int8_training is deprecated and will be removed in a future version. Use prepare_model_for_kbit_training instead.\n",
      "  warnings.warn(\n"
     ]
    },
    {
     "name": "stdout",
     "output_type": "stream",
     "text": [
      "Loaded subject model with 6,746,808,321 parameters.\n",
      "Model dtype: torch.float32\n",
      "\n",
      "memory_usage=7.10 GB\n"
     ]
    }
   ],
   "source": [
    "# Model\n",
    "model_name = \"lmsys/vicuna-7b-v1.3\"\n",
    "\n",
    "lora_config = LoraConfig(\n",
    "    r=16,\n",
    "    lora_alpha=32,\n",
    "    lora_dropout=0.05,\n",
    "    bias=\"none\",\n",
    "    task_type=\"CAUSAL_LM\",\n",
    ")\n",
    "\n",
    "model = get_model_with_lora(\n",
    "    model_name, device, lora_config,\n",
    "    low_cpu_mem_usage=True,\n",
    "    torch_dtype=torch.float16,\n",
    ")\n",
    "# model.eval()\n",
    "\n",
    "memory_usage = model.pretrained_model.get_memory_footprint() / (1024 ** 3)\n",
    "print(f\"{memory_usage=:.2f} GB\")"
   ]
  },
  {
   "cell_type": "code",
   "execution_count": 15,
   "metadata": {},
   "outputs": [
    {
     "data": {
      "text/plain": [
       "True"
      ]
     },
     "execution_count": 15,
     "metadata": {},
     "output_type": "execute_result"
    }
   ],
   "source": [
    "model.training"
   ]
  },
  {
   "cell_type": "code",
   "execution_count": 18,
   "metadata": {},
   "outputs": [
    {
     "name": "stdout",
     "output_type": "stream",
     "text": [
      "8,392,705\n"
     ]
    }
   ],
   "source": [
    "# Num trainable parameters\n",
    "num_trainable_params = sum(p.numel() for p in model.parameters() if p.requires_grad)\n",
    "print(f\"{num_trainable_params:,d}\")"
   ]
  },
  {
   "cell_type": "code",
   "execution_count": 20,
   "metadata": {},
   "outputs": [
    {
     "name": "stdout",
     "output_type": "stream",
     "text": [
      "pretrained_model.base_model.model.model.layers.0.self_attn.q_proj.lora_A.default.weight\n",
      "pretrained_model.base_model.model.model.layers.0.self_attn.q_proj.lora_B.default.weight\n",
      "pretrained_model.base_model.model.model.layers.0.self_attn.v_proj.lora_A.default.weight\n",
      "pretrained_model.base_model.model.model.layers.0.self_attn.v_proj.lora_B.default.weight\n",
      "pretrained_model.base_model.model.model.layers.1.self_attn.q_proj.lora_A.default.weight\n",
      "pretrained_model.base_model.model.model.layers.1.self_attn.q_proj.lora_B.default.weight\n",
      "pretrained_model.base_model.model.model.layers.1.self_attn.v_proj.lora_A.default.weight\n",
      "pretrained_model.base_model.model.model.layers.1.self_attn.v_proj.lora_B.default.weight\n",
      "pretrained_model.base_model.model.model.layers.2.self_attn.q_proj.lora_A.default.weight\n",
      "pretrained_model.base_model.model.model.layers.2.self_attn.q_proj.lora_B.default.weight\n",
      "pretrained_model.base_model.model.model.layers.2.self_attn.v_proj.lora_A.default.weight\n",
      "pretrained_model.base_model.model.model.layers.2.self_attn.v_proj.lora_B.default.weight\n",
      "pretrained_model.base_model.model.model.layers.3.self_attn.q_proj.lora_A.default.weight\n",
      "pretrained_model.base_model.model.model.layers.3.self_attn.q_proj.lora_B.default.weight\n",
      "pretrained_model.base_model.model.model.layers.3.self_attn.v_proj.lora_A.default.weight\n",
      "pretrained_model.base_model.model.model.layers.3.self_attn.v_proj.lora_B.default.weight\n",
      "pretrained_model.base_model.model.model.layers.4.self_attn.q_proj.lora_A.default.weight\n",
      "pretrained_model.base_model.model.model.layers.4.self_attn.q_proj.lora_B.default.weight\n",
      "pretrained_model.base_model.model.model.layers.4.self_attn.v_proj.lora_A.default.weight\n",
      "pretrained_model.base_model.model.model.layers.4.self_attn.v_proj.lora_B.default.weight\n",
      "pretrained_model.base_model.model.model.layers.5.self_attn.q_proj.lora_A.default.weight\n",
      "pretrained_model.base_model.model.model.layers.5.self_attn.q_proj.lora_B.default.weight\n",
      "pretrained_model.base_model.model.model.layers.5.self_attn.v_proj.lora_A.default.weight\n",
      "pretrained_model.base_model.model.model.layers.5.self_attn.v_proj.lora_B.default.weight\n",
      "pretrained_model.base_model.model.model.layers.6.self_attn.q_proj.lora_A.default.weight\n",
      "pretrained_model.base_model.model.model.layers.6.self_attn.q_proj.lora_B.default.weight\n",
      "pretrained_model.base_model.model.model.layers.6.self_attn.v_proj.lora_A.default.weight\n",
      "pretrained_model.base_model.model.model.layers.6.self_attn.v_proj.lora_B.default.weight\n",
      "pretrained_model.base_model.model.model.layers.7.self_attn.q_proj.lora_A.default.weight\n",
      "pretrained_model.base_model.model.model.layers.7.self_attn.q_proj.lora_B.default.weight\n",
      "pretrained_model.base_model.model.model.layers.7.self_attn.v_proj.lora_A.default.weight\n",
      "pretrained_model.base_model.model.model.layers.7.self_attn.v_proj.lora_B.default.weight\n",
      "pretrained_model.base_model.model.model.layers.8.self_attn.q_proj.lora_A.default.weight\n",
      "pretrained_model.base_model.model.model.layers.8.self_attn.q_proj.lora_B.default.weight\n",
      "pretrained_model.base_model.model.model.layers.8.self_attn.v_proj.lora_A.default.weight\n",
      "pretrained_model.base_model.model.model.layers.8.self_attn.v_proj.lora_B.default.weight\n",
      "pretrained_model.base_model.model.model.layers.9.self_attn.q_proj.lora_A.default.weight\n",
      "pretrained_model.base_model.model.model.layers.9.self_attn.q_proj.lora_B.default.weight\n",
      "pretrained_model.base_model.model.model.layers.9.self_attn.v_proj.lora_A.default.weight\n",
      "pretrained_model.base_model.model.model.layers.9.self_attn.v_proj.lora_B.default.weight\n",
      "pretrained_model.base_model.model.model.layers.10.self_attn.q_proj.lora_A.default.weight\n",
      "pretrained_model.base_model.model.model.layers.10.self_attn.q_proj.lora_B.default.weight\n",
      "pretrained_model.base_model.model.model.layers.10.self_attn.v_proj.lora_A.default.weight\n",
      "pretrained_model.base_model.model.model.layers.10.self_attn.v_proj.lora_B.default.weight\n",
      "pretrained_model.base_model.model.model.layers.11.self_attn.q_proj.lora_A.default.weight\n",
      "pretrained_model.base_model.model.model.layers.11.self_attn.q_proj.lora_B.default.weight\n",
      "pretrained_model.base_model.model.model.layers.11.self_attn.v_proj.lora_A.default.weight\n",
      "pretrained_model.base_model.model.model.layers.11.self_attn.v_proj.lora_B.default.weight\n",
      "pretrained_model.base_model.model.model.layers.12.self_attn.q_proj.lora_A.default.weight\n",
      "pretrained_model.base_model.model.model.layers.12.self_attn.q_proj.lora_B.default.weight\n",
      "pretrained_model.base_model.model.model.layers.12.self_attn.v_proj.lora_A.default.weight\n",
      "pretrained_model.base_model.model.model.layers.12.self_attn.v_proj.lora_B.default.weight\n",
      "pretrained_model.base_model.model.model.layers.13.self_attn.q_proj.lora_A.default.weight\n",
      "pretrained_model.base_model.model.model.layers.13.self_attn.q_proj.lora_B.default.weight\n",
      "pretrained_model.base_model.model.model.layers.13.self_attn.v_proj.lora_A.default.weight\n",
      "pretrained_model.base_model.model.model.layers.13.self_attn.v_proj.lora_B.default.weight\n",
      "pretrained_model.base_model.model.model.layers.14.self_attn.q_proj.lora_A.default.weight\n",
      "pretrained_model.base_model.model.model.layers.14.self_attn.q_proj.lora_B.default.weight\n",
      "pretrained_model.base_model.model.model.layers.14.self_attn.v_proj.lora_A.default.weight\n",
      "pretrained_model.base_model.model.model.layers.14.self_attn.v_proj.lora_B.default.weight\n",
      "pretrained_model.base_model.model.model.layers.15.self_attn.q_proj.lora_A.default.weight\n",
      "pretrained_model.base_model.model.model.layers.15.self_attn.q_proj.lora_B.default.weight\n",
      "pretrained_model.base_model.model.model.layers.15.self_attn.v_proj.lora_A.default.weight\n",
      "pretrained_model.base_model.model.model.layers.15.self_attn.v_proj.lora_B.default.weight\n",
      "pretrained_model.base_model.model.model.layers.16.self_attn.q_proj.lora_A.default.weight\n",
      "pretrained_model.base_model.model.model.layers.16.self_attn.q_proj.lora_B.default.weight\n",
      "pretrained_model.base_model.model.model.layers.16.self_attn.v_proj.lora_A.default.weight\n",
      "pretrained_model.base_model.model.model.layers.16.self_attn.v_proj.lora_B.default.weight\n",
      "pretrained_model.base_model.model.model.layers.17.self_attn.q_proj.lora_A.default.weight\n",
      "pretrained_model.base_model.model.model.layers.17.self_attn.q_proj.lora_B.default.weight\n",
      "pretrained_model.base_model.model.model.layers.17.self_attn.v_proj.lora_A.default.weight\n",
      "pretrained_model.base_model.model.model.layers.17.self_attn.v_proj.lora_B.default.weight\n",
      "pretrained_model.base_model.model.model.layers.18.self_attn.q_proj.lora_A.default.weight\n",
      "pretrained_model.base_model.model.model.layers.18.self_attn.q_proj.lora_B.default.weight\n",
      "pretrained_model.base_model.model.model.layers.18.self_attn.v_proj.lora_A.default.weight\n",
      "pretrained_model.base_model.model.model.layers.18.self_attn.v_proj.lora_B.default.weight\n",
      "pretrained_model.base_model.model.model.layers.19.self_attn.q_proj.lora_A.default.weight\n",
      "pretrained_model.base_model.model.model.layers.19.self_attn.q_proj.lora_B.default.weight\n",
      "pretrained_model.base_model.model.model.layers.19.self_attn.v_proj.lora_A.default.weight\n",
      "pretrained_model.base_model.model.model.layers.19.self_attn.v_proj.lora_B.default.weight\n",
      "pretrained_model.base_model.model.model.layers.20.self_attn.q_proj.lora_A.default.weight\n",
      "pretrained_model.base_model.model.model.layers.20.self_attn.q_proj.lora_B.default.weight\n",
      "pretrained_model.base_model.model.model.layers.20.self_attn.v_proj.lora_A.default.weight\n",
      "pretrained_model.base_model.model.model.layers.20.self_attn.v_proj.lora_B.default.weight\n",
      "pretrained_model.base_model.model.model.layers.21.self_attn.q_proj.lora_A.default.weight\n",
      "pretrained_model.base_model.model.model.layers.21.self_attn.q_proj.lora_B.default.weight\n",
      "pretrained_model.base_model.model.model.layers.21.self_attn.v_proj.lora_A.default.weight\n",
      "pretrained_model.base_model.model.model.layers.21.self_attn.v_proj.lora_B.default.weight\n",
      "pretrained_model.base_model.model.model.layers.22.self_attn.q_proj.lora_A.default.weight\n",
      "pretrained_model.base_model.model.model.layers.22.self_attn.q_proj.lora_B.default.weight\n",
      "pretrained_model.base_model.model.model.layers.22.self_attn.v_proj.lora_A.default.weight\n",
      "pretrained_model.base_model.model.model.layers.22.self_attn.v_proj.lora_B.default.weight\n",
      "pretrained_model.base_model.model.model.layers.23.self_attn.q_proj.lora_A.default.weight\n",
      "pretrained_model.base_model.model.model.layers.23.self_attn.q_proj.lora_B.default.weight\n",
      "pretrained_model.base_model.model.model.layers.23.self_attn.v_proj.lora_A.default.weight\n",
      "pretrained_model.base_model.model.model.layers.23.self_attn.v_proj.lora_B.default.weight\n",
      "pretrained_model.base_model.model.model.layers.24.self_attn.q_proj.lora_A.default.weight\n",
      "pretrained_model.base_model.model.model.layers.24.self_attn.q_proj.lora_B.default.weight\n",
      "pretrained_model.base_model.model.model.layers.24.self_attn.v_proj.lora_A.default.weight\n",
      "pretrained_model.base_model.model.model.layers.24.self_attn.v_proj.lora_B.default.weight\n",
      "pretrained_model.base_model.model.model.layers.25.self_attn.q_proj.lora_A.default.weight\n",
      "pretrained_model.base_model.model.model.layers.25.self_attn.q_proj.lora_B.default.weight\n",
      "pretrained_model.base_model.model.model.layers.25.self_attn.v_proj.lora_A.default.weight\n",
      "pretrained_model.base_model.model.model.layers.25.self_attn.v_proj.lora_B.default.weight\n",
      "pretrained_model.base_model.model.model.layers.26.self_attn.q_proj.lora_A.default.weight\n",
      "pretrained_model.base_model.model.model.layers.26.self_attn.q_proj.lora_B.default.weight\n",
      "pretrained_model.base_model.model.model.layers.26.self_attn.v_proj.lora_A.default.weight\n",
      "pretrained_model.base_model.model.model.layers.26.self_attn.v_proj.lora_B.default.weight\n",
      "pretrained_model.base_model.model.model.layers.27.self_attn.q_proj.lora_A.default.weight\n",
      "pretrained_model.base_model.model.model.layers.27.self_attn.q_proj.lora_B.default.weight\n",
      "pretrained_model.base_model.model.model.layers.27.self_attn.v_proj.lora_A.default.weight\n",
      "pretrained_model.base_model.model.model.layers.27.self_attn.v_proj.lora_B.default.weight\n",
      "pretrained_model.base_model.model.model.layers.28.self_attn.q_proj.lora_A.default.weight\n",
      "pretrained_model.base_model.model.model.layers.28.self_attn.q_proj.lora_B.default.weight\n",
      "pretrained_model.base_model.model.model.layers.28.self_attn.v_proj.lora_A.default.weight\n",
      "pretrained_model.base_model.model.model.layers.28.self_attn.v_proj.lora_B.default.weight\n",
      "pretrained_model.base_model.model.model.layers.29.self_attn.q_proj.lora_A.default.weight\n",
      "pretrained_model.base_model.model.model.layers.29.self_attn.q_proj.lora_B.default.weight\n",
      "pretrained_model.base_model.model.model.layers.29.self_attn.v_proj.lora_A.default.weight\n",
      "pretrained_model.base_model.model.model.layers.29.self_attn.v_proj.lora_B.default.weight\n",
      "pretrained_model.base_model.model.model.layers.30.self_attn.q_proj.lora_A.default.weight\n",
      "pretrained_model.base_model.model.model.layers.30.self_attn.q_proj.lora_B.default.weight\n",
      "pretrained_model.base_model.model.model.layers.30.self_attn.v_proj.lora_A.default.weight\n",
      "pretrained_model.base_model.model.model.layers.30.self_attn.v_proj.lora_B.default.weight\n",
      "pretrained_model.base_model.model.model.layers.31.self_attn.q_proj.lora_A.default.weight\n",
      "pretrained_model.base_model.model.model.layers.31.self_attn.q_proj.lora_B.default.weight\n",
      "pretrained_model.base_model.model.model.layers.31.self_attn.v_proj.lora_A.default.weight\n",
      "pretrained_model.base_model.model.model.layers.31.self_attn.v_proj.lora_B.default.weight\n",
      "v_head.summary.weight\n",
      "v_head.summary.bias\n"
     ]
    }
   ],
   "source": [
    "for name, p in model.named_parameters():\n",
    "    if p.requires_grad:\n",
    "        print(name)"
   ]
  }
 ],
 "metadata": {
  "kernelspec": {
   "display_name": "elk",
   "language": "python",
   "name": "python3"
  },
  "language_info": {
   "codemirror_mode": {
    "name": "ipython",
    "version": 3
   },
   "file_extension": ".py",
   "mimetype": "text/x-python",
   "name": "python",
   "nbconvert_exporter": "python",
   "pygments_lexer": "ipython3",
   "version": "3.10.11"
  },
  "orig_nbformat": 4
 },
 "nbformat": 4,
 "nbformat_minor": 2
}
