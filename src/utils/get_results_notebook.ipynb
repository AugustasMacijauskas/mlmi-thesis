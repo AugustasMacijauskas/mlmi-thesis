{
 "cells": [
  {
   "cell_type": "code",
   "execution_count": 1,
   "metadata": {},
   "outputs": [],
   "source": [
    "%load_ext autoreload\n",
    "%autoreload 2"
   ]
  },
  {
   "cell_type": "code",
   "execution_count": 10,
   "metadata": {},
   "outputs": [],
   "source": [
    "from pathlib import Path\n",
    "\n",
    "from IPython.display import Markdown\n",
    "\n",
    "from get_results import process_results"
   ]
  },
  {
   "cell_type": "code",
   "execution_count": 3,
   "metadata": {},
   "outputs": [
    {
     "data": {
      "text/plain": [
       "[PosixPath('../../../logs/unifiedqa_t5_3b_ag_news_20230620_141146_13624/out.13624'),\n",
       " PosixPath('../../../logs/unifiedqa_t5_3b_qnli_ccs_20230620_141424_13631/out.13631'),\n",
       " PosixPath('../../../logs/unifiedqa_t5_3b_piqa_20230620_141345_13630/out.13630'),\n",
       " PosixPath('../../../logs/unifiedqa_t5_3b_test_20230620_122720_13533/out.13533'),\n",
       " PosixPath('../../../logs/unifiedqa_t5_3b_custom_data_ag_news_20230619_224413_12996/out.12996'),\n",
       " PosixPath('../../../logs/unifiedqa_t5_3b_custom_data_ag_news_20230619_224416_12997/out.12997'),\n",
       " PosixPath('../../../logs/unifiedqa_t5_3b_imdb_ccs_20230620_141442_13632/out.13632'),\n",
       " PosixPath('../../../logs/unifiedqa_t5_3b_custom_data_20230619_220157_12922/out.12922'),\n",
       " PosixPath('../../../logs/unifiedqa_t5_3b_qnli_20230620_141231_13626/out.13626'),\n",
       " PosixPath('../../../logs/unifiedqa_t5_3b_piqa_20230620_141251_13628/out.13628'),\n",
       " PosixPath('../../../logs/unifiedqa_t5_3b_imdb_20230620_141154_13625/out.13625'),\n",
       " PosixPath('../../../logs/unifiedqa_t5_3b_ag_news_20230620_111758_13504/out.13504'),\n",
       " PosixPath('../../../logs/unifiedqa_t5_3b_imdb_20230620_142127_13636/out.13636'),\n",
       " PosixPath('../../../logs/unifiedqa_t5_3b_custom_data_20230619_220152_12921/out.12921'),\n",
       " PosixPath('../../../logs/unifiedqa_t5_3b_ag_news_20230619_215151_12909/out.12909')]"
      ]
     },
     "execution_count": 3,
     "metadata": {},
     "output_type": "execute_result"
    }
   ],
   "source": [
    "paths = [x for x in Path(\"../../../logs\").rglob(\"*\") if x.is_file()]\n",
    "paths = [x for x in paths if \"out.\" in str(x)]\n",
    "paths"
   ]
  },
  {
   "cell_type": "code",
   "execution_count": 4,
   "metadata": {},
   "outputs": [
    {
     "data": {
      "text/plain": [
       "PosixPath('../../../logs/unifiedqa_t5_3b_ag_news_20230620_141146_13624/out.13624')"
      ]
     },
     "execution_count": 4,
     "metadata": {},
     "output_type": "execute_result"
    }
   ],
   "source": [
    "file_path = Path(paths[0])\n",
    "file_path"
   ]
  },
  {
   "cell_type": "code",
   "execution_count": 19,
   "metadata": {},
   "outputs": [
    {
     "data": {
      "text/markdown": [
       "# Accuracy\n",
       "\n",
       "| lm_eval | eval | lr_eval |\n",
       "| --- | --- | --- |\n",
       "| 57.10% | 96.60% | 77.70% |\n",
       "# AUROC\n",
       "\n",
       "| lm_eval | eval | lr_eval |\n",
       "| --- | --- | --- |\n",
       "| 0.5776 | 0.9893 | 0.8838 |\n",
       "# Calibrated accuracy\n",
       "\n",
       "| lm_eval | eval | lr_eval |\n",
       "| --- | --- | --- |\n",
       "| 56.60% | 94.60% | 77.60% |\n",
       "\n",
       "# Accuracy\n",
       "\n",
       "## eval\n",
       "\n",
       "| Layer | Ensembling | Value |\n",
       "| --- | --- | --- |\n",
       "| 19 | full | 57.10% |\n",
       "## lr_eval\n",
       "\n",
       "| Layer | Ensembling | Value |\n",
       "| --- | --- | --- |\n",
       "| 9 | full | 96.60% |\n",
       "## lm_eval\n",
       "\n",
       "| Layer | Ensembling | Value |\n",
       "| --- | --- | --- |\n",
       "| 0 | full | 77.70% |\n",
       "| 1 | full | 77.70% |\n",
       "| 2 | full | 77.70% |\n",
       "| 3 | full | 77.70% |\n",
       "| 4 | full | 77.70% |\n",
       "| 5 | full | 77.70% |\n",
       "| 6 | full | 77.70% |\n",
       "| 7 | full | 77.70% |\n",
       "| 8 | full | 77.70% |\n",
       "| 9 | full | 77.70% |\n",
       "| 10 | full | 77.70% |\n",
       "| 11 | full | 77.70% |\n",
       "| 12 | full | 77.70% |\n",
       "| 13 | full | 77.70% |\n",
       "| 14 | full | 77.70% |\n",
       "| 15 | full | 77.70% |\n",
       "| 16 | full | 77.70% |\n",
       "| 17 | full | 77.70% |\n",
       "| 18 | full | 77.70% |\n",
       "| 19 | full | 77.70% |\n",
       "| 20 | full | 77.70% |\n",
       "| 21 | full | 77.70% |\n",
       "| 22 | full | 77.70% |\n",
       "| 23 | full | 77.70% |\n",
       "| 24 | full | 77.70% |\n",
       "# AUROC\n",
       "\n",
       "## eval\n",
       "\n",
       "| Layer | Ensembling | Value |\n",
       "| --- | --- | --- |\n",
       "| 13 | full | 0.5776 |\n",
       "## lr_eval\n",
       "\n",
       "| Layer | Ensembling | Value |\n",
       "| --- | --- | --- |\n",
       "| 4 | full | 0.9893 |\n",
       "## lm_eval\n",
       "\n",
       "| Layer | Ensembling | Value |\n",
       "| --- | --- | --- |\n",
       "| 0 | full | 0.8838 |\n",
       "| 1 | full | 0.8838 |\n",
       "| 2 | full | 0.8838 |\n",
       "| 3 | full | 0.8838 |\n",
       "| 4 | full | 0.8838 |\n",
       "| 5 | full | 0.8838 |\n",
       "| 6 | full | 0.8838 |\n",
       "| 7 | full | 0.8838 |\n",
       "| 8 | full | 0.8838 |\n",
       "| 9 | full | 0.8838 |\n",
       "| 10 | full | 0.8838 |\n",
       "| 11 | full | 0.8838 |\n",
       "| 12 | full | 0.8838 |\n",
       "| 13 | full | 0.8838 |\n",
       "| 14 | full | 0.8838 |\n",
       "| 15 | full | 0.8838 |\n",
       "| 16 | full | 0.8838 |\n",
       "| 17 | full | 0.8838 |\n",
       "| 18 | full | 0.8838 |\n",
       "| 19 | full | 0.8838 |\n",
       "| 20 | full | 0.8838 |\n",
       "| 21 | full | 0.8838 |\n",
       "| 22 | full | 0.8838 |\n",
       "| 23 | full | 0.8838 |\n",
       "| 24 | full | 0.8838 |\n",
       "# Calibrated accuracy\n",
       "\n",
       "## eval\n",
       "\n",
       "| Layer | Ensembling | Value |\n",
       "| --- | --- | --- |\n",
       "| 19 | full | 56.60% |\n",
       "## lr_eval\n",
       "\n",
       "| Layer | Ensembling | Value |\n",
       "| --- | --- | --- |\n",
       "| 1 | full | 94.60% |\n",
       "| 17 | full | 94.60% |\n",
       "| 19 | full | 94.60% |\n",
       "## lm_eval\n",
       "\n",
       "| Layer | Ensembling | Value |\n",
       "| --- | --- | --- |\n",
       "| 0 | full | 77.60% |\n",
       "| 1 | full | 77.60% |\n",
       "| 2 | full | 77.60% |\n",
       "| 3 | full | 77.60% |\n",
       "| 4 | full | 77.60% |\n",
       "| 5 | full | 77.60% |\n",
       "| 6 | full | 77.60% |\n",
       "| 7 | full | 77.60% |\n",
       "| 8 | full | 77.60% |\n",
       "| 9 | full | 77.60% |\n",
       "| 10 | full | 77.60% |\n",
       "| 11 | full | 77.60% |\n",
       "| 12 | full | 77.60% |\n",
       "| 13 | full | 77.60% |\n",
       "| 14 | full | 77.60% |\n",
       "| 15 | full | 77.60% |\n",
       "| 16 | full | 77.60% |\n",
       "| 17 | full | 77.60% |\n",
       "| 18 | full | 77.60% |\n",
       "| 19 | full | 77.60% |\n",
       "| 20 | full | 77.60% |\n",
       "| 21 | full | 77.60% |\n",
       "| 22 | full | 77.60% |\n",
       "| 23 | full | 77.60% |\n",
       "| 24 | full | 77.60% |\n"
      ],
      "text/plain": [
       "<IPython.core.display.Markdown object>"
      ]
     },
     "execution_count": 19,
     "metadata": {},
     "output_type": "execute_result"
    }
   ],
   "source": [
    "outputs = process_results(file_path)\n",
    "Markdown(outputs)"
   ]
  },
  {
   "cell_type": "code",
   "execution_count": 7,
   "metadata": {},
   "outputs": [
    {
     "data": {
      "text/plain": [
       "dict_keys(['Accuracy', 'AUROC', 'Calibrated accuracy'])"
      ]
     },
     "execution_count": 7,
     "metadata": {},
     "output_type": "execute_result"
    }
   ],
   "source": [
    "outputs.keys()"
   ]
  },
  {
   "cell_type": "code",
   "execution_count": 15,
   "metadata": {},
   "outputs": [
    {
     "data": {
      "text/markdown": [
       "# Accuracy\n",
       "\n",
       "| lm_eval | eval | lr_eval |\n",
       "| --- | --- | --- |\n",
       "| 77.70% | 57.10% | 96.60% |\n",
       "# AUROC\n",
       "\n",
       "| lm_eval | eval | lr_eval |\n",
       "| --- | --- | --- |\n",
       "| 0.8838 | 0.5776 | 0.9893 |\n",
       "# Calibrated accuracy\n",
       "\n",
       "| lm_eval | eval | lr_eval |\n",
       "| --- | --- | --- |\n",
       "| 77.60% | 56.60% | 94.60% |\n"
      ],
      "text/plain": [
       "<IPython.core.display.Markdown object>"
      ]
     },
     "execution_count": 15,
     "metadata": {},
     "output_type": "execute_result"
    }
   ],
   "source": [
    "ret = \"\"\n",
    "for metric, values in outputs.items():\n",
    "    ret += f\"# {metric}\\n\\n\"\n",
    "    ret += \"| lm_eval | eval | lr_eval |\\n\"\n",
    "    ret += \"| --- | --- | --- |\\n\"\n",
    "    ret += \"| \"\n",
    "\n",
    "    for idx, value in enumerate(values.values()):\n",
    "        formatted_value = f\"{value[-1]['value'] * 100:.2f}%\"\n",
    "        if metric == \"AUROC\":\n",
    "            formatted_value = f\"{value[-1]['value']:.4f}\"\n",
    "        \n",
    "        ret += formatted_value\n",
    "        if idx < len(values.values()) - 1:\n",
    "            ret += \" | \"\n",
    "        else:\n",
    "            ret += \" |\\n\"\n",
    "\n",
    "Markdown(ret)"
   ]
  }
 ],
 "metadata": {
  "kernelspec": {
   "display_name": "elk",
   "language": "python",
   "name": "python3"
  },
  "language_info": {
   "codemirror_mode": {
    "name": "ipython",
    "version": 3
   },
   "file_extension": ".py",
   "mimetype": "text/x-python",
   "name": "python",
   "nbconvert_exporter": "python",
   "pygments_lexer": "ipython3",
   "version": "3.10.11"
  },
  "orig_nbformat": 4
 },
 "nbformat": 4,
 "nbformat_minor": 2
}
